{
 "cells": [
  {
   "cell_type": "code",
   "execution_count": 1,
   "metadata": {},
   "outputs": [],
   "source": [
    "%load_ext autoreload\n",
    "%autoreload 2\n",
    "import gc\n",
    "import re\n",
    "import pandas as pd\n",
    "from __future__ import print_function, division\n",
    "import numpy as np\n",
    "pd.set_option('max_columns', 200)\n",
    "pd.set_option('max_rows', 200)\n",
    "import os\n",
    "import sys\n",
    "HOME = os.path.expanduser(\"~\")\n",
    "sys.path.append(f'{HOME}/kaggle/data_analysis/library')\n",
    "import utils\n",
    "from utils import get_categorical_features, get_numeric_features, reduce_mem_usage, elo_save_feature\n",
    "from preprocessing import get_dummies\n",
    "import datetime\n",
    "\n",
    "from tqdm import tqdm\n",
    "import time\n",
    "import sys\n",
    "from joblib import Parallel, delayed\n",
    "\n",
    "key = 'card_id'\n",
    "target = 'target'\n",
    "ignore_list = [key, target, 'merchant_id', 'first_avtive_month']"
   ]
  },
  {
   "cell_type": "code",
   "execution_count": 2,
   "metadata": {},
   "outputs": [],
   "source": [
    "# df_train = utils.read_df_pkl('../input/train0*')\n",
    "# df_train.set_index(key, inplace=True)\n",
    "# df_test = utils.read_df_pkl('../input/test0*')\n",
    "# df_test.set_index(key, inplace=True)\n",
    "\n",
    "df_hist = pd.read_csv('../input/historical_transactions.csv')\n",
    "# df_new = pd.read_csv('../input/new_merchant_transactions.csv')\n",
    "\n",
    "df_hist['purchase_amount_new'] = np.round(df_hist['purchase_amount'] / 0.00150265118 + 497.06, 2)\n",
    "# df_new['purchase_amount_new'] = np.round(df_new['purchase_amount'] / 0.00150265118 + 497.06, 2)\n",
    "\n",
    "df_hist['installments'] = df_hist['installments'].map(lambda x:  \n",
    "                                                    1 if x<1 else\n",
    "                                                    1 if x>100 else\n",
    "                                                      x\n",
    "                                                     )\n",
    "# df_new['installments'] = df_new['installments'].map(lambda x:  \n",
    "#                                                     1 if x<1 else\n",
    "#                                                     1 if x>100 else\n",
    "#                                                       x\n",
    "#                                                      )"
   ]
  },
  {
   "cell_type": "code",
   "execution_count": 3,
   "metadata": {},
   "outputs": [],
   "source": [
    "#========================================================================\n",
    "# Dataset Load \n",
    "use_cols = [key, 'authorized_flag', 'installments', 'merchant_category_id', 'merchant_id', 'subsector_id', 'month_lag', 'purchase_amount_new', 'purchase_date']\n",
    "df_hist = df_hist[use_cols]\n",
    "# df_new = df_new[use_cols]\n",
    "\n",
    "auth1 = df_hist[df_hist['authorized_flag']=='Y']\n",
    "# auth0 = df_hist[df_hist['authorized_flag']=='N']\n",
    "\n",
    "# df_trans = pd.concat([auth1, df_new], axis=0)\n",
    "\n",
    "def get_new_columns(name,aggs):\n",
    "    if len(name):\n",
    "        return [name + '_' + k + '_' + agg for k in aggs.keys() for agg in aggs[k]]\n",
    "    else:\n",
    "        return [k + '_' + agg for k in aggs.keys() for agg in aggs[k]]\n",
    "#========================================================================"
   ]
  },
  {
   "cell_type": "code",
   "execution_count": 10,
   "metadata": {},
   "outputs": [],
   "source": [
    "#========================================================================\n",
    "# Merchant id 別の集計\n",
    "# month_lagで集計する（purchase_dateは別にやる）\n",
    "# df = auth1\n",
    "\n",
    "def raddar_top_freq_merchant_agg(df, mer_cnt, agg_term, new_max, new_min, old_max, old_min):\n",
    "    #========================================================================\n",
    "    if debug:\n",
    "        df = auth1.head(100000)\n",
    "#     new_max, new_min, old_max, old_min = 0,-1,-2,-3\n",
    "#     agg_term = -20\n",
    "    # Args Setting\n",
    "    level = [key, 'merchant_id', 'month_lag']\n",
    "    # merchantの利用頻度を集計する期間を絞る（month_lagの値）\n",
    "    new_month_lag_max = new_max\n",
    "    new_month_lag_min = new_min\n",
    "    old_month_lag_max = old_max\n",
    "    old_month_lag_min = old_min\n",
    "    agg_term = agg_term\n",
    "    #========================================================================\n",
    "    \n",
    "    #========================================================================\n",
    "    # Aggregation\n",
    "    print(\"Aggregation Start!!\")\n",
    "    \n",
    "    aggs = {}\n",
    "    aggs['purchase_amount_new'] = ['sum']\n",
    "    aggs['installments'] = ['mean', 'max', 'sum']\n",
    "    df_agg = df.groupby(level).agg(aggs)\n",
    "    \n",
    "    new_cols = get_new_columns(name='', aggs=aggs)\n",
    "    df_agg.columns = new_cols\n",
    "    df_agg[f'purchase_amount_new_sum_per_installments_sum'] = df_agg[f'purchase_amount_new_sum'] / df_agg[f'installments_sum']\n",
    "    \n",
    "    mer_lag_cnt = df.groupby([key, 'merchant_id'])['month_lag'].nunique().reset_index().rename(columns={'month_lag':'month_lag_cnt'})\n",
    "    df_agg = df_agg.reset_index().merge(mer_lag_cnt, how='inner', on=[key, 'merchant_id'])\n",
    "    #========================================================================\n",
    "    \n",
    "    #========================================================================\n",
    "    # month_lag別に切り出して集計を行う\n",
    "    print(\"Aggregate Term Setting\")\n",
    "    df_merchant = df_agg[df_agg['month_lag_cnt']>1]\n",
    "    del df_agg\n",
    "    gc.collect()\n",
    "    df_merchant.drop(['month_lag_cnt'], axis=1, inplace=True)\n",
    "    \n",
    "    # 期間を絞る\n",
    "    new_term = new_month_lag_max - new_month_lag_min\n",
    "    old_term = old_month_lag_max - old_month_lag_min\n",
    "    new = df_merchant[df_merchant['month_lag']<= new_month_lag_max][df_merchant['month_lag']>= new_month_lag_min]\n",
    "    old = df_merchant[df_merchant['month_lag']<= old_month_lag_max][df_merchant['month_lag']>= old_month_lag_min]\n",
    "    \n",
    "    feat_cols = [col for col in df_merchant.columns if col.count('amount') or col.count('install')]\n",
    "    aggs = {}\n",
    "    for col in feat_cols:\n",
    "        if col.count('install') and not(col.count('per')):\n",
    "            aggs[col] = ['mean']\n",
    "        else:\n",
    "            aggs[col] = ['sum']\n",
    "            \n",
    "    # 複数month_lagをもつデータの場合は、集計する\n",
    "    if new_term>0:\n",
    "        new = new.groupby([key, 'merchant_id'])[feat_cols].agg(aggs)\n",
    "#         new_cols = get_new_columns(name='', aggs=aggs)\n",
    "        new_cols = [col for col in aggs.keys()]\n",
    "        new.columns = new_cols\n",
    "    else:\n",
    "        new.set_index([key, 'merchant_id'], inplace=True)\n",
    "    \n",
    "    if old_term>0:\n",
    "        old = old.groupby([key, 'merchant_id'])[feat_cols].agg(aggs)\n",
    "#         new_cols = get_new_columns(name='', aggs=aggs)\n",
    "        new_cols = [col for col in aggs.keys()]\n",
    "        old.columns = new_cols\n",
    "    else:\n",
    "        old.set_index([key, 'merchant_id'], inplace=True)\n",
    "    #========================================================================\n",
    "        \n",
    "    new.reset_index(inplace=True)\n",
    "    old.reset_index(inplace=True)\n",
    "    #========================================================================\n",
    "    # oldに存在するがnewにいないcard_id, merchantをnewにもたせる。\n",
    "    print(\"Get Lost Merchant and Card ID\")\n",
    "    new['flg'] = 1\n",
    "    tmp_cols = [key, 'merchant_id']\n",
    "    old_lost = old[tmp_cols].merge(new[tmp_cols + ['flg']], how='left', on=[key, 'merchant_id'])\n",
    "    old_lost = old_lost[old_lost['flg'].isnull()]\n",
    "    old_lost = old_lost[tmp_cols]\n",
    "    new = pd.concat([new, old_lost], ignore_index=True)\n",
    "    new.drop('flg', axis=1, inplace=True)\n",
    "    #========================================================================\n",
    "        \n",
    "    #========================================================================\n",
    "    # Make Ratio Feature\n",
    "    print(\"Make Ratio Feature\")\n",
    "    feat_cols = [col for col in new.columns if col.count('amount') or col.count('install')]\n",
    "    fname = f'flag{new_month_lag_max}_{new_month_lag_min}-plag{old_month_lag_max}_{old_month_lag_min}'\n",
    "    new = new.merge(old, how='left', on=[key, 'merchant_id'])\n",
    "    \n",
    "    for col in feat_cols:\n",
    "        \n",
    "        try:\n",
    "            new[f\"{fname}_{col}\"]  = new[col+'_x'] / new[col+'_y']\n",
    "        except KeyError:\n",
    "            if col.count('install'):\n",
    "                new[f\"{fname}_{col}\"]  = new[col] / new[col+'_mean']\n",
    "            else:\n",
    "                new[f\"{fname}_{col}\"]  = new[col] / new[col+'_sum']\n",
    "        new[f\"{fname}_{col}\"].fillna(0, inplace=True)\n",
    "    #========================================================================\n",
    "    \n",
    "    #========================================================================\n",
    "    # card_id * merchant_id別のtop frequency ranking\n",
    "    # all term version\n",
    "    if debug:\n",
    "        df = df.head(1000000)\n",
    "    df_merchant = new.set_index(tmp_cols).join(mer_cnt).reset_index()\n",
    "    \n",
    "    del new, old\n",
    "    gc.collect()\n",
    "    \n",
    "    use_cols = [key, 'merchant_id'] + [col for col in df_merchant.columns if col.count('flag')] + ['month_lag_cnt', 'row_no']\n",
    "    df_merchant = df_merchant[use_cols]\n",
    "    #========================================================================\n",
    "    \n",
    "    \n",
    "    #========================================================================\n",
    "    # merchant_id別に集計を行ったら、\n",
    "    # 1. それらを更に集計する. frequencyが高いmerchantのみで集計するパターンも作る\n",
    "    # 2. frequencyの高いmerchnatでまとめてtop1~10カラムを作る ------->>> frequencyについては、全体と直近半年の両パターンでカウントし、特徴を作る\n",
    "    #========================================================================\n",
    "    \n",
    "    feat_cols = [col for col in df_merchant.columns if col.count('plag') and not(col.count(f\"{old_month_lag_min}_install\"))]\n",
    "    \n",
    "    #========================================================================\n",
    "    # Top10のfrequency merchantをまとめてカラムにする\n",
    "    df_merchant = df_merchant[df_merchant['row_no']<=10]\n",
    "    df_merchant = df_merchant.set_index([key, 'row_no'])[feat_cols].unstack()\n",
    "    # Rename\n",
    "    fname = 'auth1_all'\n",
    "    df_merchant.columns =  [f\"{fname}_top-M{int(col[1])}_merchant_{col[0]}\" for col in df_merchant.columns]\n",
    "    \n",
    "    #========================================================================\n",
    "    \n",
    "    #========================================================================\n",
    "    # Save Feature\n",
    "        \n",
    "    print(f\"{prefix} Feature Saving...\")\n",
    "    \n",
    "    base = utils.read_df_pkl('../input/base_no_out*')\n",
    "    base = base[[key, target]].set_index(key)\n",
    "    base = base.join(df_merchant)\n",
    "    base.fillna(-1, inplace=True)\n",
    "    del df_merchant\n",
    "    gc.collect()\n",
    "    \n",
    "    elo_save_feature(df_feat=base, prefix=prefix)\n",
    "    print('Complete!')\n",
    "    #========================================================================"
   ]
  },
  {
   "cell_type": "code",
   "execution_count": 11,
   "metadata": {},
   "outputs": [
    {
     "name": "stdout",
     "output_type": "stream",
     "text": [
      "Aggregation Start!!\n",
      "Aggregate Term Setting\n",
      "Get Lost Merchant and Card ID\n",
      "Make Ratio Feature\n"
     ]
    },
    {
     "name": "stderr",
     "output_type": "stream",
     "text": [
      "  0%|          | 0/1 [00:00<?, ?it/s]"
     ]
    },
    {
     "name": "stdout",
     "output_type": "stream",
     "text": [
      "252_rad Feature Saving...\n"
     ]
    },
    {
     "name": "stderr",
     "output_type": "stream",
     "text": [
      "100%|██████████| 1/1 [00:00<00:00,  4.16it/s]\n"
     ]
    },
    {
     "name": "stdout",
     "output_type": "stream",
     "text": [
      "Complete!\n",
      "Aggregation Start!!\n",
      "Aggregate Term Setting\n",
      "Get Lost Merchant and Card ID\n",
      "Make Ratio Feature\n"
     ]
    },
    {
     "name": "stderr",
     "output_type": "stream",
     "text": [
      "  0%|          | 0/1 [00:00<?, ?it/s]"
     ]
    },
    {
     "name": "stdout",
     "output_type": "stream",
     "text": [
      "252_rad Feature Saving...\n"
     ]
    },
    {
     "name": "stderr",
     "output_type": "stream",
     "text": [
      "100%|██████████| 1/1 [00:00<00:00,  3.26it/s]\n"
     ]
    },
    {
     "name": "stdout",
     "output_type": "stream",
     "text": [
      "Complete!\n",
      "Aggregation Start!!\n",
      "Aggregate Term Setting\n",
      "Get Lost Merchant and Card ID\n",
      "Make Ratio Feature\n"
     ]
    },
    {
     "name": "stderr",
     "output_type": "stream",
     "text": [
      "  0%|          | 0/1 [00:00<?, ?it/s]"
     ]
    },
    {
     "name": "stdout",
     "output_type": "stream",
     "text": [
      "252_rad Feature Saving...\n"
     ]
    },
    {
     "name": "stderr",
     "output_type": "stream",
     "text": [
      "100%|██████████| 1/1 [00:00<00:00,  4.10it/s]\n"
     ]
    },
    {
     "name": "stdout",
     "output_type": "stream",
     "text": [
      "Complete!\n",
      "Aggregation Start!!\n",
      "Aggregate Term Setting\n",
      "Get Lost Merchant and Card ID\n",
      "Make Ratio Feature\n"
     ]
    },
    {
     "name": "stderr",
     "output_type": "stream",
     "text": [
      "  0%|          | 0/1 [00:00<?, ?it/s]"
     ]
    },
    {
     "name": "stdout",
     "output_type": "stream",
     "text": [
      "252_rad Feature Saving...\n"
     ]
    },
    {
     "name": "stderr",
     "output_type": "stream",
     "text": [
      "100%|██████████| 1/1 [00:00<00:00,  3.28it/s]\n"
     ]
    },
    {
     "name": "stdout",
     "output_type": "stream",
     "text": [
      "Complete!\n",
      "Aggregation Start!!\n",
      "Aggregate Term Setting\n",
      "Get Lost Merchant and Card ID\n",
      "Make Ratio Feature\n"
     ]
    },
    {
     "name": "stderr",
     "output_type": "stream",
     "text": [
      "  0%|          | 0/1 [00:00<?, ?it/s]"
     ]
    },
    {
     "name": "stdout",
     "output_type": "stream",
     "text": [
      "252_rad Feature Saving...\n"
     ]
    },
    {
     "name": "stderr",
     "output_type": "stream",
     "text": [
      "100%|██████████| 1/1 [00:00<00:00,  4.18it/s]\n"
     ]
    },
    {
     "name": "stdout",
     "output_type": "stream",
     "text": [
      "Complete!\n",
      "Aggregation Start!!\n",
      "Aggregate Term Setting\n",
      "Get Lost Merchant and Card ID\n",
      "Make Ratio Feature\n"
     ]
    },
    {
     "name": "stderr",
     "output_type": "stream",
     "text": [
      "  0%|          | 0/1 [00:00<?, ?it/s]"
     ]
    },
    {
     "name": "stdout",
     "output_type": "stream",
     "text": [
      "252_rad Feature Saving...\n"
     ]
    },
    {
     "name": "stderr",
     "output_type": "stream",
     "text": [
      "100%|██████████| 1/1 [00:00<00:00,  4.17it/s]\n"
     ]
    },
    {
     "name": "stdout",
     "output_type": "stream",
     "text": [
      "Complete!\n",
      "Aggregation Start!!\n",
      "Aggregate Term Setting\n",
      "Get Lost Merchant and Card ID\n",
      "Make Ratio Feature\n"
     ]
    },
    {
     "name": "stderr",
     "output_type": "stream",
     "text": [
      "  0%|          | 0/1 [00:00<?, ?it/s]"
     ]
    },
    {
     "name": "stdout",
     "output_type": "stream",
     "text": [
      "252_rad Feature Saving...\n"
     ]
    },
    {
     "name": "stderr",
     "output_type": "stream",
     "text": [
      "100%|██████████| 1/1 [00:00<00:00,  4.02it/s]\n"
     ]
    },
    {
     "name": "stdout",
     "output_type": "stream",
     "text": [
      "Complete!\n",
      "Aggregation Start!!\n",
      "Aggregate Term Setting\n",
      "Get Lost Merchant and Card ID\n",
      "Make Ratio Feature\n"
     ]
    },
    {
     "name": "stderr",
     "output_type": "stream",
     "text": [
      "  0%|          | 0/1 [00:00<?, ?it/s]"
     ]
    },
    {
     "name": "stdout",
     "output_type": "stream",
     "text": [
      "252_rad Feature Saving...\n"
     ]
    },
    {
     "name": "stderr",
     "output_type": "stream",
     "text": [
      "100%|██████████| 1/1 [00:00<00:00,  4.08it/s]\n"
     ]
    },
    {
     "name": "stdout",
     "output_type": "stream",
     "text": [
      "Complete!\n",
      "Aggregation Start!!\n",
      "Aggregate Term Setting\n",
      "Get Lost Merchant and Card ID\n",
      "Make Ratio Feature\n"
     ]
    },
    {
     "name": "stderr",
     "output_type": "stream",
     "text": [
      "  0%|          | 0/1 [00:00<?, ?it/s]"
     ]
    },
    {
     "name": "stdout",
     "output_type": "stream",
     "text": [
      "252_rad Feature Saving...\n"
     ]
    },
    {
     "name": "stderr",
     "output_type": "stream",
     "text": [
      "100%|██████████| 1/1 [00:00<00:00,  4.18it/s]\n"
     ]
    },
    {
     "name": "stdout",
     "output_type": "stream",
     "text": [
      "Complete!\n",
      "Aggregation Start!!\n",
      "Aggregate Term Setting\n",
      "Get Lost Merchant and Card ID\n",
      "Make Ratio Feature\n"
     ]
    },
    {
     "name": "stderr",
     "output_type": "stream",
     "text": [
      "  0%|          | 0/1 [00:00<?, ?it/s]"
     ]
    },
    {
     "name": "stdout",
     "output_type": "stream",
     "text": [
      "252_rad Feature Saving...\n"
     ]
    },
    {
     "name": "stderr",
     "output_type": "stream",
     "text": [
      "100%|██████████| 1/1 [00:00<00:00,  3.29it/s]\n"
     ]
    },
    {
     "name": "stdout",
     "output_type": "stream",
     "text": [
      "Complete!\n",
      "Aggregation Start!!\n",
      "Aggregate Term Setting\n",
      "Get Lost Merchant and Card ID\n",
      "Make Ratio Feature\n"
     ]
    },
    {
     "name": "stderr",
     "output_type": "stream",
     "text": [
      "  0%|          | 0/1 [00:00<?, ?it/s]"
     ]
    },
    {
     "name": "stdout",
     "output_type": "stream",
     "text": [
      "252_rad Feature Saving...\n"
     ]
    },
    {
     "name": "stderr",
     "output_type": "stream",
     "text": [
      "100%|██████████| 1/1 [00:00<00:00,  4.24it/s]\n"
     ]
    },
    {
     "name": "stdout",
     "output_type": "stream",
     "text": [
      "Complete!\n",
      "Aggregation Start!!\n",
      "Aggregate Term Setting\n",
      "Get Lost Merchant and Card ID\n",
      "Make Ratio Feature\n"
     ]
    },
    {
     "name": "stderr",
     "output_type": "stream",
     "text": [
      "  0%|          | 0/1 [00:00<?, ?it/s]"
     ]
    },
    {
     "name": "stdout",
     "output_type": "stream",
     "text": [
      "252_rad Feature Saving...\n"
     ]
    },
    {
     "name": "stderr",
     "output_type": "stream",
     "text": [
      "100%|██████████| 1/1 [00:00<00:00,  4.13it/s]\n"
     ]
    },
    {
     "name": "stdout",
     "output_type": "stream",
     "text": [
      "Complete!\n",
      "Aggregation Start!!\n",
      "Aggregate Term Setting\n",
      "Get Lost Merchant and Card ID\n",
      "Make Ratio Feature\n"
     ]
    },
    {
     "name": "stderr",
     "output_type": "stream",
     "text": [
      "  0%|          | 0/1 [00:00<?, ?it/s]"
     ]
    },
    {
     "name": "stdout",
     "output_type": "stream",
     "text": [
      "252_rad Feature Saving...\n"
     ]
    },
    {
     "name": "stderr",
     "output_type": "stream",
     "text": [
      "100%|██████████| 1/1 [00:00<00:00,  4.12it/s]\n"
     ]
    },
    {
     "name": "stdout",
     "output_type": "stream",
     "text": [
      "Complete!\n",
      "Aggregation Start!!\n",
      "Aggregate Term Setting\n",
      "Get Lost Merchant and Card ID\n",
      "Make Ratio Feature\n"
     ]
    },
    {
     "name": "stderr",
     "output_type": "stream",
     "text": [
      "  0%|          | 0/1 [00:00<?, ?it/s]"
     ]
    },
    {
     "name": "stdout",
     "output_type": "stream",
     "text": [
      "252_rad Feature Saving...\n"
     ]
    },
    {
     "name": "stderr",
     "output_type": "stream",
     "text": [
      "100%|██████████| 1/1 [00:00<00:00,  4.16it/s]\n"
     ]
    },
    {
     "name": "stdout",
     "output_type": "stream",
     "text": [
      "Complete!\n",
      "Aggregation Start!!\n",
      "Aggregate Term Setting\n",
      "Get Lost Merchant and Card ID\n",
      "Make Ratio Feature\n"
     ]
    },
    {
     "name": "stderr",
     "output_type": "stream",
     "text": [
      "  0%|          | 0/1 [00:00<?, ?it/s]"
     ]
    },
    {
     "name": "stdout",
     "output_type": "stream",
     "text": [
      "252_rad Feature Saving...\n"
     ]
    },
    {
     "name": "stderr",
     "output_type": "stream",
     "text": [
      "100%|██████████| 1/1 [00:00<00:00,  4.21it/s]\n"
     ]
    },
    {
     "name": "stdout",
     "output_type": "stream",
     "text": [
      "Complete!\n",
      "Aggregation Start!!\n",
      "Aggregate Term Setting\n",
      "Get Lost Merchant and Card ID\n",
      "Make Ratio Feature\n"
     ]
    },
    {
     "name": "stderr",
     "output_type": "stream",
     "text": [
      "  0%|          | 0/1 [00:00<?, ?it/s]"
     ]
    },
    {
     "name": "stdout",
     "output_type": "stream",
     "text": [
      "252_rad Feature Saving...\n"
     ]
    },
    {
     "name": "stderr",
     "output_type": "stream",
     "text": [
      "100%|██████████| 1/1 [00:00<00:00,  4.15it/s]\n"
     ]
    },
    {
     "name": "stdout",
     "output_type": "stream",
     "text": [
      "Complete!\n",
      "Aggregation Start!!\n",
      "Aggregate Term Setting\n",
      "Get Lost Merchant and Card ID\n",
      "Make Ratio Feature\n"
     ]
    },
    {
     "name": "stderr",
     "output_type": "stream",
     "text": [
      "  0%|          | 0/1 [00:00<?, ?it/s]"
     ]
    },
    {
     "name": "stdout",
     "output_type": "stream",
     "text": [
      "252_rad Feature Saving...\n"
     ]
    },
    {
     "name": "stderr",
     "output_type": "stream",
     "text": [
      "100%|██████████| 1/1 [00:00<00:00,  4.19it/s]\n"
     ]
    },
    {
     "name": "stdout",
     "output_type": "stream",
     "text": [
      "Complete!\n",
      "Aggregation Start!!\n",
      "Aggregate Term Setting\n",
      "Get Lost Merchant and Card ID\n",
      "Make Ratio Feature\n"
     ]
    },
    {
     "name": "stderr",
     "output_type": "stream",
     "text": [
      "  0%|          | 0/1 [00:00<?, ?it/s]"
     ]
    },
    {
     "name": "stdout",
     "output_type": "stream",
     "text": [
      "252_rad Feature Saving...\n"
     ]
    },
    {
     "name": "stderr",
     "output_type": "stream",
     "text": [
      "100%|██████████| 1/1 [00:00<00:00,  3.27it/s]\n"
     ]
    },
    {
     "name": "stdout",
     "output_type": "stream",
     "text": [
      "Complete!\n",
      "Aggregation Start!!\n",
      "Aggregate Term Setting\n",
      "Get Lost Merchant and Card ID\n",
      "Make Ratio Feature\n"
     ]
    },
    {
     "name": "stderr",
     "output_type": "stream",
     "text": [
      "  0%|          | 0/1 [00:00<?, ?it/s]"
     ]
    },
    {
     "name": "stdout",
     "output_type": "stream",
     "text": [
      "252_rad Feature Saving...\n"
     ]
    },
    {
     "name": "stderr",
     "output_type": "stream",
     "text": [
      "100%|██████████| 1/1 [00:00<00:00,  4.15it/s]\n"
     ]
    },
    {
     "name": "stdout",
     "output_type": "stream",
     "text": [
      "Complete!\n",
      "Aggregation Start!!\n",
      "Aggregate Term Setting\n",
      "Get Lost Merchant and Card ID\n",
      "Make Ratio Feature\n"
     ]
    },
    {
     "name": "stderr",
     "output_type": "stream",
     "text": [
      "  0%|          | 0/1 [00:00<?, ?it/s]"
     ]
    },
    {
     "name": "stdout",
     "output_type": "stream",
     "text": [
      "252_rad Feature Saving...\n"
     ]
    },
    {
     "name": "stderr",
     "output_type": "stream",
     "text": [
      "100%|██████████| 1/1 [00:00<00:00,  3.33it/s]\n"
     ]
    },
    {
     "name": "stdout",
     "output_type": "stream",
     "text": [
      "Complete!\n",
      "Aggregation Start!!\n",
      "Aggregate Term Setting\n",
      "Get Lost Merchant and Card ID\n",
      "Make Ratio Feature\n"
     ]
    },
    {
     "name": "stderr",
     "output_type": "stream",
     "text": [
      "  0%|          | 0/1 [00:00<?, ?it/s]"
     ]
    },
    {
     "name": "stdout",
     "output_type": "stream",
     "text": [
      "252_rad Feature Saving...\n"
     ]
    },
    {
     "name": "stderr",
     "output_type": "stream",
     "text": [
      "100%|██████████| 1/1 [00:00<00:00,  4.10it/s]\n"
     ]
    },
    {
     "name": "stdout",
     "output_type": "stream",
     "text": [
      "Complete!\n",
      "Aggregation Start!!\n",
      "Aggregate Term Setting\n",
      "Get Lost Merchant and Card ID\n",
      "Make Ratio Feature\n"
     ]
    },
    {
     "name": "stderr",
     "output_type": "stream",
     "text": [
      "  0%|          | 0/1 [00:00<?, ?it/s]"
     ]
    },
    {
     "name": "stdout",
     "output_type": "stream",
     "text": [
      "252_rad Feature Saving...\n"
     ]
    },
    {
     "name": "stderr",
     "output_type": "stream",
     "text": [
      "100%|██████████| 1/1 [00:00<00:00,  3.13it/s]\n"
     ]
    },
    {
     "name": "stdout",
     "output_type": "stream",
     "text": [
      "Complete!\n",
      "Aggregation Start!!\n",
      "Aggregate Term Setting\n",
      "Get Lost Merchant and Card ID\n",
      "Make Ratio Feature\n"
     ]
    },
    {
     "name": "stderr",
     "output_type": "stream",
     "text": [
      "  0%|          | 0/1 [00:00<?, ?it/s]"
     ]
    },
    {
     "name": "stdout",
     "output_type": "stream",
     "text": [
      "252_rad Feature Saving...\n"
     ]
    },
    {
     "name": "stderr",
     "output_type": "stream",
     "text": [
      "100%|██████████| 1/1 [00:00<00:00,  3.26it/s]\n"
     ]
    },
    {
     "name": "stdout",
     "output_type": "stream",
     "text": [
      "Complete!\n",
      "Aggregation Start!!\n",
      "Aggregate Term Setting\n",
      "Get Lost Merchant and Card ID\n",
      "Make Ratio Feature\n"
     ]
    },
    {
     "name": "stderr",
     "output_type": "stream",
     "text": [
      "  0%|          | 0/1 [00:00<?, ?it/s]"
     ]
    },
    {
     "name": "stdout",
     "output_type": "stream",
     "text": [
      "252_rad Feature Saving...\n"
     ]
    },
    {
     "name": "stderr",
     "output_type": "stream",
     "text": [
      "100%|██████████| 1/1 [00:00<00:00,  3.32it/s]\n"
     ]
    },
    {
     "name": "stdout",
     "output_type": "stream",
     "text": [
      "Complete!\n",
      "Aggregation Start!!\n",
      "Aggregate Term Setting\n",
      "Get Lost Merchant and Card ID\n",
      "Make Ratio Feature\n"
     ]
    },
    {
     "name": "stderr",
     "output_type": "stream",
     "text": [
      "  0%|          | 0/1 [00:00<?, ?it/s]"
     ]
    },
    {
     "name": "stdout",
     "output_type": "stream",
     "text": [
      "252_rad Feature Saving...\n"
     ]
    },
    {
     "name": "stderr",
     "output_type": "stream",
     "text": [
      "100%|██████████| 1/1 [00:00<00:00,  4.18it/s]\n"
     ]
    },
    {
     "name": "stdout",
     "output_type": "stream",
     "text": [
      "Complete!\n",
      "Aggregation Start!!\n",
      "Aggregate Term Setting\n",
      "Get Lost Merchant and Card ID\n",
      "Make Ratio Feature\n"
     ]
    },
    {
     "name": "stderr",
     "output_type": "stream",
     "text": [
      "  0%|          | 0/1 [00:00<?, ?it/s]"
     ]
    },
    {
     "name": "stdout",
     "output_type": "stream",
     "text": [
      "252_rad Feature Saving...\n"
     ]
    },
    {
     "name": "stderr",
     "output_type": "stream",
     "text": [
      "100%|██████████| 1/1 [00:00<00:00,  4.20it/s]\n"
     ]
    },
    {
     "name": "stdout",
     "output_type": "stream",
     "text": [
      "Complete!\n",
      "Aggregation Start!!\n",
      "Aggregate Term Setting\n",
      "Get Lost Merchant and Card ID\n",
      "Make Ratio Feature\n"
     ]
    },
    {
     "name": "stderr",
     "output_type": "stream",
     "text": [
      "  0%|          | 0/1 [00:00<?, ?it/s]"
     ]
    },
    {
     "name": "stdout",
     "output_type": "stream",
     "text": [
      "252_rad Feature Saving...\n"
     ]
    },
    {
     "name": "stderr",
     "output_type": "stream",
     "text": [
      "100%|██████████| 1/1 [00:00<00:00,  4.13it/s]\n"
     ]
    },
    {
     "name": "stdout",
     "output_type": "stream",
     "text": [
      "Complete!\n",
      "Aggregation Start!!\n",
      "Aggregate Term Setting\n",
      "Get Lost Merchant and Card ID\n",
      "Make Ratio Feature\n"
     ]
    },
    {
     "name": "stderr",
     "output_type": "stream",
     "text": [
      "  0%|          | 0/1 [00:00<?, ?it/s]"
     ]
    },
    {
     "name": "stdout",
     "output_type": "stream",
     "text": [
      "253_rad_min_Mlag-6 Feature Saving...\n"
     ]
    },
    {
     "name": "stderr",
     "output_type": "stream",
     "text": [
      "100%|██████████| 1/1 [00:00<00:00,  4.16it/s]\n"
     ]
    },
    {
     "name": "stdout",
     "output_type": "stream",
     "text": [
      "Complete!\n",
      "Aggregation Start!!\n",
      "Aggregate Term Setting\n",
      "Get Lost Merchant and Card ID\n",
      "Make Ratio Feature\n"
     ]
    },
    {
     "name": "stderr",
     "output_type": "stream",
     "text": [
      "  0%|          | 0/1 [00:00<?, ?it/s]"
     ]
    },
    {
     "name": "stdout",
     "output_type": "stream",
     "text": [
      "253_rad_min_Mlag-6 Feature Saving...\n"
     ]
    },
    {
     "name": "stderr",
     "output_type": "stream",
     "text": [
      "100%|██████████| 1/1 [00:00<00:00,  4.20it/s]\n"
     ]
    },
    {
     "name": "stdout",
     "output_type": "stream",
     "text": [
      "Complete!\n",
      "Aggregation Start!!\n",
      "Aggregate Term Setting\n",
      "Get Lost Merchant and Card ID\n",
      "Make Ratio Feature\n"
     ]
    },
    {
     "name": "stderr",
     "output_type": "stream",
     "text": [
      "  0%|          | 0/1 [00:00<?, ?it/s]"
     ]
    },
    {
     "name": "stdout",
     "output_type": "stream",
     "text": [
      "253_rad_min_Mlag-6 Feature Saving...\n"
     ]
    },
    {
     "name": "stderr",
     "output_type": "stream",
     "text": [
      "100%|██████████| 1/1 [00:00<00:00,  4.18it/s]\n"
     ]
    },
    {
     "name": "stdout",
     "output_type": "stream",
     "text": [
      "Complete!\n",
      "Aggregation Start!!\n",
      "Aggregate Term Setting\n",
      "Get Lost Merchant and Card ID\n",
      "Make Ratio Feature\n"
     ]
    },
    {
     "name": "stderr",
     "output_type": "stream",
     "text": [
      "  0%|          | 0/1 [00:00<?, ?it/s]"
     ]
    },
    {
     "name": "stdout",
     "output_type": "stream",
     "text": [
      "253_rad_min_Mlag-6 Feature Saving...\n"
     ]
    },
    {
     "name": "stderr",
     "output_type": "stream",
     "text": [
      "100%|██████████| 1/1 [00:00<00:00,  3.17it/s]\n"
     ]
    },
    {
     "name": "stdout",
     "output_type": "stream",
     "text": [
      "Complete!\n",
      "Aggregation Start!!\n",
      "Aggregate Term Setting\n",
      "Get Lost Merchant and Card ID\n",
      "Make Ratio Feature\n"
     ]
    },
    {
     "name": "stderr",
     "output_type": "stream",
     "text": [
      "  0%|          | 0/1 [00:00<?, ?it/s]"
     ]
    },
    {
     "name": "stdout",
     "output_type": "stream",
     "text": [
      "253_rad_min_Mlag-6 Feature Saving...\n"
     ]
    },
    {
     "name": "stderr",
     "output_type": "stream",
     "text": [
      "100%|██████████| 1/1 [00:00<00:00,  4.18it/s]\n"
     ]
    },
    {
     "name": "stdout",
     "output_type": "stream",
     "text": [
      "Complete!\n",
      "Aggregation Start!!\n",
      "Aggregate Term Setting\n",
      "Get Lost Merchant and Card ID\n",
      "Make Ratio Feature\n"
     ]
    },
    {
     "name": "stderr",
     "output_type": "stream",
     "text": [
      "  0%|          | 0/1 [00:00<?, ?it/s]"
     ]
    },
    {
     "name": "stdout",
     "output_type": "stream",
     "text": [
      "253_rad_min_Mlag-6 Feature Saving...\n"
     ]
    },
    {
     "name": "stderr",
     "output_type": "stream",
     "text": [
      "100%|██████████| 1/1 [00:00<00:00,  4.18it/s]\n"
     ]
    },
    {
     "name": "stdout",
     "output_type": "stream",
     "text": [
      "Complete!\n",
      "Aggregation Start!!\n",
      "Aggregate Term Setting\n",
      "Get Lost Merchant and Card ID\n",
      "Make Ratio Feature\n"
     ]
    },
    {
     "name": "stderr",
     "output_type": "stream",
     "text": [
      "  0%|          | 0/1 [00:00<?, ?it/s]"
     ]
    },
    {
     "name": "stdout",
     "output_type": "stream",
     "text": [
      "253_rad_min_Mlag-6 Feature Saving...\n"
     ]
    },
    {
     "name": "stderr",
     "output_type": "stream",
     "text": [
      "100%|██████████| 1/1 [00:00<00:00,  4.09it/s]\n"
     ]
    },
    {
     "name": "stdout",
     "output_type": "stream",
     "text": [
      "Complete!\n",
      "Aggregation Start!!\n",
      "Aggregate Term Setting\n",
      "Get Lost Merchant and Card ID\n",
      "Make Ratio Feature\n"
     ]
    },
    {
     "name": "stderr",
     "output_type": "stream",
     "text": [
      "  0%|          | 0/1 [00:00<?, ?it/s]"
     ]
    },
    {
     "name": "stdout",
     "output_type": "stream",
     "text": [
      "253_rad_min_Mlag-6 Feature Saving...\n"
     ]
    },
    {
     "name": "stderr",
     "output_type": "stream",
     "text": [
      "100%|██████████| 1/1 [00:00<00:00,  3.24it/s]\n"
     ]
    },
    {
     "name": "stdout",
     "output_type": "stream",
     "text": [
      "Complete!\n",
      "Aggregation Start!!\n",
      "Aggregate Term Setting\n",
      "Get Lost Merchant and Card ID\n",
      "Make Ratio Feature\n"
     ]
    },
    {
     "name": "stderr",
     "output_type": "stream",
     "text": [
      "  0%|          | 0/1 [00:00<?, ?it/s]"
     ]
    },
    {
     "name": "stdout",
     "output_type": "stream",
     "text": [
      "253_rad_min_Mlag-6 Feature Saving...\n"
     ]
    },
    {
     "name": "stderr",
     "output_type": "stream",
     "text": [
      "100%|██████████| 1/1 [00:00<00:00,  3.50it/s]\n"
     ]
    },
    {
     "name": "stdout",
     "output_type": "stream",
     "text": [
      "Complete!\n",
      "Aggregation Start!!\n",
      "Aggregate Term Setting\n",
      "Get Lost Merchant and Card ID\n",
      "Make Ratio Feature\n"
     ]
    },
    {
     "name": "stderr",
     "output_type": "stream",
     "text": [
      "  0%|          | 0/1 [00:00<?, ?it/s]"
     ]
    },
    {
     "name": "stdout",
     "output_type": "stream",
     "text": [
      "253_rad_min_Mlag-6 Feature Saving...\n"
     ]
    },
    {
     "name": "stderr",
     "output_type": "stream",
     "text": [
      "100%|██████████| 1/1 [00:00<00:00,  4.15it/s]\n"
     ]
    },
    {
     "name": "stdout",
     "output_type": "stream",
     "text": [
      "Complete!\n",
      "Aggregation Start!!\n",
      "Aggregate Term Setting\n",
      "Get Lost Merchant and Card ID\n",
      "Make Ratio Feature\n"
     ]
    },
    {
     "name": "stderr",
     "output_type": "stream",
     "text": [
      "  0%|          | 0/1 [00:00<?, ?it/s]"
     ]
    },
    {
     "name": "stdout",
     "output_type": "stream",
     "text": [
      "253_rad_min_Mlag-6 Feature Saving...\n"
     ]
    },
    {
     "name": "stderr",
     "output_type": "stream",
     "text": [
      "100%|██████████| 1/1 [00:00<00:00,  4.20it/s]\n"
     ]
    },
    {
     "name": "stdout",
     "output_type": "stream",
     "text": [
      "Complete!\n",
      "Aggregation Start!!\n",
      "Aggregate Term Setting\n",
      "Get Lost Merchant and Card ID\n",
      "Make Ratio Feature\n"
     ]
    },
    {
     "name": "stderr",
     "output_type": "stream",
     "text": [
      "  0%|          | 0/1 [00:00<?, ?it/s]"
     ]
    },
    {
     "name": "stdout",
     "output_type": "stream",
     "text": [
      "253_rad_min_Mlag-6 Feature Saving...\n"
     ]
    },
    {
     "name": "stderr",
     "output_type": "stream",
     "text": [
      "100%|██████████| 1/1 [00:00<00:00,  4.22it/s]\n"
     ]
    },
    {
     "name": "stdout",
     "output_type": "stream",
     "text": [
      "Complete!\n",
      "Aggregation Start!!\n",
      "Aggregate Term Setting\n",
      "Get Lost Merchant and Card ID\n",
      "Make Ratio Feature\n"
     ]
    },
    {
     "name": "stderr",
     "output_type": "stream",
     "text": [
      "  0%|          | 0/1 [00:00<?, ?it/s]"
     ]
    },
    {
     "name": "stdout",
     "output_type": "stream",
     "text": [
      "253_rad_min_Mlag-6 Feature Saving...\n"
     ]
    },
    {
     "name": "stderr",
     "output_type": "stream",
     "text": [
      "100%|██████████| 1/1 [00:00<00:00,  4.19it/s]\n"
     ]
    },
    {
     "name": "stdout",
     "output_type": "stream",
     "text": [
      "Complete!\n",
      "Aggregation Start!!\n",
      "Aggregate Term Setting\n",
      "Get Lost Merchant and Card ID\n",
      "Make Ratio Feature\n"
     ]
    },
    {
     "name": "stderr",
     "output_type": "stream",
     "text": [
      "  0%|          | 0/1 [00:00<?, ?it/s]"
     ]
    },
    {
     "name": "stdout",
     "output_type": "stream",
     "text": [
      "253_rad_min_Mlag-6 Feature Saving...\n"
     ]
    },
    {
     "name": "stderr",
     "output_type": "stream",
     "text": [
      "100%|██████████| 1/1 [00:00<00:00,  4.19it/s]\n"
     ]
    },
    {
     "name": "stdout",
     "output_type": "stream",
     "text": [
      "Complete!\n",
      "Aggregation Start!!\n",
      "Aggregate Term Setting\n",
      "Get Lost Merchant and Card ID\n",
      "Make Ratio Feature\n"
     ]
    },
    {
     "name": "stderr",
     "output_type": "stream",
     "text": [
      "  0%|          | 0/1 [00:00<?, ?it/s]"
     ]
    },
    {
     "name": "stdout",
     "output_type": "stream",
     "text": [
      "253_rad_min_Mlag-6 Feature Saving...\n"
     ]
    },
    {
     "name": "stderr",
     "output_type": "stream",
     "text": [
      "100%|██████████| 1/1 [00:00<00:00,  3.33it/s]\n"
     ]
    },
    {
     "name": "stdout",
     "output_type": "stream",
     "text": [
      "Complete!\n",
      "Aggregation Start!!\n",
      "Aggregate Term Setting\n",
      "Get Lost Merchant and Card ID\n",
      "Make Ratio Feature\n"
     ]
    },
    {
     "name": "stderr",
     "output_type": "stream",
     "text": [
      "  0%|          | 0/1 [00:00<?, ?it/s]"
     ]
    },
    {
     "name": "stdout",
     "output_type": "stream",
     "text": [
      "253_rad_min_Mlag-6 Feature Saving...\n"
     ]
    },
    {
     "name": "stderr",
     "output_type": "stream",
     "text": [
      "100%|██████████| 1/1 [00:00<00:00,  4.23it/s]\n"
     ]
    },
    {
     "name": "stdout",
     "output_type": "stream",
     "text": [
      "Complete!\n",
      "Aggregation Start!!\n",
      "Aggregate Term Setting\n",
      "Get Lost Merchant and Card ID\n",
      "Make Ratio Feature\n"
     ]
    },
    {
     "name": "stderr",
     "output_type": "stream",
     "text": [
      "  0%|          | 0/1 [00:00<?, ?it/s]"
     ]
    },
    {
     "name": "stdout",
     "output_type": "stream",
     "text": [
      "253_rad_min_Mlag-6 Feature Saving...\n"
     ]
    },
    {
     "name": "stderr",
     "output_type": "stream",
     "text": [
      "100%|██████████| 1/1 [00:00<00:00,  3.34it/s]\n"
     ]
    },
    {
     "name": "stdout",
     "output_type": "stream",
     "text": [
      "Complete!\n",
      "Aggregation Start!!\n",
      "Aggregate Term Setting\n",
      "Get Lost Merchant and Card ID\n",
      "Make Ratio Feature\n"
     ]
    },
    {
     "name": "stderr",
     "output_type": "stream",
     "text": [
      "  0%|          | 0/1 [00:00<?, ?it/s]"
     ]
    },
    {
     "name": "stdout",
     "output_type": "stream",
     "text": [
      "253_rad_min_Mlag-6 Feature Saving...\n"
     ]
    },
    {
     "name": "stderr",
     "output_type": "stream",
     "text": [
      "100%|██████████| 1/1 [00:00<00:00,  4.20it/s]\n"
     ]
    },
    {
     "name": "stdout",
     "output_type": "stream",
     "text": [
      "Complete!\n",
      "Aggregation Start!!\n",
      "Aggregate Term Setting\n",
      "Get Lost Merchant and Card ID\n",
      "Make Ratio Feature\n"
     ]
    },
    {
     "name": "stderr",
     "output_type": "stream",
     "text": [
      "  0%|          | 0/1 [00:00<?, ?it/s]"
     ]
    },
    {
     "name": "stdout",
     "output_type": "stream",
     "text": [
      "253_rad_min_Mlag-6 Feature Saving...\n"
     ]
    },
    {
     "name": "stderr",
     "output_type": "stream",
     "text": [
      "100%|██████████| 1/1 [00:00<00:00,  3.29it/s]\n"
     ]
    },
    {
     "name": "stdout",
     "output_type": "stream",
     "text": [
      "Complete!\n",
      "Aggregation Start!!\n",
      "Aggregate Term Setting\n",
      "Get Lost Merchant and Card ID\n",
      "Make Ratio Feature\n"
     ]
    },
    {
     "name": "stderr",
     "output_type": "stream",
     "text": [
      "  0%|          | 0/1 [00:00<?, ?it/s]"
     ]
    },
    {
     "name": "stdout",
     "output_type": "stream",
     "text": [
      "253_rad_min_Mlag-6 Feature Saving...\n"
     ]
    },
    {
     "name": "stderr",
     "output_type": "stream",
     "text": [
      "100%|██████████| 1/1 [00:00<00:00,  4.20it/s]\n"
     ]
    },
    {
     "name": "stdout",
     "output_type": "stream",
     "text": [
      "Complete!\n",
      "Aggregation Start!!\n",
      "Aggregate Term Setting\n",
      "Get Lost Merchant and Card ID\n",
      "Make Ratio Feature\n"
     ]
    },
    {
     "name": "stderr",
     "output_type": "stream",
     "text": [
      "  0%|          | 0/1 [00:00<?, ?it/s]"
     ]
    },
    {
     "name": "stdout",
     "output_type": "stream",
     "text": [
      "253_rad_min_Mlag-6 Feature Saving...\n"
     ]
    },
    {
     "name": "stderr",
     "output_type": "stream",
     "text": [
      "100%|██████████| 1/1 [00:00<00:00,  4.21it/s]\n"
     ]
    },
    {
     "name": "stdout",
     "output_type": "stream",
     "text": [
      "Complete!\n",
      "Aggregation Start!!\n",
      "Aggregate Term Setting\n",
      "Get Lost Merchant and Card ID\n",
      "Make Ratio Feature\n"
     ]
    },
    {
     "name": "stderr",
     "output_type": "stream",
     "text": [
      "  0%|          | 0/1 [00:00<?, ?it/s]"
     ]
    },
    {
     "name": "stdout",
     "output_type": "stream",
     "text": [
      "253_rad_min_Mlag-6 Feature Saving...\n"
     ]
    },
    {
     "name": "stderr",
     "output_type": "stream",
     "text": [
      "100%|██████████| 1/1 [00:00<00:00,  4.25it/s]\n"
     ]
    },
    {
     "name": "stdout",
     "output_type": "stream",
     "text": [
      "Complete!\n",
      "Aggregation Start!!\n",
      "Aggregate Term Setting\n",
      "Get Lost Merchant and Card ID\n",
      "Make Ratio Feature\n"
     ]
    },
    {
     "name": "stderr",
     "output_type": "stream",
     "text": [
      "  0%|          | 0/1 [00:00<?, ?it/s]"
     ]
    },
    {
     "name": "stdout",
     "output_type": "stream",
     "text": [
      "253_rad_min_Mlag-6 Feature Saving...\n"
     ]
    },
    {
     "name": "stderr",
     "output_type": "stream",
     "text": [
      "100%|██████████| 1/1 [00:00<00:00,  4.16it/s]\n"
     ]
    },
    {
     "name": "stdout",
     "output_type": "stream",
     "text": [
      "Complete!\n",
      "Aggregation Start!!\n",
      "Aggregate Term Setting\n",
      "Get Lost Merchant and Card ID\n",
      "Make Ratio Feature\n"
     ]
    },
    {
     "name": "stderr",
     "output_type": "stream",
     "text": [
      "  0%|          | 0/1 [00:00<?, ?it/s]"
     ]
    },
    {
     "name": "stdout",
     "output_type": "stream",
     "text": [
      "253_rad_min_Mlag-6 Feature Saving...\n"
     ]
    },
    {
     "name": "stderr",
     "output_type": "stream",
     "text": [
      "100%|██████████| 1/1 [00:00<00:00,  3.58it/s]\n"
     ]
    },
    {
     "name": "stdout",
     "output_type": "stream",
     "text": [
      "Complete!\n",
      "Aggregation Start!!\n",
      "Aggregate Term Setting\n",
      "Get Lost Merchant and Card ID\n",
      "Make Ratio Feature\n"
     ]
    },
    {
     "name": "stderr",
     "output_type": "stream",
     "text": [
      "  0%|          | 0/1 [00:00<?, ?it/s]"
     ]
    },
    {
     "name": "stdout",
     "output_type": "stream",
     "text": [
      "253_rad_min_Mlag-6 Feature Saving...\n"
     ]
    },
    {
     "name": "stderr",
     "output_type": "stream",
     "text": [
      "100%|██████████| 1/1 [00:00<00:00,  4.25it/s]\n"
     ]
    },
    {
     "name": "stdout",
     "output_type": "stream",
     "text": [
      "Complete!\n",
      "Aggregation Start!!\n",
      "Aggregate Term Setting\n",
      "Get Lost Merchant and Card ID\n",
      "Make Ratio Feature\n"
     ]
    },
    {
     "name": "stderr",
     "output_type": "stream",
     "text": [
      "  0%|          | 0/1 [00:00<?, ?it/s]"
     ]
    },
    {
     "name": "stdout",
     "output_type": "stream",
     "text": [
      "253_rad_min_Mlag-6 Feature Saving...\n"
     ]
    },
    {
     "name": "stderr",
     "output_type": "stream",
     "text": [
      "100%|██████████| 1/1 [00:00<00:00,  4.24it/s]\n"
     ]
    },
    {
     "name": "stdout",
     "output_type": "stream",
     "text": [
      "Complete!\n",
      "Aggregation Start!!\n",
      "Aggregate Term Setting\n",
      "Get Lost Merchant and Card ID\n",
      "Make Ratio Feature\n"
     ]
    },
    {
     "name": "stderr",
     "output_type": "stream",
     "text": [
      "  0%|          | 0/1 [00:00<?, ?it/s]"
     ]
    },
    {
     "name": "stdout",
     "output_type": "stream",
     "text": [
      "253_rad_min_Mlag-6 Feature Saving...\n"
     ]
    },
    {
     "name": "stderr",
     "output_type": "stream",
     "text": [
      "100%|██████████| 1/1 [00:00<00:00,  4.20it/s]\n"
     ]
    },
    {
     "name": "stdout",
     "output_type": "stream",
     "text": [
      "Complete!\n"
     ]
    }
   ],
   "source": [
    "'''\n",
    "まだagg_term=-6でone, two, three month verをやってない\n",
    "'''\n",
    "pattern_list = [\n",
    "    # One Month Ver\n",
    "    [0, 0, -1, -1]\n",
    "    ,[-1, -1, -2, -2]\n",
    "    ,[-2, -2, -3, -3]\n",
    "    \n",
    "#     Two Month Ver\n",
    "    ,[0, -1, -2, -3]\n",
    "    ,[-1, -2, -3, -4]\n",
    "    ,[-2, -3, -4, -5]\n",
    "    \n",
    "    # Three Month Ver\n",
    "    ,[0, -2, -3, -5]\n",
    "    ,[-1, -3, -4, -6]\n",
    "    ,[-2, -4, -5, -7]\n",
    "    \n",
    "    # One / Two Month Ver\n",
    "    ,[0, 0, -1, -2]\n",
    "    ,[-1, -1, -2, -3]\n",
    "    ,[-2, -2, -3, -4]\n",
    "    \n",
    "    # One / Three Month Ver\n",
    "    ,[0, 0, -1, -3]\n",
    "    ,[-1, -1, -2, -4]\n",
    "    ,[-2, -2, -3, -5]\n",
    "    \n",
    "    # One / Six Month Ver\n",
    "    ,[0, 0, -1, -6]\n",
    "    ,[-1, -1, -2, -7]\n",
    "    ,[-2, -2, -3, -8]\n",
    "    \n",
    "    # Two / Three Month Ver\n",
    "    ,[0, -1, -2, -4]\n",
    "    ,[-1, -2, -3, -5]\n",
    "    ,[-2, -3, -4, -6]\n",
    "    \n",
    "    # Two / Six Month Ver\n",
    "    ,[0, -1, -2, -7]\n",
    "    ,[-1, -2, -3, -8]\n",
    "    ,[-2, -3, -4, -9]\n",
    "    \n",
    "    # Three / Six Month Ver\n",
    "    ,[0, -2, -3, -8]\n",
    "    ,[-1, -3, -4, -9]\n",
    "    ,[-2, -4, -5, -10]\n",
    "    \n",
    "]\n",
    "debug = [True, False][1]\n",
    "term_list = [-20, -6]\n",
    "merchant_col = ['merchant_id', 'merchant_category_id', 'subsector_id'][1]\n",
    "# term_list = [-6]\n",
    "for agg_term in term_list:\n",
    "    \n",
    "    if agg_term<-13:\n",
    "        if merchant_col.count('category_id'):\n",
    "            prefix = '252_rad'\n",
    "        elif merchant_col.count('subsector'):\n",
    "            prefix = '254_rad'\n",
    "        else:\n",
    "            prefix = '244_rad'\n",
    "    else:\n",
    "        if merchant_col.count('category_id'):\n",
    "            prefix = f'253_rad_min_Mlag{agg_term}'\n",
    "        elif merchant_col.count('subsector'):\n",
    "            prefix = f'255_rad_min_Mlag{agg_term}'\n",
    "        else:\n",
    "            prefix = f'245_rad_min_Mlag{agg_term}'\n",
    "    \n",
    "    auth1_term = auth1[auth1['month_lag']>=agg_term]\n",
    "    mer_cnt = auth1_term.groupby([key, 'merchant_id'])['month_lag'].nunique().reset_index().rename(columns={'month_lag':'month_lag_cnt'})\n",
    "    mer_cnt.sort_values(by=[key, 'month_lag_cnt'], ascending=False, inplace=True)\n",
    "    mer_cnt = utils.row_number(df=mer_cnt, level=key)\n",
    "    mer_cnt.set_index([key, 'merchant_id'], inplace=True)\n",
    "    for pattern in pattern_list:\n",
    "        raddar_top_freq_merchant_agg(auth1, mer_cnt, agg_term, *pattern)"
   ]
  },
  {
   "cell_type": "code",
   "execution_count": null,
   "metadata": {},
   "outputs": [],
   "source": []
  }
 ],
 "metadata": {
  "kernelspec": {
   "display_name": "Python 3",
   "language": "python",
   "name": "python3"
  },
  "language_info": {
   "codemirror_mode": {
    "name": "ipython",
    "version": 3
   },
   "file_extension": ".py",
   "mimetype": "text/x-python",
   "name": "python",
   "nbconvert_exporter": "python",
   "pygments_lexer": "ipython3",
   "version": "3.6.3"
  }
 },
 "nbformat": 4,
 "nbformat_minor": 2
}
