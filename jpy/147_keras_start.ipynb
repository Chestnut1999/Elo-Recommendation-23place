{
 "cells": [
  {
   "cell_type": "code",
   "execution_count": null,
   "metadata": {},
   "outputs": [],
   "source": [
    "models = Sequential()\n",
    "models.add(Dense(output_dim=1024, input_dim=input_d, init='lecun_uniform')) \n",
    "models.add(Activation('relu')) \n",
    "models.add(BatchNormalization())    \n",
    "models.add(Dropout(0.5))  \n",
    "models.add(Dense(512, activation='relu',init='lecun_uniform'))\n",
    "models.add(Activation('relu')) \n",
    "models.add(BatchNormalization())    \n",
    "models.add(Dropout(0.4))  \n",
    "models.add(Dense(2, init='lecun_uniform'))\n",
    "models.add(Activation('softmax'))    \n",
    "opt = optimizers.Adam(lr=0.01)\n",
    "models.compile(loss='binary_crossentropy', optimizer=opt)"
   ]
  }
 ],
 "metadata": {
  "kernelspec": {
   "display_name": "Python 3",
   "language": "python",
   "name": "python3"
  },
  "language_info": {
   "codemirror_mode": {
    "name": "ipython",
    "version": 3
   },
   "file_extension": ".py",
   "mimetype": "text/x-python",
   "name": "python",
   "nbconvert_exporter": "python",
   "pygments_lexer": "ipython3",
   "version": "3.6.3"
  }
 },
 "nbformat": 4,
 "nbformat_minor": 2
}
