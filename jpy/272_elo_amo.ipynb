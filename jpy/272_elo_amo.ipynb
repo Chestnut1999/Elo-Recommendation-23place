{
 "cells": [
  {
   "cell_type": "code",
   "execution_count": 1,
   "metadata": {},
   "outputs": [
    {
     "name": "stderr",
     "output_type": "stream",
     "text": [
      "2019-02-24 22:18:34,302 utils 400 [INFO]    [logger_func] start \n"
     ]
    }
   ],
   "source": [
    "%load_ext autoreload\n",
    "%autoreload 2\n",
    "import gc\n",
    "import re\n",
    "import pandas as pd\n",
    "import numpy as np\n",
    "import os\n",
    "import sys\n",
    "import time\n",
    "import datetime\n",
    "import glob\n",
    "sys.path.append('../py/')\n",
    "from s027_kfold_ods import ods_kfold\n",
    "HOME = os.path.expanduser(\"~\")\n",
    "sys.path.append(f'{HOME}/kaggle/data_analysis/library')\n",
    "import utils\n",
    "from utils import logger_func, get_categorical_features, get_numeric_features, reduce_mem_usage, elo_save_feature, impute_feature\n",
    "try:\n",
    "    if not logger:\n",
    "        logger=logger_func()\n",
    "except NameError:\n",
    "    logger=logger_func()\n",
    "\n",
    "from sklearn.metrics import mean_squared_error, roc_auc_score\n",
    "\n",
    "\n",
    "#========================================================================\n",
    "# Args\n",
    "out_part = ['', 'part', 'all'][0]\n",
    "key = 'card_id'\n",
    "target = 'target'\n",
    "ignore_list = [key, target, 'merchant_id', 'first_active_month', 'index', 'personal_term', 'no_out_flg']\n",
    "start_time = \"{0:%Y%m%d_%H%M%S}\".format(datetime.datetime.now())\n",
    "#========================================================================"
   ]
  },
  {
   "cell_type": "code",
   "execution_count": 2,
   "metadata": {},
   "outputs": [],
   "source": [
    "df_hist = pd.read_csv('../input/historical_transactions.csv')\n",
    "df_hist['purchase_amount_new'] = np.round(df_hist['purchase_amount'] / 0.00150265118 + 497.06, 2)\n",
    "\n",
    "df_hist['installments'] = df_hist['installments'].map(lambda x:  \n",
    "                                                    1 if x<1 else\n",
    "                                                    1 if x>100 else\n",
    "                                                      x\n",
    "                                                     )\n",
    "df_hist['authorized_flag'] = df_hist['authorized_flag'].map({'Y':1, 'N':0})\n",
    "df_hist['category_1'] = df_hist['category_1'].map({'Y':1, 'N':0}) \n",
    "df_hist['yyyymm'] = df_hist['purchase_date'].map(lambda x: str(x)[:7])\n",
    "df_hist['yyyymmdd'] = df_hist['purchase_date'].map(lambda x: str(x)[:10])"
   ]
  },
  {
   "cell_type": "code",
   "execution_count": 14,
   "metadata": {},
   "outputs": [
    {
     "data": {
      "text/plain": [
       "array(['C_ID_0009010641', 'C_ID_001fc7b4d5', 'C_ID_0028ac8028',\n",
       "       'C_ID_002fa5e9b3', 'C_ID_0030e0945f'], dtype=object)"
      ]
     },
     "execution_count": 14,
     "metadata": {},
     "output_type": "execute_result"
    }
   ],
   "source": [
    "# df_first = df_hist[[key, 'purchase_date']].groupby(key)['purchase_date'].first().reset_index()\n",
    "# df_first = df_first.to_frame().reset_index()\n",
    "# df_first = df_first.merge(df_hist, how='inner', on=[key, 'purchase_date'])\n",
    "\n"
   ]
  },
  {
   "cell_type": "code",
   "execution_count": 39,
   "metadata": {},
   "outputs": [
    {
     "name": "stdout",
     "output_type": "stream",
     "text": [
      "(4159,)\n"
     ]
    },
    {
     "data": {
      "text/plain": [
       "group\n",
       "type0_flg0_higher    38\n",
       "type0_flg0_lower      1\n",
       "type0_flg1_lower      0\n",
       "type10                0\n",
       "type1_flg0_lower      0\n",
       "type1_flg1_higher     0\n",
       "type1_flg1_lower      1\n",
       "type2_flg0_higher     1\n",
       "type2_flg0_lower      9\n",
       "type2_flg1_lower      0\n",
       "Name: outlier, dtype: int64"
      ]
     },
     "metadata": {},
     "output_type": "display_data"
    },
    {
     "data": {
      "text/plain": [
       "type2_flg0_lower     1910\n",
       "type0_flg0_higher     689\n",
       "type10                625\n",
       "type0_flg0_lower      354\n",
       "type1_flg0_lower      187\n",
       "type1_flg1_lower      172\n",
       "type2_flg0_higher     121\n",
       "type2_flg1_lower       56\n",
       "type0_flg1_lower       44\n",
       "type1_flg1_higher       1\n",
       "Name: group, dtype: int64"
      ]
     },
     "metadata": {},
     "output_type": "display_data"
    }
   ],
   "source": [
    "pd.set_option('max_rows', 500)\n",
    "\n",
    "# Get id_list\n",
    "tmp = df_first[[key, 'purchase_amount_new']]\n",
    "tmp = tmp[tmp['purchase_amount_new']<=3]\n",
    "id_list = tmp[key].unique()\n",
    "\n",
    "# base = utils.read_pkl_gzip('../input/base_type_group.gz')\n",
    "base['outlier'] = base[target].map(lambda x: 1 if x<-30 else 0)\n",
    "train = base[~base[target].isnull()]\n",
    "print(train.loc[train[key].isin(id_list), target].shape)\n",
    "tmp = train.loc[train[key].isin(id_list), ['group', 'outlier']]\n",
    "display(tmp.groupby('group')['outlier'].sum())\n",
    "display(tmp['group'].value_counts())\n",
    "# tmp.map(lambda x: np.round(x, 0)).value_counts()"
   ]
  },
  {
   "cell_type": "code",
   "execution_count": 43,
   "metadata": {},
   "outputs": [],
   "source": [
    "prefix = f\"269_fpa\"\n",
    "base.loc[base[key].isin(id_list), 'first_purchase_amount_new_less_than_3'] = 1\n",
    "base['first_purchase_amount_new_less_than_3'].fillna(0, inplace=True)\n",
    "elo_save_feature(df_feat=base[[key, 'first_purchase_amount_new_less_than_3']], prefix=prefix)"
   ]
  }
 ],
 "metadata": {
  "kernelspec": {
   "display_name": "NN",
   "language": "python",
   "name": "nn"
  },
  "language_info": {
   "codemirror_mode": {
    "name": "ipython",
    "version": 3
   },
   "file_extension": ".py",
   "mimetype": "text/x-python",
   "name": "python",
   "nbconvert_exporter": "python",
   "pygments_lexer": "ipython3",
   "version": "3.6.3"
  }
 },
 "nbformat": 4,
 "nbformat_minor": 2
}
