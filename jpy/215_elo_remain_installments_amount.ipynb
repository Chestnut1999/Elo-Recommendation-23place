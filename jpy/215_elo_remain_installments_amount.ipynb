{
 "cells": [
  {
   "cell_type": "code",
   "execution_count": 1,
   "metadata": {},
   "outputs": [],
   "source": [
    "%load_ext autoreload\n",
    "%autoreload 2\n",
    "import gc\n",
    "import re\n",
    "import pandas as pd\n",
    "from __future__ import print_function, division\n",
    "import numpy as np\n",
    "pd.set_option('max_columns', 200)\n",
    "pd.set_option('max_rows', 200)\n",
    "import os\n",
    "import sys\n",
    "HOME = os.path.expanduser(\"~\")\n",
    "sys.path.append(f'{HOME}/kaggle/data_analysis/library')\n",
    "import utils\n",
    "from utils import get_categorical_features, get_numeric_features, reduce_mem_usage, elo_save_feature\n",
    "from preprocessing import get_dummies\n",
    "import datetime\n",
    "\n",
    "from tqdm import tqdm\n",
    "import time\n",
    "import sys\n",
    "from joblib import Parallel, delayed\n",
    "\n",
    "os.listdir('../input/')\n",
    "key = 'card_id'\n",
    "target = 'target'\n",
    "ignore_list = [key, target, 'merchant_id', 'first_avtive_month']"
   ]
  },
  {
   "cell_type": "code",
   "execution_count": 3,
   "metadata": {},
   "outputs": [
    {
     "name": "stdout",
     "output_type": "stream",
     "text": [
      "Mem. usage decreased to 30.42 Mb (27.9% reduction)\n",
      "Mem. usage decreased to 1971.22 Mb (0.0% reduction)\n",
      "Mem. usage decreased to 129.17 Mb (0.0% reduction)\n"
     ]
    }
   ],
   "source": [
    "train_test = utils.read_df_pkl('../input/base_term*0*')\n",
    "df_hist = utils.read_df_pkl('../input/histori*0*')\n",
    "df_new = utils.read_df_pkl('../input/new_mer*0*')\n",
    "\n",
    "train_test = utils.reduce_mem_usage(train_test)\n",
    "df_hist  = utils.reduce_mem_usage(df_hist )\n",
    "df_new   = utils.reduce_mem_usage(df_new  )"
   ]
  },
  {
   "cell_type": "code",
   "execution_count": 4,
   "metadata": {},
   "outputs": [],
   "source": [
    "# df_hist = df_hist.set_index(key).join(train_test.set_index(key)).reset_index()\n",
    "# df_new = df_new.set_index(key).join(train_test.set_index(key)).reset_index()\n",
    "for df in [df_hist, df_new]:\n",
    "    df['authorized_flag'] = df['authorized_flag'].map({'Y':1, 'N':0})\n",
    "    df['category_1'] = df['category_1'].map({'Y':1, 'N':0}) \n",
    "    df['yyyymm'] = df['purchase_date'].map(lambda x: str(x)[:7])\n",
    "#     df['yyyymmdd'] = df['purchase_date'].map(lambda x: str(x)[:10])"
   ]
  },
  {
   "cell_type": "code",
   "execution_count": 5,
   "metadata": {},
   "outputs": [
    {
     "data": {
      "text/plain": [
       "2      643854\n",
       "3      508821\n",
       "4      162008\n",
       "6      113808\n",
       "5      103234\n",
       "10      92318\n",
       "12      38845\n",
       "8       15732\n",
       "7        8423\n",
       "9        4309\n",
       "11        609\n",
       "999         8\n",
       "Name: installments, dtype: int64"
      ]
     },
     "execution_count": 5,
     "metadata": {},
     "output_type": "execute_result"
    }
   ],
   "source": [
    "# 未来の残高を計算する\n",
    "auth1 = df_hist[df_hist.authorized_flag==1]\n",
    "df_trans = pd.concat([df_new, auth1], axis=0)\n",
    "use_cols = ['card_id', 'purchase_amount', 'installments', 'category_1', 'category_2', 'merchant_id', 'merchant_category_id', 'state_id', 'subsector_id', 'yyyymm']\n",
    "df_trans = df_trans[use_cols]\n",
    "df_trans = df_trans[df_trans['installments']>=2]\n",
    "df_trans['installments'].value_counts()"
   ]
  },
  {
   "cell_type": "code",
   "execution_count": 6,
   "metadata": {},
   "outputs": [
    {
     "name": "stdout",
     "output_type": "stream",
     "text": [
      "(3639662, 3)\n"
     ]
    },
    {
     "data": {
      "text/html": [
       "<div>\n",
       "<style scoped>\n",
       "    .dataframe tbody tr th:only-of-type {\n",
       "        vertical-align: middle;\n",
       "    }\n",
       "\n",
       "    .dataframe tbody tr th {\n",
       "        vertical-align: top;\n",
       "    }\n",
       "\n",
       "    .dataframe thead th {\n",
       "        text-align: right;\n",
       "    }\n",
       "</style>\n",
       "<table border=\"1\" class=\"dataframe\">\n",
       "  <thead>\n",
       "    <tr style=\"text-align: right;\">\n",
       "      <th></th>\n",
       "      <th>card_id</th>\n",
       "      <th>yyyymm</th>\n",
       "      <th>purchase_amount</th>\n",
       "    </tr>\n",
       "  </thead>\n",
       "  <tbody>\n",
       "    <tr>\n",
       "      <th>0</th>\n",
       "      <td>C_ID_00007093c1</td>\n",
       "      <td>2017-03-01</td>\n",
       "      <td>0.018588</td>\n",
       "    </tr>\n",
       "    <tr>\n",
       "      <th>1</th>\n",
       "      <td>C_ID_00007093c1</td>\n",
       "      <td>2017-07-01</td>\n",
       "      <td>-0.523013</td>\n",
       "    </tr>\n",
       "    <tr>\n",
       "      <th>2</th>\n",
       "      <td>C_ID_00007093c1</td>\n",
       "      <td>2017-08-01</td>\n",
       "      <td>-0.260004</td>\n",
       "    </tr>\n",
       "    <tr>\n",
       "      <th>3</th>\n",
       "      <td>C_ID_00007093c1</td>\n",
       "      <td>2017-09-01</td>\n",
       "      <td>-0.324618</td>\n",
       "    </tr>\n",
       "    <tr>\n",
       "      <th>4</th>\n",
       "      <td>C_ID_00007093c1</td>\n",
       "      <td>2017-12-01</td>\n",
       "      <td>-0.196141</td>\n",
       "    </tr>\n",
       "  </tbody>\n",
       "</table>\n",
       "</div>"
      ],
      "text/plain": [
       "           card_id     yyyymm  purchase_amount\n",
       "0  C_ID_00007093c1 2017-03-01         0.018588\n",
       "1  C_ID_00007093c1 2017-07-01        -0.523013\n",
       "2  C_ID_00007093c1 2017-08-01        -0.260004\n",
       "3  C_ID_00007093c1 2017-09-01        -0.324618\n",
       "4  C_ID_00007093c1 2017-12-01        -0.196141"
      ]
     },
     "metadata": {},
     "output_type": "display_data"
    }
   ],
   "source": [
    "from time_utils import date_add_days\n",
    "\n",
    "ym = 'yyyymm'\n",
    "df_trans['yyyymm'] = pd.to_datetime(df_trans['yyyymm'])\n",
    "\n",
    "ins_list = list(df_trans['installments'].value_counts().index)\n",
    "df_list = []\n",
    "\n",
    "for ins in ins_list:\n",
    "\n",
    "    tmp = df_trans[df_trans['installments']==ins]\n",
    "    \n",
    "    # installments==2とした当月\n",
    "    id_ym = tmp[[key, 'yyyymm', 'purchase_amount']].groupby([key, 'yyyymm'])['purchase_amount'].sum().reset_index()\n",
    "    # 分割あたりのamount\n",
    "    id_ym['purchase_amount'] = id_ym['purchase_amount'] / ins\n",
    "    \n",
    "    # 未来の月に対するamountをもったデータ\n",
    "    df_ins_ym = id_ym[[key, 'yyyymm', 'purchase_amount']].copy()\n",
    "    \n",
    "    for i in range(int(ins-1)):\n",
    "        df_ins_ym['yyyymm'] = df_ins_ym['yyyymm'].map(lambda x: date_add_days(x, 32) if int(str(x)[8:10])<=15 else date_add_days(x, 20))\n",
    "        df_ins_ym['yyyymm'] = df_ins_ym['yyyymm'].map(lambda x: str(x)[:7])\n",
    "        df_ins_ym['yyyymm'] = pd.to_datetime(df_ins_ym['yyyymm'])\n",
    "        df_list.append(df_ins_ym.copy())\n",
    "        \n",
    "future_amt = pd.concat(df_list, axis=0, ignore_index=True)\n",
    "print(future_amt.shape)\n",
    "display(future_amt.head())"
   ]
  },
  {
   "cell_type": "code",
   "execution_count": 10,
   "metadata": {},
   "outputs": [
    {
     "name": "stdout",
     "output_type": "stream",
     "text": [
      "(3639662, 3)\n",
      "(3639662, 5)\n"
     ]
    }
   ],
   "source": [
    "#========================================================================\n",
    "# train_testにつけたhist_max_month, new_min_monthをつける\n",
    "join_cols = ['hist_purchase_month_max', 'new_purchase_month_min', 'first_active_month']\n",
    "\n",
    "print(future_amt.shape)\n",
    "df_ins = future_amt.set_index(key).join(train_test.set_index(key)[join_cols])\n",
    "print(df_ins.shape)\n",
    "#========================================================================\n",
    "\n",
    "#========================================================================\n",
    "# new_month_minとの相対月をつけ、それを元にデータを絞り計算する\n",
    "df_ins['yyyymm'] = pd.to_datetime(df_ins['yyyymm'])\n",
    "df_ins['new_purchase_month_min'] = pd.to_datetime(df_ins['new_purchase_month_min'])\n",
    "df_ins['new_month_lag']= (df_ins['new_purchase_month_min'].map(lambda x: x.year) - df_ins['yyyymm'].map(lambda x: x.year)) * 12 + (df_ins['new_purchase_month_min'].map(lambda x: x.month) - df_ins['yyyymm'].map(lambda x: x.month))\n",
    "df_ins['new_month_lag'] *= -1\n",
    "df_ins['hist_purchase_month_max'] = pd.to_datetime(df_ins['hist_purchase_month_max'])\n",
    "df_ins['hist_month_lag']= (df_ins['hist_purchase_month_max'].map(lambda x: x.year) - df_ins['yyyymm'].map(lambda x: x.year)) * 12 + (df_ins['hist_purchase_month_max'].map(lambda x: x.month) - df_ins['yyyymm'].map(lambda x: x.month))\n",
    "df_ins['hist_month_lag'] *= -1\n",
    "\n",
    "# new_minとhist_maxにズレがあるとcard_idによって条件が異なってしまうので、newのデータがないcard_id以外はnewのlagにする\n",
    "df_ins['new_month_lag'].fillna(-999, inplace=True)\n",
    "df_ins['org_month_lag'] = df_ins[['new_month_lag', 'hist_month_lag']].min(axis=1)\n",
    "df_ins['new_month_lag'] = df_ins['new_month_lag'].replace(-999, np.nan)\n",
    "#========================================================================"
   ]
  },
  {
   "cell_type": "code",
   "execution_count": 12,
   "metadata": {},
   "outputs": [],
   "source": [
    "# 期間別のデータを作る\n",
    "df_ins_new = df_ins[df_ins['org_month_lag']>=0]\n",
    "df_ins_past3 = df_ins[df_ins['org_month_lag']<0]\n",
    "df_ins_past3 = df_ins_past3[df_ins_past3['org_month_lag']>=-3]\n",
    "df_ins_past6 = df_ins[df_ins['org_month_lag']<0]\n",
    "df_ins_past6 = df_ins_past6[df_ins_past6['org_month_lag']>=-6]"
   ]
  },
  {
   "cell_type": "code",
   "execution_count": 14,
   "metadata": {},
   "outputs": [
    {
     "name": "stderr",
     "output_type": "stream",
     "text": [
      "  0%|          | 0/4 [00:00<?, ?it/s]\n",
      "  0%|          | 0/3 [00:00<?, ?it/s]\u001b[A\n",
      " 25%|██▌       | 1/4 [00:06<00:19,  6.41s/it]\n",
      "  0%|          | 0/3 [00:00<?, ?it/s]\u001b[A\n",
      "100%|██████████| 3/3 [00:00<00:00, 23.26it/s]\u001b[A\n",
      " 50%|█████     | 2/4 [00:12<00:12,  6.21s/it]\n",
      "  0%|          | 0/3 [00:00<?, ?it/s]\u001b[A\n",
      " 75%|███████▌  | 3/4 [00:16<00:05,  5.78s/it]\n",
      "  0%|          | 0/3 [00:00<?, ?it/s]\u001b[A\n",
      "100%|██████████| 4/4 [00:21<00:00,  5.27s/it]\n"
     ]
    }
   ],
   "source": [
    "prefix = '215_ins'\n",
    "prefix = '315_ins'\n",
    "prefix = '415_ins'\n",
    "df_list = [df_ins, df_ins_new, df_ins_past3, df_ins_past6]\n",
    "fname_list = ['rem_ins', 'rem_ins_new', 'rem_ins_past3', 'rem_ins_past6']\n",
    "agg_cols = [key, 'org_month_lag', 'cnt', 'purchase_amount']\n",
    "\n",
    "def get_new_columns(name,aggs):\n",
    "    return [name + '_' + k + '_' + agg for k in aggs.keys() for agg in aggs[k]]\n",
    "\n",
    "for df, fname in zip(tqdm(df_list), fname_list):\n",
    "    \n",
    "    # Base\n",
    "    train_test = utils.read_df_pkl('../input/base_term*0*')\n",
    "    \n",
    "    # FE\n",
    "    df.reset_index(inplace=True)\n",
    "    if key not in df.columns:\n",
    "        df.rename(columns={'index':key}, inplace=True)\n",
    "    df['cnt'] = 1\n",
    "    df = df[agg_cols]\n",
    "    # 月あたりの分割支払決済数\n",
    "    tmp = df.groupby([key, 'org_month_lag']).sum().reset_index()\n",
    "    aggs = {}\n",
    "    aggs['cnt'] = ['sum', 'mean', 'max', 'min', 'std']\n",
    "    aggs['purchase_amount'] = ['sum', 'mean', 'max', 'min', 'std']\n",
    "    # 分割の最終月、初月、平均\n",
    "    aggs['org_month_lag'] = ['max', 'min', 'mean']\n",
    "    df_agg = tmp.groupby(key)['cnt'].agg(aggs)\n",
    "    \n",
    "    new_cols = get_new_columns(fname, aggs)\n",
    "    df_agg.columns = new_cols\n",
    "    \n",
    "    train_test = train_test.join(df_agg)\n",
    "    feat_cols = [col for col in train_test.columns if col.count('rem_ins')]\n",
    "\n",
    "    elo_save_feature(df_feat=train_test[feat_cols], prefix=prefix)"
   ]
  },
  {
   "cell_type": "code",
   "execution_count": 16,
   "metadata": {},
   "outputs": [
    {
     "name": "stderr",
     "output_type": "stream",
     "text": [
      "100%|██████████| 3/3 [00:00<00:00, 27.62it/s]\n",
      "100%|██████████| 3/3 [00:00<00:00, 64.94it/s]\n"
     ]
    },
    {
     "name": "stdout",
     "output_type": "stream",
     "text": [
      "(325540, 61)\n"
     ]
    }
   ],
   "source": [
    "prefix = '215_ins'\n",
    "prefix = '315_ins'\n",
    "prefix = '415_ins'\n",
    "import glob\n",
    "# #========================================================================\n",
    "# # これは作成済のFeatureを読み込んで計算する\n",
    "# #========================================================================\n",
    "fname_list = ['rem_ins', 'rem_ins_new', 'rem_ins_past3', 'rem_ins_past6']\n",
    "\n",
    "combi_list = [ \n",
    "    ['rem_ins_new', 'rem_ins_past3']\n",
    "    ,['rem_ins_new', 'rem_ins_past6']\n",
    "    ,['rem_ins_past3', 'rem_ins_past6']\n",
    "]\n",
    "\n",
    "comp_cols = [\n",
    "     'cnt_sum'\n",
    "    ,'cnt_max'\n",
    "    ,'purchase_amount_sum'\n",
    "    ,'purchase_amount_max'\n",
    "    ,'org_month_lag_min'\n",
    "    ,'org_month_lag_max'\n",
    "]\n",
    "\n",
    "tmp_feature_list = glob.glob(f'../features/1_first_valid/{prefix}*.gz')\n",
    "                   \n",
    "feature_list = []\n",
    "for f in tmp_feature_list:\n",
    "    if not(f.count(f'{prefix}')):continue\n",
    "    for col in comp_cols:\n",
    "        if f.count(col):\n",
    "            feature_list.append(f)\n",
    "            \n",
    "base = utils.read_df_pkl('../input/base_first*0*')\n",
    "p_list = utils.parallel_load_data(path_list=feature_list)\n",
    "df_feat = pd.concat(p_list, axis=1)\n",
    "train_test = pd.concat([base[key], df_feat], axis=1)\n",
    "\n",
    "for (fm1, fm2) in tqdm(combi_list):\n",
    "    for col in comp_cols:\n",
    "#         203_pst_auth0_lag02_monthly_avg_purchase_amount_min\n",
    "        try:\n",
    "            train_test[f\"ratio_{fm1}_{fm2}_{col}\"] = train_test[f\"{prefix}_{fm1}_{col}@\"] / train_test[f\"{prefix}_{fm2}_{col}@\"]\n",
    "            train_test[f\"diff_{fm1}_{fm2}_{col}\"] = train_test[f\"{prefix}_{fm1}_{col}@\"] - train_test[f\"{prefix}_{fm2}_{col}@\"]\n",
    "        except KeyError:\n",
    "            print(fm1, fm2, col)\n",
    "            continue\n",
    "print(train_test.shape)\n",
    "\n",
    "ratio_diff_cols = [col for col in train_test.columns if col[:5]=='ratio' or col[:4]=='diff']\n",
    "elo_save_feature(prefix, train_test[ratio_diff_cols], feat_check=False)"
   ]
  }
 ],
 "metadata": {
  "kernelspec": {
   "display_name": "Python 3",
   "language": "python",
   "name": "python3"
  },
  "language_info": {
   "codemirror_mode": {
    "name": "ipython",
    "version": 3
   },
   "file_extension": ".py",
   "mimetype": "text/x-python",
   "name": "python",
   "nbconvert_exporter": "python",
   "pygments_lexer": "ipython3",
   "version": "3.6.3"
  }
 },
 "nbformat": 4,
 "nbformat_minor": 2
}
