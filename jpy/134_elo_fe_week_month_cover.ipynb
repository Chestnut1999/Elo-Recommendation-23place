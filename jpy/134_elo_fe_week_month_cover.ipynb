{
 "cells": [
  {
   "cell_type": "code",
   "execution_count": 1,
   "metadata": {
    "ExecuteTime": {
     "end_time": "2018-10-28T07:40:08.183701Z",
     "start_time": "2018-10-28T07:40:07.309627Z"
    },
    "collapsed": true
   },
   "outputs": [],
   "source": [
    "%load_ext autoreload\n",
    "%autoreload 2\n",
    "import gc\n",
    "import re\n",
    "import pandas as pd\n",
    "from __future__ import print_function, division\n",
    "import numpy as np\n",
    "import matplotlib.pyplot as plt\n",
    "%matplotlib inline\n",
    "import seaborn as sns\n",
    "sns.set()\n",
    "pd.set_option('max_columns', 200)\n",
    "pd.set_option('max_rows', 200)\n",
    "import os\n",
    "import sys\n",
    "HOME = os.path.expanduser(\"~\")\n",
    "sys.path.append(f'{HOME}/kaggle/data_analysis/library')\n",
    "import utils\n",
    "from utils import get_categorical_features, get_numeric_features\n",
    "import datetime\n",
    "\n",
    "from tqdm import tqdm\n",
    "import numpy as np \n",
    "import matplotlib.pyplot as plt\n",
    "import seaborn as sns\n",
    "import lightgbm as lgb\n",
    "from sklearn.model_selection import KFold\n",
    "import warnings\n",
    "import time\n",
    "import sys\n",
    "import datetime\n",
    "from sklearn.metrics import mean_squared_error\n",
    "\n",
    "os.listdir('../input/')\n",
    "key = 'card_id'\n",
    "target = 'target'\n",
    "ignore_list = [key, target, 'merchant_id', 'first_avtive_month']"
   ]
  },
  {
   "cell_type": "markdown",
   "metadata": {},
   "source": [
    "### Data Load"
   ]
  },
  {
   "cell_type": "code",
   "execution_count": 2,
   "metadata": {},
   "outputs": [
    {
     "name": "stderr",
     "output_type": "stream",
     "text": [
      "100%|██████████| 3/3 [00:00<00:00, 41.22it/s]\n",
      "100%|██████████| 3/3 [00:00<00:00, 90.48it/s]\n",
      "100%|██████████| 3/3 [00:16<00:00,  6.20s/it]\n",
      "100%|██████████| 3/3 [00:01<00:00,  2.38it/s]\n"
     ]
    }
   ],
   "source": [
    "df_train = utils.read_df_pkl('../input/train0*')\n",
    "df_test = utils.read_df_pkl('../input/test0*')\n",
    "df_hist = utils.read_df_pkl('../input/hist*0*')\n",
    "df_new = utils.read_df_pkl('../input/new*0*')"
   ]
  },
  {
   "cell_type": "code",
   "execution_count": 3,
   "metadata": {},
   "outputs": [],
   "source": [
    "def get_new_columns(name,aggs):\n",
    "    return [name + '_' + k + '_' + agg for k in aggs.keys() for agg in aggs[k]]"
   ]
  },
  {
   "cell_type": "code",
   "execution_count": 4,
   "metadata": {},
   "outputs": [],
   "source": [
    "for df in [df_hist, df_new]:\n",
    "    df['purchase_date'] = pd.to_datetime(df['purchase_date'])\n",
    "    df['weekofyear'] = df['purchase_date'].dt.weekofyear\n",
    "    df['month'] = df['purchase_date'].dt.month\n",
    "    df['hour'] = df['purchase_date'].dt.hour\n",
    "    df['month_diff'] = ((datetime.datetime.today() - df['purchase_date']).dt.days)//30\n",
    "    df['date_diff'] = ((datetime.datetime.today() - df['purchase_date']).dt.days)"
   ]
  },
  {
   "cell_type": "code",
   "execution_count": 5,
   "metadata": {},
   "outputs": [
    {
     "data": {
      "text/html": [
       "<div>\n",
       "<style scoped>\n",
       "    .dataframe tbody tr th:only-of-type {\n",
       "        vertical-align: middle;\n",
       "    }\n",
       "\n",
       "    .dataframe tbody tr th {\n",
       "        vertical-align: top;\n",
       "    }\n",
       "\n",
       "    .dataframe thead th {\n",
       "        text-align: right;\n",
       "    }\n",
       "</style>\n",
       "<table border=\"1\" class=\"dataframe\">\n",
       "  <thead>\n",
       "    <tr style=\"text-align: right;\">\n",
       "      <th></th>\n",
       "      <th>authorized_flag</th>\n",
       "      <th>card_id</th>\n",
       "      <th>month_lag</th>\n",
       "      <th>purchase_date</th>\n",
       "      <th>state_id</th>\n",
       "      <th>subsector_id</th>\n",
       "      <th>weekofyear</th>\n",
       "      <th>month</th>\n",
       "      <th>hour</th>\n",
       "      <th>month_diff</th>\n",
       "      <th>date_diff</th>\n",
       "      <th>yyyymm</th>\n",
       "      <th>yyyymm_week</th>\n",
       "    </tr>\n",
       "  </thead>\n",
       "  <tbody>\n",
       "    <tr>\n",
       "      <th>0</th>\n",
       "      <td>Y</td>\n",
       "      <td>C_ID_4e6213e9bc</td>\n",
       "      <td>-8</td>\n",
       "      <td>2017-06-25 15:33:07</td>\n",
       "      <td>16</td>\n",
       "      <td>37</td>\n",
       "      <td>25</td>\n",
       "      <td>6</td>\n",
       "      <td>15</td>\n",
       "      <td>18</td>\n",
       "      <td>554</td>\n",
       "      <td>2017-06</td>\n",
       "      <td>2017-06-25</td>\n",
       "    </tr>\n",
       "    <tr>\n",
       "      <th>1</th>\n",
       "      <td>Y</td>\n",
       "      <td>C_ID_4e6213e9bc</td>\n",
       "      <td>-7</td>\n",
       "      <td>2017-07-15 12:10:45</td>\n",
       "      <td>16</td>\n",
       "      <td>16</td>\n",
       "      <td>28</td>\n",
       "      <td>7</td>\n",
       "      <td>12</td>\n",
       "      <td>17</td>\n",
       "      <td>535</td>\n",
       "      <td>2017-07</td>\n",
       "      <td>2017-07-28</td>\n",
       "    </tr>\n",
       "    <tr>\n",
       "      <th>2</th>\n",
       "      <td>Y</td>\n",
       "      <td>C_ID_4e6213e9bc</td>\n",
       "      <td>-6</td>\n",
       "      <td>2017-08-09 22:04:29</td>\n",
       "      <td>16</td>\n",
       "      <td>37</td>\n",
       "      <td>32</td>\n",
       "      <td>8</td>\n",
       "      <td>22</td>\n",
       "      <td>16</td>\n",
       "      <td>509</td>\n",
       "      <td>2017-08</td>\n",
       "      <td>2017-08-32</td>\n",
       "    </tr>\n",
       "    <tr>\n",
       "      <th>3</th>\n",
       "      <td>Y</td>\n",
       "      <td>C_ID_4e6213e9bc</td>\n",
       "      <td>-5</td>\n",
       "      <td>2017-09-02 10:06:26</td>\n",
       "      <td>16</td>\n",
       "      <td>34</td>\n",
       "      <td>35</td>\n",
       "      <td>9</td>\n",
       "      <td>10</td>\n",
       "      <td>16</td>\n",
       "      <td>486</td>\n",
       "      <td>2017-09</td>\n",
       "      <td>2017-09-35</td>\n",
       "    </tr>\n",
       "    <tr>\n",
       "      <th>4</th>\n",
       "      <td>Y</td>\n",
       "      <td>C_ID_4e6213e9bc</td>\n",
       "      <td>-11</td>\n",
       "      <td>2017-03-10 01:14:19</td>\n",
       "      <td>16</td>\n",
       "      <td>37</td>\n",
       "      <td>10</td>\n",
       "      <td>3</td>\n",
       "      <td>1</td>\n",
       "      <td>22</td>\n",
       "      <td>662</td>\n",
       "      <td>2017-03</td>\n",
       "      <td>2017-03-10</td>\n",
       "    </tr>\n",
       "  </tbody>\n",
       "</table>\n",
       "</div>"
      ],
      "text/plain": [
       "  authorized_flag          card_id  month_lag       purchase_date  state_id  \\\n",
       "0               Y  C_ID_4e6213e9bc         -8 2017-06-25 15:33:07        16   \n",
       "1               Y  C_ID_4e6213e9bc         -7 2017-07-15 12:10:45        16   \n",
       "2               Y  C_ID_4e6213e9bc         -6 2017-08-09 22:04:29        16   \n",
       "3               Y  C_ID_4e6213e9bc         -5 2017-09-02 10:06:26        16   \n",
       "4               Y  C_ID_4e6213e9bc        -11 2017-03-10 01:14:19        16   \n",
       "\n",
       "   subsector_id  weekofyear  month  hour  month_diff  date_diff   yyyymm  \\\n",
       "0            37          25      6    15          18        554  2017-06   \n",
       "1            16          28      7    12          17        535  2017-07   \n",
       "2            37          32      8    22          16        509  2017-08   \n",
       "3            34          35      9    10          16        486  2017-09   \n",
       "4            37          10      3     1          22        662  2017-03   \n",
       "\n",
       "  yyyymm_week  \n",
       "0  2017-06-25  \n",
       "1  2017-07-28  \n",
       "2  2017-08-32  \n",
       "3  2017-09-35  \n",
       "4  2017-03-10  "
      ]
     },
     "execution_count": 5,
     "metadata": {},
     "output_type": "execute_result"
    }
   ],
   "source": [
    "df_hist.drop(['city_id', 'category_1', 'installments', 'category_2', 'category_3', 'merchant_category_id', 'merchant_id', 'purchase_amount'], axis=1, inplace=True)\n",
    "df_new.drop(['city_id', 'category_1', 'installments', 'category_2', 'category_3', 'merchant_category_id', 'merchant_id', 'purchase_amount'], axis=1, inplace=True)\n",
    "\n",
    "df_hist['yyyymm'] =  df_hist['purchase_date'].map(lambda x: str(x)[:7])\n",
    "df_new['yyyymm'] =  df_new['purchase_date'].map(lambda x: str(x)[:7])\n",
    "df_hist['yyyymm_week'] = df_hist['yyyymm'] + df_hist['weekofyear'].map(lambda x: '-' + str(x))\n",
    "df_new['yyyymm_week'] = df_new['yyyymm'] + df_new['weekofyear'].map(lambda x: '-' +  str(x))\n",
    "df_hist.head()"
   ]
  },
  {
   "cell_type": "markdown",
   "metadata": {},
   "source": [
    "### 連続week, month利用回数、期間内week, monthカバー率を特徴にする"
   ]
  },
  {
   "cell_type": "code",
   "execution_count": null,
   "metadata": {},
   "outputs": [],
   "source": []
  },
  {
   "cell_type": "code",
   "execution_count": null,
   "metadata": {},
   "outputs": [],
   "source": []
  },
  {
   "cell_type": "code",
   "execution_count": 31,
   "metadata": {},
   "outputs": [],
   "source": [
    "if hist_new_name=='hist':\n",
    "    fname = '130_ddf'\n",
    "elif hist_new_name=='new':\n",
    "    fname = '131_ddf'\n",
    "ignore_features = ['first_active_month', 'card_id']\n",
    "\n",
    "for col in df_train.columns:\n",
    "#     if col in ignore_features:\n",
    "#         continue\n",
    "#     if not(col.count('feature_')):continue\n",
    "    if not(col.count('date_diff')):continue\n",
    "#     if not(col.count('trans')):continue\n",
    "    utils.to_pkl_gzip(path = f'../features/1_first_valid/{fname}_train_{col}@', obj=df_train[col].values)\n",
    "    utils.to_pkl_gzip(path = f'../features/1_first_valid/{fname}_test_{col}@', obj=df_test[col].values)"
   ]
  },
  {
   "cell_type": "markdown",
   "metadata": {},
   "source": [
    "### 132 date_diffの前半、後半における違いを特徴にする. 全体verも"
   ]
  }
 ],
 "metadata": {
  "hide_input": false,
  "kernelspec": {
   "display_name": "Python 3",
   "language": "python",
   "name": "python3"
  },
  "language_info": {
   "codemirror_mode": {
    "name": "ipython",
    "version": 3
   },
   "file_extension": ".py",
   "mimetype": "text/x-python",
   "name": "python",
   "nbconvert_exporter": "python",
   "pygments_lexer": "ipython3",
   "version": "3.6.3"
  }
 },
 "nbformat": 4,
 "nbformat_minor": 2
}
