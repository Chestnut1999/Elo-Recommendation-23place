{
 "cells": [
  {
   "cell_type": "code",
   "execution_count": 1,
   "metadata": {
    "ExecuteTime": {
     "end_time": "2018-10-28T07:40:08.183701Z",
     "start_time": "2018-10-28T07:40:07.309627Z"
    },
    "collapsed": true
   },
   "outputs": [],
   "source": [
    "%load_ext autoreload\n",
    "%autoreload 2\n",
    "import gc\n",
    "import re\n",
    "import pandas as pd\n",
    "from __future__ import print_function, division\n",
    "import numpy as np\n",
    "import matplotlib.pyplot as plt\n",
    "%matplotlib inline\n",
    "import seaborn as sns\n",
    "sns.set()\n",
    "pd.set_option('max_columns', 200)\n",
    "pd.set_option('max_rows', 200)\n",
    "import os\n",
    "import sys\n",
    "HOME = os.path.expanduser(\"~\")\n",
    "sys.path.append(f'{HOME}/kaggle/data_analysis/library')\n",
    "import utils\n",
    "from utils import get_categorical_features, get_numeric_features\n",
    "import eda\n",
    "\n",
    "from tqdm import tqdm\n",
    "\n",
    "# os.listdir('../input/')\n",
    "key = 'card_id'\n",
    "target = 'target'\n",
    "ignore_list = [key, target, 'merchant_id']\n",
    "\n",
    "feat_no = '107_his_'"
   ]
  },
  {
   "cell_type": "markdown",
   "metadata": {},
   "source": [
    "### Data Load"
   ]
  },
  {
   "cell_type": "code",
   "execution_count": 13,
   "metadata": {
    "ExecuteTime": {
     "end_time": "2018-10-28T08:05:13.761066Z",
     "start_time": "2018-10-28T08:05:12.035341Z"
    }
   },
   "outputs": [
    {
     "name": "stderr",
     "output_type": "stream",
     "text": [
      "100%|██████████| 3/3 [00:00<00:00, 104.05it/s]\n",
      "100%|██████████| 3/3 [00:00<00:00, 176.09it/s]\n"
     ]
    }
   ],
   "source": [
    "def elo_load_data(filename=''):\n",
    "    \n",
    "    if len(filename):\n",
    "        df = utils.read_df_pkl(path=f'../input/{filename}*.p')\n",
    "        return df\n",
    "    # read pickle\n",
    "    path_list = glob.glob(\"../input/*.p\")\n",
    "    for path in path_list:\n",
    "        filename = re.search(r'/([^/.]*).gz', path).group(1)\n",
    "        df = utils.read_df_pkl(path=f'../input/{filename}*.p')\n",
    "train = elo_load_data('train')\n",
    "test = elo_load_data('test')\n",
    "train_id = train[key].values\n",
    "test_id = test[key].values\n",
    "train_test = pd.concat([train, test], axis=0).reset_index(drop=True)\n",
    "history = elo_load_data('historical')"
   ]
  },
  {
   "cell_type": "markdown",
   "metadata": {},
   "source": [
    "#### New Transactionsの最少粒度は下記"
   ]
  },
  {
   "cell_type": "code",
   "execution_count": 118,
   "metadata": {},
   "outputs": [
    {
     "name": "stdout",
     "output_type": "stream",
     "text": [
      "(1963031, 14)\n",
      "(1963031, 6)\n"
     ]
    },
    {
     "ename": "SystemExit",
     "evalue": "",
     "output_type": "error",
     "traceback": [
      "An exception has occurred, use %tb to see the full traceback.\n",
      "\u001b[0;31mSystemExit\u001b[0m\n"
     ]
    }
   ],
   "source": [
    "print(new.shape)\n",
    "cols = [key, 'purchase_date', 'purchase_amount', 'merchant_id', 'merchant_category_id', 'installments']\n",
    "print(new[cols].drop_duplicates().shape)"
   ]
  },
  {
   "cell_type": "markdown",
   "metadata": {},
   "source": [
    "### Cleansing"
   ]
  },
  {
   "cell_type": "code",
   "execution_count": 3,
   "metadata": {},
   "outputs": [],
   "source": [
    "df = history\n",
    "# 999という値が1つだけあるので欠損値扱いで-1にする\n",
    "df['installments'] = df['installments'].where(df['installments']<20, -1)\n",
    "df['installments'] = df['installments'].replace(-1, np.nan)\n",
    "df['authorized_flag'] = df['authorized_flag'].replace(-1, 'NA')\n",
    "df['merchant_id'] =  df['merchant_id'].fillna('NA')\n",
    "df['category_1'] =  df['category_1'].fillna('NA')\n",
    "df['category_2'] =  df['category_2'].fillna('NA')\n",
    "df['category_3'] =  df['category_3'].fillna('NA')"
   ]
  },
  {
   "cell_type": "markdown",
   "metadata": {},
   "source": [
    "### card_idの粒度で色々集計する\n",
    "有効かわからないからとりあえず書いてやってみる"
   ]
  },
  {
   "cell_type": "markdown",
   "metadata": {},
   "source": [
    "### nunique"
   ]
  },
  {
   "cell_type": "code",
   "execution_count": 4,
   "metadata": {},
   "outputs": [],
   "source": [
    "df = history\n",
    "feat_nunique = []\n",
    "nuq_city_id = df.groupby(key)['city_id'].nunique().rename('city_id_nuq@card_id')\n",
    "feat_nunique.append(nuq_city_id)\n",
    "\n",
    "nuq_merchant_category_id = df.groupby(key)['merchant_category_id'].nunique().rename('merchant_category_id_nuq@card_id')\n",
    "feat_nunique.append(nuq_merchant_category_id)\n",
    "\n",
    "nuq_merchant_id = df.groupby(key)['merchant_id'].nunique().rename('merchant_id_nuq@card_id')\n",
    "feat_nunique.append(nuq_merchant_id)\n",
    "\n",
    "nuq_state_id = df.groupby(key)['state_id'].nunique().rename('state_id_nuq@card_id')\n",
    "feat_nunique.append(nuq_state_id)\n",
    "\n",
    "nuq_subsector_id = df.groupby(key)['subsector_id'].nunique().rename('subsector_id_nuq@card_id')\n",
    "feat_nunique.append(nuq_subsector_id)\n",
    "\n",
    "nuq_category_1 = df.groupby(key)['category_1'].nunique().rename('category_1_nuq@card_id')\n",
    "feat_nunique.append(nuq_category_1)\n",
    "\n",
    "nuq_category_2 = df.groupby(key)['category_2'].nunique().rename('category_2_nuq@card_id')\n",
    "feat_nunique.append(nuq_category_2)\n",
    "\n",
    "nuq_category_3 = df.groupby(key)['category_3'].nunique().rename('category_3_nuq@card_id')\n",
    "feat_nunique.append(nuq_category_3)\n",
    "\n",
    "nuq_installments = df.groupby(key)['installments'].nunique().rename('installments_nuq@card_id')\n",
    "feat_nunique.append(nuq_installments)\n",
    "\n",
    "nuq_purchase_date = df.groupby(key)['purchase_date'].nunique().rename('purchase_date_nuq@card_id')\n",
    "feat_nunique.append(nuq_purchase_date)\n",
    "\n",
    "nuq_month_lag = df.groupby(key)['month_lag'].nunique().rename('month_lag_nuq@card_id')\n",
    "feat_nunique.append(nuq_month_lag)"
   ]
  },
  {
   "cell_type": "markdown",
   "metadata": {},
   "source": [
    "### 作成したnunique featureをjoin"
   ]
  },
  {
   "cell_type": "code",
   "execution_count": 14,
   "metadata": {},
   "outputs": [],
   "source": [
    "train_test.set_index(key, inplace=True)\n",
    "for feat in feat_nunique:\n",
    "    train_test = train_test.join(feat, how='left')"
   ]
  },
  {
   "cell_type": "code",
   "execution_count": 15,
   "metadata": {},
   "outputs": [
    {
     "data": {
      "text/html": [
       "<div>\n",
       "<style scoped>\n",
       "    .dataframe tbody tr th:only-of-type {\n",
       "        vertical-align: middle;\n",
       "    }\n",
       "\n",
       "    .dataframe tbody tr th {\n",
       "        vertical-align: top;\n",
       "    }\n",
       "\n",
       "    .dataframe thead th {\n",
       "        text-align: right;\n",
       "    }\n",
       "</style>\n",
       "<table border=\"1\" class=\"dataframe\">\n",
       "  <thead>\n",
       "    <tr style=\"text-align: right;\">\n",
       "      <th></th>\n",
       "      <th>feature_1</th>\n",
       "      <th>feature_2</th>\n",
       "      <th>feature_3</th>\n",
       "      <th>first_active_month</th>\n",
       "      <th>target</th>\n",
       "      <th>city_id_nuq@card_id</th>\n",
       "      <th>merchant_category_id_nuq@card_id</th>\n",
       "      <th>merchant_id_nuq@card_id</th>\n",
       "      <th>state_id_nuq@card_id</th>\n",
       "      <th>subsector_id_nuq@card_id</th>\n",
       "      <th>category_1_nuq@card_id</th>\n",
       "      <th>category_2_nuq@card_id</th>\n",
       "      <th>category_3_nuq@card_id</th>\n",
       "      <th>installments_nuq@card_id</th>\n",
       "      <th>purchase_date_nuq@card_id</th>\n",
       "      <th>month_lag_nuq@card_id</th>\n",
       "    </tr>\n",
       "    <tr>\n",
       "      <th>card_id</th>\n",
       "      <th></th>\n",
       "      <th></th>\n",
       "      <th></th>\n",
       "      <th></th>\n",
       "      <th></th>\n",
       "      <th></th>\n",
       "      <th></th>\n",
       "      <th></th>\n",
       "      <th></th>\n",
       "      <th></th>\n",
       "      <th></th>\n",
       "      <th></th>\n",
       "      <th></th>\n",
       "      <th></th>\n",
       "      <th></th>\n",
       "      <th></th>\n",
       "    </tr>\n",
       "  </thead>\n",
       "  <tbody>\n",
       "    <tr>\n",
       "      <th>C_ID_92a2005557</th>\n",
       "      <td>5</td>\n",
       "      <td>2</td>\n",
       "      <td>1</td>\n",
       "      <td>2017-06</td>\n",
       "      <td>-0.820283</td>\n",
       "      <td>7</td>\n",
       "      <td>41</td>\n",
       "      <td>95</td>\n",
       "      <td>3</td>\n",
       "      <td>21</td>\n",
       "      <td>1</td>\n",
       "      <td>2</td>\n",
       "      <td>2</td>\n",
       "      <td>2</td>\n",
       "      <td>259</td>\n",
       "      <td>9</td>\n",
       "    </tr>\n",
       "    <tr>\n",
       "      <th>C_ID_3d0044924f</th>\n",
       "      <td>4</td>\n",
       "      <td>1</td>\n",
       "      <td>0</td>\n",
       "      <td>2017-01</td>\n",
       "      <td>0.392913</td>\n",
       "      <td>9</td>\n",
       "      <td>57</td>\n",
       "      <td>142</td>\n",
       "      <td>3</td>\n",
       "      <td>24</td>\n",
       "      <td>2</td>\n",
       "      <td>2</td>\n",
       "      <td>3</td>\n",
       "      <td>8</td>\n",
       "      <td>349</td>\n",
       "      <td>13</td>\n",
       "    </tr>\n",
       "    <tr>\n",
       "      <th>C_ID_d639edf6cd</th>\n",
       "      <td>2</td>\n",
       "      <td>2</td>\n",
       "      <td>0</td>\n",
       "      <td>2016-08</td>\n",
       "      <td>0.688056</td>\n",
       "      <td>5</td>\n",
       "      <td>8</td>\n",
       "      <td>13</td>\n",
       "      <td>2</td>\n",
       "      <td>7</td>\n",
       "      <td>1</td>\n",
       "      <td>2</td>\n",
       "      <td>1</td>\n",
       "      <td>1</td>\n",
       "      <td>43</td>\n",
       "      <td>12</td>\n",
       "    </tr>\n",
       "    <tr>\n",
       "      <th>C_ID_186d6a6901</th>\n",
       "      <td>4</td>\n",
       "      <td>3</td>\n",
       "      <td>0</td>\n",
       "      <td>2017-09</td>\n",
       "      <td>0.142495</td>\n",
       "      <td>7</td>\n",
       "      <td>25</td>\n",
       "      <td>50</td>\n",
       "      <td>5</td>\n",
       "      <td>13</td>\n",
       "      <td>2</td>\n",
       "      <td>3</td>\n",
       "      <td>3</td>\n",
       "      <td>3</td>\n",
       "      <td>77</td>\n",
       "      <td>6</td>\n",
       "    </tr>\n",
       "    <tr>\n",
       "      <th>C_ID_cdbd2c0db2</th>\n",
       "      <td>1</td>\n",
       "      <td>3</td>\n",
       "      <td>0</td>\n",
       "      <td>2017-11</td>\n",
       "      <td>-0.159749</td>\n",
       "      <td>6</td>\n",
       "      <td>26</td>\n",
       "      <td>67</td>\n",
       "      <td>6</td>\n",
       "      <td>17</td>\n",
       "      <td>2</td>\n",
       "      <td>4</td>\n",
       "      <td>2</td>\n",
       "      <td>4</td>\n",
       "      <td>133</td>\n",
       "      <td>4</td>\n",
       "    </tr>\n",
       "  </tbody>\n",
       "</table>\n",
       "</div>"
      ],
      "text/plain": [
       "                 feature_1  feature_2  feature_3 first_active_month    target  \\\n",
       "card_id                                                                         \n",
       "C_ID_92a2005557          5          2          1            2017-06 -0.820283   \n",
       "C_ID_3d0044924f          4          1          0            2017-01  0.392913   \n",
       "C_ID_d639edf6cd          2          2          0            2016-08  0.688056   \n",
       "C_ID_186d6a6901          4          3          0            2017-09  0.142495   \n",
       "C_ID_cdbd2c0db2          1          3          0            2017-11 -0.159749   \n",
       "\n",
       "                 city_id_nuq@card_id  merchant_category_id_nuq@card_id  \\\n",
       "card_id                                                                  \n",
       "C_ID_92a2005557                    7                                41   \n",
       "C_ID_3d0044924f                    9                                57   \n",
       "C_ID_d639edf6cd                    5                                 8   \n",
       "C_ID_186d6a6901                    7                                25   \n",
       "C_ID_cdbd2c0db2                    6                                26   \n",
       "\n",
       "                 merchant_id_nuq@card_id  state_id_nuq@card_id  \\\n",
       "card_id                                                          \n",
       "C_ID_92a2005557                       95                     3   \n",
       "C_ID_3d0044924f                      142                     3   \n",
       "C_ID_d639edf6cd                       13                     2   \n",
       "C_ID_186d6a6901                       50                     5   \n",
       "C_ID_cdbd2c0db2                       67                     6   \n",
       "\n",
       "                 subsector_id_nuq@card_id  category_1_nuq@card_id  \\\n",
       "card_id                                                             \n",
       "C_ID_92a2005557                        21                       1   \n",
       "C_ID_3d0044924f                        24                       2   \n",
       "C_ID_d639edf6cd                         7                       1   \n",
       "C_ID_186d6a6901                        13                       2   \n",
       "C_ID_cdbd2c0db2                        17                       2   \n",
       "\n",
       "                 category_2_nuq@card_id  category_3_nuq@card_id  \\\n",
       "card_id                                                           \n",
       "C_ID_92a2005557                       2                       2   \n",
       "C_ID_3d0044924f                       2                       3   \n",
       "C_ID_d639edf6cd                       2                       1   \n",
       "C_ID_186d6a6901                       3                       3   \n",
       "C_ID_cdbd2c0db2                       4                       2   \n",
       "\n",
       "                 installments_nuq@card_id  purchase_date_nuq@card_id  \\\n",
       "card_id                                                                \n",
       "C_ID_92a2005557                         2                        259   \n",
       "C_ID_3d0044924f                         8                        349   \n",
       "C_ID_d639edf6cd                         1                         43   \n",
       "C_ID_186d6a6901                         3                         77   \n",
       "C_ID_cdbd2c0db2                         4                        133   \n",
       "\n",
       "                 month_lag_nuq@card_id  \n",
       "card_id                                 \n",
       "C_ID_92a2005557                      9  \n",
       "C_ID_3d0044924f                     13  \n",
       "C_ID_d639edf6cd                     12  \n",
       "C_ID_186d6a6901                      6  \n",
       "C_ID_cdbd2c0db2                      4  "
      ]
     },
     "execution_count": 15,
     "metadata": {},
     "output_type": "execute_result"
    }
   ],
   "source": [
    "train_test.head()"
   ]
  },
  {
   "cell_type": "markdown",
   "metadata": {},
   "source": [
    "### month_lag別の集計"
   ]
  },
  {
   "cell_type": "code",
   "execution_count": 16,
   "metadata": {},
   "outputs": [],
   "source": [
    "feat_ins = history.groupby(key)['installments'].agg({\n",
    "    'installments_max@card_id':'max'\n",
    "    ,'installments_min@card_id':'min'\n",
    "    ,'installments_mean@card_id':'mean'\n",
    "    ,'installments_std@card_id':'std'\n",
    "    ,'installments_skew@card_id':'skew'\n",
    "})\n",
    "\n",
    "feat_amt = history.groupby(key)['purchase_amount'].agg({\n",
    "    'purchase_amount_max@card_id':'max'\n",
    "    ,'purchase_amount_min@card_id':'min'\n",
    "    ,'purchase_amount_mean@card_id':'mean'\n",
    "    ,'purchase_amount_std@card_id':'std'\n",
    "    ,'purchase_amount_skew@card_id':'skew'\n",
    "})"
   ]
  },
  {
   "cell_type": "markdown",
   "metadata": {},
   "source": [
    "### aggregate feature setをjoin"
   ]
  },
  {
   "cell_type": "code",
   "execution_count": 17,
   "metadata": {},
   "outputs": [],
   "source": [
    "for feat in [feat_ins, feat_amt]:\n",
    "    train_test = train_test.join(feat, how='left')"
   ]
  },
  {
   "cell_type": "markdown",
   "metadata": {},
   "source": [
    "### Save"
   ]
  },
  {
   "cell_type": "code",
   "execution_count": 18,
   "metadata": {},
   "outputs": [],
   "source": [
    "train = train_test.loc[train_id, :]\n",
    "test = train_test.loc[test_id, :]\n",
    "for col in train.columns:\n",
    "    if col.count('@'):\n",
    "        utils.to_pkl_gzip(obj = train[col].values, path=f'../features/1_first_valid/{feat_no}train_his_{col}')\n",
    "        utils.to_pkl_gzip(obj = test[col].values, path=f'../features/1_first_valid/{feat_no}test_his_{col}')"
   ]
  }
 ],
 "metadata": {
  "hide_input": false,
  "kernelspec": {
   "display_name": "Python 3",
   "language": "python",
   "name": "python3"
  },
  "language_info": {
   "codemirror_mode": {
    "name": "ipython",
    "version": 3
   },
   "file_extension": ".py",
   "mimetype": "text/x-python",
   "name": "python",
   "nbconvert_exporter": "python",
   "pygments_lexer": "ipython3",
   "version": "3.6.3"
  }
 },
 "nbformat": 4,
 "nbformat_minor": 2
}
