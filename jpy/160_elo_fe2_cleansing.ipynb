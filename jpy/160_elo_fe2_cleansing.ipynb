{
 "cells": [
  {
   "cell_type": "code",
   "execution_count": 1,
   "metadata": {
    "ExecuteTime": {
     "end_time": "2018-10-28T07:40:08.183701Z",
     "start_time": "2018-10-28T07:40:07.309627Z"
    },
    "collapsed": true
   },
   "outputs": [],
   "source": [
    "%load_ext autoreload\n",
    "%autoreload 2\n",
    "import gc\n",
    "import re\n",
    "import pandas as pd\n",
    "from __future__ import print_function, division\n",
    "import numpy as np\n",
    "import matplotlib.pyplot as plt\n",
    "%matplotlib inline\n",
    "import seaborn as sns\n",
    "sns.set()\n",
    "pd.set_option('max_columns', 200)\n",
    "pd.set_option('max_rows', 200)\n",
    "import os\n",
    "import sys\n",
    "HOME = os.path.expanduser(\"~\")\n",
    "sys.path.append(f'{HOME}/kaggle/data_analysis/library')\n",
    "import utils\n",
    "from utils import get_categorical_features, get_numeric_features, reduce_mem_usage\n",
    "import datetime\n",
    "\n",
    "from tqdm import tqdm\n",
    "import time\n",
    "import sys\n",
    "\n",
    "os.listdir('../input/')\n",
    "key = 'card_id'\n",
    "target = 'target'\n",
    "ignore_list = [key, target, 'merchant_id', 'first_avtive_month']"
   ]
  },
  {
   "cell_type": "markdown",
   "metadata": {},
   "source": [
    "### Data Load"
   ]
  },
  {
   "cell_type": "code",
   "execution_count": 2,
   "metadata": {},
   "outputs": [
    {
     "name": "stderr",
     "output_type": "stream",
     "text": [
      "100%|██████████| 3/3 [00:00<00:00, 96.84it/s]\n",
      "100%|██████████| 3/3 [00:00<00:00, 192.13it/s]\n",
      "100%|██████████| 3/3 [00:26<00:00,  8.67s/it]\n",
      "100%|██████████| 3/3 [00:00<00:00,  3.61it/s]\n"
     ]
    },
    {
     "name": "stdout",
     "output_type": "stream",
     "text": [
      "Mem. usage decreased to  4.04 Mb (56.2% reduction)\n",
      "Mem. usage decreased to  2.24 Mb (52.5% reduction)\n",
      "Mem. usage decreased to 1971.22 Mb (40.8% reduction)\n",
      "Mem. usage decreased to 140.41 Mb (37.5% reduction)\n"
     ]
    }
   ],
   "source": [
    "def reduce_mem_usage(df, verbose=True):\n",
    "    numerics = ['int16', 'int32', 'int64', 'float16', 'float32', 'float64']\n",
    "    start_mem = df.memory_usage().sum() / 1024**2    \n",
    "    for col in df.columns:\n",
    "        col_type = df[col].dtypes\n",
    "        if col_type in numerics:\n",
    "            c_min = df[col].min()\n",
    "            c_max = df[col].max()\n",
    "            if str(col_type)[:3] == 'int':\n",
    "                if c_min > np.iinfo(np.int8).min and c_max < np.iinfo(np.int8).max:\n",
    "                    df[col] = df[col].astype(np.int8)\n",
    "                elif c_min > np.iinfo(np.int16).min and c_max < np.iinfo(np.int16).max:\n",
    "                    df[col] = df[col].astype(np.int16)\n",
    "                elif c_min > np.iinfo(np.int32).min and c_max < np.iinfo(np.int32).max:\n",
    "                    df[col] = df[col].astype(np.int32)\n",
    "                elif c_min > np.iinfo(np.int64).min and c_max < np.iinfo(np.int64).max:\n",
    "                    df[col] = df[col].astype(np.int64)  \n",
    "            else:\n",
    "                if c_min > np.finfo(np.float16).min and c_max < np.finfo(np.float16).max:\n",
    "                    df[col] = df[col].astype(np.float16)\n",
    "                elif c_min > np.finfo(np.float32).min and c_max < np.finfo(np.float32).max:\n",
    "                    df[col] = df[col].astype(np.float32)\n",
    "                else:\n",
    "                    df[col] = df[col].astype(np.float64)    \n",
    "    end_mem = df.memory_usage().sum() / 1024**2\n",
    "    if verbose: print('Mem. usage decreased to {:5.2f} Mb ({:.1f}% reduction)'.format(end_mem, 100 * (start_mem - end_mem) / start_mem))\n",
    "    return df\n",
    "\n",
    "df_train = utils.read_df_pkl('../input/train0*')\n",
    "df_test = utils.read_df_pkl('../input/test0*')\n",
    "df_train.set_index(key, inplace=True)\n",
    "df_test.set_index(key, inplace=True)\n",
    "df_hist = utils.read_df_pkl('../input/histori*0*')\n",
    "df_new = utils.read_df_pkl('../input/new_mer*0*')\n",
    "\n",
    "df_train = reduce_mem_usage(df_train)\n",
    "df_test  = reduce_mem_usage(df_test )\n",
    "df_hist  = reduce_mem_usage(df_hist )\n",
    "df_new   = reduce_mem_usage(df_new  )"
   ]
  },
  {
   "cell_type": "code",
   "execution_count": 3,
   "metadata": {},
   "outputs": [],
   "source": [
    "# first acitve monthのimpute\n",
    "# df_first = df_hist[[key, 'purchase_date']].groupby(key)['purchase_date'].min()\n",
    "# df_first.name = 'first_date'\n",
    "# df_first =  df_first.map(lambda x: str(x)[:7])\n",
    "\n",
    "# df_train = df_train.join(df_first)\n",
    "# df_train['first_active_month'] =  df_train[['first_active_month', 'first_date']].apply(lambda x:x[1]  if x[0]!=x[0] else x[0], axis=1)\n",
    "# df_test = df_test.join(df_first)\n",
    "# df_test['first_active_month'] =  df_test[['first_active_month', 'first_date']].apply(lambda x:x[1]  if x[0]!=x[0] else x[0], axis=1)\n",
    "\n",
    "df_test['first_active_month'].fillna('2017-03')\n",
    "\n",
    "train_test = pd.concat([df_train, df_test], axis=0).reset_index()\n",
    "df_hist = df_hist.merge(train_test[[key, 'first_active_month']], how='inner', on=key)\n",
    "df_new = df_new.merge(train_test[[key, 'first_active_month']], how='inner', on=key)"
   ]
  },
  {
   "cell_type": "code",
   "execution_count": 4,
   "metadata": {},
   "outputs": [
    {
     "name": "stdout",
     "output_type": "stream",
     "text": [
      "Mem. usage decreased to 2554.26 Mb (25.2% reduction)\n",
      "Mem. usage decreased to 179.72 Mb (22.0% reduction)\n"
     ]
    }
   ],
   "source": [
    "for df in [df_hist, df_new]:\n",
    "    df['category_1'] = df['category_1'].map(lambda x: 0 if x=='N' else 1)\n",
    "    df['authorized_flag'] = df['authorized_flag'].map(lambda x: 0 if x=='N' else 1)\n",
    "    df['purchase_amount'] = df['purchase_amount'] - df['purchase_amount'].min() + 1.0e-5\n",
    "    df['purchase_date'] = pd.to_datetime(df['purchase_date'])\n",
    "    df['first_active_month'] = pd.to_datetime(df['first_active_month'])\n",
    "    df['all_term'] = (pd.to_datetime('2018-05-01') - df['first_active_month']).dt.days\n",
    "    df['yyyymm'] = df['purchase_date'].map(lambda x: str(x)[:7])\n",
    "    df['yyyymmdd'] = df['purchase_date'].map(lambda x: str(x)[:11])\n",
    "    df['weekofyear'] = df['purchase_date'].dt.weekofyear\n",
    "    df['yyyy_week'] = df['yyyymm'].map(lambda x: str(x)[:4]) + df['weekofyear'].map(lambda x: '-0' + str(x) if len(str(x))==1 else '-' + str(x) )\n",
    "df_trans = pd.concat([df_hist, df_new], axis=0)\n",
    "df_hist  = reduce_mem_usage(df_hist )\n",
    "df_new   = reduce_mem_usage(df_new  )"
   ]
  },
  {
   "cell_type": "code",
   "execution_count": 35,
   "metadata": {},
   "outputs": [],
   "source": [
    "### purchase amountは2で丸める。3以上はhist全体の1%くらい\n",
    "df_hist['purchase_amount_over'] = df_hist['purchase_amount'].where(df_hist['purchase_amount']>2, np.nan)\n",
    "df_hist['purchase_amount_over'] = df_hist['purchase_amount_over'].where(df_hist['purchase_amount_over']<300, np.nan)\n",
    "df_hist['purchase_amount'] = df_hist['purchase_amount'].where(df_hist['purchase_amount']<2, 2)\n",
    "df_new['purchase_amount_over'] = df_new['purchase_amount'].where(df_new['purchase_amount']>2, np.nan)\n",
    "df_new['purchase_amount_over'] = df_new['purchase_amount_over'].where(df_new['purchase_amount_over']<300, np.nan)\n",
    "df_new['purchase_amount'] = df_new['purchase_amount'].where(df_new['purchase_amount']<2, 2)\n",
    "\n",
    "# overは0埋め\n",
    "df_hist['purchase_amount_over'].fillna(0, inplace=True)\n",
    "df_new['purchase_amount_over'].fillna(0, inplace=True)\n",
    "\n",
    "### histのinstallmentsで-1と999はNanにする\n",
    "df_hist['installments'] =  df_hist['installments'].where(df_hist['installments']>=0, np.nan)\n",
    "df_hist['installments'] =  df_hist['installments'].where(df_hist['installments']<100, np.nan)\n",
    "df_hist['installments'].value_counts()"
   ]
  },
  {
   "cell_type": "markdown",
   "metadata": {},
   "source": [
    "### installmentsはregression imputeがよさげ"
   ]
  },
  {
   "cell_type": "code",
   "execution_count": 121,
   "metadata": {},
   "outputs": [
    {
     "name": "stderr",
     "output_type": "stream",
     "text": [
      "\n",
      "  0%|          | 0/3 [00:00<?, ?it/s]\u001b[A\n",
      "100%|██████████| 3/3 [00:00<00:00, 41.37it/s]\u001b[A"
     ]
    },
    {
     "data": {
      "text/html": [
       "<div>\n",
       "<style scoped>\n",
       "    .dataframe tbody tr th:only-of-type {\n",
       "        vertical-align: middle;\n",
       "    }\n",
       "\n",
       "    .dataframe tbody tr th {\n",
       "        vertical-align: top;\n",
       "    }\n",
       "\n",
       "    .dataframe thead th {\n",
       "        text-align: right;\n",
       "    }\n",
       "</style>\n",
       "<table border=\"1\" class=\"dataframe\">\n",
       "  <thead>\n",
       "    <tr style=\"text-align: right;\">\n",
       "      <th></th>\n",
       "      <th></th>\n",
       "      <th>installments</th>\n",
       "    </tr>\n",
       "    <tr>\n",
       "      <th>card_id</th>\n",
       "      <th>purchase_date</th>\n",
       "      <th></th>\n",
       "    </tr>\n",
       "  </thead>\n",
       "  <tbody>\n",
       "    <tr>\n",
       "      <th rowspan=\"5\" valign=\"top\">C_ID_fc8e41b9cf</th>\n",
       "      <th>2018-01-23 12:05:13</th>\n",
       "      <td>0</td>\n",
       "    </tr>\n",
       "    <tr>\n",
       "      <th>2018-02-21 07:24:59</th>\n",
       "      <td>0</td>\n",
       "    </tr>\n",
       "    <tr>\n",
       "      <th>2017-11-13 00:00:00</th>\n",
       "      <td>0</td>\n",
       "    </tr>\n",
       "    <tr>\n",
       "      <th>2018-01-09 14:15:12</th>\n",
       "      <td>0</td>\n",
       "    </tr>\n",
       "    <tr>\n",
       "      <th>2018-01-23 14:04:39</th>\n",
       "      <td>0</td>\n",
       "    </tr>\n",
       "  </tbody>\n",
       "</table>\n",
       "</div>"
      ],
      "text/plain": [
       "                                     installments\n",
       "card_id         purchase_date                    \n",
       "C_ID_fc8e41b9cf 2018-01-23 12:05:13             0\n",
       "                2018-02-21 07:24:59             0\n",
       "                2017-11-13 00:00:00             0\n",
       "                2018-01-09 14:15:12             0\n",
       "                2018-01-23 14:04:39             0"
      ]
     },
     "execution_count": 121,
     "metadata": {},
     "output_type": "execute_result"
    }
   ],
   "source": [
    "# result pred installments\n",
    "tmp = utils.read_pkl_gzip('../stack/0114_105_stack_lgb_lr0.1_17feats_1seed_31leaves_iter10000_OUT0_CV0-0005918784915601258_LB.gz')\n",
    "tmp2 = tmp[tmp['installments'].isnull()]\n",
    "# indexとするためにもとのテストデータをとってくる\n",
    "test_set = utils.read_df_pkl('../input/pred_installments_test_set0*')\n",
    "test_set['installments'] = tmp2['prediction'].astype('int8').values\n",
    "test_set['purchase_date'] = pd.to_datetime( test_set['purchase_date'])\n",
    "test_set = test_set[[key, 'purchase_date', 'installments']]\n",
    "test_set.set_index([key, 'purchase_date'], inplace=True)\n",
    "\n",
    "df_hist.reset_index(inplace=True)\n",
    "df_hist['purchase_date'] = pd.to_datetime( df_hist['purchase_date'])\n",
    "df_hist.set_index([key, 'purchase_date'], inplace=True)\n",
    "df_hist.loc[df_hist['installments'].isnull(), 'installments'] = test_set['installments']\n",
    "df_hist.reset_index(inplace=True)"
   ]
  },
  {
   "cell_type": "code",
   "execution_count": 5,
   "metadata": {},
   "outputs": [
    {
     "name": "stderr",
     "output_type": "stream",
     "text": [
      "0it [00:00, ?it/s]"
     ]
    },
    {
     "name": "stdout",
     "output_type": "stream",
     "text": [
      "shape: (29112361, 20)\n"
     ]
    },
    {
     "name": "stderr",
     "output_type": "stream",
     "text": [
      "3it [00:31, 10.70s/it]\n",
      "0it [00:00, ?it/s]"
     ]
    },
    {
     "name": "stdout",
     "output_type": "stream",
     "text": [
      "shape: (1963031, 20)\n"
     ]
    },
    {
     "name": "stderr",
     "output_type": "stream",
     "text": [
      "3it [00:02,  1.45it/s]\n"
     ]
    }
   ],
   "source": [
    "# df_hist  = reduce_mem_usage(df_hist )\n",
    "# df_new   = reduce_mem_usage(df_new  )\n",
    "utils.to_df_pkl(df=df_hist, path='../input/', fname='hist_exist_null_clean_rdm')\n",
    "utils.to_df_pkl(df=df_new, path='../input/', fname='new_exist_null_clean_rdm')"
   ]
  },
  {
   "cell_type": "code",
   "execution_count": 133,
   "metadata": {},
   "outputs": [],
   "source": [
    "# all month_lagをもたせたDF\n",
    "col_month = 'month_lag'\n",
    "df_month = df_trans[[key, col_month]].drop_duplicates()\n",
    "df_month['value'] = 1\n",
    "df_month = df_month.pivot_table(index=key, columns=col_month, values='value').fillna(1).stack()\n",
    "df_month = df_month.reset_index().drop(0, axis=1)\n",
    "\n",
    "df_trans = pd.concat([df_hist, df_new], axis=0)\n",
    "df_trans_all_m = df_month.merge(df_trans, how='left', on=[key, col_month])"
   ]
  },
  {
   "cell_type": "code",
   "execution_count": 134,
   "metadata": {},
   "outputs": [],
   "source": [
    "# last 3month\n",
    "# 0,1,2\n",
    "df_last1 = df_trans_all_m[df_trans_all_m[col_month]>=0]\n",
    "# -3,-2,-1\n",
    "df_last2 = df_trans_all_m[df_trans_all_m[col_month]>=-3]\n",
    "df_last2 = df_last2[df_last2[col_month]<=-1]\n",
    "# -6,-5,-4\n",
    "df_last3 = df_trans_all_m[df_trans_all_m[col_month]>=-6]\n",
    "df_last3 = df_last3[df_last3[col_month]<=-4]\n",
    "# -9,-8,-7\n",
    "df_last4 = df_trans_all_m[df_trans_all_m[col_month]>=-9]\n",
    "df_last4 = df_last4[df_last4[col_month]<=-7]"
   ]
  },
  {
   "cell_type": "code",
   "execution_count": 135,
   "metadata": {},
   "outputs": [
    {
     "name": "stderr",
     "output_type": "stream",
     "text": [
      "\n",
      "0it [00:00, ?it/s]\u001b[A"
     ]
    },
    {
     "name": "stdout",
     "output_type": "stream",
     "text": [
      "shape: (5637062, 21)\n"
     ]
    },
    {
     "name": "stderr",
     "output_type": "stream",
     "text": [
      "\n",
      "1it [00:04,  4.34s/it]\u001b[A\n",
      "2it [00:08,  4.34s/it]\u001b[A\n",
      "3it [00:13,  4.34s/it]\u001b[A\n",
      "\u001b[A\n",
      "0it [00:00, ?it/s]\u001b[A"
     ]
    },
    {
     "name": "stdout",
     "output_type": "stream",
     "text": [
      "shape: (10703337, 21)\n"
     ]
    },
    {
     "name": "stderr",
     "output_type": "stream",
     "text": [
      "\n",
      "1it [00:09,  9.33s/it]\u001b[A\n",
      "2it [00:18,  9.32s/it]\u001b[A\n",
      "3it [00:27,  9.30s/it]\u001b[A\n",
      "\u001b[A\n",
      "0it [00:00, ?it/s]\u001b[A"
     ]
    },
    {
     "name": "stdout",
     "output_type": "stream",
     "text": [
      "shape: (7397061, 21)\n"
     ]
    },
    {
     "name": "stderr",
     "output_type": "stream",
     "text": [
      "\n",
      "1it [00:05,  5.85s/it]\u001b[A\n",
      "2it [00:11,  5.85s/it]\u001b[A\n",
      "3it [00:17,  5.84s/it]\u001b[A\n",
      "\u001b[A\n",
      "0it [00:00, ?it/s]\u001b[A"
     ]
    },
    {
     "name": "stdout",
     "output_type": "stream",
     "text": [
      "shape: (4981096, 21)\n"
     ]
    },
    {
     "name": "stderr",
     "output_type": "stream",
     "text": [
      "\n",
      "1it [00:03,  3.41s/it]\u001b[A\n",
      "2it [00:06,  3.40s/it]\u001b[A\n",
      "3it [00:10,  3.40s/it]\u001b[A\n",
      "\u001b[A"
     ]
    }
   ],
   "source": [
    "utils.to_df_pkl(df=df_last1, path='../input/', fname='trans_last1')\n",
    "utils.to_df_pkl(df=df_last2, path='../input/', fname='trans_last2')\n",
    "utils.to_df_pkl(df=df_last3, path='../input/', fname='trans_last3')\n",
    "utils.to_df_pkl(df=df_last4, path='../input/', fname='trans_last4')"
   ]
  }
 ],
 "metadata": {
  "hide_input": false,
  "kernelspec": {
   "display_name": "Python 3",
   "language": "python",
   "name": "python3"
  },
  "language_info": {
   "codemirror_mode": {
    "name": "ipython",
    "version": 3
   },
   "file_extension": ".py",
   "mimetype": "text/x-python",
   "name": "python",
   "nbconvert_exporter": "python",
   "pygments_lexer": "ipython3",
   "version": "3.6.3"
  }
 },
 "nbformat": 4,
 "nbformat_minor": 2
}
