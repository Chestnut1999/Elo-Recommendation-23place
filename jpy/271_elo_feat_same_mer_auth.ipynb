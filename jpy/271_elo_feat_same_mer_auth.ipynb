{
 "cells": [
  {
   "cell_type": "code",
   "execution_count": 1,
   "metadata": {},
   "outputs": [
    {
     "name": "stderr",
     "output_type": "stream",
     "text": [
      "2019-02-25 15:12:59,972 utils 400 [INFO]    [logger_func] start \n"
     ]
    }
   ],
   "source": [
    "%load_ext autoreload\n",
    "%autoreload 2\n",
    "import gc\n",
    "import re\n",
    "import pandas as pd\n",
    "import numpy as np\n",
    "import os\n",
    "import sys\n",
    "import time\n",
    "import datetime\n",
    "import glob\n",
    "sys.path.append('../py/')\n",
    "from s027_kfold_ods import ods_kfold\n",
    "HOME = os.path.expanduser(\"~\")\n",
    "sys.path.append(f'{HOME}/kaggle/data_analysis/library')\n",
    "import utils\n",
    "from utils import logger_func, get_categorical_features, get_numeric_features, reduce_mem_usage, elo_save_feature, impute_feature\n",
    "try:\n",
    "    if not logger:\n",
    "        logger=logger_func()\n",
    "except NameError:\n",
    "    logger=logger_func()\n",
    "\n",
    "from sklearn.metrics import mean_squared_error, roc_auc_score\n",
    "\n",
    "\n",
    "#========================================================================\n",
    "# Args\n",
    "out_part = ['', 'part', 'all'][0]\n",
    "key = 'card_id'\n",
    "target = 'target'\n",
    "ignore_list = [key, target, 'merchant_id', 'first_active_month', 'index', 'personal_term', 'no_out_flg']\n",
    "start_time = \"{0:%Y%m%d_%H%M%S}\".format(datetime.datetime.now())\n",
    "#========================================================================"
   ]
  },
  {
   "cell_type": "code",
   "execution_count": 2,
   "metadata": {},
   "outputs": [],
   "source": [
    "df_hist = pd.read_csv('../input/historical_transactions.csv')\n",
    "df_hist['purchase_amount_new'] = np.round(df_hist['purchase_amount'] / 0.00150265118 + 497.06, 2)\n",
    "\n",
    "df_hist['installments'] = df_hist['installments'].map(lambda x:  \n",
    "                                                    1 if x<1 else\n",
    "                                                    1 if x>100 else\n",
    "                                                      x\n",
    "                                                     )\n",
    "df_hist['authorized_flag'] = df_hist['authorized_flag'].map({'Y':1, 'N':0})\n",
    "df_hist['category_1'] = df_hist['category_1'].map({'Y':1, 'N':0}) \n",
    "df_hist['yyyymm'] = df_hist['purchase_date'].map(lambda x: str(x)[:7])\n",
    "df_hist['yyyymmdd'] = df_hist['purchase_date'].map(lambda x: str(x)[:10])"
   ]
  },
  {
   "cell_type": "code",
   "execution_count": 6,
   "metadata": {},
   "outputs": [
    {
     "data": {
      "text/html": [
       "<div>\n",
       "<style scoped>\n",
       "    .dataframe tbody tr th:only-of-type {\n",
       "        vertical-align: middle;\n",
       "    }\n",
       "\n",
       "    .dataframe tbody tr th {\n",
       "        vertical-align: top;\n",
       "    }\n",
       "\n",
       "    .dataframe thead th {\n",
       "        text-align: right;\n",
       "    }\n",
       "</style>\n",
       "<table border=\"1\" class=\"dataframe\">\n",
       "  <thead>\n",
       "    <tr style=\"text-align: right;\">\n",
       "      <th></th>\n",
       "      <th>card_id</th>\n",
       "      <th>merchant_id</th>\n",
       "      <th>yyyymm</th>\n",
       "      <th>authorized_flag</th>\n",
       "      <th>row_no</th>\n",
       "    </tr>\n",
       "  </thead>\n",
       "  <tbody>\n",
       "    <tr>\n",
       "      <th>0</th>\n",
       "      <td>C_ID_fffffd5772</td>\n",
       "      <td>M_ID_fc7d7969c3</td>\n",
       "      <td>2018-02</td>\n",
       "      <td>0.200000</td>\n",
       "      <td>1</td>\n",
       "    </tr>\n",
       "    <tr>\n",
       "      <th>29</th>\n",
       "      <td>C_ID_fffffd5772</td>\n",
       "      <td>M_ID_445742726b</td>\n",
       "      <td>2018-02</td>\n",
       "      <td>0.333333</td>\n",
       "      <td>1</td>\n",
       "    </tr>\n",
       "    <tr>\n",
       "      <th>30</th>\n",
       "      <td>C_ID_fffffd5772</td>\n",
       "      <td>M_ID_445742726b</td>\n",
       "      <td>2018-01</td>\n",
       "      <td>0.750000</td>\n",
       "      <td>2</td>\n",
       "    </tr>\n",
       "    <tr>\n",
       "      <th>45</th>\n",
       "      <td>C_ID_ffff828181</td>\n",
       "      <td>M_ID_fc7d7969c3</td>\n",
       "      <td>2017-11</td>\n",
       "      <td>0.000000</td>\n",
       "      <td>1</td>\n",
       "    </tr>\n",
       "    <tr>\n",
       "      <th>61</th>\n",
       "      <td>C_ID_ffff828181</td>\n",
       "      <td>M_ID_e0abb16efe</td>\n",
       "      <td>2017-08</td>\n",
       "      <td>0.333333</td>\n",
       "      <td>1</td>\n",
       "    </tr>\n",
       "  </tbody>\n",
       "</table>\n",
       "</div>"
      ],
      "text/plain": [
       "            card_id      merchant_id   yyyymm  authorized_flag  row_no\n",
       "0   C_ID_fffffd5772  M_ID_fc7d7969c3  2018-02         0.200000       1\n",
       "29  C_ID_fffffd5772  M_ID_445742726b  2018-02         0.333333       1\n",
       "30  C_ID_fffffd5772  M_ID_445742726b  2018-01         0.750000       2\n",
       "45  C_ID_ffff828181  M_ID_fc7d7969c3  2017-11         0.000000       1\n",
       "61  C_ID_ffff828181  M_ID_e0abb16efe  2017-08         0.333333       1"
      ]
     },
     "execution_count": 6,
     "metadata": {},
     "output_type": "execute_result"
    }
   ],
   "source": [
    "df_agg_all = df_hist.groupby([key, 'merchant_id', 'yyyymm'])['authorized_flag'].mean()\n",
    "df_agg_all = df_agg_all.to_frame().reset_index()\n",
    "df_agg_all.sort_values(by=[key, 'merchant_id', 'yyyymm'], ascending=False, inplace=True)\n",
    "df_agg_all = utils.row_number(df=df_agg_all, level=[key, 'merchant_id'])\n",
    "df_agg = df_agg_all[df_agg_all['authorized_flag']<1]\n",
    "df_agg.head()"
   ]
  },
  {
   "cell_type": "code",
   "execution_count": 6,
   "metadata": {},
   "outputs": [
    {
     "name": "stderr",
     "output_type": "stream",
     "text": [
      "100%|██████████| 1/1 [00:00<00:00,  3.55it/s]\n"
     ]
    },
    {
     "name": "stdout",
     "output_type": "stream",
     "text": [
      "Complete!\n"
     ]
    },
    {
     "name": "stderr",
     "output_type": "stream",
     "text": [
      "100%|██████████| 1/1 [00:00<00:00,  3.29it/s]\n"
     ]
    },
    {
     "name": "stdout",
     "output_type": "stream",
     "text": [
      "Complete!\n"
     ]
    }
   ],
   "source": [
    "level_merchant = 1\n",
    "if level_merchant:\n",
    "    prefix = f\"272_ath\"\n",
    "else:\n",
    "    prefix = f\"271_ath\"\n",
    "row_list = [1,2,3]\n",
    "for row in row_list:\n",
    "    \n",
    "    tmp = df_agg[df_agg['row_no']<=row]\n",
    "    \n",
    "    if row==1:\n",
    "        aggs = {}\n",
    "        aggs['authorized_flag'] = ['mean', 'max', 'min']\n",
    "        \n",
    "        tmp = tmp.groupby(key).agg(aggs)\n",
    "        tmp.columns = [f\"lastmonth{row}_{key}_{val}\" for key in aggs.keys() for val in aggs[key]]\n",
    "        last1 = tmp.copy()\n",
    "        if level_merchant:\n",
    "            continue\n",
    "    else:\n",
    "        if level_merchant:\n",
    "            tmp = tmp.groupby([key, 'merchant_id']).mean().reset_index()\n",
    "            tmp = tmp.groupby([key]).agg(aggs)\n",
    "            tmp.columns = [f\"lastmonth_{row}_mercant_{key}_{val}\" for key in aggs.keys() for val in aggs[key]]\n",
    "        else:\n",
    "            tmp = tmp.groupby([key]).agg(aggs)\n",
    "            tmp.columns = [f\"lastmonth{row}_{key}_{val}\" for key in aggs.keys() for val in aggs[key]]\n",
    "        \n",
    "        feat_cols = sorted(list(tmp.columns))\n",
    "        last_cols = sorted(list(last1.columns))\n",
    "        \n",
    "        for last, feat in zip(last_cols, feat_cols):\n",
    "            tmp[f\"ratio_1_{feat}\"] = last1[last] / tmp[feat]\n",
    "\n",
    "    #========================================================================\n",
    "    # Save Feature\n",
    "    base = utils.read_df_pkl('../input/base_no_out*')\n",
    "    base = base[[key, target]].set_index(key)\n",
    "    base = base.join(tmp)\n",
    "    base.fillna(-1, inplace=True)\n",
    "    del tmp\n",
    "    gc.collect()\n",
    "    \n",
    "    elo_save_feature(df_feat=base, prefix=prefix)\n",
    "    print('Complete!')\n",
    "    #========================================================================"
   ]
  },
  {
   "cell_type": "code",
   "execution_count": 7,
   "metadata": {},
   "outputs": [],
   "source": [
    "tmp_list = []\n",
    "row_list = [1,2,3,6]\n",
    "for row in row_list:\n",
    "    tmp_all = df_agg_all[df_agg_all['row_no']<=row]\n",
    "    tmp = df_agg[df_agg['row_no']<=row]\n",
    "    \n",
    "    tmp_all['mer_cnt_all'] = 1\n",
    "    tmp['auth0_mer_cnt'] = 1\n",
    "    ym_cnt_all = tmp_all.groupby([key, 'merchant_id'])['mer_cnt_all'].sum()\n",
    "    ym_cnt = tmp.groupby([key, 'merchant_id'])['auth0_mer_cnt'].sum()\n",
    "    df_cnt = pd.concat([ym_cnt_all, ym_cnt], axis=1)\n",
    "    \n",
    "    df_cnt['auth0_mer_ratio'] = df_cnt['auth0_mer_cnt'] / df_cnt['mer_cnt_all']\n",
    "    \n",
    "    df_cnt.reset_index(inplace=True)\n",
    "    feat_cols = [col for col in df_cnt.columns if col.count('mer_') and not(col.count('all'))]\n",
    "    aggs = {}\n",
    "    for col in feat_cols:\n",
    "        if col.count('ratio'):\n",
    "            aggs[col] = ['mean', 'max', 'min']\n",
    "        elif col.count('cnt'):\n",
    "            aggs[col] = ['sum', 'mean', 'max']\n",
    "    tmp = df_cnt.groupby(key)[feat_cols].agg(aggs)\n",
    "    new_cols = [f\"lastmonth{row}_{key}_{val}\"  for key in aggs.keys() for val in aggs[key]]\n",
    "    tmp.columns = new_cols\n",
    "    tmp_list.append(tmp)"
   ]
  },
  {
   "cell_type": "code",
   "execution_count": null,
   "metadata": {},
   "outputs": [],
   "source": []
  }
 ],
 "metadata": {
  "kernelspec": {
   "display_name": "NN",
   "language": "python",
   "name": "nn"
  },
  "language_info": {
   "codemirror_mode": {
    "name": "ipython",
    "version": 3
   },
   "file_extension": ".py",
   "mimetype": "text/x-python",
   "name": "python",
   "nbconvert_exporter": "python",
   "pygments_lexer": "ipython3",
   "version": "3.6.3"
  }
 },
 "nbformat": 4,
 "nbformat_minor": 2
}
