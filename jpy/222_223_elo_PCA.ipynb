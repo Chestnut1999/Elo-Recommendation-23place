{
 "cells": [
  {
   "cell_type": "markdown",
   "metadata": {},
   "source": [
    "## feature_3によってamountの絶対値あたりの価値は違うという仮説で、特徴をリフトにする"
   ]
  },
  {
   "cell_type": "code",
   "execution_count": 3,
   "metadata": {
    "ExecuteTime": {
     "end_time": "2018-10-28T07:40:08.183701Z",
     "start_time": "2018-10-28T07:40:07.309627Z"
    },
    "collapsed": true
   },
   "outputs": [
    {
     "name": "stdout",
     "output_type": "stream",
     "text": [
      "The autoreload extension is already loaded. To reload it, use:\n",
      "  %reload_ext autoreload\n"
     ]
    }
   ],
   "source": [
    "%load_ext autoreload\n",
    "%autoreload 2\n",
    "import gc\n",
    "import re\n",
    "import pandas as pd\n",
    "from __future__ import print_function, division\n",
    "import numpy as np\n",
    "import matplotlib.pyplot as plt\n",
    "%matplotlib inline\n",
    "import seaborn as sns\n",
    "sns.set()\n",
    "pd.set_option('max_columns', 200)\n",
    "pd.set_option('max_rows', 200)\n",
    "import os\n",
    "import sys\n",
    "HOME = os.path.expanduser(\"~\")\n",
    "sys.path.append(f'{HOME}/kaggle/data_analysis/library')\n",
    "import utils\n",
    "from utils import get_categorical_features, get_numeric_features\n",
    "import datetime\n",
    "\n",
    "from tqdm import tqdm\n",
    "import numpy as np \n",
    "import matplotlib.pyplot as plt\n",
    "import seaborn as sns\n",
    "import lightgbm as lgb\n",
    "from sklearn.model_selection import KFold\n",
    "import warnings\n",
    "import time\n",
    "import sys\n",
    "import datetime\n",
    "from sklearn.metrics import mean_squared_error\n",
    "import glob\n",
    "from sklearn.decomposition import PCA\n",
    "from itertools import combinations\n",
    "\n",
    "os.listdir('../input/')\n",
    "key = 'card_id'\n",
    "target = 'target'\n",
    "ignore_list = [key, target, 'merchant_id', 'first_avtive_month']"
   ]
  },
  {
   "cell_type": "markdown",
   "metadata": {},
   "source": [
    "### Data Load"
   ]
  },
  {
   "cell_type": "code",
   "execution_count": null,
   "metadata": {},
   "outputs": [],
   "source": [
    "#  Data Load\n",
    "base = utils.read_df_pkl('../input/base_term*0*')\n",
    "win_path = f'../features/4_winner/*.gz'\n",
    "win_path_list = glob.glob(win_path)\n",
    "tmp_path_list = glob.glob('../features/5_tmp/*.gz')\n",
    "# tmp_path_list = []\n",
    "win_path_list += tmp_path_list\n",
    "\n",
    "path_list = win_path_list\n",
    "\n",
    "base_train = base[~base[target].isnull()].reset_index(drop=True)\n",
    "base_test = base[base[target].isnull()].reset_index(drop=True)\n",
    "feature_list = utils.parallel_load_data(path_list=path_list)\n",
    "df = pd.concat(feature_list, axis=1)"
   ]
  },
  {
   "cell_type": "code",
   "execution_count": 7,
   "metadata": {},
   "outputs": [
    {
     "data": {
      "text/plain": [
       "array(['556_lif_hist_regist_term_lift_206_pst_auth1_cat1_month_diff_mean@',\n",
       "       '556_lif_hist_regist_term_lift_206_pst_auth1_cat1_monthly_avg_month_diff_mean@',\n",
       "       '203_pst_new_lag2_diff_date_from_new_max_month_min@',\n",
       "       '152_ah1__auth1_hist_month_nunique@', '200_ker_hist_duration_min@',\n",
       "       '203_pst_auth0_yyyymmdd_nunique@',\n",
       "       '556_lif_hist_regist_term_lift_203_pst_ratio_new_auth1_purchase_amount_sum@',\n",
       "       '206_pst_auth1_cat1_monthly_avg_month_diff_mean@',\n",
       "       '556_lif_hist_regist_term_lift_203_pst_auth0_month_diff_mean@',\n",
       "       '206_pst_auth1_cat1_lag05_diff_date_from_hist_min_month_min@'],\n",
       "      dtype=object)"
      ]
     },
     "execution_count": 7,
     "metadata": {},
     "output_type": "execute_result"
    }
   ],
   "source": [
    "feim = pd.read_csv('../valid/0205_223_valid_lgb_lr0.01_219feats_10seed_68leaves_iter1237_OUT29.8735_CV3.6239445655263887_LB.csv')\n",
    "top10 = feim['feature'].values[:10]\n",
    "top10"
   ]
  },
  {
   "cell_type": "code",
   "execution_count": 20,
   "metadata": {},
   "outputs": [],
   "source": [
    "#========================================================================\n",
    "# Regular Featureに対するPCA \n",
    "prefix = '222'\n",
    "\n",
    "pca = PCA(n_components=0.81,whiten=True)\n",
    "\n",
    "combi_list = combinations(top10, 2)\n",
    "\n",
    "pca_list = []\n",
    "for combi in combi_list:\n",
    "    feature = pca.fit_transform(df[list(combi)].fillna(-1))\n",
    "    if feature.ravel().shape[0]>500000:\n",
    "        feat_1 = feature[:, 0]\n",
    "        feat_2 = feature[:, 1]\n",
    "        utils.to_pkl_gzip(obj=feat_1, path=f'../features/1_first_valid/{prefix}_PCA_D1_{str(combi)}')\n",
    "        utils.to_pkl_gzip(obj=feat_2, path=f'../features/1_first_valid/{prefix}_PCA_D2_{str(combi)}')\n",
    "    else:\n",
    "        feature = feature.ravel().astype('float32')\n",
    "        utils.to_pkl_gzip(obj=feature, path=f'../features/1_first_valid/{prefix}_PCA_{str(combi)}')\n",
    "#========================================================================"
   ]
  },
  {
   "cell_type": "code",
   "execution_count": 23,
   "metadata": {},
   "outputs": [],
   "source": [
    "#========================================================================\n",
    "# Regular Featureからは独立していそうなFeatureに対するPCA.\n",
    "# もしくは、強力だがぶつかってしまうfeatureについて軸を変えてみる\n",
    "prefix = '223'\n",
    "\n",
    "pca = PCA(n_components=0.81,whiten=True)\n",
    "\n",
    "path_list = glob.glob('../features/2_second_valid/558*.gz')\n",
    "feature_list = utils.parallel_load_data(path_list=path_list)\n",
    "df = pd.concat(feature_list, axis=1)\n",
    "combi_list = combinations(df.columns, 2)\n",
    "\n",
    "\n",
    "for combi in combi_list:\n",
    "    col0 = combi[0]\n",
    "    col1 = combi[1]\n",
    "    feat0 = df[col0]\n",
    "    feat1 = df[col1]\n",
    "    if col0.count('date') or col0.count('month_diff'):\n",
    "        if feat0.min()>=0:\n",
    "            feat0.fillna(-1, inplace=True)\n",
    "        else:\n",
    "            feat0.fillna(feat0.min()-10, inplace=True)\n",
    "    else:\n",
    "        feat0.fillna(-1, inplace=True)\n",
    "        \n",
    "    if col1.count('date') or col1.count('month_diff'):\n",
    "        if feat1.min()>=0:\n",
    "            feat1.fillna(-1, inplace=True)\n",
    "        else:\n",
    "            feat1.fillna(feat1.min()-10, inplace=True)\n",
    "    else:\n",
    "        feat1.fillna(-1, inplace=True)\n",
    "        \n",
    "pca_list = []\n",
    "impute_list = []\n",
    "for combi in combi_list:\n",
    "    try:\n",
    "        feature = pca.fit_transform(df[list(combi)])\n",
    "    except ValueError:\n",
    "        impute_list += list(combi)\n",
    "        continue\n",
    "    if feature.ravel().shape[0]>500000:\n",
    "        feat_1 = feature[:, 0]\n",
    "        feat_2 = feature[:, 1]\n",
    "        utils.to_pkl_gzip(obj=feat_1, path=f'../features/1_first_valid/{prefix}_PCA_D1_{str(combi)}')\n",
    "        utils.to_pkl_gzip(obj=feat_2, path=f'../features/1_first_valid/{prefix}_PCA_D2_{str(combi)}')\n",
    "    else:\n",
    "        feature = feature.ravel().astype('float32')\n",
    "        utils.to_pkl_gzip(obj=feature, path=f'../features/1_first_valid/{prefix}_PCA_{str(combi)}')\n",
    "#========================================================================"
   ]
  },
  {
   "cell_type": "code",
   "execution_count": 14,
   "metadata": {},
   "outputs": [],
   "source": [
    "path_list = glob.glob('../features/5_tmp/558*.gz')"
   ]
  },
  {
   "cell_type": "code",
   "execution_count": 24,
   "metadata": {},
   "outputs": [],
   "source": [
    "for path in impute_list:\n",
    "    print(path)\n",
    "#     if utils.read_pkl_gzip(path).shape[0]>330000:\n",
    "#         print(path)"
   ]
  }
 ],
 "metadata": {
  "hide_input": false,
  "kernelspec": {
   "display_name": "Python 3",
   "language": "python",
   "name": "python3"
  },
  "language_info": {
   "codemirror_mode": {
    "name": "ipython",
    "version": 3
   },
   "file_extension": ".py",
   "mimetype": "text/x-python",
   "name": "python",
   "nbconvert_exporter": "python",
   "pygments_lexer": "ipython3",
   "version": "3.6.3"
  }
 },
 "nbformat": 4,
 "nbformat_minor": 2
}
