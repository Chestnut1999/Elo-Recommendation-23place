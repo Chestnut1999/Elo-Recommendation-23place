{
 "cells": [
  {
   "cell_type": "code",
   "execution_count": 50,
   "metadata": {},
   "outputs": [
    {
     "name": "stdout",
     "output_type": "stream",
     "text": [
      "9.949297600865687\n"
     ]
    },
    {
     "ename": "SystemExit",
     "evalue": "",
     "output_type": "error",
     "traceback": [
      "An exception has occurred, use %tb to see the full traceback.\n",
      "\u001b[0;31mSystemExit\u001b[0m\n"
     ]
    },
    {
     "name": "stderr",
     "output_type": "stream",
     "text": [
      "/home/ubuntu/anaconda3/lib/python3.6/site-packages/IPython/core/interactiveshell.py:2870: UserWarning: To exit: use 'exit', 'quit', or Ctrl-D.\n",
      "  warn(\"To exit: use 'exit', 'quit', or Ctrl-D.\", stacklevel=1)\n"
     ]
    }
   ],
   "source": [
    "from sklearn.metrics import mean_squared_error\n",
    "import numpy as np\n",
    "import sys\n",
    "\n",
    "np.random.seed(1208)\n",
    "obs = np.random.randn(9)\n",
    "obs = np.append(obs, [-33.21])\n",
    "pred = np.zeros(10)\n",
    "\n",
    "exp = np.linspace(-40, 40, 20000)\n",
    "best = 10**9\n",
    "score_list = []\n",
    "for e in exp:\n",
    "    e = -3.4910177\n",
    "    score = np.sqrt(mean_squared_error(obs, pred+e))\n",
    "    print(score)\n",
    "    sys.exit()\n",
    "    if score < best:\n",
    "        best = score\n",
    "        if best<9.95:\n",
    "            print(e)\n",
    "            print(best)\n",
    "            sys.exit()\n",
    "    score_list.append(score)\n",
    "        \n",
    "print(best)"
   ]
  },
  {
   "cell_type": "code",
   "execution_count": 59,
   "metadata": {},
   "outputs": [
    {
     "data": {
      "text/plain": [
       "-0.1898589687772111"
      ]
     },
     "execution_count": 59,
     "metadata": {},
     "output_type": "execute_result"
    }
   ],
   "source": [
    "zero = np.zeros(192936-1103)\n",
    "out = np.zeros(1103) + -33.21\n",
    "all = np.append(zero, out)\n",
    "all.mean()"
   ]
  },
  {
   "cell_type": "code",
   "execution_count": 26,
   "metadata": {},
   "outputs": [
    {
     "data": {
      "text/html": [
       "<div>\n",
       "<style scoped>\n",
       "    .dataframe tbody tr th:only-of-type {\n",
       "        vertical-align: middle;\n",
       "    }\n",
       "\n",
       "    .dataframe tbody tr th {\n",
       "        vertical-align: top;\n",
       "    }\n",
       "\n",
       "    .dataframe thead th {\n",
       "        text-align: right;\n",
       "    }\n",
       "</style>\n",
       "<table border=\"1\" class=\"dataframe\">\n",
       "  <thead>\n",
       "    <tr style=\"text-align: right;\">\n",
       "      <th></th>\n",
       "      <th>index</th>\n",
       "      <th>y</th>\n",
       "    </tr>\n",
       "  </thead>\n",
       "  <tbody>\n",
       "    <tr>\n",
       "      <th>0</th>\n",
       "      <td>99</td>\n",
       "      <td>126</td>\n",
       "    </tr>\n",
       "    <tr>\n",
       "      <th>1</th>\n",
       "      <td>98</td>\n",
       "      <td>94</td>\n",
       "    </tr>\n",
       "    <tr>\n",
       "      <th>2</th>\n",
       "      <td>100</td>\n",
       "      <td>78</td>\n",
       "    </tr>\n",
       "    <tr>\n",
       "      <th>3</th>\n",
       "      <td>101</td>\n",
       "      <td>60</td>\n",
       "    </tr>\n",
       "    <tr>\n",
       "      <th>4</th>\n",
       "      <td>102</td>\n",
       "      <td>52</td>\n",
       "    </tr>\n",
       "  </tbody>\n",
       "</table>\n",
       "</div>"
      ],
      "text/plain": [
       "   index    y\n",
       "0     99  126\n",
       "1     98   94\n",
       "2    100   78\n",
       "3    101   60\n",
       "4    102   52"
      ]
     },
     "metadata": {},
     "output_type": "display_data"
    },
    {
     "data": {
      "image/png": "[encoded data removed]",
      "text/plain": [
       "<matplotlib.figure.Figure at 0x7fc0ac5c4630>"
      ]
     },
     "metadata": {},
     "output_type": "display_data"
    }
   ],
   "source": [
    "import pandas as pd\n",
    "import matplotlib.pyplot as plt\n",
    "import seaborn as sns\n",
    "score_list = np.array(score_list).astype('int')\n",
    "tmp = pd.Series(score_list).value_counts().to_frame().reset_index().rename(columns={0:'y'})\n",
    "display(tmp.head())\n",
    "sns.lmplot(data=tmp, x='y', y='index')\n",
    "plt.show()"
   ]
  },
  {
   "cell_type": "code",
   "execution_count": 27,
   "metadata": {},
   "outputs": [
    {
     "data": {
      "text/plain": [
       "1       98\n",
       "0       99\n",
       "2      100\n",
       "3      101\n",
       "4      102\n",
       "5      103\n",
       "6      104\n",
       "7      105\n",
       "8      106\n",
       "9      107\n",
       "10     108\n",
       "11     109\n",
       "12     110\n",
       "13     111\n",
       "14     112\n",
       "16     113\n",
       "15     114\n",
       "17     115\n",
       "18     116\n",
       "20     117\n",
       "19     118\n",
       "22     119\n",
       "23     120\n",
       "21     121\n",
       "25     122\n",
       "26     123\n",
       "24     124\n",
       "28     125\n",
       "29     126\n",
       "27     127\n",
       "      ... \n",
       "546    622\n",
       "432    623\n",
       "547    624\n",
       "379    625\n",
       "548    626\n",
       "433    627\n",
       "549    628\n",
       "434    629\n",
       "367    630\n",
       "435    631\n",
       "550    632\n",
       "436    633\n",
       "551    634\n",
       "437    635\n",
       "552    636\n",
       "385    637\n",
       "535    638\n",
       "438    639\n",
       "533    640\n",
       "439    641\n",
       "514    642\n",
       "388    643\n",
       "532    644\n",
       "440    645\n",
       "516    646\n",
       "441    647\n",
       "517    648\n",
       "518    649\n",
       "553    650\n",
       "329    651\n",
       "Name: index, Length: 554, dtype: int64"
      ]
     },
     "execution_count": 27,
     "metadata": {},
     "output_type": "execute_result"
    }
   ],
   "source": [
    "tmp['index'].sort_values()"
   ]
  }
 ],
 "metadata": {
  "kernelspec": {
   "display_name": "Python 3",
   "language": "python",
   "name": "python3"
  },
  "language_info": {
   "codemirror_mode": {
    "name": "ipython",
    "version": 3
   },
   "file_extension": ".py",
   "mimetype": "text/x-python",
   "name": "python",
   "nbconvert_exporter": "python",
   "pygments_lexer": "ipython3",
   "version": "3.6.3"
  }
 },
 "nbformat": 4,
 "nbformat_minor": 2
}
