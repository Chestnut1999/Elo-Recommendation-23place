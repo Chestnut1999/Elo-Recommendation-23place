{
 "cells": [
  {
   "cell_type": "markdown",
   "metadata": {},
   "source": [
    "## feature_3によってamountの絶対値あたりの価値は違うという仮説で、特徴をリフトにする"
   ]
  },
  {
   "cell_type": "code",
   "execution_count": 2,
   "metadata": {
    "ExecuteTime": {
     "end_time": "2018-10-28T07:40:08.183701Z",
     "start_time": "2018-10-28T07:40:07.309627Z"
    },
    "collapsed": true
   },
   "outputs": [],
   "source": [
    "%load_ext autoreload\n",
    "%autoreload 2\n",
    "import gc\n",
    "import re\n",
    "import pandas as pd\n",
    "from __future__ import print_function, division\n",
    "import numpy as np\n",
    "import matplotlib.pyplot as plt\n",
    "%matplotlib inline\n",
    "import seaborn as sns\n",
    "sns.set()\n",
    "pd.set_option('max_columns', 200)\n",
    "pd.set_option('max_rows', 200)\n",
    "import os\n",
    "import sys\n",
    "HOME = os.path.expanduser(\"~\")\n",
    "sys.path.append(f'{HOME}/kaggle/data_analysis/library')\n",
    "import utils\n",
    "from utils import get_categorical_features, get_numeric_features\n",
    "import datetime\n",
    "\n",
    "from tqdm import tqdm\n",
    "import numpy as np \n",
    "import matplotlib.pyplot as plt\n",
    "import seaborn as sns\n",
    "import lightgbm as lgb\n",
    "from sklearn.model_selection import KFold\n",
    "import warnings\n",
    "import time\n",
    "import sys\n",
    "import datetime\n",
    "from sklearn.metrics import mean_squared_error\n",
    "\n",
    "os.listdir('../input/')\n",
    "key = 'card_id'\n",
    "target = 'target'\n",
    "ignore_list = [key, target, 'merchant_id', 'first_avtive_month']"
   ]
  },
  {
   "cell_type": "markdown",
   "metadata": {},
   "source": [
    "### Data Load"
   ]
  },
  {
   "cell_type": "code",
   "execution_count": 22,
   "metadata": {},
   "outputs": [
    {
     "name": "stderr",
     "output_type": "stream",
     "text": [
      "100%|██████████| 3/3 [00:00<00:00, 103.05it/s]\n",
      "100%|██████████| 3/3 [00:00<00:00, 168.92it/s]\n"
     ]
    },
    {
     "ename": "SystemExit",
     "evalue": "",
     "output_type": "error",
     "traceback": [
      "An exception has occurred, use %tb to see the full traceback.\n",
      "\u001b[0;31mSystemExit\u001b[0m\n"
     ]
    }
   ],
   "source": [
    "# regist_termをもたせる\n",
    "df_train = utils.read_df_pkl('../input/train0*')\n",
    "df_test = utils.read_df_pkl('../input/test0*')\n",
    "train_test = pd.concat([df_train, df_test], axis=0)\n",
    "train_test.set_index(key, inplace=True)\n",
    "base = utils.read_df_pkl('../input/base_term*0*').set_index(key)[['hist_regist_term', 'new_regist_term']]\n",
    "\n",
    "df_hist = utils.read_df_pkl('../input/hist_clean*')\n",
    "df_new = utils.read_df_pkl('../input/new_clean*')\n",
    "\n",
    "df_train = utils.reduce_mem_usage(df_train)\n",
    "df_test  = utils.reduce_mem_usage(df_test )\n",
    "df_hist  = utils.reduce_mem_usage(df_hist )\n",
    "df_new   = utils.reduce_mem_usage(df_new  )"
   ]
  },
  {
   "cell_type": "code",
   "execution_count": 5,
   "metadata": {},
   "outputs": [],
   "source": [
    "from time_utils import date_add_days\n",
    "\n",
    "hist_max_date = df_hist.groupby(key)['purchase_date'].max()\n",
    "hist_min_date = df_hist.groupby(key)['purchase_date'].min()\n",
    "hist_max_date.name = 'hist_purchase_date_max'\n",
    "hist_min_date.name = 'hist_purchase_date_min'\n",
    "hist_max_date = hist_max_date.to_frame()\n",
    "hist_min_date = hist_min_date.to_frame()\n",
    "\n",
    "# month_maxは翌月の数字にする\n",
    "hist_max_date['hist_purchase_month_max'] = hist_max_date['hist_purchase_date_max'].map(lambda x: date_add_days(x, 32) if int(str(x)[8:10])<=15 else date_add_days(x, 20))\n",
    "hist_max_date['hist_purchase_month_max'] = hist_max_date['hist_purchase_month_max'].map(lambda x: str(x)[:7])\n",
    "\n",
    "hist_min_date['hist_purchase_month_min'] = hist_min_date['hist_purchase_date_min'].map(lambda x: str(x)[:7])\n",
    "\n",
    "\n",
    "new_max_date = df_new.groupby(key)['purchase_date'].max()\n",
    "new_min_date = df_new.groupby(key)['purchase_date'].min()\n",
    "new_max_date.name = 'new_purchase_date_max'\n",
    "new_min_date.name = 'new_purchase_date_min'\n",
    "new_max_date = new_max_date.to_frame()\n",
    "new_min_date = new_min_date.to_frame()\n",
    "\n",
    "# month_maxは翌月の数字にする\n",
    "new_max_date['new_purchase_month_max'] = new_max_date['new_purchase_date_max'].map(lambda x: date_add_days(x, 32) if int(str(x)[8:10])<=15 else date_add_days(x, 20))\n",
    "new_max_date['new_purchase_month_max'] = new_max_date['new_purchase_month_max'].map(lambda x: str(x)[:7])\n",
    "new_min_date['new_purchase_month_min'] = new_min_date['new_purchase_date_min'].map(lambda x: str(x)[:7])\n",
    "\n",
    "df_hist.set_index(key, inplace=True)\n",
    "df_new.set_index(key, inplace=True)\n",
    "df_hist = df_hist.join(hist_max_date).join(hist_min_date).join(new_max_date).join(new_min_date)\n",
    "df_new = df_new.join(hist_max_date).join(hist_min_date).join(new_max_date).join(new_min_date)"
   ]
  },
  {
   "cell_type": "code",
   "execution_count": 12,
   "metadata": {},
   "outputs": [
    {
     "name": "stderr",
     "output_type": "stream",
     "text": [
      "0it [00:00, ?it/s]"
     ]
    },
    {
     "name": "stdout",
     "output_type": "stream",
     "text": [
      "shape: (325540, 17)\n"
     ]
    },
    {
     "name": "stderr",
     "output_type": "stream",
     "text": [
      "3it [00:00,  4.40it/s]\n"
     ]
    }
   ],
   "source": [
    "# Save new base\n",
    "# base = utils.read_df_pkl('../input/base_term*0*').set_index(key)\n",
    "# base = base.join(hist_max_date).join(hist_min_date).join(new_max_date).join(new_min_date)\n",
    "# utils.to_df_pkl(df=base.reset_index(), path='../input', fname='base_term')"
   ]
  },
  {
   "cell_type": "code",
   "execution_count": 25,
   "metadata": {},
   "outputs": [
    {
     "name": "stdout",
     "output_type": "stream",
     "text": [
      "(2516909, 31)\n"
     ]
    }
   ],
   "source": [
    "# df_hist = df_hist.join(train_test[['feature_1', 'feature_2']])\n",
    "# df_new = df_new.join(train_test[['feature_1', 'feature_2']])\n",
    "df_hist = df_hist.drop(['feature_1', 'feature_2'], axis=1).join(train_test[['feature_1', 'feature_2', 'feature_3']])\n",
    "df_new = df_new.drop(['feature_1', 'feature_2'], axis=1).join(train_test[['feature_1', 'feature_2', 'feature_3']])\n",
    "\n",
    "df = df_hist\n",
    "auth1 = df[df.authorized_flag==1]\n",
    "auth0 = df[df.authorized_flag==0]\n",
    "print(auth0.shape)\n",
    "\n",
    "cat1_0 = False\n",
    "cat1_0 = True\n",
    "if cat1_0:\n",
    "    auth1_cat1 = auth1[auth1.category_1==1]\n",
    "    auth1_cat0 = auth1[auth1.category_1==0]\n",
    "    new_cat1 = df_new[df_new.category_1==1]\n",
    "    new_cat0 = df_new[df_new.category_1==0]"
   ]
  },
  {
   "cell_type": "markdown",
   "metadata": {},
   "source": [
    "### NEW 1"
   ]
  },
  {
   "cell_type": "code",
   "execution_count": 26,
   "metadata": {},
   "outputs": [
    {
     "name": "stderr",
     "output_type": "stream",
     "text": [
      "100%|██████████| 3/3 [00:00<00:00, 15.44it/s]\n"
     ]
    },
    {
     "name": "stdout",
     "output_type": "stream",
     "text": [
      "Aggregation Start!\n",
      "(63096, 35)\n"
     ]
    },
    {
     "name": "stderr",
     "output_type": "stream",
     "text": [
      " 67%|██████▋   | 2/3 [00:00<00:00, 15.94it/s]"
     ]
    },
    {
     "name": "stdout",
     "output_type": "stream",
     "text": [
      "(45471, 11)\n",
      "(45471, 2)\n"
     ]
    },
    {
     "name": "stderr",
     "output_type": "stream",
     "text": [
      "100%|██████████| 3/3 [00:00<00:00, 15.56it/s]\n"
     ]
    },
    {
     "name": "stdout",
     "output_type": "stream",
     "text": [
      "(325540, 3)\n",
      "(325540, 3)\n",
      "(325540, 3)\n"
     ]
    },
    {
     "name": "stderr",
     "output_type": "stream",
     "text": [
      " 33%|███▎      | 1/3 [00:00<00:00,  7.08it/s]"
     ]
    },
    {
     "name": "stdout",
     "output_type": "stream",
     "text": [
      "(45471, 2)\n"
     ]
    },
    {
     "name": "stderr",
     "output_type": "stream",
     "text": [
      "100%|██████████| 3/3 [00:00<00:00,  8.98it/s]\n"
     ]
    },
    {
     "name": "stdout",
     "output_type": "stream",
     "text": [
      "(325540, 3)\n",
      "(325540, 3)\n",
      "(325540, 3)\n"
     ]
    },
    {
     "name": "stderr",
     "output_type": "stream",
     "text": [
      " 33%|███▎      | 1/3 [00:00<00:00,  7.37it/s]"
     ]
    },
    {
     "name": "stdout",
     "output_type": "stream",
     "text": [
      "(45471, 2)\n"
     ]
    },
    {
     "name": "stderr",
     "output_type": "stream",
     "text": [
      "100%|██████████| 3/3 [00:00<00:00,  7.95it/s]\n"
     ]
    },
    {
     "name": "stdout",
     "output_type": "stream",
     "text": [
      "(325540, 3)\n",
      "(325540, 3)\n",
      "(325540, 3)\n"
     ]
    },
    {
     "name": "stderr",
     "output_type": "stream",
     "text": [
      " 33%|███▎      | 1/3 [00:00<00:00,  7.35it/s]"
     ]
    },
    {
     "name": "stdout",
     "output_type": "stream",
     "text": [
      "(45471, 2)\n"
     ]
    },
    {
     "name": "stderr",
     "output_type": "stream",
     "text": [
      "100%|██████████| 3/3 [00:00<00:00,  8.51it/s]\n"
     ]
    },
    {
     "name": "stdout",
     "output_type": "stream",
     "text": [
      "(325540, 3)\n",
      "(325540, 3)\n",
      "(325540, 3)\n"
     ]
    },
    {
     "name": "stderr",
     "output_type": "stream",
     "text": [
      " 33%|███▎      | 1/3 [00:00<00:00,  7.55it/s]"
     ]
    },
    {
     "name": "stdout",
     "output_type": "stream",
     "text": [
      "(45471, 2)\n"
     ]
    },
    {
     "name": "stderr",
     "output_type": "stream",
     "text": [
      "100%|██████████| 3/3 [00:00<00:00,  7.33it/s]\n"
     ]
    },
    {
     "name": "stdout",
     "output_type": "stream",
     "text": [
      "(325540, 3)\n",
      "(325540, 3)\n",
      "(325540, 3)\n"
     ]
    },
    {
     "name": "stderr",
     "output_type": "stream",
     "text": [
      " 33%|███▎      | 1/3 [00:00<00:00,  7.70it/s]"
     ]
    },
    {
     "name": "stdout",
     "output_type": "stream",
     "text": [
      "(45471, 2)\n"
     ]
    },
    {
     "name": "stderr",
     "output_type": "stream",
     "text": [
      "100%|██████████| 3/3 [00:00<00:00,  9.56it/s]\n"
     ]
    },
    {
     "name": "stdout",
     "output_type": "stream",
     "text": [
      "(325540, 3)\n",
      "(325540, 3)\n",
      "(325540, 3)\n"
     ]
    },
    {
     "name": "stderr",
     "output_type": "stream",
     "text": [
      " 33%|███▎      | 1/3 [00:00<00:00,  9.19it/s]"
     ]
    },
    {
     "name": "stdout",
     "output_type": "stream",
     "text": [
      "(45471, 2)\n"
     ]
    },
    {
     "name": "stderr",
     "output_type": "stream",
     "text": [
      "100%|██████████| 3/3 [00:00<00:00, 10.04it/s]\n"
     ]
    },
    {
     "name": "stdout",
     "output_type": "stream",
     "text": [
      "(325540, 3)\n",
      "(325540, 3)\n",
      "(325540, 3)\n"
     ]
    },
    {
     "name": "stderr",
     "output_type": "stream",
     "text": [
      " 33%|███▎      | 1/3 [00:00<00:00,  9.47it/s]"
     ]
    },
    {
     "name": "stdout",
     "output_type": "stream",
     "text": [
      "(45471, 2)\n"
     ]
    },
    {
     "name": "stderr",
     "output_type": "stream",
     "text": [
      "100%|██████████| 3/3 [00:00<00:00, 10.21it/s]\n"
     ]
    },
    {
     "name": "stdout",
     "output_type": "stream",
     "text": [
      "(325540, 3)\n",
      "(325540, 3)\n",
      "(325540, 3)\n"
     ]
    },
    {
     "name": "stderr",
     "output_type": "stream",
     "text": [
      " 67%|██████▋   | 2/3 [00:00<00:00, 12.97it/s]"
     ]
    },
    {
     "name": "stdout",
     "output_type": "stream",
     "text": [
      "(45471, 2)\n"
     ]
    },
    {
     "name": "stderr",
     "output_type": "stream",
     "text": [
      "100%|██████████| 3/3 [00:00<00:00, 12.57it/s]\n"
     ]
    },
    {
     "name": "stdout",
     "output_type": "stream",
     "text": [
      "(325540, 3)\n",
      "(325540, 3)\n",
      "(325540, 3)\n"
     ]
    },
    {
     "name": "stderr",
     "output_type": "stream",
     "text": [
      " 67%|██████▋   | 2/3 [00:00<00:00, 14.57it/s]"
     ]
    },
    {
     "name": "stdout",
     "output_type": "stream",
     "text": [
      "(45471, 2)\n"
     ]
    },
    {
     "name": "stderr",
     "output_type": "stream",
     "text": [
      "100%|██████████| 3/3 [00:00<00:00, 14.26it/s]\n"
     ]
    },
    {
     "name": "stdout",
     "output_type": "stream",
     "text": [
      "(325540, 3)\n",
      "(325540, 3)\n",
      "(325540, 3)\n"
     ]
    },
    {
     "name": "stderr",
     "output_type": "stream",
     "text": [
      " 67%|██████▋   | 2/3 [00:00<00:00, 13.53it/s]"
     ]
    },
    {
     "name": "stdout",
     "output_type": "stream",
     "text": [
      "(45471, 2)\n"
     ]
    },
    {
     "name": "stderr",
     "output_type": "stream",
     "text": [
      "100%|██████████| 3/3 [00:00<00:00, 13.09it/s]\n"
     ]
    },
    {
     "name": "stdout",
     "output_type": "stream",
     "text": [
      "(325540, 3)\n",
      "(325540, 3)\n",
      "(325540, 3)\n",
      "Aggregation Start!\n",
      "(1899935, 35)\n"
     ]
    },
    {
     "name": "stderr",
     "output_type": "stream",
     "text": [
      "  0%|          | 0/3 [00:00<?, ?it/s]"
     ]
    },
    {
     "name": "stdout",
     "output_type": "stream",
     "text": [
      "(284290, 11)\n",
      "(284290, 2)\n"
     ]
    },
    {
     "name": "stderr",
     "output_type": "stream",
     "text": [
      "100%|██████████| 3/3 [00:00<00:00, 16.01it/s]\n"
     ]
    },
    {
     "name": "stdout",
     "output_type": "stream",
     "text": [
      "(325540, 3)\n",
      "(325540, 3)\n",
      "(325540, 3)\n"
     ]
    },
    {
     "name": "stderr",
     "output_type": "stream",
     "text": [
      " 67%|██████▋   | 2/3 [00:00<00:00, 13.94it/s]"
     ]
    },
    {
     "name": "stdout",
     "output_type": "stream",
     "text": [
      "(284290, 2)\n"
     ]
    },
    {
     "name": "stderr",
     "output_type": "stream",
     "text": [
      "100%|██████████| 3/3 [00:00<00:00, 13.41it/s]\n"
     ]
    },
    {
     "name": "stdout",
     "output_type": "stream",
     "text": [
      "(325540, 3)\n",
      "(325540, 3)\n",
      "(325540, 3)\n"
     ]
    },
    {
     "name": "stderr",
     "output_type": "stream",
     "text": [
      " 67%|██████▋   | 2/3 [00:00<00:00, 16.74it/s]"
     ]
    },
    {
     "name": "stdout",
     "output_type": "stream",
     "text": [
      "(284290, 2)\n"
     ]
    },
    {
     "name": "stderr",
     "output_type": "stream",
     "text": [
      "100%|██████████| 3/3 [00:00<00:00, 14.90it/s]\n"
     ]
    },
    {
     "name": "stdout",
     "output_type": "stream",
     "text": [
      "(325540, 3)\n",
      "(325540, 3)\n",
      "(325540, 3)\n"
     ]
    },
    {
     "name": "stderr",
     "output_type": "stream",
     "text": [
      "100%|██████████| 3/3 [00:00<00:00, 17.13it/s]"
     ]
    },
    {
     "name": "stdout",
     "output_type": "stream",
     "text": [
      "(284290, 2)\n"
     ]
    },
    {
     "name": "stderr",
     "output_type": "stream",
     "text": [
      "\n"
     ]
    },
    {
     "name": "stdout",
     "output_type": "stream",
     "text": [
      "(325540, 3)\n",
      "(325540, 3)\n",
      "(325540, 3)\n"
     ]
    },
    {
     "name": "stderr",
     "output_type": "stream",
     "text": [
      " 33%|███▎      | 1/3 [00:00<00:00,  9.35it/s]"
     ]
    },
    {
     "name": "stdout",
     "output_type": "stream",
     "text": [
      "(284290, 2)\n"
     ]
    },
    {
     "name": "stderr",
     "output_type": "stream",
     "text": [
      "100%|██████████| 3/3 [00:00<00:00, 10.18it/s]\n"
     ]
    },
    {
     "name": "stdout",
     "output_type": "stream",
     "text": [
      "(325540, 3)\n",
      "(325540, 3)\n",
      "(325540, 3)\n"
     ]
    },
    {
     "name": "stderr",
     "output_type": "stream",
     "text": [
      " 33%|███▎      | 1/3 [00:00<00:00,  8.13it/s]"
     ]
    },
    {
     "name": "stdout",
     "output_type": "stream",
     "text": [
      "(284290, 2)\n"
     ]
    },
    {
     "name": "stderr",
     "output_type": "stream",
     "text": [
      "100%|██████████| 3/3 [00:00<00:00,  7.92it/s]\n"
     ]
    },
    {
     "name": "stdout",
     "output_type": "stream",
     "text": [
      "(325540, 3)\n",
      "(325540, 3)\n",
      "(325540, 3)\n"
     ]
    },
    {
     "name": "stderr",
     "output_type": "stream",
     "text": [
      " 67%|██████▋   | 2/3 [00:00<00:00, 13.89it/s]"
     ]
    },
    {
     "name": "stdout",
     "output_type": "stream",
     "text": [
      "(284290, 2)\n"
     ]
    },
    {
     "name": "stderr",
     "output_type": "stream",
     "text": [
      "100%|██████████| 3/3 [00:00<00:00, 13.65it/s]\n"
     ]
    },
    {
     "name": "stdout",
     "output_type": "stream",
     "text": [
      "(325540, 3)\n",
      "(325540, 3)\n",
      "(325540, 3)\n"
     ]
    },
    {
     "name": "stderr",
     "output_type": "stream",
     "text": [
      " 67%|██████▋   | 2/3 [00:00<00:00, 11.48it/s]"
     ]
    },
    {
     "name": "stdout",
     "output_type": "stream",
     "text": [
      "(284290, 2)\n"
     ]
    },
    {
     "name": "stderr",
     "output_type": "stream",
     "text": [
      "100%|██████████| 3/3 [00:00<00:00, 10.55it/s]\n"
     ]
    },
    {
     "name": "stdout",
     "output_type": "stream",
     "text": [
      "(325540, 3)\n",
      "(325540, 3)\n",
      "(325540, 3)\n"
     ]
    },
    {
     "name": "stderr",
     "output_type": "stream",
     "text": [
      " 67%|██████▋   | 2/3 [00:00<00:00, 13.76it/s]"
     ]
    },
    {
     "name": "stdout",
     "output_type": "stream",
     "text": [
      "(284290, 2)\n"
     ]
    },
    {
     "name": "stderr",
     "output_type": "stream",
     "text": [
      "100%|██████████| 3/3 [00:00<00:00, 13.37it/s]\n"
     ]
    },
    {
     "name": "stdout",
     "output_type": "stream",
     "text": [
      "(325540, 3)\n",
      "(325540, 3)\n",
      "(325540, 3)\n"
     ]
    },
    {
     "name": "stderr",
     "output_type": "stream",
     "text": [
      "  0%|          | 0/3 [00:00<?, ?it/s]"
     ]
    },
    {
     "name": "stdout",
     "output_type": "stream",
     "text": [
      "(284290, 2)\n"
     ]
    },
    {
     "name": "stderr",
     "output_type": "stream",
     "text": [
      "100%|██████████| 3/3 [00:00<00:00,  8.55it/s]\n"
     ]
    },
    {
     "name": "stdout",
     "output_type": "stream",
     "text": [
      "(325540, 3)\n",
      "(325540, 3)\n",
      "(325540, 3)\n"
     ]
    },
    {
     "name": "stderr",
     "output_type": "stream",
     "text": [
      " 67%|██████▋   | 2/3 [00:00<00:00, 14.20it/s]"
     ]
    },
    {
     "name": "stdout",
     "output_type": "stream",
     "text": [
      "(284290, 2)\n"
     ]
    },
    {
     "name": "stderr",
     "output_type": "stream",
     "text": [
      "100%|██████████| 3/3 [00:00<00:00, 13.88it/s]\n"
     ]
    },
    {
     "name": "stdout",
     "output_type": "stream",
     "text": [
      "(325540, 3)\n",
      "(325540, 3)\n",
      "(325540, 3)\n"
     ]
    }
   ],
   "source": [
    "prefix = '220_lif'\n",
    "new_df_list = [new_cat1, new_cat0]\n",
    "new_fname_list = ['new_cat1', 'new_cat0']\n",
    "train_test = utils.read_df_pkl('../input/base_term*0*').set_index(key)\n",
    "lift_level = 'feature_3'\n",
    "ignore_list = list(train_test.columns) + [key, lift_level]\n",
    "\n",
    "def get_new_columns(name,aggs):\n",
    "    return [name + '_' + k + '_' + agg for k in aggs.keys() for agg in aggs[k]]\n",
    "\n",
    "for df, fname in zip(new_df_list, new_fname_list):\n",
    "    \n",
    "    # new\n",
    "    df['date_diff'] = (df['hist_purchase_date_max'] - df['purchase_date']).dt.days\n",
    "    df['month_diff'] = ((datetime.datetime.today() - df['purchase_date']).dt.days)//30\n",
    "    df['month_diff'] += df['month_lag']\n",
    "    df[f'amount_per_installments'] = df[f'purchase_amount'] / (df[f'installments'] + 1.0)\n",
    "    \n",
    "    aggs = {}\n",
    "    col_unique =['merchant_id', 'merchant_category_id', 'yyyymmdd', 'yyyy_week']\n",
    "    \n",
    "    for col in col_unique:\n",
    "        aggs[col] = ['nunique']\n",
    "\n",
    "    aggs['purchase_amount'] = ['sum']\n",
    "    aggs['installments'] = ['mean']\n",
    "    aggs['amount_per_installments'] = ['sum']\n",
    "    aggs['month_lag'] = ['mean']\n",
    "    aggs['month_diff'] = ['mean']\n",
    "    aggs['card_id'] = ['size']\n",
    "    aggs['date_diff'] = ['mean']\n",
    "    \n",
    "    if key not in df.columns:\n",
    "        df.reset_index(inplace=True)\n",
    "        df.rename(columns={'index':key}, inplace=True)\n",
    "    \n",
    "    new_columns = get_new_columns(fname, aggs)\n",
    "    \n",
    "    print('Aggregation Start!')\n",
    "    print(df.shape)\n",
    "    df_agg = df.groupby([key, lift_level]).agg(aggs)\n",
    "    df_agg.columns = new_columns\n",
    "    df_agg.reset_index(inplace=True)\n",
    "    \n",
    "    lift_list = sorted(list(set(df_agg[lift_level].values)))\n",
    "    feat_cols = [col for col in df_agg.columns if col not in ignore_list]\n",
    "    \n",
    "    df_list = []\n",
    "    for level in lift_list:\n",
    "        \n",
    "        tmp_list = []\n",
    "        for col in feat_cols:\n",
    "            tmp = df_agg[df_agg[lift_level]==level].reset_index()\n",
    "            tmp = tmp[[key, col]]\n",
    "            base_avg = tmp[col].mean()\n",
    "            tmp.set_index(key, inplace=True)\n",
    "            tmp[col] /= base_avg\n",
    "            tmp.rename(columns={col:f'lift_{col}'}, inplace=True)\n",
    "            tmp_list.append(tmp)\n",
    "        df_level = pd.concat(tmp_list, axis=1)\n",
    "        df_level[lift_level] = level\n",
    "        df_list.append(df_level)\n",
    "        \n",
    "    df_lift = pd.concat(df_list, axis=0)\n",
    "    df_lift = df_lift.reset_index().set_index([key, lift_level])\n",
    "    print(df_lift.shape)\n",
    "    for tmp_col in df_lift.columns:\n",
    "        df_lift[tmp_col] = df_lift[tmp_col].astype('float32')\n",
    "        df_yoko = df_lift[tmp_col].unstack().fillna(0)\n",
    "        df_yoko.columns = [f\"{lift_level}_{c}_{tmp_col}\" for c in df_yoko.columns]\n",
    "        print(df_yoko.shape)\n",
    "        \n",
    "        #========================================================================\n",
    "        # Save Feature\n",
    "        base = utils.read_df_pkl('../input/base_term*0*').set_index(key)['target'].to_frame()\n",
    "        if target in df_yoko.columns:\n",
    "            df_yoko.drop(target, axis=1, inplace=True)\n",
    "        df_yoko = base.join(df_yoko)\n",
    "        for col in df_yoko.columns:\n",
    "            print(df_yoko.shape)\n",
    "            if col in ignore_list: continue\n",
    "#             if col.count('feature_'):continue\n",
    "            if not(col.count('new_cat')):continue\n",
    "            feature = df_yoko[col].fillna(0).astype('float32').values\n",
    "            col = col.replace('.', '_')\n",
    "            utils.to_pkl_gzip(path = f'../features/1_first_valid/{prefix}_{col}@', obj=feature)\n",
    "            #     utils.to_pkl_gzip(path = f'../features/3_third_valid/{prefix}_{col}@', obj=feature)\n",
    "            #========================================================================"
   ]
  },
  {
   "cell_type": "markdown",
   "metadata": {},
   "source": [
    "### NEW 2"
   ]
  },
  {
   "cell_type": "code",
   "execution_count": 27,
   "metadata": {},
   "outputs": [
    {
     "name": "stderr",
     "output_type": "stream",
     "text": [
      "100%|██████████| 3/3 [00:00<00:00, 15.93it/s]\n"
     ]
    },
    {
     "name": "stdout",
     "output_type": "stream",
     "text": [
      "Aggregation Start!\n",
      "(63096, 35)\n"
     ]
    },
    {
     "name": "stderr",
     "output_type": "stream",
     "text": [
      " 67%|██████▋   | 2/3 [00:00<00:00, 16.59it/s]"
     ]
    },
    {
     "name": "stdout",
     "output_type": "stream",
     "text": [
      "(45471, 11)\n",
      "(45471, 2)\n"
     ]
    },
    {
     "name": "stderr",
     "output_type": "stream",
     "text": [
      "100%|██████████| 3/3 [00:00<00:00, 16.03it/s]\n"
     ]
    },
    {
     "name": "stdout",
     "output_type": "stream",
     "text": [
      "(325540, 3)\n",
      "(325540, 3)\n",
      "(325540, 3)\n"
     ]
    },
    {
     "name": "stderr",
     "output_type": "stream",
     "text": [
      " 33%|███▎      | 1/3 [00:00<00:00,  7.71it/s]"
     ]
    },
    {
     "name": "stdout",
     "output_type": "stream",
     "text": [
      "(45471, 2)\n"
     ]
    },
    {
     "name": "stderr",
     "output_type": "stream",
     "text": [
      "100%|██████████| 3/3 [00:00<00:00,  8.38it/s]\n"
     ]
    },
    {
     "name": "stdout",
     "output_type": "stream",
     "text": [
      "(325540, 3)\n",
      "(325540, 3)\n",
      "(325540, 3)\n"
     ]
    },
    {
     "name": "stderr",
     "output_type": "stream",
     "text": [
      " 67%|██████▋   | 2/3 [00:00<00:00, 13.17it/s]"
     ]
    },
    {
     "name": "stdout",
     "output_type": "stream",
     "text": [
      "(45471, 2)\n"
     ]
    },
    {
     "name": "stderr",
     "output_type": "stream",
     "text": [
      "100%|██████████| 3/3 [00:00<00:00, 13.05it/s]\n"
     ]
    },
    {
     "name": "stdout",
     "output_type": "stream",
     "text": [
      "(325540, 3)\n",
      "(325540, 3)\n",
      "(325540, 3)\n"
     ]
    },
    {
     "name": "stderr",
     "output_type": "stream",
     "text": [
      " 67%|██████▋   | 2/3 [00:00<00:00, 13.11it/s]"
     ]
    },
    {
     "name": "stdout",
     "output_type": "stream",
     "text": [
      "(45471, 2)\n"
     ]
    },
    {
     "name": "stderr",
     "output_type": "stream",
     "text": [
      "100%|██████████| 3/3 [00:00<00:00, 12.81it/s]\n"
     ]
    },
    {
     "name": "stdout",
     "output_type": "stream",
     "text": [
      "(325540, 3)\n",
      "(325540, 3)\n",
      "(325540, 3)\n"
     ]
    },
    {
     "name": "stderr",
     "output_type": "stream",
     "text": [
      " 33%|███▎      | 1/3 [00:00<00:00,  9.68it/s]"
     ]
    },
    {
     "name": "stdout",
     "output_type": "stream",
     "text": [
      "(45471, 2)\n"
     ]
    },
    {
     "name": "stderr",
     "output_type": "stream",
     "text": [
      "100%|██████████| 3/3 [00:00<00:00, 10.50it/s]\n"
     ]
    },
    {
     "name": "stdout",
     "output_type": "stream",
     "text": [
      "(325540, 3)\n",
      "(325540, 3)\n",
      "(325540, 3)\n"
     ]
    },
    {
     "name": "stderr",
     "output_type": "stream",
     "text": [
      " 67%|██████▋   | 2/3 [00:00<00:00, 14.72it/s]"
     ]
    },
    {
     "name": "stdout",
     "output_type": "stream",
     "text": [
      "(45471, 2)\n"
     ]
    },
    {
     "name": "stderr",
     "output_type": "stream",
     "text": [
      "100%|██████████| 3/3 [00:00<00:00, 14.41it/s]\n"
     ]
    },
    {
     "name": "stdout",
     "output_type": "stream",
     "text": [
      "(325540, 3)\n",
      "(325540, 3)\n",
      "(325540, 3)\n"
     ]
    },
    {
     "name": "stderr",
     "output_type": "stream",
     "text": [
      " 33%|███▎      | 1/3 [00:00<00:00,  6.99it/s]"
     ]
    },
    {
     "name": "stdout",
     "output_type": "stream",
     "text": [
      "(45471, 2)\n"
     ]
    },
    {
     "name": "stderr",
     "output_type": "stream",
     "text": [
      "100%|██████████| 3/3 [00:00<00:00,  9.09it/s]\n"
     ]
    },
    {
     "name": "stdout",
     "output_type": "stream",
     "text": [
      "(325540, 3)\n",
      "(325540, 3)\n",
      "(325540, 3)\n"
     ]
    },
    {
     "name": "stderr",
     "output_type": "stream",
     "text": [
      " 33%|███▎      | 1/3 [00:00<00:00,  8.03it/s]"
     ]
    },
    {
     "name": "stdout",
     "output_type": "stream",
     "text": [
      "(45471, 2)\n"
     ]
    },
    {
     "name": "stderr",
     "output_type": "stream",
     "text": [
      "100%|██████████| 3/3 [00:00<00:00,  7.36it/s]\n"
     ]
    },
    {
     "name": "stdout",
     "output_type": "stream",
     "text": [
      "(325540, 3)\n",
      "(325540, 3)\n",
      "(325540, 3)\n"
     ]
    },
    {
     "name": "stderr",
     "output_type": "stream",
     "text": [
      " 67%|██████▋   | 2/3 [00:00<00:00, 13.52it/s]"
     ]
    },
    {
     "name": "stdout",
     "output_type": "stream",
     "text": [
      "(45471, 2)\n"
     ]
    },
    {
     "name": "stderr",
     "output_type": "stream",
     "text": [
      "100%|██████████| 3/3 [00:00<00:00, 13.13it/s]\n"
     ]
    },
    {
     "name": "stdout",
     "output_type": "stream",
     "text": [
      "(325540, 3)\n",
      "(325540, 3)\n",
      "(325540, 3)\n"
     ]
    },
    {
     "name": "stderr",
     "output_type": "stream",
     "text": [
      " 67%|██████▋   | 2/3 [00:00<00:00, 14.55it/s]"
     ]
    },
    {
     "name": "stdout",
     "output_type": "stream",
     "text": [
      "(45471, 2)\n"
     ]
    },
    {
     "name": "stderr",
     "output_type": "stream",
     "text": [
      "100%|██████████| 3/3 [00:00<00:00, 14.29it/s]\n"
     ]
    },
    {
     "name": "stdout",
     "output_type": "stream",
     "text": [
      "(325540, 3)\n",
      "(325540, 3)\n",
      "(325540, 3)\n"
     ]
    },
    {
     "name": "stderr",
     "output_type": "stream",
     "text": [
      "100%|██████████| 3/3 [00:00<00:00, 16.66it/s]"
     ]
    },
    {
     "name": "stdout",
     "output_type": "stream",
     "text": [
      "(45471, 2)\n"
     ]
    },
    {
     "name": "stderr",
     "output_type": "stream",
     "text": [
      "\n"
     ]
    },
    {
     "name": "stdout",
     "output_type": "stream",
     "text": [
      "(325540, 3)\n",
      "(325540, 3)\n",
      "(325540, 3)\n",
      "Aggregation Start!\n",
      "(1899935, 35)\n"
     ]
    },
    {
     "name": "stderr",
     "output_type": "stream",
     "text": [
      "  0%|          | 0/3 [00:00<?, ?it/s]"
     ]
    },
    {
     "name": "stdout",
     "output_type": "stream",
     "text": [
      "(284290, 11)\n",
      "(284290, 2)\n"
     ]
    },
    {
     "name": "stderr",
     "output_type": "stream",
     "text": [
      "100%|██████████| 3/3 [00:00<00:00, 16.59it/s]\n"
     ]
    },
    {
     "name": "stdout",
     "output_type": "stream",
     "text": [
      "(325540, 3)\n",
      "(325540, 3)\n",
      "(325540, 3)\n"
     ]
    },
    {
     "name": "stderr",
     "output_type": "stream",
     "text": [
      " 67%|██████▋   | 2/3 [00:00<00:00, 13.60it/s]"
     ]
    },
    {
     "name": "stdout",
     "output_type": "stream",
     "text": [
      "(284290, 2)\n"
     ]
    },
    {
     "name": "stderr",
     "output_type": "stream",
     "text": [
      "100%|██████████| 3/3 [00:00<00:00, 13.04it/s]\n"
     ]
    },
    {
     "name": "stdout",
     "output_type": "stream",
     "text": [
      "(325540, 3)\n",
      "(325540, 3)\n",
      "(325540, 3)\n"
     ]
    },
    {
     "name": "stderr",
     "output_type": "stream",
     "text": [
      " 67%|██████▋   | 2/3 [00:00<00:00, 13.40it/s]"
     ]
    },
    {
     "name": "stdout",
     "output_type": "stream",
     "text": [
      "(284290, 2)\n"
     ]
    },
    {
     "name": "stderr",
     "output_type": "stream",
     "text": [
      "100%|██████████| 3/3 [00:00<00:00, 12.99it/s]\n"
     ]
    },
    {
     "name": "stdout",
     "output_type": "stream",
     "text": [
      "(325540, 3)\n",
      "(325540, 3)\n",
      "(325540, 3)\n"
     ]
    },
    {
     "name": "stderr",
     "output_type": "stream",
     "text": [
      " 67%|██████▋   | 2/3 [00:00<00:00, 13.50it/s]"
     ]
    },
    {
     "name": "stdout",
     "output_type": "stream",
     "text": [
      "(284290, 2)\n"
     ]
    },
    {
     "name": "stderr",
     "output_type": "stream",
     "text": [
      "100%|██████████| 3/3 [00:00<00:00, 13.26it/s]\n"
     ]
    },
    {
     "name": "stdout",
     "output_type": "stream",
     "text": [
      "(325540, 3)\n",
      "(325540, 3)\n",
      "(325540, 3)\n"
     ]
    },
    {
     "name": "stderr",
     "output_type": "stream",
     "text": [
      " 33%|███▎      | 1/3 [00:00<00:00,  7.57it/s]"
     ]
    },
    {
     "name": "stdout",
     "output_type": "stream",
     "text": [
      "(284290, 2)\n"
     ]
    },
    {
     "name": "stderr",
     "output_type": "stream",
     "text": [
      "100%|██████████| 3/3 [00:00<00:00,  8.79it/s]\n"
     ]
    },
    {
     "name": "stdout",
     "output_type": "stream",
     "text": [
      "(325540, 3)\n",
      "(325540, 3)\n",
      "(325540, 3)\n"
     ]
    },
    {
     "name": "stderr",
     "output_type": "stream",
     "text": [
      " 67%|██████▋   | 2/3 [00:00<00:00, 14.76it/s]"
     ]
    },
    {
     "name": "stdout",
     "output_type": "stream",
     "text": [
      "(284290, 2)\n"
     ]
    },
    {
     "name": "stderr",
     "output_type": "stream",
     "text": [
      "100%|██████████| 3/3 [00:00<00:00, 14.96it/s]\n"
     ]
    },
    {
     "name": "stdout",
     "output_type": "stream",
     "text": [
      "(325540, 3)\n",
      "(325540, 3)\n",
      "(325540, 3)\n"
     ]
    },
    {
     "name": "stderr",
     "output_type": "stream",
     "text": [
      " 67%|██████▋   | 2/3 [00:00<00:00, 14.11it/s]"
     ]
    },
    {
     "name": "stdout",
     "output_type": "stream",
     "text": [
      "(284290, 2)\n"
     ]
    },
    {
     "name": "stderr",
     "output_type": "stream",
     "text": [
      "100%|██████████| 3/3 [00:00<00:00, 13.67it/s]\n"
     ]
    },
    {
     "name": "stdout",
     "output_type": "stream",
     "text": [
      "(325540, 3)\n",
      "(325540, 3)\n",
      "(325540, 3)\n"
     ]
    },
    {
     "name": "stderr",
     "output_type": "stream",
     "text": [
      " 33%|███▎      | 1/3 [00:00<00:00,  7.67it/s]"
     ]
    },
    {
     "name": "stdout",
     "output_type": "stream",
     "text": [
      "(284290, 2)\n"
     ]
    },
    {
     "name": "stderr",
     "output_type": "stream",
     "text": [
      "100%|██████████| 3/3 [00:00<00:00,  8.96it/s]\n"
     ]
    },
    {
     "name": "stdout",
     "output_type": "stream",
     "text": [
      "(325540, 3)\n",
      "(325540, 3)\n",
      "(325540, 3)\n"
     ]
    },
    {
     "name": "stderr",
     "output_type": "stream",
     "text": [
      " 67%|██████▋   | 2/3 [00:00<00:00, 13.70it/s]"
     ]
    },
    {
     "name": "stdout",
     "output_type": "stream",
     "text": [
      "(284290, 2)\n"
     ]
    },
    {
     "name": "stderr",
     "output_type": "stream",
     "text": [
      "100%|██████████| 3/3 [00:00<00:00, 13.26it/s]\n"
     ]
    },
    {
     "name": "stdout",
     "output_type": "stream",
     "text": [
      "(325540, 3)\n",
      "(325540, 3)\n",
      "(325540, 3)\n"
     ]
    },
    {
     "name": "stderr",
     "output_type": "stream",
     "text": [
      "100%|██████████| 3/3 [00:00<00:00, 15.64it/s]"
     ]
    },
    {
     "name": "stdout",
     "output_type": "stream",
     "text": [
      "(284290, 2)\n"
     ]
    },
    {
     "name": "stderr",
     "output_type": "stream",
     "text": [
      "\n"
     ]
    },
    {
     "name": "stdout",
     "output_type": "stream",
     "text": [
      "(325540, 3)\n",
      "(325540, 3)\n",
      "(325540, 3)\n"
     ]
    },
    {
     "name": "stderr",
     "output_type": "stream",
     "text": [
      " 67%|██████▋   | 2/3 [00:00<00:00, 13.97it/s]"
     ]
    },
    {
     "name": "stdout",
     "output_type": "stream",
     "text": [
      "(284290, 2)\n"
     ]
    },
    {
     "name": "stderr",
     "output_type": "stream",
     "text": [
      "100%|██████████| 3/3 [00:00<00:00, 13.36it/s]\n"
     ]
    },
    {
     "name": "stdout",
     "output_type": "stream",
     "text": [
      "(325540, 3)\n",
      "(325540, 3)\n",
      "(325540, 3)\n"
     ]
    }
   ],
   "source": [
    "prefix = '220_lif'\n",
    "new_df_list = [new_cat1, new_cat0]\n",
    "new_fname_list = ['new_cat1', 'new_cat0']\n",
    "train_test = utils.read_df_pkl('../input/base_term*0*').set_index(key)\n",
    "lift_level = 'feature_3'\n",
    "ignore_list = list(train_test.columns) + [key, lift_level]\n",
    "\n",
    "def get_new_columns(name,aggs):\n",
    "    return [name + '_' + k + '_' + agg for k in aggs.keys() for agg in aggs[k]]\n",
    "\n",
    "for df, fname in zip(new_df_list, new_fname_list):\n",
    "    \n",
    "    # new\n",
    "    df['date_diff'] = (df['hist_purchase_date_max'] - df['purchase_date']).dt.days\n",
    "    df['month_diff'] = ((datetime.datetime.today() - df['purchase_date']).dt.days)//30\n",
    "    df['month_diff'] += df['month_lag']\n",
    "    df[f'amount_per_installments'] = df[f'purchase_amount'] / (df[f'installments'] + 1.0)\n",
    "    \n",
    "    aggs = {}\n",
    "    col_unique =['merchant_id', 'merchant_category_id', 'yyyymmdd', 'yyyy_week']\n",
    "    \n",
    "    for col in col_unique:\n",
    "        aggs[col] = ['nunique']\n",
    "\n",
    "    aggs['purchase_amount'] = ['sum']\n",
    "    aggs['installments'] = ['mean']\n",
    "    aggs['amount_per_installments'] = ['sum']\n",
    "    aggs['month_lag'] = ['mean']\n",
    "    aggs['month_diff'] = ['mean']\n",
    "    aggs['card_id'] = ['size']\n",
    "    aggs['date_diff'] = ['mean']\n",
    "    \n",
    "    if key not in df.columns:\n",
    "        df.reset_index(inplace=True)\n",
    "        df.rename(columns={'index':key}, inplace=True)\n",
    "    \n",
    "    new_columns = get_new_columns(fname, aggs)\n",
    "    \n",
    "    print('Aggregation Start!')\n",
    "    print(df.shape)\n",
    "    df_agg = df.groupby([key, lift_level]).agg(aggs)\n",
    "    df_agg.columns = new_columns\n",
    "    df_agg.reset_index(inplace=True)\n",
    "    \n",
    "    lift_list = sorted(list(set(df_agg[lift_level].values)))\n",
    "    feat_cols = [col for col in df_agg.columns if col not in ignore_list]\n",
    "    \n",
    "    df_list = []\n",
    "    for level in lift_list:\n",
    "        \n",
    "        tmp_list = []\n",
    "        for col in feat_cols:\n",
    "            tmp = df_agg[df_agg[lift_level]==level].reset_index()\n",
    "            tmp = tmp[[key, col]]\n",
    "            base_avg = tmp[col].mean()\n",
    "            tmp.set_index(key, inplace=True)\n",
    "            tmp[col] /= base_avg\n",
    "            tmp.rename(columns={col:f'lift_{col}'}, inplace=True)\n",
    "            tmp_list.append(tmp)\n",
    "        df_level = pd.concat(tmp_list, axis=1)\n",
    "        df_level[lift_level] = level\n",
    "        df_list.append(df_level)\n",
    "        \n",
    "    df_lift = pd.concat(df_list, axis=0)\n",
    "    df_lift = df_lift.reset_index().set_index([key, lift_level])\n",
    "    print(df_lift.shape)\n",
    "    for tmp_col in df_lift.columns:\n",
    "        df_lift[tmp_col] = df_lift[tmp_col].astype('float32')\n",
    "        df_yoko = df_lift[tmp_col].unstack().fillna(0)\n",
    "        df_yoko.columns = [f\"{lift_level}_{c}_{tmp_col}\" for c in df_yoko.columns]\n",
    "        print(df_yoko.shape)\n",
    "        \n",
    "        #========================================================================\n",
    "        # Save Feature\n",
    "        base = utils.read_df_pkl('../input/base_term*0*').set_index(key)['target'].to_frame()\n",
    "        if target in df_yoko.columns:\n",
    "            df_yoko.drop(target, axis=1, inplace=True)\n",
    "        df_yoko = base.join(df_yoko)\n",
    "        for col in df_yoko.columns:\n",
    "            print(df_yoko.shape)\n",
    "            if col in ignore_list: continue\n",
    "#             if col.count('feature_'):continue\n",
    "            if not(col.count('new_cat')):continue\n",
    "            feature = df_yoko[col].fillna(0).astype('float32').values\n",
    "            col = col.replace('.', '_')\n",
    "            utils.to_pkl_gzip(path = f'../features/1_first_valid/{prefix}_{col}@', obj=feature)\n",
    "            #     utils.to_pkl_gzip(path = f'../features/3_third_valid/{prefix}_{col}@', obj=feature)\n",
    "            #========================================================================"
   ]
  },
  {
   "cell_type": "markdown",
   "metadata": {},
   "source": [
    "### Hist 1"
   ]
  },
  {
   "cell_type": "code",
   "execution_count": 28,
   "metadata": {},
   "outputs": [
    {
     "name": "stderr",
     "output_type": "stream",
     "text": [
      "100%|██████████| 3/3 [00:00<00:00, 16.15it/s]\n"
     ]
    },
    {
     "name": "stdout",
     "output_type": "stream",
     "text": [
      "Aggregation Start!\n",
      "(1560059, 35)\n"
     ]
    },
    {
     "name": "stderr",
     "output_type": "stream",
     "text": [
      " 67%|██████▋   | 2/3 [00:00<00:00, 16.47it/s]"
     ]
    },
    {
     "name": "stdout",
     "output_type": "stream",
     "text": [
      "(121357, 11)\n",
      "(121357, 2)\n"
     ]
    },
    {
     "name": "stderr",
     "output_type": "stream",
     "text": [
      "100%|██████████| 3/3 [00:00<00:00, 16.39it/s]\n"
     ]
    },
    {
     "name": "stdout",
     "output_type": "stream",
     "text": [
      "(325540, 3)\n",
      "(325540, 3)\n",
      "(325540, 3)\n"
     ]
    },
    {
     "name": "stderr",
     "output_type": "stream",
     "text": [
      " 67%|██████▋   | 2/3 [00:00<00:00, 12.88it/s]"
     ]
    },
    {
     "name": "stdout",
     "output_type": "stream",
     "text": [
      "(121357, 2)\n"
     ]
    },
    {
     "name": "stderr",
     "output_type": "stream",
     "text": [
      "100%|██████████| 3/3 [00:00<00:00, 12.62it/s]\n"
     ]
    },
    {
     "name": "stdout",
     "output_type": "stream",
     "text": [
      "(325540, 3)\n",
      "(325540, 3)\n",
      "(325540, 3)\n"
     ]
    },
    {
     "name": "stderr",
     "output_type": "stream",
     "text": [
      " 67%|██████▋   | 2/3 [00:00<00:00, 14.08it/s]"
     ]
    },
    {
     "name": "stdout",
     "output_type": "stream",
     "text": [
      "(121357, 2)\n"
     ]
    },
    {
     "name": "stderr",
     "output_type": "stream",
     "text": [
      "100%|██████████| 3/3 [00:00<00:00, 13.71it/s]\n"
     ]
    },
    {
     "name": "stdout",
     "output_type": "stream",
     "text": [
      "(325540, 3)\n",
      "(325540, 3)\n",
      "(325540, 3)\n"
     ]
    },
    {
     "name": "stderr",
     "output_type": "stream",
     "text": [
      " 33%|███▎      | 1/3 [00:00<00:00,  7.37it/s]"
     ]
    },
    {
     "name": "stdout",
     "output_type": "stream",
     "text": [
      "(121357, 2)\n"
     ]
    },
    {
     "name": "stderr",
     "output_type": "stream",
     "text": [
      "100%|██████████| 3/3 [00:00<00:00,  8.47it/s]\n"
     ]
    },
    {
     "name": "stdout",
     "output_type": "stream",
     "text": [
      "(325540, 3)\n",
      "(325540, 3)\n",
      "(325540, 3)\n"
     ]
    },
    {
     "name": "stderr",
     "output_type": "stream",
     "text": [
      "100%|██████████| 3/3 [00:00<00:00, 16.82it/s]"
     ]
    },
    {
     "name": "stdout",
     "output_type": "stream",
     "text": [
      "(121357, 2)\n"
     ]
    },
    {
     "name": "stderr",
     "output_type": "stream",
     "text": [
      "\n"
     ]
    },
    {
     "name": "stdout",
     "output_type": "stream",
     "text": [
      "(325540, 3)\n",
      "(325540, 3)\n",
      "(325540, 3)\n"
     ]
    },
    {
     "name": "stderr",
     "output_type": "stream",
     "text": [
      "100%|██████████| 3/3 [00:00<00:00, 20.08it/s]"
     ]
    },
    {
     "name": "stdout",
     "output_type": "stream",
     "text": [
      "(121357, 2)\n"
     ]
    },
    {
     "name": "stderr",
     "output_type": "stream",
     "text": [
      "\n"
     ]
    },
    {
     "name": "stdout",
     "output_type": "stream",
     "text": [
      "(325540, 3)\n",
      "(325540, 3)\n",
      "(325540, 3)\n"
     ]
    },
    {
     "name": "stderr",
     "output_type": "stream",
     "text": [
      "100%|██████████| 3/3 [00:00<00:00, 17.91it/s]"
     ]
    },
    {
     "name": "stdout",
     "output_type": "stream",
     "text": [
      "(121357, 2)\n"
     ]
    },
    {
     "name": "stderr",
     "output_type": "stream",
     "text": [
      "\n"
     ]
    },
    {
     "name": "stdout",
     "output_type": "stream",
     "text": [
      "(325540, 3)\n",
      "(325540, 3)\n",
      "(325540, 3)\n"
     ]
    },
    {
     "name": "stderr",
     "output_type": "stream",
     "text": [
      "100%|██████████| 3/3 [00:00<00:00, 18.04it/s]"
     ]
    },
    {
     "name": "stdout",
     "output_type": "stream",
     "text": [
      "(121357, 2)\n"
     ]
    },
    {
     "name": "stderr",
     "output_type": "stream",
     "text": [
      "\n"
     ]
    },
    {
     "name": "stdout",
     "output_type": "stream",
     "text": [
      "(325540, 3)\n",
      "(325540, 3)\n",
      "(325540, 3)\n"
     ]
    },
    {
     "name": "stderr",
     "output_type": "stream",
     "text": [
      "100%|██████████| 3/3 [00:00<00:00, 18.00it/s]"
     ]
    },
    {
     "name": "stdout",
     "output_type": "stream",
     "text": [
      "(121357, 2)\n"
     ]
    },
    {
     "name": "stderr",
     "output_type": "stream",
     "text": [
      "\n"
     ]
    },
    {
     "name": "stdout",
     "output_type": "stream",
     "text": [
      "(325540, 3)\n",
      "(325540, 3)\n",
      "(325540, 3)\n"
     ]
    },
    {
     "name": "stderr",
     "output_type": "stream",
     "text": [
      "100%|██████████| 3/3 [00:00<00:00, 19.54it/s]"
     ]
    },
    {
     "name": "stdout",
     "output_type": "stream",
     "text": [
      "(121357, 2)\n"
     ]
    },
    {
     "name": "stderr",
     "output_type": "stream",
     "text": [
      "\n"
     ]
    },
    {
     "name": "stdout",
     "output_type": "stream",
     "text": [
      "(325540, 3)\n",
      "(325540, 3)\n",
      "(325540, 3)\n"
     ]
    },
    {
     "name": "stderr",
     "output_type": "stream",
     "text": [
      "100%|██████████| 3/3 [00:00<00:00, 18.24it/s]"
     ]
    },
    {
     "name": "stdout",
     "output_type": "stream",
     "text": [
      "(121357, 2)\n"
     ]
    },
    {
     "name": "stderr",
     "output_type": "stream",
     "text": [
      "\n"
     ]
    },
    {
     "name": "stdout",
     "output_type": "stream",
     "text": [
      "(325540, 3)\n",
      "(325540, 3)\n",
      "(325540, 3)\n",
      "Aggregation Start!\n",
      "(25035393, 35)\n"
     ]
    },
    {
     "name": "stderr",
     "output_type": "stream",
     "text": [
      "  0%|          | 0/3 [00:00<?, ?it/s]"
     ]
    },
    {
     "name": "stdout",
     "output_type": "stream",
     "text": [
      "(320220, 11)\n",
      "(320220, 2)\n"
     ]
    },
    {
     "name": "stderr",
     "output_type": "stream",
     "text": [
      "100%|██████████| 3/3 [00:00<00:00, 16.39it/s]\n"
     ]
    },
    {
     "name": "stdout",
     "output_type": "stream",
     "text": [
      "(325540, 3)\n",
      "(325540, 3)\n",
      "(325540, 3)\n"
     ]
    },
    {
     "name": "stderr",
     "output_type": "stream",
     "text": [
      " 67%|██████▋   | 2/3 [00:00<00:00, 14.02it/s]"
     ]
    },
    {
     "name": "stdout",
     "output_type": "stream",
     "text": [
      "(320220, 2)\n"
     ]
    },
    {
     "name": "stderr",
     "output_type": "stream",
     "text": [
      "100%|██████████| 3/3 [00:00<00:00, 13.62it/s]\n"
     ]
    },
    {
     "name": "stdout",
     "output_type": "stream",
     "text": [
      "(325540, 3)\n",
      "(325540, 3)\n",
      "(325540, 3)\n"
     ]
    },
    {
     "name": "stderr",
     "output_type": "stream",
     "text": [
      " 33%|███▎      | 1/3 [00:00<00:00,  7.53it/s]"
     ]
    },
    {
     "name": "stdout",
     "output_type": "stream",
     "text": [
      "(320220, 2)\n"
     ]
    },
    {
     "name": "stderr",
     "output_type": "stream",
     "text": [
      "100%|██████████| 3/3 [00:00<00:00,  8.38it/s]\n"
     ]
    },
    {
     "name": "stdout",
     "output_type": "stream",
     "text": [
      "(325540, 3)\n",
      "(325540, 3)\n",
      "(325540, 3)\n"
     ]
    },
    {
     "name": "stderr",
     "output_type": "stream",
     "text": [
      " 67%|██████▋   | 2/3 [00:00<00:00, 13.34it/s]"
     ]
    },
    {
     "name": "stdout",
     "output_type": "stream",
     "text": [
      "(320220, 2)\n"
     ]
    },
    {
     "name": "stderr",
     "output_type": "stream",
     "text": [
      "100%|██████████| 3/3 [00:00<00:00, 12.94it/s]\n"
     ]
    },
    {
     "name": "stdout",
     "output_type": "stream",
     "text": [
      "(325540, 3)\n",
      "(325540, 3)\n",
      "(325540, 3)\n"
     ]
    },
    {
     "name": "stderr",
     "output_type": "stream",
     "text": [
      " 67%|██████▋   | 2/3 [00:00<00:00, 13.53it/s]"
     ]
    },
    {
     "name": "stdout",
     "output_type": "stream",
     "text": [
      "(320220, 2)\n"
     ]
    },
    {
     "name": "stderr",
     "output_type": "stream",
     "text": [
      "100%|██████████| 3/3 [00:00<00:00, 13.18it/s]\n"
     ]
    },
    {
     "name": "stdout",
     "output_type": "stream",
     "text": [
      "(325540, 3)\n",
      "(325540, 3)\n",
      "(325540, 3)\n"
     ]
    },
    {
     "name": "stderr",
     "output_type": "stream",
     "text": [
      " 67%|██████▋   | 2/3 [00:00<00:00, 15.31it/s]"
     ]
    },
    {
     "name": "stdout",
     "output_type": "stream",
     "text": [
      "(320220, 2)\n"
     ]
    },
    {
     "name": "stderr",
     "output_type": "stream",
     "text": [
      "100%|██████████| 3/3 [00:00<00:00, 15.02it/s]\n"
     ]
    },
    {
     "name": "stdout",
     "output_type": "stream",
     "text": [
      "(325540, 3)\n",
      "(325540, 3)\n",
      "(325540, 3)\n"
     ]
    },
    {
     "name": "stderr",
     "output_type": "stream",
     "text": [
      " 67%|██████▋   | 2/3 [00:00<00:00, 14.88it/s]"
     ]
    },
    {
     "name": "stdout",
     "output_type": "stream",
     "text": [
      "(320220, 2)\n"
     ]
    },
    {
     "name": "stderr",
     "output_type": "stream",
     "text": [
      "100%|██████████| 3/3 [00:00<00:00, 14.05it/s]\n"
     ]
    },
    {
     "name": "stdout",
     "output_type": "stream",
     "text": [
      "(325540, 3)\n",
      "(325540, 3)\n",
      "(325540, 3)\n"
     ]
    },
    {
     "name": "stderr",
     "output_type": "stream",
     "text": [
      " 33%|███▎      | 1/3 [00:00<00:00,  8.21it/s]"
     ]
    },
    {
     "name": "stdout",
     "output_type": "stream",
     "text": [
      "(320220, 2)\n"
     ]
    },
    {
     "name": "stderr",
     "output_type": "stream",
     "text": [
      "100%|██████████| 3/3 [00:00<00:00,  9.39it/s]\n"
     ]
    },
    {
     "name": "stdout",
     "output_type": "stream",
     "text": [
      "(325540, 3)\n",
      "(325540, 3)\n",
      "(325540, 3)\n"
     ]
    },
    {
     "name": "stderr",
     "output_type": "stream",
     "text": [
      " 67%|██████▋   | 2/3 [00:00<00:00, 13.50it/s]"
     ]
    },
    {
     "name": "stdout",
     "output_type": "stream",
     "text": [
      "(320220, 2)\n"
     ]
    },
    {
     "name": "stderr",
     "output_type": "stream",
     "text": [
      "100%|██████████| 3/3 [00:00<00:00, 13.08it/s]\n"
     ]
    },
    {
     "name": "stdout",
     "output_type": "stream",
     "text": [
      "(325540, 3)\n",
      "(325540, 3)\n",
      "(325540, 3)\n"
     ]
    },
    {
     "name": "stderr",
     "output_type": "stream",
     "text": [
      "100%|██████████| 3/3 [00:00<00:00, 16.30it/s]"
     ]
    },
    {
     "name": "stdout",
     "output_type": "stream",
     "text": [
      "(320220, 2)\n"
     ]
    },
    {
     "name": "stderr",
     "output_type": "stream",
     "text": [
      "\n"
     ]
    },
    {
     "name": "stdout",
     "output_type": "stream",
     "text": [
      "(325540, 3)\n",
      "(325540, 3)\n",
      "(325540, 3)\n"
     ]
    },
    {
     "name": "stderr",
     "output_type": "stream",
     "text": [
      " 67%|██████▋   | 2/3 [00:00<00:00, 13.89it/s]"
     ]
    },
    {
     "name": "stdout",
     "output_type": "stream",
     "text": [
      "(320220, 2)\n"
     ]
    },
    {
     "name": "stderr",
     "output_type": "stream",
     "text": [
      "100%|██████████| 3/3 [00:00<00:00, 13.59it/s]\n"
     ]
    },
    {
     "name": "stdout",
     "output_type": "stream",
     "text": [
      "(325540, 3)\n",
      "(325540, 3)\n",
      "(325540, 3)\n"
     ]
    }
   ],
   "source": [
    "prefix = '220_lif'\n",
    "auth1_df_list = [auth1_cat1, auth1_cat0]\n",
    "auth1_fname_list = ['auth1_cat1', 'auth1_cat0']\n",
    "train_test = utils.read_df_pkl('../input/base_term*0*').set_index(key)\n",
    "lift_level = 'feature_3'\n",
    "ignore_list = list(train_test.columns) + [key, lift_level]\n",
    "\n",
    "def get_new_columns(name,aggs):\n",
    "    return [name + '_' + k + '_' + agg for k in aggs.keys() for agg in aggs[k]]\n",
    "\n",
    "for df, fname in zip(auth1_df_list, auth1_fname_list):\n",
    "    \n",
    "    # auth1\n",
    "    df['date_diff'] = (df['hist_purchase_date_max'] - df['purchase_date']).dt.days\n",
    "    df['month_diff'] = ((datetime.datetime.today() - df['purchase_date']).dt.days)//30\n",
    "    df['month_diff'] += df['month_lag']\n",
    "    df[f'amount_per_installments'] = df[f'purchase_amount'] / (df[f'installments'] + 1.0)\n",
    "    \n",
    "    aggs = {}\n",
    "    col_unique =['merchant_id', 'merchant_category_id', 'yyyymmdd', 'yyyy_week']\n",
    "    \n",
    "    for col in col_unique:\n",
    "        aggs[col] = ['nunique']\n",
    "\n",
    "    aggs['purchase_amount'] = ['sum']\n",
    "    aggs['installments'] = ['mean']\n",
    "    aggs['amount_per_installments'] = ['sum']\n",
    "    aggs['month_lag'] = ['mean']\n",
    "    aggs['month_diff'] = ['mean']\n",
    "    aggs['card_id'] = ['size']\n",
    "    aggs['date_diff'] = ['mean']\n",
    "    \n",
    "    if key not in df.columns and 'index' not in df.columns:\n",
    "        df.reset_index(inplace=True)\n",
    "        df.rename(columns={'index':key}, inplace=True)\n",
    "    \n",
    "    new_columns = get_new_columns(fname, aggs)\n",
    "    \n",
    "    print('Aggregation Start!')\n",
    "    print(df.shape)\n",
    "    df_agg = df.groupby([key, lift_level]).agg(aggs)\n",
    "    df_agg.columns = new_columns\n",
    "    df_agg.reset_index(inplace=True)\n",
    "    \n",
    "    lift_list = sorted(list(set(df_agg[lift_level].values)))\n",
    "    feat_cols = [col for col in df_agg.columns if col not in ignore_list]\n",
    "    \n",
    "    df_list = []\n",
    "    for level in lift_list:\n",
    "        \n",
    "        tmp_list = []\n",
    "        for col in feat_cols:\n",
    "            tmp = df_agg[df_agg[lift_level]==level].reset_index()\n",
    "            tmp = tmp[[key, col]]\n",
    "            base_avg = tmp[col].mean()\n",
    "            tmp.set_index(key, inplace=True)\n",
    "            tmp[col] /= base_avg\n",
    "            tmp.rename(columns={col:f'lift_{col}'}, inplace=True)\n",
    "            tmp_list.append(tmp)\n",
    "        df_level = pd.concat(tmp_list, axis=1)\n",
    "        df_level[lift_level] = level\n",
    "        df_list.append(df_level)\n",
    "        \n",
    "    df_lift = pd.concat(df_list, axis=0)\n",
    "    df_lift = df_lift.reset_index().set_index([key, lift_level])\n",
    "    print(df_lift.shape)\n",
    "    for tmp_col in df_lift.columns:\n",
    "        df_lift[tmp_col] = df_lift[tmp_col].astype('float32')\n",
    "        df_yoko = df_lift[tmp_col].unstack().fillna(0)\n",
    "        df_yoko.columns = [f\"{lift_level}_{c}_{tmp_col}\" for c in df_yoko.columns]\n",
    "        print(df_yoko.shape)\n",
    "        \n",
    "        #========================================================================\n",
    "        # Save Feature\n",
    "        base = utils.read_df_pkl('../input/base_term*0*').set_index(key)['target'].to_frame()\n",
    "        if target in df_yoko.columns:\n",
    "            df_yoko.drop(target, axis=1, inplace=True)\n",
    "        df_yoko = base.join(df_yoko)\n",
    "        for col in df_yoko.columns:\n",
    "            print(df_yoko.shape)\n",
    "            if col in ignore_list: continue\n",
    "#             if col.count('feature_'):continue\n",
    "            if not(col.count('auth1_cat')):continue\n",
    "            feature = df_yoko[col].fillna(0).astype('float32').values\n",
    "            col = col.replace('.', '_')\n",
    "            utils.to_pkl_gzip(path = f'../features/1_first_valid/{prefix}_{col}@', obj=feature)\n",
    "            #     utils.to_pkl_gzip(path = f'../features/3_third_valid/{prefix}_{col}@', obj=feature)\n",
    "            #========================================================================"
   ]
  },
  {
   "cell_type": "markdown",
   "metadata": {},
   "source": [
    "### Hist 2"
   ]
  },
  {
   "cell_type": "code",
   "execution_count": 29,
   "metadata": {},
   "outputs": [
    {
     "name": "stderr",
     "output_type": "stream",
     "text": [
      "100%|██████████| 3/3 [00:00<00:00, 10.46it/s]\n"
     ]
    },
    {
     "name": "stdout",
     "output_type": "stream",
     "text": [
      "Aggregation Start!\n",
      "(1560059, 35)\n"
     ]
    },
    {
     "name": "stderr",
     "output_type": "stream",
     "text": [
      " 67%|██████▋   | 2/3 [00:00<00:00, 17.26it/s]"
     ]
    },
    {
     "name": "stdout",
     "output_type": "stream",
     "text": [
      "(121357, 11)\n",
      "(121357, 2)\n"
     ]
    },
    {
     "name": "stderr",
     "output_type": "stream",
     "text": [
      "100%|██████████| 3/3 [00:00<00:00, 17.01it/s]\n"
     ]
    },
    {
     "name": "stdout",
     "output_type": "stream",
     "text": [
      "(325540, 3)\n",
      "(325540, 3)\n",
      "(325540, 3)\n"
     ]
    },
    {
     "name": "stderr",
     "output_type": "stream",
     "text": [
      " 67%|██████▋   | 2/3 [00:00<00:00, 11.82it/s]"
     ]
    },
    {
     "name": "stdout",
     "output_type": "stream",
     "text": [
      "(121357, 2)\n"
     ]
    },
    {
     "name": "stderr",
     "output_type": "stream",
     "text": [
      "100%|██████████| 3/3 [00:00<00:00, 12.04it/s]\n"
     ]
    },
    {
     "name": "stdout",
     "output_type": "stream",
     "text": [
      "(325540, 3)\n",
      "(325540, 3)\n",
      "(325540, 3)\n"
     ]
    },
    {
     "name": "stderr",
     "output_type": "stream",
     "text": [
      " 33%|███▎      | 1/3 [00:00<00:00, 10.00it/s]"
     ]
    },
    {
     "name": "stdout",
     "output_type": "stream",
     "text": [
      "(121357, 2)\n"
     ]
    },
    {
     "name": "stderr",
     "output_type": "stream",
     "text": [
      "100%|██████████| 3/3 [00:00<00:00, 10.80it/s]\n"
     ]
    },
    {
     "name": "stdout",
     "output_type": "stream",
     "text": [
      "(325540, 3)\n",
      "(325540, 3)\n",
      "(325540, 3)\n"
     ]
    },
    {
     "name": "stderr",
     "output_type": "stream",
     "text": [
      " 67%|██████▋   | 2/3 [00:00<00:00, 14.04it/s]"
     ]
    },
    {
     "name": "stdout",
     "output_type": "stream",
     "text": [
      "(121357, 2)\n"
     ]
    },
    {
     "name": "stderr",
     "output_type": "stream",
     "text": [
      "100%|██████████| 3/3 [00:00<00:00, 13.54it/s]\n"
     ]
    },
    {
     "name": "stdout",
     "output_type": "stream",
     "text": [
      "(325540, 3)\n",
      "(325540, 3)\n",
      "(325540, 3)\n"
     ]
    },
    {
     "name": "stderr",
     "output_type": "stream",
     "text": [
      " 67%|██████▋   | 2/3 [00:00<00:00, 13.92it/s]"
     ]
    },
    {
     "name": "stdout",
     "output_type": "stream",
     "text": [
      "(121357, 2)\n"
     ]
    },
    {
     "name": "stderr",
     "output_type": "stream",
     "text": [
      "100%|██████████| 3/3 [00:00<00:00, 13.54it/s]\n"
     ]
    },
    {
     "name": "stdout",
     "output_type": "stream",
     "text": [
      "(325540, 3)\n",
      "(325540, 3)\n",
      "(325540, 3)\n"
     ]
    },
    {
     "name": "stderr",
     "output_type": "stream",
     "text": [
      " 67%|██████▋   | 2/3 [00:00<00:00, 14.97it/s]"
     ]
    },
    {
     "name": "stdout",
     "output_type": "stream",
     "text": [
      "(121357, 2)\n"
     ]
    },
    {
     "name": "stderr",
     "output_type": "stream",
     "text": [
      "100%|██████████| 3/3 [00:00<00:00, 14.77it/s]\n"
     ]
    },
    {
     "name": "stdout",
     "output_type": "stream",
     "text": [
      "(325540, 3)\n",
      "(325540, 3)\n",
      "(325540, 3)\n"
     ]
    },
    {
     "name": "stderr",
     "output_type": "stream",
     "text": [
      " 33%|███▎      | 1/3 [00:00<00:00,  7.97it/s]"
     ]
    },
    {
     "name": "stdout",
     "output_type": "stream",
     "text": [
      "(121357, 2)\n"
     ]
    },
    {
     "name": "stderr",
     "output_type": "stream",
     "text": [
      "100%|██████████| 3/3 [00:00<00:00,  9.12it/s]\n"
     ]
    },
    {
     "name": "stdout",
     "output_type": "stream",
     "text": [
      "(325540, 3)\n",
      "(325540, 3)\n",
      "(325540, 3)\n"
     ]
    },
    {
     "name": "stderr",
     "output_type": "stream",
     "text": [
      " 33%|███▎      | 1/3 [00:00<00:00,  9.00it/s]"
     ]
    },
    {
     "name": "stdout",
     "output_type": "stream",
     "text": [
      "(121357, 2)\n"
     ]
    },
    {
     "name": "stderr",
     "output_type": "stream",
     "text": [
      "100%|██████████| 3/3 [00:00<00:00,  9.98it/s]\n"
     ]
    },
    {
     "name": "stdout",
     "output_type": "stream",
     "text": [
      "(325540, 3)\n",
      "(325540, 3)\n",
      "(325540, 3)\n"
     ]
    },
    {
     "name": "stderr",
     "output_type": "stream",
     "text": [
      " 67%|██████▋   | 2/3 [00:00<00:00, 14.00it/s]"
     ]
    },
    {
     "name": "stdout",
     "output_type": "stream",
     "text": [
      "(121357, 2)\n"
     ]
    },
    {
     "name": "stderr",
     "output_type": "stream",
     "text": [
      "100%|██████████| 3/3 [00:00<00:00, 13.57it/s]\n"
     ]
    },
    {
     "name": "stdout",
     "output_type": "stream",
     "text": [
      "(325540, 3)\n",
      "(325540, 3)\n",
      "(325540, 3)\n"
     ]
    },
    {
     "name": "stderr",
     "output_type": "stream",
     "text": [
      " 33%|███▎      | 1/3 [00:00<00:00,  8.04it/s]"
     ]
    },
    {
     "name": "stdout",
     "output_type": "stream",
     "text": [
      "(121357, 2)\n"
     ]
    },
    {
     "name": "stderr",
     "output_type": "stream",
     "text": [
      "100%|██████████| 3/3 [00:00<00:00,  7.80it/s]\n"
     ]
    },
    {
     "name": "stdout",
     "output_type": "stream",
     "text": [
      "(325540, 3)\n",
      "(325540, 3)\n",
      "(325540, 3)\n"
     ]
    },
    {
     "name": "stderr",
     "output_type": "stream",
     "text": [
      " 33%|███▎      | 1/3 [00:00<00:00,  9.11it/s]"
     ]
    },
    {
     "name": "stdout",
     "output_type": "stream",
     "text": [
      "(121357, 2)\n"
     ]
    },
    {
     "name": "stderr",
     "output_type": "stream",
     "text": [
      "100%|██████████| 3/3 [00:00<00:00, 10.10it/s]\n"
     ]
    },
    {
     "name": "stdout",
     "output_type": "stream",
     "text": [
      "(325540, 3)\n",
      "(325540, 3)\n",
      "(325540, 3)\n",
      "Aggregation Start!\n",
      "(25035393, 35)\n"
     ]
    },
    {
     "name": "stderr",
     "output_type": "stream",
     "text": [
      "  0%|          | 0/3 [00:00<?, ?it/s]"
     ]
    },
    {
     "name": "stdout",
     "output_type": "stream",
     "text": [
      "(320220, 11)\n",
      "(320220, 2)\n"
     ]
    },
    {
     "name": "stderr",
     "output_type": "stream",
     "text": [
      "100%|██████████| 3/3 [00:00<00:00, 21.53it/s]\n"
     ]
    },
    {
     "name": "stdout",
     "output_type": "stream",
     "text": [
      "(325540, 3)\n",
      "(325540, 3)\n",
      "(325540, 3)\n"
     ]
    },
    {
     "name": "stderr",
     "output_type": "stream",
     "text": [
      "100%|██████████| 3/3 [00:00<00:00, 18.62it/s]"
     ]
    },
    {
     "name": "stdout",
     "output_type": "stream",
     "text": [
      "(320220, 2)\n"
     ]
    },
    {
     "name": "stderr",
     "output_type": "stream",
     "text": [
      "\n"
     ]
    },
    {
     "name": "stdout",
     "output_type": "stream",
     "text": [
      "(325540, 3)\n",
      "(325540, 3)\n",
      "(325540, 3)\n"
     ]
    },
    {
     "name": "stderr",
     "output_type": "stream",
     "text": [
      "100%|██████████| 3/3 [00:00<00:00, 18.33it/s]"
     ]
    },
    {
     "name": "stdout",
     "output_type": "stream",
     "text": [
      "(320220, 2)\n"
     ]
    },
    {
     "name": "stderr",
     "output_type": "stream",
     "text": [
      "\n"
     ]
    },
    {
     "name": "stdout",
     "output_type": "stream",
     "text": [
      "(325540, 3)\n",
      "(325540, 3)\n",
      "(325540, 3)\n"
     ]
    },
    {
     "name": "stderr",
     "output_type": "stream",
     "text": [
      "100%|██████████| 3/3 [00:00<00:00, 17.70it/s]"
     ]
    },
    {
     "name": "stdout",
     "output_type": "stream",
     "text": [
      "(320220, 2)\n"
     ]
    },
    {
     "name": "stderr",
     "output_type": "stream",
     "text": [
      "\n"
     ]
    },
    {
     "name": "stdout",
     "output_type": "stream",
     "text": [
      "(325540, 3)\n",
      "(325540, 3)\n",
      "(325540, 3)\n"
     ]
    },
    {
     "name": "stderr",
     "output_type": "stream",
     "text": [
      "100%|██████████| 3/3 [00:00<00:00, 17.86it/s]"
     ]
    },
    {
     "name": "stdout",
     "output_type": "stream",
     "text": [
      "(320220, 2)\n"
     ]
    },
    {
     "name": "stderr",
     "output_type": "stream",
     "text": [
      "\n"
     ]
    },
    {
     "name": "stdout",
     "output_type": "stream",
     "text": [
      "(325540, 3)\n",
      "(325540, 3)\n",
      "(325540, 3)\n"
     ]
    },
    {
     "name": "stderr",
     "output_type": "stream",
     "text": [
      "100%|██████████| 3/3 [00:00<00:00, 20.55it/s]"
     ]
    },
    {
     "name": "stdout",
     "output_type": "stream",
     "text": [
      "(320220, 2)\n"
     ]
    },
    {
     "name": "stderr",
     "output_type": "stream",
     "text": [
      "\n"
     ]
    },
    {
     "name": "stdout",
     "output_type": "stream",
     "text": [
      "(325540, 3)\n",
      "(325540, 3)\n",
      "(325540, 3)\n"
     ]
    },
    {
     "name": "stderr",
     "output_type": "stream",
     "text": [
      "100%|██████████| 3/3 [00:00<00:00, 19.05it/s]"
     ]
    },
    {
     "name": "stdout",
     "output_type": "stream",
     "text": [
      "(320220, 2)\n"
     ]
    },
    {
     "name": "stderr",
     "output_type": "stream",
     "text": [
      "\n"
     ]
    },
    {
     "name": "stdout",
     "output_type": "stream",
     "text": [
      "(325540, 3)\n",
      "(325540, 3)\n",
      "(325540, 3)\n"
     ]
    },
    {
     "name": "stderr",
     "output_type": "stream",
     "text": [
      "100%|██████████| 3/3 [00:00<00:00, 17.92it/s]"
     ]
    },
    {
     "name": "stdout",
     "output_type": "stream",
     "text": [
      "(320220, 2)\n"
     ]
    },
    {
     "name": "stderr",
     "output_type": "stream",
     "text": [
      "\n"
     ]
    },
    {
     "name": "stdout",
     "output_type": "stream",
     "text": [
      "(325540, 3)\n",
      "(325540, 3)\n",
      "(325540, 3)\n"
     ]
    },
    {
     "name": "stderr",
     "output_type": "stream",
     "text": [
      "100%|██████████| 3/3 [00:00<00:00, 18.07it/s]"
     ]
    },
    {
     "name": "stdout",
     "output_type": "stream",
     "text": [
      "(320220, 2)\n"
     ]
    },
    {
     "name": "stderr",
     "output_type": "stream",
     "text": [
      "\n"
     ]
    },
    {
     "name": "stdout",
     "output_type": "stream",
     "text": [
      "(325540, 3)\n",
      "(325540, 3)\n",
      "(325540, 3)\n"
     ]
    },
    {
     "name": "stderr",
     "output_type": "stream",
     "text": [
      "100%|██████████| 3/3 [00:00<00:00, 20.81it/s]"
     ]
    },
    {
     "name": "stdout",
     "output_type": "stream",
     "text": [
      "(320220, 2)\n"
     ]
    },
    {
     "name": "stderr",
     "output_type": "stream",
     "text": [
      "\n"
     ]
    },
    {
     "name": "stdout",
     "output_type": "stream",
     "text": [
      "(325540, 3)\n",
      "(325540, 3)\n",
      "(325540, 3)\n"
     ]
    },
    {
     "name": "stderr",
     "output_type": "stream",
     "text": [
      "100%|██████████| 3/3 [00:00<00:00, 18.92it/s]"
     ]
    },
    {
     "name": "stdout",
     "output_type": "stream",
     "text": [
      "(320220, 2)\n"
     ]
    },
    {
     "name": "stderr",
     "output_type": "stream",
     "text": [
      "\n"
     ]
    },
    {
     "name": "stdout",
     "output_type": "stream",
     "text": [
      "(325540, 3)\n",
      "(325540, 3)\n",
      "(325540, 3)\n"
     ]
    }
   ],
   "source": [
    "prefix = '220_lif'\n",
    "auth1_df_list = [auth1_cat1, auth1_cat0]\n",
    "auth1_fname_list = ['auth1_cat1', 'auth1_cat0']\n",
    "train_test = utils.read_df_pkl('../input/base_term*0*').set_index(key)\n",
    "lift_level = 'feature_3'\n",
    "ignore_list = list(train_test.columns) + [key, lift_level]\n",
    "\n",
    "def get_new_columns(name,aggs):\n",
    "    return [name + '_' + k + '_' + agg for k in aggs.keys() for agg in aggs[k]]\n",
    "\n",
    "for df, fname in zip(auth1_df_list, auth1_fname_list):\n",
    "    \n",
    "    # auth1\n",
    "    df['date_diff'] = (df['hist_purchase_date_max'] - df['purchase_date']).dt.days\n",
    "    df['month_diff'] = ((datetime.datetime.today() - df['purchase_date']).dt.days)//30\n",
    "    df['month_diff'] += df['month_lag']\n",
    "    df[f'amount_per_installments'] = df[f'purchase_amount'] / (df[f'installments'] + 1.0)\n",
    "    \n",
    "    aggs = {}\n",
    "    col_unique =['merchant_id', 'merchant_category_id', 'yyyymmdd', 'yyyy_week']\n",
    "    \n",
    "    for col in col_unique:\n",
    "        aggs[col] = ['nunique']\n",
    "\n",
    "    aggs['purchase_amount'] = ['sum']\n",
    "    aggs['installments'] = ['mean']\n",
    "    aggs['amount_per_installments'] = ['sum']\n",
    "    aggs['month_lag'] = ['mean']\n",
    "    aggs['month_diff'] = ['mean']\n",
    "    aggs['card_id'] = ['size']\n",
    "    aggs['date_diff'] = ['mean']\n",
    "    \n",
    "    if key not in df.columns and 'index' not in df.columns:\n",
    "        df.reset_index(inplace=True)\n",
    "        df.rename(columns={'index':key}, inplace=True)\n",
    "    \n",
    "    new_columns = get_new_columns(fname, aggs)\n",
    "    \n",
    "    print('Aggregation Start!')\n",
    "    print(df.shape)\n",
    "    df_agg = df.groupby([key, lift_level]).agg(aggs)\n",
    "    df_agg.columns = new_columns\n",
    "    df_agg.reset_index(inplace=True)\n",
    "    \n",
    "    lift_list = sorted(list(set(df_agg[lift_level].values)))\n",
    "    feat_cols = [col for col in df_agg.columns if col not in ignore_list]\n",
    "    \n",
    "    df_list = []\n",
    "    for level in lift_list:\n",
    "        \n",
    "        tmp_list = []\n",
    "        for col in feat_cols:\n",
    "            tmp = df_agg[df_agg[lift_level]==level].reset_index()\n",
    "            tmp = tmp[[key, col]]\n",
    "            base_avg = tmp[col].mean()\n",
    "            tmp.set_index(key, inplace=True)\n",
    "            tmp[col] /= base_avg\n",
    "            tmp.rename(columns={col:f'lift_{col}'}, inplace=True)\n",
    "            tmp_list.append(tmp)\n",
    "        df_level = pd.concat(tmp_list, axis=1)\n",
    "        df_level[lift_level] = level\n",
    "        df_list.append(df_level)\n",
    "        \n",
    "    df_lift = pd.concat(df_list, axis=0)\n",
    "    df_lift = df_lift.reset_index().set_index([key, lift_level])\n",
    "    print(df_lift.shape)\n",
    "    for tmp_col in df_lift.columns:\n",
    "        df_lift[tmp_col] = df_lift[tmp_col].astype('float32')\n",
    "        df_yoko = df_lift[tmp_col].unstack().fillna(0)\n",
    "        df_yoko.columns = [f\"{lift_level}_{c}_{tmp_col}\" for c in df_yoko.columns]\n",
    "        print(df_yoko.shape)\n",
    "        \n",
    "        #========================================================================\n",
    "        # Save Feature\n",
    "        base = utils.read_df_pkl('../input/base_term*0*').set_index(key)['target'].to_frame()\n",
    "        if target in df_yoko.columns:\n",
    "            df_yoko.drop(target, axis=1, inplace=True)\n",
    "        df_yoko = base.join(df_yoko)\n",
    "        for col in df_yoko.columns:\n",
    "            print(df_yoko.shape)\n",
    "            if col in ignore_list: continue\n",
    "#             if col.count('feature_'):continue\n",
    "            if not(col.count('auth1_cat')):continue\n",
    "            feature = df_yoko[col].fillna(0).astype('float32').values\n",
    "            col = col.replace('.', '_')\n",
    "            utils.to_pkl_gzip(path = f'../features/1_first_valid/{prefix}_{col}@', obj=feature)\n",
    "            #     utils.to_pkl_gzip(path = f'../features/3_third_valid/{prefix}_{col}@', obj=feature)\n",
    "            #========================================================================"
   ]
  },
  {
   "cell_type": "code",
   "execution_count": null,
   "metadata": {},
   "outputs": [],
   "source": []
  }
 ],
 "metadata": {
  "hide_input": false,
  "kernelspec": {
   "display_name": "Python 3",
   "language": "python",
   "name": "python3"
  },
  "language_info": {
   "codemirror_mode": {
    "name": "ipython",
    "version": 3
   },
   "file_extension": ".py",
   "mimetype": "text/x-python",
   "name": "python",
   "nbconvert_exporter": "python",
   "pygments_lexer": "ipython3",
   "version": "3.6.3"
  }
 },
 "nbformat": 4,
 "nbformat_minor": 2
}
