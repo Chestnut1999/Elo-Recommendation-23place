{
 "cells": [
  {
   "cell_type": "markdown",
   "metadata": {},
   "source": [
    "## 【コロモゴロフスミルノフ検定（KS検定）】"
   ]
  },
  {
   "cell_type": "code",
   "execution_count": 1,
   "metadata": {},
   "outputs": [],
   "source": [
    "%load_ext autoreload\n",
    "%autoreload 2\n",
    "import gc\n",
    "import re\n",
    "import pandas as pd\n",
    "import numpy as np\n",
    "import os\n",
    "import sys\n",
    "HOME = os.path.expanduser(\"~\")\n",
    "sys.path.append(f'{HOME}/kaggle/data_analysis/library')\n",
    "import utils\n",
    "from utils import get_categorical_features, get_numeric_features, reduce_mem_usage\n",
    "\n",
    "from tqdm import tqdm\n",
    "import time\n",
    "import sys\n",
    "\n",
    "os.listdir('../input/')\n",
    "key = 'card_id'\n",
    "target = 'target'\n",
    "ignore_list = [key, target, 'merchant_id', 'first_avtive_month']"
   ]
  },
  {
   "cell_type": "code",
   "execution_count": null,
   "metadata": {},
   "outputs": [
    {
     "name": "stderr",
     "output_type": "stream",
     "text": [
      "100%|██████████| 3/3 [00:00<00:00, 18.08it/s]\n"
     ]
    }
   ],
   "source": [
    "import glob\n",
    "#  Data Load\n",
    "base = utils.read_df_pkl('../input/base_term*0*')\n",
    "win_path = f'../features/4_winner/*.gz'\n",
    "win_path = f'../features/3_third_valid/*.gz'\n",
    "win_path_list = glob.glob(win_path)\n",
    "tmp_path_list = glob.glob('../features/5_tmp/*.gz')\n",
    "# tmp_path_list = []\n",
    "win_path_list += tmp_path_list\n",
    "\n",
    "path_list = win_path_list\n",
    "\n",
    "base_train = base[~base[target].isnull()].reset_index(drop=True)\n",
    "base_test = base[base[target].isnull()].reset_index(drop=True)\n",
    "feature_list = utils.parallel_load_data(path_list=path_list)\n",
    "df = pd.concat(feature_list, axis=1)\n",
    "train = pd.concat([base_train, df.iloc[:len(base_train), :]], axis=1)\n",
    "test = pd.concat([base_test, df.iloc[len(base_train):, :].reset_index(drop=True)], axis=1)"
   ]
  },
  {
   "cell_type": "code",
   "execution_count": null,
   "metadata": {},
   "outputs": [],
   "source": [
    "from scipy.stats import ks_2samp\n",
    "from joblib import Parallel, delayed\n",
    "list_p_value =[]\n",
    "\n",
    "for col in tqdm(df.columns):\n",
    "    list_p_value.append(ks_2samp(test[col] , train[col])[1])\n",
    "\n",
    "se_p = pd.Series(list_p_value, index = df.columns).sort_values() \n",
    "list_discarded = list(se_p[se_p < .1].index)\n",
    "list_discarded = list(set( list_discarded))"
   ]
  },
  {
   "cell_type": "code",
   "execution_count": 13,
   "metadata": {},
   "outputs": [],
   "source": [
    "import shutil\n",
    "for path in path_list:\n",
    "    for col in list_discarded:\n",
    "        if path.count(col):\n",
    "            try:\n",
    "                shutil.move(path, '../features/2_second_valid/')\n",
    "            except FileNotFoundError:\n",
    "                pass"
   ]
  },
  {
   "cell_type": "code",
   "execution_count": 13,
   "metadata": {},
   "outputs": [],
   "source": [
    "import shutil\n",
    "import re\n",
    "import os\n",
    "\n",
    "feature_season = 'season1_features'\n",
    "\n",
    "list_discarded = list(set( list_discarded))\n",
    "for feat in list_discarded:\n",
    "    if feat.count('target'):continue\n",
    "    train_path = f'{feat[:8]}train_{feat[8:]}.gz'.replace('2_1_0', '2_1.0').replace('2_3_0', '2_3.0')\n",
    "    test_path = f'{feat[:8]}test_{feat[8:]}.gz'.replace('2_1_0', '2_1.0').replace('2_3_0', '2_3.0')\n",
    "    if  os.path.exists(f'../{feature_season}/3_third_valid/{train_path}'):\n",
    "        continue\n",
    "    if  os.path.exists(f'../{feature_season}/3_third_valid/{test_path}'):\n",
    "        continue\n",
    "    shutil.move(f'../{feature_season}/4_winner/{train_path}', f'../{feature_season}/3_third_valid/')\n",
    "    shutil.move(f'../{feature_season}/4_winner/{test_path}', f'../{feature_season}/3_third_valid/')"
   ]
  }
 ],
 "metadata": {
  "kernelspec": {
   "display_name": "Python 3",
   "language": "python",
   "name": "python3"
  },
  "language_info": {
   "codemirror_mode": {
    "name": "ipython",
    "version": 3
   },
   "file_extension": ".py",
   "mimetype": "text/x-python",
   "name": "python",
   "nbconvert_exporter": "python",
   "pygments_lexer": "ipython3",
   "version": "3.6.3"
  }
 },
 "nbformat": 4,
 "nbformat_minor": 2
}
