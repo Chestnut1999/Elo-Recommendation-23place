{
 "cells": [
  {
   "cell_type": "markdown",
   "metadata": {},
   "source": [
    "## 【コロモゴロフスミルノフ検定（KS検定）】"
   ]
  },
  {
   "cell_type": "code",
   "execution_count": 1,
   "metadata": {},
   "outputs": [],
   "source": [
    "%load_ext autoreload\n",
    "%autoreload 2\n",
    "import gc\n",
    "import re\n",
    "import pandas as pd\n",
    "import numpy as np\n",
    "import os\n",
    "import sys\n",
    "HOME = os.path.expanduser(\"~\")\n",
    "sys.path.append(f'{HOME}/kaggle/data_analysis/library')\n",
    "import utils\n",
    "from utils import get_categorical_features, get_numeric_features, reduce_mem_usage\n",
    "\n",
    "from tqdm import tqdm\n",
    "import time\n",
    "import sys\n",
    "\n",
    "os.listdir('../input/')\n",
    "key = 'card_id'\n",
    "target = 'target'\n",
    "ignore_list = [key, target, 'merchant_id', 'first_avtive_month']"
   ]
  },
  {
   "cell_type": "code",
   "execution_count": 2,
   "metadata": {},
   "outputs": [
    {
     "name": "stderr",
     "output_type": "stream",
     "text": [
      "100%|██████████| 3/3 [00:00<00:00, 39.59it/s]\n"
     ]
    }
   ],
   "source": [
    "import glob\n",
    "win_path = f'../features/4_winner/*.gz'\n",
    "#  Data Load\n",
    "base = utils.read_df_pkl('../input/base*')\n",
    "win_path_list = glob.glob(win_path)\n",
    "# tmp_path_listには検証中のfeatureを入れてある\n",
    "tmp_path_list = glob.glob('../features/5_tmp/*.gz')\n",
    "#  tmp_path_list = glob.glob('../season1_features/features/5_tmp/*.gz')\n",
    "win_path_list += tmp_path_list\n",
    "\n",
    "train_path_list = []\n",
    "test_path_list = []\n",
    "for path in win_path_list:\n",
    "    if path.count('train'):\n",
    "        train_path_list.append(path)\n",
    "    elif path.count('test'):\n",
    "        test_path_list.append(path)\n",
    "\n",
    "base_train = base[~base[target].isnull()].reset_index(drop=True)\n",
    "base_test = base[base[target].isnull()].reset_index(drop=True)\n",
    "train_feature_list = utils.parallel_load_data(path_list=train_path_list)\n",
    "test_feature_list = utils.parallel_load_data(path_list=test_path_list)\n",
    "train = pd.concat(train_feature_list, axis=1)\n",
    "train = pd.concat([base_train, train], axis=1)\n",
    "test = pd.concat(test_feature_list, axis=1)\n",
    "test = pd.concat([base_test, test], axis=1)"
   ]
  },
  {
   "cell_type": "code",
   "execution_count": 7,
   "metadata": {},
   "outputs": [
    {
     "data": {
      "text/plain": [
       "165_fe3_lag0_-2_auth0_cat1_unix_date_min@                    0.000000e+00\n",
       "166_fe3_new_cat0_month_diff_mean@                            0.000000e+00\n",
       "167_fe3_lag-3_-13_auth1_cat0_month_diff_std@                 0.000000e+00\n",
       "167_fe3_lag-3_-13_auth1_cat1_unix_date_max@                  0.000000e+00\n",
       "165_fe3_lag0_-2_auth1_cat0_month_diff_std@                   0.000000e+00\n",
       "165_fe3_lag0_-2_auth0_cat1_month_diff_mean@                  0.000000e+00\n",
       "165_fe3_lag0_-2_auth0_cat0_unix_date_min@                    0.000000e+00\n",
       "165_fe3_lag0_-2_auth0_cat1_unix_date_max@                    0.000000e+00\n",
       "165_fe3_lag0_-2_auth1_cat1_month_diff_mean@                  0.000000e+00\n",
       "167_fe3_lag-3_-13_auth0_cat1_month_diff_std@                 0.000000e+00\n",
       "167_fe3_lag-3_-13_auth0_cat1_unix_date_min@                  0.000000e+00\n",
       "167_fe3_lag-3_-13_auth1_cat0_unix_date_min@                  0.000000e+00\n",
       "167_fe3_lag-3_-13_auth1_cat1_month_diff_std@                 0.000000e+00\n",
       "167_fe3_lag-3_-13_auth0_cat0_unix_date_min@                  0.000000e+00\n",
       "165_fe3_lag0_-2_auth0_cat0_month_diff_mean@                  0.000000e+00\n",
       "165_fe3_lag0_-2_auth1_cat1_unix_date_min@                    0.000000e+00\n",
       "167_fe3_lag-3_-13_auth1_cat1_unix_date_min@                  0.000000e+00\n",
       "166_fe3_new_cat1_month_diff_mean@                            0.000000e+00\n",
       "165_fe3_lag0_-2_auth1_cat1_month_diff_std@                   0.000000e+00\n",
       "167_fe3_lag-3_-13_auth0_cat0_unix_date_max@                  0.000000e+00\n",
       "165_fe3_lag0_-2_auth0_cat0_month_diff_std@                   0.000000e+00\n",
       "167_fe3_lag-3_-13_auth0_cat0_month_diff_std@                 0.000000e+00\n",
       "166_fe3_new_cat0_month_diff_std@                             0.000000e+00\n",
       "166_fe3_new_cat1_unix_date_max@                              0.000000e+00\n",
       "165_fe3_lag0_-2_auth0_cat0_unix_date_max@                    0.000000e+00\n",
       "167_fe3_lag-3_-13_auth0_cat1_unix_date_max@                  0.000000e+00\n",
       "target                                                       0.000000e+00\n",
       "166_fe3_new_cat0_unix_date_min@                              0.000000e+00\n",
       "166_fe3_new_cat1_unix_date_min@                              0.000000e+00\n",
       "166_fe3_new_cat0_unix_date_max@                              0.000000e+00\n",
       "167_fe3_lag-3_-13_auth1_cat0_unix_date_max@                  0.000000e+00\n",
       "165_fe3_lag0_-2_auth1_cat1_unix_date_max@                    0.000000e+00\n",
       "165_fe3_lag0_-2_auth0_cat1_month_diff_std@                   0.000000e+00\n",
       "165_fe3_lag0_-2_auth1_cat0_unix_date_min@                   2.335045e-162\n",
       "165_fe3_lag0_-2_auth1_cat0_unix_date_max@                   1.567907e-154\n",
       "165_fe3_lag0_-2_auth1_cat0_month_diff_mean@                 1.567907e-154\n",
       "165_fe3_lag0_-2_auth1_cat0_purchase_amount_mean@             2.473188e-02\n",
       "166_fe3_new_cat0_dummie_category_2_1_0_mean@                 2.784559e-02\n",
       "165_fe3_lag0_-2_auth1_cat0_dummie_category_2_3_0_mean@       7.105491e-02\n",
       "167_fe3_lag-3_-13_auth1_cat0_dummie_category_2_3_0_mean@     9.565372e-02\n",
       "167_fe3_lag-3_-13_auth1_cat0_dummie_category_2_3_0_sum@      9.961698e-02\n",
       "dtype: float64"
      ]
     },
     "execution_count": 7,
     "metadata": {},
     "output_type": "execute_result"
    }
   ],
   "source": [
    "from scipy.stats import ks_2samp\n",
    "list_p_value =[]\n",
    "\n",
    "for col in tqdm(train.columns):\n",
    "    list_p_value.append(ks_2samp(test[col] , train[col])[1])\n",
    "\n",
    "se_p = pd.Series(list_p_value, index = train.columns).sort_values() \n",
    "list_discarded = se_p[se_p < .1]\n",
    "list_discarded = set( list_discarded)\n",
    "se_p[se_p < .1]"
   ]
  },
  {
   "cell_type": "code",
   "execution_count": 4,
   "metadata": {},
   "outputs": [
    {
     "data": {
      "text/plain": [
       "{'165_fe3_lag0_-2_auth0_cat0_month_diff_mean@',\n",
       " '165_fe3_lag0_-2_auth0_cat0_month_diff_std@',\n",
       " '165_fe3_lag0_-2_auth0_cat0_unix_date_max@',\n",
       " '165_fe3_lag0_-2_auth0_cat0_unix_date_min@',\n",
       " '165_fe3_lag0_-2_auth0_cat1_month_diff_mean@',\n",
       " '165_fe3_lag0_-2_auth0_cat1_month_diff_std@',\n",
       " '165_fe3_lag0_-2_auth0_cat1_unix_date_max@',\n",
       " '165_fe3_lag0_-2_auth0_cat1_unix_date_min@',\n",
       " '165_fe3_lag0_-2_auth1_cat0_dummie_category_2_3_0_mean@',\n",
       " '165_fe3_lag0_-2_auth1_cat0_month_diff_mean@',\n",
       " '165_fe3_lag0_-2_auth1_cat0_month_diff_std@',\n",
       " '165_fe3_lag0_-2_auth1_cat0_purchase_amount_mean@',\n",
       " '165_fe3_lag0_-2_auth1_cat0_unix_date_max@',\n",
       " '165_fe3_lag0_-2_auth1_cat0_unix_date_min@',\n",
       " '165_fe3_lag0_-2_auth1_cat1_month_diff_mean@',\n",
       " '165_fe3_lag0_-2_auth1_cat1_month_diff_std@',\n",
       " '165_fe3_lag0_-2_auth1_cat1_unix_date_max@',\n",
       " '165_fe3_lag0_-2_auth1_cat1_unix_date_min@',\n",
       " '166_fe3_new_cat0_dummie_category_2_1_0_mean@',\n",
       " '166_fe3_new_cat0_month_diff_mean@',\n",
       " '166_fe3_new_cat0_month_diff_std@',\n",
       " '166_fe3_new_cat0_unix_date_max@',\n",
       " '166_fe3_new_cat0_unix_date_min@',\n",
       " '166_fe3_new_cat1_month_diff_mean@',\n",
       " '166_fe3_new_cat1_unix_date_max@',\n",
       " '166_fe3_new_cat1_unix_date_min@',\n",
       " '167_fe3_lag-3_-13_auth0_cat0_month_diff_std@',\n",
       " '167_fe3_lag-3_-13_auth0_cat0_unix_date_max@',\n",
       " '167_fe3_lag-3_-13_auth0_cat0_unix_date_min@',\n",
       " '167_fe3_lag-3_-13_auth0_cat1_month_diff_std@',\n",
       " '167_fe3_lag-3_-13_auth0_cat1_unix_date_max@',\n",
       " '167_fe3_lag-3_-13_auth0_cat1_unix_date_min@',\n",
       " '167_fe3_lag-3_-13_auth1_cat0_dummie_category_2_3_0_mean@',\n",
       " '167_fe3_lag-3_-13_auth1_cat0_dummie_category_2_3_0_sum@',\n",
       " '167_fe3_lag-3_-13_auth1_cat0_month_diff_std@',\n",
       " '167_fe3_lag-3_-13_auth1_cat0_unix_date_max@',\n",
       " '167_fe3_lag-3_-13_auth1_cat0_unix_date_min@',\n",
       " '167_fe3_lag-3_-13_auth1_cat1_month_diff_std@',\n",
       " '167_fe3_lag-3_-13_auth1_cat1_unix_date_max@',\n",
       " '167_fe3_lag-3_-13_auth1_cat1_unix_date_min@',\n",
       " 'target'}"
      ]
     },
     "execution_count": 4,
     "metadata": {},
     "output_type": "execute_result"
    }
   ],
   "source": [
    "list_discarded"
   ]
  },
  {
   "cell_type": "code",
   "execution_count": 6,
   "metadata": {},
   "outputs": [],
   "source": [
    "import shutil\n",
    "import re\n",
    "import os\n",
    "\n",
    "list_discarded = list(set( list_discarded))\n",
    "for feat in list_discarded:\n",
    "    if feat.count('target'):continue\n",
    "    train_path = f'{feat[:8]}train_{feat[8:]}.gz'.replace('2_1_0', '2_1.0').replace('2_3_0', '2_3.0')\n",
    "    test_path = f'{feat[:8]}test_{feat[8:]}.gz'.replace('2_1_0', '2_1.0').replace('2_3_0', '2_3.0')\n",
    "    if  os.path.exists(f'../features/3_third_valid/{train_path}'):\n",
    "        continue\n",
    "    if  os.path.exists(f'../features/3_third_valid/{test_path}'):\n",
    "        continue\n",
    "    shutil.move(f'../features/4_winner/{train_path}', '../features/3_third_valid/')\n",
    "    shutil.move(f'../features/4_winner/{test_path}', '../features/3_third_valid/')"
   ]
  }
 ],
 "metadata": {
  "kernelspec": {
   "display_name": "Python 3",
   "language": "python",
   "name": "python3"
  },
  "language_info": {
   "codemirror_mode": {
    "name": "ipython",
    "version": 3
   },
   "file_extension": ".py",
   "mimetype": "text/x-python",
   "name": "python",
   "nbconvert_exporter": "python",
   "pygments_lexer": "ipython3",
   "version": "3.6.3"
  }
 },
 "nbformat": 4,
 "nbformat_minor": 2
}
