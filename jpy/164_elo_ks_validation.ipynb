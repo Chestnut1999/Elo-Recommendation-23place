{
 "cells": [
  {
   "cell_type": "markdown",
   "metadata": {},
   "source": [
    "## 【コロモゴロフスミルノフ検定（KS検定）】"
   ]
  },
  {
   "cell_type": "code",
   "execution_count": 1,
   "metadata": {},
   "outputs": [],
   "source": [
    "%load_ext autoreload\n",
    "%autoreload 2\n",
    "import gc\n",
    "import re\n",
    "import pandas as pd\n",
    "import numpy as np\n",
    "import os\n",
    "import sys\n",
    "HOME = os.path.expanduser(\"~\")\n",
    "sys.path.append(f'{HOME}/kaggle/data_analysis/library')\n",
    "import utils\n",
    "from utils import get_categorical_features, get_numeric_features, reduce_mem_usage\n",
    "\n",
    "from tqdm import tqdm\n",
    "import time\n",
    "import sys\n",
    "\n",
    "os.listdir('../input/')\n",
    "key = 'card_id'\n",
    "target = 'target'\n",
    "ignore_list = [key, target, 'merchant_id', 'first_avtive_month']"
   ]
  },
  {
   "cell_type": "code",
   "execution_count": 2,
   "metadata": {},
   "outputs": [
    {
     "name": "stderr",
     "output_type": "stream",
     "text": [
      "100%|██████████| 3/3 [00:00<00:00, 74.04it/s]\n"
     ]
    }
   ],
   "source": [
    "import glob\n",
    "win_path = f'../season1_features/4_winner/*.gz'\n",
    "#  Data Load\n",
    "base = utils.read_df_pkl('../input/base*')\n",
    "win_path_list = glob.glob(win_path)\n",
    "# tmp_path_listには検証中のfeatureを入れてある\n",
    "# tmp_path_list = glob.glob('../features/5_tmp/*.gz')\n",
    "# tmp_path_list = glob.glob('../season1_features/5_tmp/*.gz')\n",
    "tmp_path_list = []\n",
    "win_path_list += tmp_path_list\n",
    "\n",
    "train_path_list = []\n",
    "test_path_list = []\n",
    "for path in win_path_list:\n",
    "    if path.count('train'):\n",
    "        train_path_list.append(path)\n",
    "    elif path.count('test'):\n",
    "        test_path_list.append(path)\n",
    "\n",
    "base_train = base[~base[target].isnull()].reset_index(drop=True)\n",
    "base_test = base[base[target].isnull()].reset_index(drop=True)\n",
    "train_feature_list = utils.parallel_load_data(path_list=train_path_list)\n",
    "test_feature_list = utils.parallel_load_data(path_list=test_path_list)\n",
    "train = pd.concat(train_feature_list, axis=1)\n",
    "train = pd.concat([base_train, train], axis=1)\n",
    "test = pd.concat(test_feature_list, axis=1)\n",
    "test = pd.concat([base_test, test], axis=1)"
   ]
  },
  {
   "cell_type": "code",
   "execution_count": 12,
   "metadata": {},
   "outputs": [
    {
     "data": {
      "text/plain": [
       "target                                      0.000000\n",
       "114_mer_merchant_id_M_ID_cd2c0b07e9@        0.036328\n",
       "110_ker_hist_category_2_1_0_mean            0.041398\n",
       "152_new_new_purchase_amount_mean@           0.043279\n",
       "117_ah1_auth1_hist_category_2_mean_mean@    0.049873\n",
       "152_ah1_auth1_hist_purchase_amount_sum@     0.056719\n",
       "118_ah0_auth0_hist_category_2_mean_mean@    0.072399\n",
       "110_ker_auth_category_2_3_0_mean            0.100639\n",
       "111_ker_new_hist_month_lag_mean@            0.112871\n",
       "152_new_new_purchase_amount_sum@            0.119271\n",
       "152_ah1_auth1_hist_purchase_amount_min@     0.122635\n",
       "111_ker_hist_weekend_mean@                  0.156382\n",
       "139_com_auth1_continuous_month_max@         0.162315\n",
       "130_ddf_hist_last10_date_diff_mean@         0.166421\n",
       "152_ah1_auth1_hist_purchase_amount_max@     0.171231\n",
       "110_ker_new_category_2_3_0_mean             0.177672\n",
       "110_ker_auth_category_2_1_0_mean            0.188194\n",
       "111_ker_hist_month_lag_mean@                0.189343\n",
       "111_ker_new_hist_category_3_mean_mean@      0.201068\n",
       "110_ker_new_category_2_1_0_mean             0.204736\n",
       "117_ah1_auth1_hist_month_diff_mean@         0.208031\n",
       "152_new_new_purchase_amount_max@            0.210023\n",
       "118_ah0_auth0_hist_month_diff_mean@         0.222030\n",
       "123_mai_diff_hist_new_main_city_ratio@      0.222045\n",
       "152_ah1_auth1_hist_purchase_amount_mean@    0.251899\n",
       "110_ker_hist_category_2_3_0_mean            0.258726\n",
       "152_ah0_auth0_hist_purchase_amount_max@     0.261085\n",
       "dtype: float64"
      ]
     },
     "execution_count": 12,
     "metadata": {},
     "output_type": "execute_result"
    }
   ],
   "source": [
    "# from scipy.stats import ks_2samp\n",
    "# list_p_value =[]\n",
    "\n",
    "# for col in tqdm(train.columns):\n",
    "#     list_p_value.append(ks_2samp(test[col] , train[col])[1])\n",
    "\n",
    "se_p = pd.Series(list_p_value, index = train.columns).sort_values() \n",
    "# list_discarded = list(se_p[se_p < .1].index)\n",
    "list_discarded = list(se_p[se_p < .3].index)\n",
    "list_discarded = list(set( list_discarded))\n",
    "se_p[se_p < .3]"
   ]
  },
  {
   "cell_type": "code",
   "execution_count": 9,
   "metadata": {},
   "outputs": [
    {
     "data": {
      "text/plain": [
       "['118_ah0_auth0_hist_category_2_mean_mean@',\n",
       " 'target',\n",
       " '152_new_new_purchase_amount_mean@',\n",
       " '152_ah1_auth1_hist_purchase_amount_sum@',\n",
       " '114_mer_merchant_id_M_ID_cd2c0b07e9@',\n",
       " '110_ker_hist_category_2_1_0_mean',\n",
       " '117_ah1_auth1_hist_category_2_mean_mean@']"
      ]
     },
     "execution_count": 9,
     "metadata": {},
     "output_type": "execute_result"
    }
   ],
   "source": [
    "list_discarded"
   ]
  },
  {
   "cell_type": "code",
   "execution_count": 13,
   "metadata": {},
   "outputs": [],
   "source": [
    "import shutil\n",
    "import re\n",
    "import os\n",
    "\n",
    "feature_season = 'season1_features'\n",
    "\n",
    "list_discarded = list(set( list_discarded))\n",
    "for feat in list_discarded:\n",
    "    if feat.count('target'):continue\n",
    "    train_path = f'{feat[:8]}train_{feat[8:]}.gz'.replace('2_1_0', '2_1.0').replace('2_3_0', '2_3.0')\n",
    "    test_path = f'{feat[:8]}test_{feat[8:]}.gz'.replace('2_1_0', '2_1.0').replace('2_3_0', '2_3.0')\n",
    "    if  os.path.exists(f'../{feature_season}/3_third_valid/{train_path}'):\n",
    "        continue\n",
    "    if  os.path.exists(f'../{feature_season}/3_third_valid/{test_path}'):\n",
    "        continue\n",
    "    shutil.move(f'../{feature_season}/4_winner/{train_path}', f'../{feature_season}/3_third_valid/')\n",
    "    shutil.move(f'../{feature_season}/4_winner/{test_path}', f'../{feature_season}/3_third_valid/')"
   ]
  }
 ],
 "metadata": {
  "kernelspec": {
   "display_name": "Python 3",
   "language": "python",
   "name": "python3"
  },
  "language_info": {
   "codemirror_mode": {
    "name": "ipython",
    "version": 3
   },
   "file_extension": ".py",
   "mimetype": "text/x-python",
   "name": "python",
   "nbconvert_exporter": "python",
   "pygments_lexer": "ipython3",
   "version": "3.6.3"
  }
 },
 "nbformat": 4,
 "nbformat_minor": 2
}
