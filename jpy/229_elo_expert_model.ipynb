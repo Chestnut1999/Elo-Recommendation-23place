{
 "cells": [
  {
   "cell_type": "code",
   "execution_count": 1,
   "metadata": {},
   "outputs": [
    {
     "name": "stderr",
     "output_type": "stream",
     "text": [
      "2019-02-09 20:38:23,294 utils 400 [INFO]    [logger_func] start \n"
     ]
    }
   ],
   "source": [
    "import sys\n",
    "import pandas as pd\n",
    "#========================================================================\n",
    "# Args\n",
    "#========================================================================\n",
    "key = 'card_id'\n",
    "target = 'target'\n",
    "col_term = 'hist_regist_term'\n",
    "no_flg = 'no_out_flg'\n",
    "ignore_list = [key, target, 'merchant_id', 'first_active_month', 'index', 'personal_term', col_term, no_flg]\n",
    "stack_name='en_route'\n",
    "fname=''\n",
    "submit = pd.read_csv('../input/sample_submission.csv')\n",
    "import numpy as np\n",
    "import datetime\n",
    "import glob\n",
    "import gc\n",
    "import os\n",
    "from sklearn.metrics import mean_squared_error\n",
    "HOME = os.path.expanduser('~')\n",
    "\n",
    "sys.path.append(f'{HOME}/kaggle/data_analysis/model')\n",
    "from params_lgbm import params_elo\n",
    "sys.path.append(f'{HOME}/kaggle/data_analysis')\n",
    "from model.lightgbm_ex import lightgbm_ex as lgb_ex\n",
    "\n",
    "sys.path.append(f\"{HOME}/kaggle/data_analysis/library/\")\n",
    "import utils\n",
    "from preprocessing import get_ordinal_mapping\n",
    "from utils import logger_func\n",
    "try:\n",
    "    if not logger:\n",
    "        logger=logger_func()\n",
    "except NameError:\n",
    "    logger=logger_func()\n",
    "\n",
    "from sklearn.linear_model import LogisticRegression\n",
    "from sklearn.ensemble import ExtraTreesClassifier"
   ]
  },
  {
   "cell_type": "code",
   "execution_count": 9,
   "metadata": {},
   "outputs": [
    {
     "name": "stderr",
     "output_type": "stream",
     "text": [
      "3it [00:00, 84.86it/s]"
     ]
    },
    {
     "name": "stdout",
     "output_type": "stream",
     "text": [
      "shape: (156298, 4)\n"
     ]
    },
    {
     "name": "stderr",
     "output_type": "stream",
     "text": [
      "\n"
     ]
    }
   ],
   "source": [
    "# Scoreが伸びにくい201605~201706に特化したモデルを作る為のBaseを作る\n",
    "fam = 'first_active_month'\n",
    "base = utils.read_df_pkl('../input/base_term*0*').set_index(key)\n",
    "fam_165_176 = base[base[fam]>='2016-05-01'][base[fam]<='2017-06-01'].reset_index()\n",
    "utils.to_df_pkl(df=fam_165_176[[key, target, fam, 'hist_regist_term']], path='../input', fname='fam_165_176')"
   ]
  }
 ],
 "metadata": {
  "kernelspec": {
   "display_name": "Python 3",
   "language": "python",
   "name": "python3"
  },
  "language_info": {
   "codemirror_mode": {
    "name": "ipython",
    "version": 3
   },
   "file_extension": ".py",
   "mimetype": "text/x-python",
   "name": "python",
   "nbconvert_exporter": "python",
   "pygments_lexer": "ipython3",
   "version": "3.6.3"
  }
 },
 "nbformat": 4,
 "nbformat_minor": 2
}
