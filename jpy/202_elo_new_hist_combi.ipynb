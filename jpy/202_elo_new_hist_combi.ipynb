{
 "cells": [
  {
   "cell_type": "code",
   "execution_count": 2,
   "metadata": {},
   "outputs": [
    {
     "name": "stdout",
     "output_type": "stream",
     "text": [
      "The autoreload extension is already loaded. To reload it, use:\n",
      "  %reload_ext autoreload\n"
     ]
    }
   ],
   "source": [
    "%load_ext autoreload\n",
    "%autoreload 2\n",
    "import gc\n",
    "import re\n",
    "import pandas as pd\n",
    "from __future__ import print_function, division\n",
    "import numpy as np\n",
    "import matplotlib.pyplot as plt\n",
    "%matplotlib inline\n",
    "import seaborn as sns\n",
    "sns.set()\n",
    "pd.set_option('max_columns', 200)\n",
    "pd.set_option('max_rows', 200)\n",
    "import os\n",
    "import sys\n",
    "HOME = os.path.expanduser(\"~\")\n",
    "sys.path.append(f'{HOME}/kaggle/data_analysis/library')\n",
    "import utils\n",
    "import datetime\n",
    "\n",
    "from tqdm import tqdm\n",
    "import time\n",
    "import sys\n",
    "import glob\n",
    "\n",
    "os.listdir('../input/')\n",
    "key = 'card_id'\n",
    "target = 'target'\n",
    "ignore_list = [key, target, 'merchant_id', 'first_avtive_month']"
   ]
  },
  {
   "cell_type": "code",
   "execution_count": 10,
   "metadata": {},
   "outputs": [
    {
     "name": "stdout",
     "output_type": "stream",
     "text": [
      "['../features/all_features/173_l35_org_lag3_5_auth1_monthly_avg_purchase_amount_min@.gz', '../features/all_features/173_l35_org_lag3_5_auth1_monthly_avg_purchase_amount_sum@.gz', '../features/all_features/173_l35_org_lag3_5_auth1_monthly_avg_month_lag_std@.gz', '../features/all_features/173_l35_org_lag3_5_auth1_monthly_avg_category_2_1_0_mean@.gz', '../features/all_features/173_l35_org_lag3_5_auth1_monthly_avg_yyyy_week_nunique@.gz']\n"
     ]
    }
   ],
   "source": []
  },
  {
   "cell_type": "code",
   "execution_count": 34,
   "metadata": {},
   "outputs": [],
   "source": [
    "hist_lag = 68\n",
    "new_lag = 910\n",
    "\n",
    "hist_path_list = glob.glob(f'../features/all_features/*l{hist_lag}*auth1*')\n",
    "hist_path_list = [p for p in hist_path_list if not(p.count('new'))]\n",
    "month_hist_path_list = [p for p in hist_path_list if p.count('monthly')]\n",
    "\n",
    "new_path_list = glob.glob(f'../features/all_features/*l{new_lag}*auth1*new*')\n",
    "month_new_path_list = [p for p in new_path_list if p.count('monthly')]\n",
    "\n",
    "prefix = f'202_l{new_lag}'\n",
    "for month_hist_path in month_hist_path_list:\n",
    "    month_hist_name = re.search(r'monthly_([^/.]*).gz', month_hist_path).group(1).replace('@', '')\n",
    "    for month_new_path in month_new_path_list:\n",
    "        month_new_name = re.search(r'monthly_([^/.]*).gz', month_new_path).group(1).replace('@', '')\n",
    "        if month_hist_name == month_new_name:\n",
    "            \n",
    "            hist_feat = utils.read_pkl_gzip(month_hist_path)\n",
    "            new_feat = utils.read_pkl_gzip(month_new_path)\n",
    "            ratio = hist_feat / (new_feat + 1.0e-5)\n",
    "            diff  = hist_feat - new_feat\n",
    "            \n",
    "            utils.to_pkl_gzip(obj=ratio , path=f'../features/1_first_valid/{prefix}_hist_new_ratio_{month_hist_name}')\n",
    "            utils.to_pkl_gzip(obj=diff , path=f'../features/1_first_valid/{prefix}_hist_new_diff_{month_hist_name}')"
   ]
  }
 ],
 "metadata": {
  "kernelspec": {
   "display_name": "Python 3",
   "language": "python",
   "name": "python3"
  },
  "language_info": {
   "codemirror_mode": {
    "name": "ipython",
    "version": 3
   },
   "file_extension": ".py",
   "mimetype": "text/x-python",
   "name": "python",
   "nbconvert_exporter": "python",
   "pygments_lexer": "ipython3",
   "version": "3.6.3"
  }
 },
 "nbformat": 4,
 "nbformat_minor": 2
}
