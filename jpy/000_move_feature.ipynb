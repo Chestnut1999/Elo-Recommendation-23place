{
 "cells": [
  {
   "cell_type": "code",
   "execution_count": 1,
   "metadata": {},
   "outputs": [],
   "source": [
    "import glob\n",
    "import shutil\n",
    "import pandas as pd\n",
    "# valid = pd.read_csv('../valid/0205_223_valid_lgb_lr0.01_219feats_1seed_68leaves_iter1218_OUT29.8707_CV3.623561816502695_LB.csv')\n",
    "# valid[['feature', 'rank']]"
   ]
  },
  {
   "cell_type": "code",
   "execution_count": 5,
   "metadata": {},
   "outputs": [],
   "source": [
    "first_path = '../features/1_first_valid/*'\n",
    "second_path = '../features/2_second_valid/'\n",
    "win_path = '../features/4_winner/'\n",
    "tmp_path = '../features/5_tmp/'\n",
    "path_list = glob.glob('../features/4_winner/*.gz')\n",
    "path_list = glob.glob(first_path)[:500]\n",
    "\n",
    "# rank = 156\n",
    "# feature = valid[valid['rank']==rank]['feature'].values[0]\n",
    "feature = ''\n",
    "\n",
    "for move_path in path_list:\n",
    "    if not(move_path.count(feature)):\n",
    "        continue\n",
    "    try:\n",
    "#         shutil.move(move_path, second_path)\n",
    "        shutil.move(move_path, tmp_path)\n",
    "    except FileNotFoundError:\n",
    "        print(f'FileNotFoundError: {move_path}')\n",
    "    except shutil.Error:\n",
    "        print(f'Shutil Error: {move_path}')"
   ]
  },
  {
   "cell_type": "code",
   "execution_count": 5,
   "metadata": {},
   "outputs": [],
   "source": [
    "move_list = ['111_ker_hist_merchant_i'\n",
    "\n",
    "second_path = '../features/2_second_valid/'\n",
    "path_list = glob.glob('../features/4_winner/*.gz')\n",
    "\n",
    "for move_path in path_list:\n",
    "    for feature in move_list:\n",
    "        if move_path.count(feature):\n",
    "            if not(move_path.count(feature)):\n",
    "                continue\n",
    "            try:\n",
    "                shutil.move(move_path, second_path)\n",
    "            except FileNotFoundError:\n",
    "                print(f'FileNotFoundError: {move_path}')\n",
    "            except shutil.Error:\n",
    "                print(f'Shutil Error: {move_path}')"
   ]
  }
 ],
 "metadata": {
  "kernelspec": {
   "display_name": "Python 3",
   "language": "python",
   "name": "python3"
  },
  "language_info": {
   "codemirror_mode": {
    "name": "ipython",
    "version": 3
   },
   "file_extension": ".py",
   "mimetype": "text/x-python",
   "name": "python",
   "nbconvert_exporter": "python",
   "pygments_lexer": "ipython3",
   "version": "3.6.3"
  }
 },
 "nbformat": 4,
 "nbformat_minor": 2
}
