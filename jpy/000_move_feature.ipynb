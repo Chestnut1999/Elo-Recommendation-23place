{
 "cells": [
  {
   "cell_type": "code",
   "execution_count": 4,
   "metadata": {},
   "outputs": [],
   "source": [
    "%load_ext autoreload\n",
    "%autoreload 2\n",
    "import glob\n",
    "import shutil\n",
    "import sys\n",
    "import pandas as pd\n",
    "import numpy as np\n",
    "import re\n",
    "import os\n",
    "sys.path.append('../py/')\n",
    "from s027_kfold_ods import ods_kfold\n",
    "HOME = os.path.expanduser(\"~\")\n",
    "sys.path.append(f'{HOME}/kaggle/data_analysis/library')\n",
    "import utils"
   ]
  },
  {
   "cell_type": "code",
   "execution_count": 9,
   "metadata": {},
   "outputs": [],
   "source": [
    "#========================================================================\n",
    "# Rename\n",
    "path_list = glob.glob('../ensemble/pmo_all_stack_level1/*.gz')\n",
    "for path in path_list:\n",
    "    if not(path.count('valid')):\n",
    "        tmp = utils.read_pkl_gzip(path)\n",
    "        new_path = path.replace('stack_lgb_', 'stack_lgb_valid-pmo_')\n",
    "        utils.to_pkl_gzip(obj=tmp, path=new_path[:-3])\n",
    "        os.system(f'rm {path}')\n",
    "#========================================================================"
   ]
  },
  {
   "cell_type": "code",
   "execution_count": 109,
   "metadata": {},
   "outputs": [],
   "source": [
    "first_path = '../features/1_first_valid/*.gz'\n",
    "second_path = '../features/2_second_valid/'\n",
    "third_path = '../features/3_third_valid/*.gz'\n",
    "win_path = '../features/4_winner/'\n",
    "tmp_path = '../features/5_tmp/'\n",
    "path_list = glob.glob('../features/4_winner/*.gz')\n",
    "path_list = glob.glob('../features/3_third_valid/*.gz')[:500]\n",
    "# path_list = glob.glob(third_path)[:500]\n",
    "\n",
    "# rank = 96\n",
    "# feature = valid[valid['rank']==rank]['feature'].values[0]\n",
    "feature = ''\n",
    "\n",
    "for move_path in path_list:\n",
    "    if not(move_path.count(feature)):\n",
    "        continue\n",
    "    try:\n",
    "#         shutil.move(move_path, win_path)\n",
    "        shutil.move(move_path, tmp_path)\n",
    "#         shutil.move(move_path, second_path)\n",
    "    except FileNotFoundError:\n",
    "        print(f'FileNotFoundError: {move_path}')\n",
    "    except shutil.Error:\n",
    "        print(f'Shutil Error: {move_path}')"
   ]
  },
  {
   "cell_type": "code",
   "execution_count": 5,
   "metadata": {},
   "outputs": [],
   "source": [
    "move_list = ['111_ker_hist_merchant_i'\n",
    "\n",
    "second_path = '../features/2_second_valid/'\n",
    "path_list = glob.glob('../features/4_winner/*.gz')\n",
    "\n",
    "for move_path in path_list:\n",
    "    for feature in move_list:\n",
    "        if move_path.count(feature):\n",
    "            if not(move_path.count(feature)):\n",
    "                continue\n",
    "            try:\n",
    "                shutil.move(move_path, second_path)\n",
    "            except FileNotFoundError:\n",
    "                print(f'FileNotFoundError: {move_path}')\n",
    "            except shutil.Error:\n",
    "                print(f'Shutil Error: {move_path}')"
   ]
  },
  {
   "cell_type": "code",
   "execution_count": 106,
   "metadata": {},
   "outputs": [],
   "source": [
    "import re\n",
    "path_list = glob.glob('../features/4_winner/*.gz')\n",
    "path_300_list = glob.glob('../features/8_ensemble/*.gz')\n",
    "\n",
    "for path in path_list:\n",
    "    filename = re.search(r'/([^/.]*).gz', path).group(1)[4:]\n",
    "    for p300 in path_300_list:\n",
    "        if p300.count(filename):\n",
    "            shutil.move(p300, '../features/5_tmp/')"
   ]
  }
 ],
 "metadata": {
  "kernelspec": {
   "display_name": "Python 3",
   "language": "python",
   "name": "python3"
  },
  "language_info": {
   "codemirror_mode": {
    "name": "ipython",
    "version": 3
   },
   "file_extension": ".py",
   "mimetype": "text/x-python",
   "name": "python",
   "nbconvert_exporter": "python",
   "pygments_lexer": "ipython3",
   "version": "3.6.3"
  }
 },
 "nbformat": 4,
 "nbformat_minor": 2
}
