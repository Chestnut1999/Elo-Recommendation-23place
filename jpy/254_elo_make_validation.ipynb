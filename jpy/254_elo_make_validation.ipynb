{
 "cells": [
  {
   "cell_type": "code",
   "execution_count": 1,
   "metadata": {},
   "outputs": [],
   "source": [
    "%load_ext autoreload\n",
    "%autoreload 2\n",
    "import gc\n",
    "import re\n",
    "import pandas as pd\n",
    "from __future__ import print_function, division\n",
    "import numpy as np\n",
    "import matplotlib.pyplot as plt\n",
    "%matplotlib inline\n",
    "import seaborn as sns\n",
    "sns.set()\n",
    "pd.set_option('max_columns', 200)\n",
    "pd.set_option('max_rows', 200)\n",
    "import os\n",
    "import sys\n",
    "HOME = os.path.expanduser(\"~\")\n",
    "sys.path.append(f'{HOME}/kaggle/data_analysis/library')\n",
    "import utils\n",
    "from utils import get_categorical_features, get_numeric_features\n",
    "import datetime\n",
    "import time\n",
    "from tqdm import tqdm\n",
    "import sys\n",
    "import glob\n",
    "\n",
    "key = 'card_id'\n",
    "target = 'target'\n",
    "ignore_list = [key, target, 'merchant_id', 'first_avtive_month']"
   ]
  },
  {
   "cell_type": "code",
   "execution_count": 2,
   "metadata": {},
   "outputs": [
    {
     "data": {
      "text/plain": [
       "(270671, 17)"
      ]
     },
     "execution_count": 2,
     "metadata": {},
     "output_type": "execute_result"
    }
   ],
   "source": [
    "base = utils.read_pkl_gzip('../input/base_no_out_clf.gz')\n",
    "lazy_target = base[base['clf_pred']<0.01]\n",
    "eazy_target = base[base['clf_pred']>=0.01]\n",
    "lazy_target.shape"
   ]
  },
  {
   "cell_type": "code",
   "execution_count": 4,
   "metadata": {},
   "outputs": [],
   "source": [
    "#========================================================================\n",
    "# 1. Outlierの分類が困難なグループでKfoldを作る\n",
    "from sklearn.model_selection import StratifiedKFold, KFold\n",
    "\n",
    "fold_seed = 328\n",
    "seed = 328\n",
    "train = lazy_target\n",
    "\n",
    "train['rounded_target'] = train['target'].round(0)\n",
    "train = train.sort_values('rounded_target').reset_index(drop=True)\n",
    "vc = train['rounded_target'].value_counts()\n",
    "vc = dict(sorted(vc.items()))\n",
    "df = pd.DataFrame()\n",
    "train['indexcol'],idx = 0,1\n",
    "for k,v in vc.items():\n",
    "    step = train.shape[0]/v\n",
    "    indent = train.shape[0]/(v+1)\n",
    "    df2 = train[train['rounded_target'] == k].sample(v, random_state=fold_seed).reset_index(drop=True)\n",
    "    for j in range(0, v):\n",
    "        df2.at[j, 'indexcol'] = indent + j*step + 0.000001*idx\n",
    "    df = pd.concat([df2,df])\n",
    "    idx+=1\n",
    "train = df.sort_values('indexcol', ascending=True).reset_index(drop=True)\n",
    "del train['indexcol'], train['rounded_target']\n",
    "\n",
    "folds = KFold(n_splits=6, shuffle=False, random_state=fold_seed)\n",
    "kfold = list(folds.split(train, train[target].values))\n",
    "\n",
    "# card_id listにする\n",
    "trn_list = []\n",
    "val_list = []\n",
    "for trn, val in kfold:\n",
    "    trn_ids = train.iloc[trn][key].values\n",
    "    val_ids = train.iloc[val][key].values\n",
    "    trn_list.append(trn_ids)\n",
    "    val_list.append(val_ids)\n",
    "kfold_lazy = [trn_list, val_list]\n",
    "#========================================================================"
   ]
  },
  {
   "cell_type": "code",
   "execution_count": 7,
   "metadata": {},
   "outputs": [],
   "source": [
    "#========================================================================\n",
    "# 1. Outlierの分類が困難なグループでKfoldを作る\n",
    "from sklearn.model_selection import StratifiedKFold, KFold\n",
    "\n",
    "fold_seed = 328\n",
    "seed = 328\n",
    "train = eazy_target\n",
    "\n",
    "train['rounded_target'] = train['target'].round(0)\n",
    "train = train.sort_values('rounded_target').reset_index(drop=True)\n",
    "vc = train['rounded_target'].value_counts()\n",
    "vc = dict(sorted(vc.items()))\n",
    "df = pd.DataFrame()\n",
    "train['indexcol'],idx = 0,1\n",
    "for k,v in vc.items():\n",
    "    step = train.shape[0]/v\n",
    "    indent = train.shape[0]/(v+1)\n",
    "    df2 = train[train['rounded_target'] == k].sample(v, random_state=fold_seed).reset_index(drop=True)\n",
    "    for j in range(0, v):\n",
    "        df2.at[j, 'indexcol'] = indent + j*step + 0.000001*idx\n",
    "    df = pd.concat([df2,df])\n",
    "    idx+=1\n",
    "train = df.sort_values('indexcol', ascending=True).reset_index(drop=True)\n",
    "del train['indexcol'], train['rounded_target']\n",
    "\n",
    "folds = KFold(n_splits=6, shuffle=False, random_state=fold_seed)\n",
    "kfold = list(folds.split(train, train[target].values))\n",
    "\n",
    "# card_id listにする\n",
    "trn_list = []\n",
    "val_list = []\n",
    "for trn, val in kfold:\n",
    "    trn_ids = train.iloc[trn][key].values\n",
    "    val_ids = train.iloc[val][key].values\n",
    "    trn_list.append(trn_ids)\n",
    "    val_list.append(val_ids)\n",
    "kfold_easy = [trn_list, val_list]\n",
    "#========================================================================"
   ]
  },
  {
   "cell_type": "code",
   "execution_count": 19,
   "metadata": {},
   "outputs": [],
   "source": [
    "trn_list = []\n",
    "val_list = []\n",
    "for (trn_1, val_1), (trn_2, val_2) in zip( zip(*kfold_lazy) , zip(*kfold_easy)):\n",
    "    trn_ids = list(trn_1) + list(trn_2)\n",
    "    val_ids = list(val_1) + list(val_2)\n",
    "    \n",
    "    trn_list.append(trn_ids)\n",
    "    val_list.append(val_ids)\n",
    "kfold = [trn_list, val_list]"
   ]
  },
  {
   "cell_type": "code",
   "execution_count": 21,
   "metadata": {},
   "outputs": [],
   "source": [
    "utils.to_pkl_gzip(obj=kfold, path='../input/kfold_ods_equal_seed328')"
   ]
  }
 ],
 "metadata": {
  "kernelspec": {
   "display_name": "Python 3",
   "language": "python",
   "name": "python3"
  },
  "language_info": {
   "codemirror_mode": {
    "name": "ipython",
    "version": 3
   },
   "file_extension": ".py",
   "mimetype": "text/x-python",
   "name": "python",
   "nbconvert_exporter": "python",
   "pygments_lexer": "ipython3",
   "version": "3.6.3"
  }
 },
 "nbformat": 4,
 "nbformat_minor": 2
}
