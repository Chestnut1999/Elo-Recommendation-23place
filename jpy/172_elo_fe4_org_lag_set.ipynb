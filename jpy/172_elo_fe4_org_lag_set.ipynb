{
 "cells": [
  {
   "cell_type": "markdown",
   "metadata": {},
   "source": [
    "### 172\n",
    "Make original month lag set"
   ]
  },
  {
   "cell_type": "code",
   "execution_count": 1,
   "metadata": {
    "ExecuteTime": {
     "end_time": "2018-10-28T07:40:08.183701Z",
     "start_time": "2018-10-28T07:40:07.309627Z"
    },
    "collapsed": true
   },
   "outputs": [],
   "source": [
    "%load_ext autoreload\n",
    "%autoreload 2\n",
    "import gc\n",
    "import re\n",
    "import pandas as pd\n",
    "from __future__ import print_function, division\n",
    "import numpy as np\n",
    "import matplotlib.pyplot as plt\n",
    "%matplotlib inline\n",
    "import seaborn as sns\n",
    "sns.set()\n",
    "pd.set_option('max_columns', 200)\n",
    "pd.set_option('max_rows', 200)\n",
    "import os\n",
    "import sys\n",
    "HOME = os.path.expanduser(\"~\")\n",
    "sys.path.append(f'{HOME}/kaggle/data_analysis/library')\n",
    "import utils\n",
    "from utils import get_categorical_features, get_numeric_features, reduce_mem_usage\n",
    "from preprocessing import get_dummies\n",
    "import datetime\n",
    "\n",
    "from tqdm import tqdm\n",
    "import time\n",
    "import sys\n",
    "\n",
    "os.listdir('../input/')\n",
    "key = 'card_id'\n",
    "target = 'target'\n",
    "ignore_list = [key, target, 'merchant_id', 'first_avtive_month']"
   ]
  },
  {
   "cell_type": "markdown",
   "metadata": {},
   "source": [
    "### Data Load"
   ]
  },
  {
   "cell_type": "code",
   "execution_count": 2,
   "metadata": {},
   "outputs": [
    {
     "name": "stderr",
     "output_type": "stream",
     "text": [
      "100%|██████████| 3/3 [00:00<00:00, 38.77it/s]\n",
      "100%|██████████| 3/3 [00:00<00:00, 72.97it/s]\n",
      "100%|██████████| 3/3 [00:15<00:00,  5.28s/it]\n",
      "  0%|          | 0/3 [00:00<?, ?it/s]"
     ]
    },
    {
     "name": "stdout",
     "output_type": "stream",
     "text": [
      "Mem. usage decreased to 2554.26 Mb (0.0% reduction)\n"
     ]
    },
    {
     "name": "stderr",
     "output_type": "stream",
     "text": [
      "100%|██████████| 3/3 [00:01<00:00,  2.22it/s]\n"
     ]
    },
    {
     "name": "stdout",
     "output_type": "stream",
     "text": [
      "Mem. usage decreased to 183.47 Mb (0.0% reduction)\n"
     ]
    }
   ],
   "source": [
    "df_train = utils.read_df_pkl('../input/train0*')\n",
    "df_test = utils.read_df_pkl('../input/test0*')\n",
    "df_train.set_index(key, inplace=True)\n",
    "df_test.set_index(key, inplace=True)\n",
    "# sys.exit()\n",
    "df_hist = utils.read_df_pkl('../input/hist_clean_rdm0*')\n",
    "df_hist = reduce_mem_usage(df_hist)\n",
    "df_new = utils.read_df_pkl('../input/new_clean_rdm0*')\n",
    "df_new = reduce_mem_usage(df_new)"
   ]
  },
  {
   "cell_type": "code",
   "execution_count": 3,
   "metadata": {},
   "outputs": [
    {
     "name": "stdout",
     "output_type": "stream",
     "text": [
      "(325540, 5)\n",
      "(31075392, 21)\n"
     ]
    }
   ],
   "source": [
    "df_trans = pd.concat([df_hist, df_new], axis=0)\n",
    "train_test = pd.concat([df_train, df_test], axis=0)\n",
    "print(train_test.shape)\n",
    "print(df_trans.shape)"
   ]
  },
  {
   "cell_type": "markdown",
   "metadata": {},
   "source": [
    "### First Avtive Monthよりも前に購買履歴のあるcard_idをどのように扱うか?\n",
    "original month_lagは、first_active_monthでなく、purchase_dateのminで作成する？  \n",
    "いや、そうするとおかしなことになる。外れ値の半数は、first_active_monthから初回purchase_dateまでの期間が空いてるcard_idになっている。  \n",
    "なので、purchase_dateを基準にoriginal month_lagをとると、初回購買まで期間が空いてる事実がなくなってしまう"
   ]
  },
  {
   "cell_type": "code",
   "execution_count": 4,
   "metadata": {},
   "outputs": [
    {
     "data": {
      "text/html": [
       "<div>\n",
       "<style scoped>\n",
       "    .dataframe tbody tr th:only-of-type {\n",
       "        vertical-align: middle;\n",
       "    }\n",
       "\n",
       "    .dataframe tbody tr th {\n",
       "        vertical-align: top;\n",
       "    }\n",
       "\n",
       "    .dataframe thead th {\n",
       "        text-align: right;\n",
       "    }\n",
       "</style>\n",
       "<table border=\"1\" class=\"dataframe\">\n",
       "  <thead>\n",
       "    <tr style=\"text-align: right;\">\n",
       "      <th></th>\n",
       "      <th>feature_1</th>\n",
       "      <th>feature_2</th>\n",
       "      <th>feature_3</th>\n",
       "      <th>first_active_month</th>\n",
       "      <th>target</th>\n",
       "    </tr>\n",
       "    <tr>\n",
       "      <th>card_id</th>\n",
       "      <th></th>\n",
       "      <th></th>\n",
       "      <th></th>\n",
       "      <th></th>\n",
       "      <th></th>\n",
       "    </tr>\n",
       "  </thead>\n",
       "  <tbody>\n",
       "    <tr>\n",
       "      <th>C_ID_c27b4f80f7</th>\n",
       "      <td>5</td>\n",
       "      <td>2</td>\n",
       "      <td>1</td>\n",
       "      <td>NaN</td>\n",
       "      <td>NaN</td>\n",
       "    </tr>\n",
       "  </tbody>\n",
       "</table>\n",
       "</div>"
      ],
      "text/plain": [
       "                 feature_1  feature_2  feature_3 first_active_month  target\n",
       "card_id                                                                    \n",
       "C_ID_c27b4f80f7          5          2          1                NaN     NaN"
      ]
     },
     "metadata": {},
     "output_type": "display_data"
    },
    {
     "data": {
      "text/html": [
       "<div>\n",
       "<style scoped>\n",
       "    .dataframe tbody tr th:only-of-type {\n",
       "        vertical-align: middle;\n",
       "    }\n",
       "\n",
       "    .dataframe tbody tr th {\n",
       "        vertical-align: top;\n",
       "    }\n",
       "\n",
       "    .dataframe thead th {\n",
       "        text-align: right;\n",
       "    }\n",
       "</style>\n",
       "<table border=\"1\" class=\"dataframe\">\n",
       "  <thead>\n",
       "    <tr style=\"text-align: right;\">\n",
       "      <th></th>\n",
       "      <th>feature_1</th>\n",
       "      <th>feature_2</th>\n",
       "      <th>feature_3</th>\n",
       "      <th>first_active_month</th>\n",
       "      <th>target</th>\n",
       "    </tr>\n",
       "    <tr>\n",
       "      <th>card_id</th>\n",
       "      <th></th>\n",
       "      <th></th>\n",
       "      <th></th>\n",
       "      <th></th>\n",
       "      <th></th>\n",
       "    </tr>\n",
       "  </thead>\n",
       "  <tbody>\n",
       "  </tbody>\n",
       "</table>\n",
       "</div>"
      ],
      "text/plain": [
       "Empty DataFrame\n",
       "Columns: [feature_1, feature_2, feature_3, first_active_month, target]\n",
       "Index: []"
      ]
     },
     "metadata": {},
     "output_type": "display_data"
    }
   ],
   "source": [
    "# first active monthのNULL埋め\n",
    "display(train_test[train_test['first_active_month'].isnull()])\n",
    "train_test['first_active_month'].fillna('2017-03', inplace=True)\n",
    "display(train_test[train_test['first_active_month'].isnull()])\n",
    "\n",
    "# EDA first_active_monthよりmin purchase_dateが遅いcard_idの外れ値率は15%で、約半数になる。\n",
    "# df_sp = df_train[(df_train['first_active_month'] != df_train['purchase_date'])]\n",
    "# df_sp['target'].value_counts()\n",
    "# df_late = df_sp[df_sp['first_active_month'] > df_sp['purchase_date']]\n",
    "# df_late.head()"
   ]
  },
  {
   "cell_type": "code",
   "execution_count": 5,
   "metadata": {},
   "outputs": [
    {
     "name": "stdout",
     "output_type": "stream",
     "text": [
      "(3044128, 2)\n"
     ]
    },
    {
     "data": {
      "text/html": [
       "<div>\n",
       "<style scoped>\n",
       "    .dataframe tbody tr th:only-of-type {\n",
       "        vertical-align: middle;\n",
       "    }\n",
       "\n",
       "    .dataframe tbody tr th {\n",
       "        vertical-align: top;\n",
       "    }\n",
       "\n",
       "    .dataframe thead th {\n",
       "        text-align: right;\n",
       "    }\n",
       "</style>\n",
       "<table border=\"1\" class=\"dataframe\">\n",
       "  <thead>\n",
       "    <tr style=\"text-align: right;\">\n",
       "      <th></th>\n",
       "      <th>card_id</th>\n",
       "      <th>purchase_date</th>\n",
       "    </tr>\n",
       "  </thead>\n",
       "  <tbody>\n",
       "    <tr>\n",
       "      <th>0</th>\n",
       "      <td>C_ID_4e6213e9bc</td>\n",
       "      <td>2017-06</td>\n",
       "    </tr>\n",
       "    <tr>\n",
       "      <th>1</th>\n",
       "      <td>C_ID_4e6213e9bc</td>\n",
       "      <td>2017-07</td>\n",
       "    </tr>\n",
       "    <tr>\n",
       "      <th>2</th>\n",
       "      <td>C_ID_4e6213e9bc</td>\n",
       "      <td>2017-08</td>\n",
       "    </tr>\n",
       "    <tr>\n",
       "      <th>3</th>\n",
       "      <td>C_ID_4e6213e9bc</td>\n",
       "      <td>2017-09</td>\n",
       "    </tr>\n",
       "    <tr>\n",
       "      <th>4</th>\n",
       "      <td>C_ID_4e6213e9bc</td>\n",
       "      <td>2017-03</td>\n",
       "    </tr>\n",
       "  </tbody>\n",
       "</table>\n",
       "</div>"
      ],
      "text/plain": [
       "           card_id purchase_date\n",
       "0  C_ID_4e6213e9bc       2017-06\n",
       "1  C_ID_4e6213e9bc       2017-07\n",
       "2  C_ID_4e6213e9bc       2017-08\n",
       "3  C_ID_4e6213e9bc       2017-09\n",
       "4  C_ID_4e6213e9bc       2017-03"
      ]
     },
     "execution_count": 5,
     "metadata": {},
     "output_type": "execute_result"
    }
   ],
   "source": [
    "df_trans = df_trans[[key, 'purchase_date']]\n",
    "df_trans['purchase_date'] = df_trans['purchase_date'].map(lambda x: str(x)[:7])\n",
    "df_trans.drop_duplicates(inplace=True)\n",
    "print(df_trans.shape)\n",
    "df_trans.head()"
   ]
  },
  {
   "cell_type": "code",
   "execution_count": 6,
   "metadata": {},
   "outputs": [
    {
     "data": {
      "text/html": [
       "<div>\n",
       "<style scoped>\n",
       "    .dataframe tbody tr th:only-of-type {\n",
       "        vertical-align: middle;\n",
       "    }\n",
       "\n",
       "    .dataframe tbody tr th {\n",
       "        vertical-align: top;\n",
       "    }\n",
       "\n",
       "    .dataframe thead th {\n",
       "        text-align: right;\n",
       "    }\n",
       "</style>\n",
       "<table border=\"1\" class=\"dataframe\">\n",
       "  <thead>\n",
       "    <tr style=\"text-align: right;\">\n",
       "      <th></th>\n",
       "      <th>purchase_date</th>\n",
       "      <th>first_active_month</th>\n",
       "    </tr>\n",
       "    <tr>\n",
       "      <th>card_id</th>\n",
       "      <th></th>\n",
       "      <th></th>\n",
       "    </tr>\n",
       "  </thead>\n",
       "  <tbody>\n",
       "    <tr>\n",
       "      <th>C_ID_00007093c1</th>\n",
       "      <td>2017-10</td>\n",
       "      <td>2017-02</td>\n",
       "    </tr>\n",
       "    <tr>\n",
       "      <th>C_ID_00007093c1</th>\n",
       "      <td>2017-02</td>\n",
       "      <td>2017-02</td>\n",
       "    </tr>\n",
       "    <tr>\n",
       "      <th>C_ID_00007093c1</th>\n",
       "      <td>2017-05</td>\n",
       "      <td>2017-02</td>\n",
       "    </tr>\n",
       "    <tr>\n",
       "      <th>C_ID_00007093c1</th>\n",
       "      <td>2017-08</td>\n",
       "      <td>2017-02</td>\n",
       "    </tr>\n",
       "    <tr>\n",
       "      <th>C_ID_00007093c1</th>\n",
       "      <td>2017-07</td>\n",
       "      <td>2017-02</td>\n",
       "    </tr>\n",
       "  </tbody>\n",
       "</table>\n",
       "</div>"
      ],
      "text/plain": [
       "                purchase_date first_active_month\n",
       "card_id                                         \n",
       "C_ID_00007093c1       2017-10            2017-02\n",
       "C_ID_00007093c1       2017-02            2017-02\n",
       "C_ID_00007093c1       2017-05            2017-02\n",
       "C_ID_00007093c1       2017-08            2017-02\n",
       "C_ID_00007093c1       2017-07            2017-02"
      ]
     },
     "execution_count": 6,
     "metadata": {},
     "output_type": "execute_result"
    }
   ],
   "source": [
    "df_trans = df_trans.set_index(key).join(train_test['first_active_month'])\n",
    "df_trans.head()"
   ]
  },
  {
   "cell_type": "markdown",
   "metadata": {},
   "source": [
    "### days//30だと月ズレを起こすので、yyyymm同士の差分をとってmonth_lagをとる。基準0はfirst_active_month"
   ]
  },
  {
   "cell_type": "code",
   "execution_count": 11,
   "metadata": {},
   "outputs": [
    {
     "data": {
      "text/html": [
       "<div>\n",
       "<style scoped>\n",
       "    .dataframe tbody tr th:only-of-type {\n",
       "        vertical-align: middle;\n",
       "    }\n",
       "\n",
       "    .dataframe tbody tr th {\n",
       "        vertical-align: top;\n",
       "    }\n",
       "\n",
       "    .dataframe thead th {\n",
       "        text-align: right;\n",
       "    }\n",
       "</style>\n",
       "<table border=\"1\" class=\"dataframe\">\n",
       "  <thead>\n",
       "    <tr style=\"text-align: right;\">\n",
       "      <th></th>\n",
       "      <th>purchase_date</th>\n",
       "      <th>first_active_month</th>\n",
       "      <th>org_month_lag</th>\n",
       "    </tr>\n",
       "    <tr>\n",
       "      <th>card_id</th>\n",
       "      <th></th>\n",
       "      <th></th>\n",
       "      <th></th>\n",
       "    </tr>\n",
       "  </thead>\n",
       "  <tbody>\n",
       "    <tr>\n",
       "      <th>C_ID_00007093c1</th>\n",
       "      <td>2017-10</td>\n",
       "      <td>2017-02</td>\n",
       "      <td>8</td>\n",
       "    </tr>\n",
       "    <tr>\n",
       "      <th>C_ID_00007093c1</th>\n",
       "      <td>2017-02</td>\n",
       "      <td>2017-02</td>\n",
       "      <td>0</td>\n",
       "    </tr>\n",
       "    <tr>\n",
       "      <th>C_ID_00007093c1</th>\n",
       "      <td>2017-05</td>\n",
       "      <td>2017-02</td>\n",
       "      <td>3</td>\n",
       "    </tr>\n",
       "    <tr>\n",
       "      <th>C_ID_00007093c1</th>\n",
       "      <td>2017-08</td>\n",
       "      <td>2017-02</td>\n",
       "      <td>6</td>\n",
       "    </tr>\n",
       "    <tr>\n",
       "      <th>C_ID_00007093c1</th>\n",
       "      <td>2017-07</td>\n",
       "      <td>2017-02</td>\n",
       "      <td>5</td>\n",
       "    </tr>\n",
       "  </tbody>\n",
       "</table>\n",
       "</div>"
      ],
      "text/plain": [
       "                purchase_date first_active_month  org_month_lag\n",
       "card_id                                                        \n",
       "C_ID_00007093c1       2017-10            2017-02              8\n",
       "C_ID_00007093c1       2017-02            2017-02              0\n",
       "C_ID_00007093c1       2017-05            2017-02              3\n",
       "C_ID_00007093c1       2017-08            2017-02              6\n",
       "C_ID_00007093c1       2017-07            2017-02              5"
      ]
     },
     "execution_count": 11,
     "metadata": {},
     "output_type": "execute_result"
    }
   ],
   "source": [
    "lag_col = 'org_month_lag'\n",
    "df_trans[lag_col] = df_trans.apply(lambda x: \n",
    "               ((int(str(x[0])[:4]) - int(str(x[1])[:4])) * 12) + (int(str(x[0])[-2:]) - int(str(x[1])[-2:]) )\n",
    "               , axis=1\n",
    "              )\n",
    "df_trans.head()"
   ]
  },
  {
   "cell_type": "code",
   "execution_count": 12,
   "metadata": {},
   "outputs": [
    {
     "data": {
      "text/plain": [
       " 4     218776\n",
       " 3     218186\n",
       " 2     212865\n",
       " 0     210081\n",
       " 1     204147\n",
       " 5     201782\n",
       " 6     182134\n",
       " 7     163569\n",
       " 8     145808\n",
       " 9     130326\n",
       " 10    116206\n",
       " 11    104620\n",
       " 12     94936\n",
       " 13     86631\n",
       " 14     77776\n",
       " 15     69756\n",
       " 16     61317\n",
       " 17     53631\n",
       " 18     48007\n",
       " 19     43204\n",
       " 20     39094\n",
       " 21     34642\n",
       " 22     30713\n",
       " 23     27225\n",
       " 24     24457\n",
       " 25     22104\n",
       " 26     20463\n",
       " 27     18911\n",
       " 28     17337\n",
       " 29     15361\n",
       " 30     14049\n",
       " 31     12739\n",
       " 32     11684\n",
       " 33     10614\n",
       " 34      9403\n",
       " 35      8496\n",
       " 36      7654\n",
       " 37      6970\n",
       " 38      6475\n",
       "-1       6214\n",
       " 39      5920\n",
       " 40      5468\n",
       " 41      4938\n",
       " 42      4477\n",
       " 43      4014\n",
       " 44      3594\n",
       " 45      3189\n",
       " 46      2783\n",
       " 47      2437\n",
       " 48      2088\n",
       " 49      1739\n",
       "-2       1623\n",
       " 50      1568\n",
       " 51      1408\n",
       " 52      1258\n",
       " 53      1127\n",
       " 54      1002\n",
       " 55       853\n",
       "-3        791\n",
       " 56       760\n",
       " 57       628\n",
       " 58       509\n",
       "-4        442\n",
       " 59       428\n",
       " 60       385\n",
       " 61       342\n",
       " 62       309\n",
       " 63       264\n",
       "-5        233\n",
       " 64       215\n",
       "-6        172\n",
       " 65       166\n",
       " 66       130\n",
       "-7        100\n",
       " 67        87\n",
       "-8         62\n",
       " 68        46\n",
       "-9         34\n",
       " 69        33\n",
       " 70        25\n",
       " 71        21\n",
       " 72        19\n",
       "-10        17\n",
       " 73        16\n",
       " 74        12\n",
       "-11        11\n",
       " 75        10\n",
       " 76         6\n",
       " 77         6\n",
       "Name: org_month_lag, dtype: int64"
      ]
     },
     "execution_count": 12,
     "metadata": {},
     "output_type": "execute_result"
    }
   ],
   "source": [
    "df_trans['org_month_lag'].value_counts()"
   ]
  },
  {
   "cell_type": "code",
   "execution_count": 13,
   "metadata": {},
   "outputs": [],
   "source": [
    "utils.to_pkl_gzip(obj=df_trans, path='../input/train_test_original_month_lag')"
   ]
  }
 ],
 "metadata": {
  "hide_input": false,
  "kernelspec": {
   "display_name": "Python 3",
   "language": "python",
   "name": "python3"
  },
  "language_info": {
   "codemirror_mode": {
    "name": "ipython",
    "version": 3
   },
   "file_extension": ".py",
   "mimetype": "text/x-python",
   "name": "python",
   "nbconvert_exporter": "python",
   "pygments_lexer": "ipython3",
   "version": "3.6.3"
  }
 },
 "nbformat": 4,
 "nbformat_minor": 2
}
