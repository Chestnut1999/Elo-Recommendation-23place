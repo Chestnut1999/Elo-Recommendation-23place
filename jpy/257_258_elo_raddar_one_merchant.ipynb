{
 "cells": [
  {
   "cell_type": "code",
   "execution_count": 1,
   "metadata": {},
   "outputs": [
    {
     "name": "stderr",
     "output_type": "stream",
     "text": [
      "2019-02-20 11:40:47,512 utils 400 [INFO]    [logger_func] start \n"
     ]
    }
   ],
   "source": [
    "debug = False\n",
    "%load_ext autoreload\n",
    "%autoreload 2\n",
    "import gc\n",
    "import re\n",
    "import pandas as pd\n",
    "import numpy as np\n",
    "import os\n",
    "import sys\n",
    "import time\n",
    "import datetime\n",
    "import glob\n",
    "sys.path.append('../py/')\n",
    "from s027_kfold_ods import ods_kfold\n",
    "HOME = os.path.expanduser(\"~\")\n",
    "sys.path.append(f'{HOME}/kaggle/data_analysis/library')\n",
    "import utils\n",
    "from utils import logger_func, get_categorical_features, get_numeric_features, reduce_mem_usage, elo_save_feature, impute_feature\n",
    "try:\n",
    "    if not logger:\n",
    "        logger=logger_func()\n",
    "except NameError:\n",
    "    logger=logger_func()\n",
    "\n",
    "#========================================================================\n",
    "# Args\n",
    "key = 'card_id'\n",
    "target = 'target'\n",
    "ignore_list = [key, target, 'merchant_id', 'first_active_month', 'index', 'personal_term', 'no_out_flg']\n",
    "start_time = \"{0:%Y%m%d_%H%M%S}\".format(datetime.datetime.now())\n",
    "#========================================================================"
   ]
  },
  {
   "cell_type": "code",
   "execution_count": 2,
   "metadata": {},
   "outputs": [],
   "source": [
    "base = utils.read_pkl_gzip('../input/base_no_out_clf.gz')[[key, target]].set_index(key)\n",
    "df_hist = pd.read_csv('../input/historical_transactions.csv')\n",
    "df_hist['purchase_amount_new'] = np.round(df_hist['purchase_amount'] / 0.00150265118 + 497.06, 2)\n",
    "auth1 = df_hist[df_hist['authorized_flag']=='Y']\n",
    "auth0 = df_hist[df_hist['authorized_flag']=='N']"
   ]
  },
  {
   "cell_type": "code",
   "execution_count": 158,
   "metadata": {},
   "outputs": [],
   "source": [
    "tmp = auth1.copy()\n",
    "\n",
    "use_cols = [key, 'month_lag', 'purchase_date', 'authorized_flag', 'installments', 'merchant_id', 'purchase_amount_new', 'subsector_id', 'merchant_category_id']\n",
    "tmp = tmp[use_cols]\n",
    "\n",
    "# First purchase_date amount\n",
    "date_min = tmp.groupby([key, 'merchant_id'])['purchase_date'].min().reset_index()\n",
    "date_min = tmp.merge(date_min, how='inner', on=[key, 'merchant_id', 'purchase_date'])\n",
    "date_min = date_min[[key, 'merchant_id', 'purchase_amount_new']].rename(columns={'purchase_amount_new':'purchase_amount_new_first'})\n",
    "\n",
    "# First purchase_month amount\n",
    "month_min = tmp.groupby([key, 'merchant_id'])['month_lag'].min().reset_index()\n",
    "month_min = tmp.merge(month_min, how='inner', on=[key, 'merchant_id', 'month_lag'])\n",
    "month_min = month_min[[key, 'merchant_id', 'purchase_amount_new']].groupby([key, 'merchant_id'])['purchase_amount_new'].sum().reset_index().rename(columns={'purchase_amount_new':'purchase_amount_new_first_month'})\n",
    "\n",
    "date_min.set_index([key, 'merchant_id'], inplace=True)\n",
    "month_min.set_index([key, 'merchant_id'], inplace=True)\n",
    "df_first_ratio = date_min.join(month_min)\n",
    "print(df_first_ratio.shape)\n",
    "display(df_first_ratio.head())\n",
    "\n",
    "amount per first amount or first month amount\n",
    "tmp.set_index([key, 'merchant_id'], inplace=True)\n",
    "df_first_ratio = tmp.reset_index()[[key, 'merchant_id', 'month_lag', 'purchase_date', 'purchase_amount_new']].merge(df_first_ratio.reset_index(), on=[key, 'merchant_id'], how='inner')\n",
    "df_first_ratio = utils.row_number(df=df_first_ratio, level=[key, 'merchant_id'])\n",
    "\n",
    "df_first_ratio['purchase_amount_new_per_first_amount'] =  df_first_ratio['purchase_amount_new'] / df_first_ratio['purchase_amount_new_first']\n",
    "df_first_ratio['purchase_amount_new_per_first_month_amount'] =  df_first_ratio['purchase_amount_new'] / df_first_ratio['purchase_amount_new_first_month']\n",
    "df_first_ratio['purchase_amount_new_replace'] = df_first_ratio['purchase_amount_new'].replace(22.9, 27.9)\n",
    "\n",
    "#========================================================================\n",
    "# Ratio first purchase_amount ratio\n",
    "#========================================================================\n",
    "def get_new_columns(name,aggs):\n",
    "    return [name + '_' + k + '_' + agg for k in aggs.keys() for agg in aggs[k]]\n",
    "\n",
    "base = utils.read_pkl_gzip('../input/base_no_out_clf.gz')[[key, target]].set_index(key)\n",
    "\n",
    "df_rank2 = df_first_ratio[df_first_ratio['row_no']==2]\n",
    "aggs = {}\n",
    "aggs['purchase_amount_new_per_first_amount'] = ['mean', 'max', 'min']\n",
    "aggs['purchase_amount_new_per_first_month_amount'] = ['mean', 'max', 'min']\n",
    "new_cols = get_new_columns('second_purchase', aggs)\n",
    "df_agg = df_rank2.groupby(key).agg(aggs)\n",
    "df_agg.columns = new_cols\n",
    "df_agg['second_purchase_purchase_amount_new_per_first_amount_max-min'] = df_agg['second_purchase_purchase_amount_new_per_first_amount_max'] - df_agg['second_purchase_purchase_amount_new_per_first_amount_min']\n",
    "df_agg['second_purchase_purchase_amount_new_per_first_month_amount_max-min'] = df_agg['second_purchase_purchase_amount_new_per_first_month_amount_max'] - df_agg['second_purchase_purchase_amount_new_per_first_month_amount_min']\n",
    "display(df_agg.head())\n",
    "\n",
    "prefix = '257_one'\n",
    "base = base.join(df_agg).fillna(-1)\n",
    "utils.elo_save_feature(df_feat=base, prefix=prefix)"
   ]
  },
  {
   "cell_type": "code",
   "execution_count": 171,
   "metadata": {},
   "outputs": [],
   "source": [
    "#========================================================================\n",
    "# Ratio first purchase_amount nunique\n",
    "#========================================================================\n",
    "def get_new_columns(name,aggs):\n",
    "    return [name + '_' + k + '_' + agg for k in aggs.keys() for agg in aggs[k]]\n",
    "\n",
    "base = utils.read_pkl_gzip('../input/base_no_out_clf.gz')[[key, target]].set_index(key)\n",
    "\n",
    "mer_amount_nunique = df_first_ratio.groupby([key, 'merchant_id'])['purchase_amount_new_replace'].nunique()\n",
    "amount_nunique = df_first_ratio.groupby([key])['purchase_amount_new_replace'].nunique()\n",
    "mer_amount_nunique.name = 'merchant_amount_new_nunique'\n",
    "amount_nunique.name = 'amount_new_nunique'\n",
    "df_mer_nunique = mer_amount_nunique.reset_index().merge(amount_nunique.reset_index(), how='inner', on=key)\n",
    "\n",
    "aggs = {}\n",
    "aggs['merchant_amount_new_nunique'] = ['mean', 'max', 'min']\n",
    "aggs['amount_new_nunique'] = ['mean']\n",
    "new_cols = get_new_columns('variety', aggs)\n",
    "df_agg = df_mer_nunique.groupby(key).agg(aggs)\n",
    "df_agg.columns = new_cols\n",
    "df_agg['variety_merchant_amount_new_nunique_max_per_total'] = df_agg['variety_merchant_amount_new_nunique_max'] / df_agg['variety_amount_new_nunique_mean']\n",
    "display(df_agg.head())\n",
    "\n",
    "prefix = '257_one'\n",
    "base = base.join(df_agg).fillna(-1)\n",
    "utils.elo_save_feature(df_feat=base, prefix=prefix)"
   ]
  },
  {
   "cell_type": "code",
   "execution_count": 18,
   "metadata": {},
   "outputs": [],
   "source": [
    "#========================================================================\n",
    "# そのmerchantを何か月連続で利用しているか\n",
    "#========================================================================\n",
    "\n",
    "# df = auth1.copy()\n",
    "# df['yyyymm'] = df['purchase_date'].map(lambda x: str(x)[:7])\n",
    "# df_month = df[[key, 'merchant_id', 'yyyymm']].drop_duplicates()\n",
    "# del df\n",
    "# gc.collect()\n",
    "# df_month.sort_values(by=[key, 'merchant_id', 'yyyymm'], inplace=True)\n",
    "\n",
    "df_month['yyyymm_shift1'] = df_month.groupby([key, 'merchant_id'])['yyyymm'].shift(1)\n",
    "df_month['diff_month'] = ((pd.to_datetime(df_month['yyyymm']) - pd.to_datetime(df_month['yyyymm_shift1'])).dt.days)//28\n",
    "# 連続してる時はフラグ1がたち、それ以外は0\n",
    "df_month['continuours_flg'] = df_month['diff_month'].where(df_month['diff_month']==1, 0)"
   ]
  },
  {
   "cell_type": "code",
   "execution_count": 20,
   "metadata": {},
   "outputs": [
    {
     "name": "stderr",
     "output_type": "stream",
     "text": [
      "100%|██████████| 18125053/18125053 [00:13<00:00, 1393641.85it/s]\n"
     ]
    },
    {
     "name": "stdout",
     "output_type": "stream",
     "text": [
      "18125053\n",
      "18125053\n"
     ]
    }
   ],
   "source": [
    "from tqdm import tqdm\n",
    "# 0になったらしきり直しなので1, 1が続く限り+1していけば、idなど関係なく、1が続いた数をカウントできる。（天才的）\n",
    "cont_list = df_month['continuours_flg'].values\n",
    "continuous_list = []\n",
    "for i in tqdm(cont_list):\n",
    "    if i==0:\n",
    "        cnt=1\n",
    "    else:\n",
    "        cnt+=1\n",
    "    continuous_list.append(cnt)\n",
    "print(len(cont_list))\n",
    "print(len(continuous_list))\n",
    "\n",
    "df_month['continuous'] = continuous_list\n",
    "mer_dict = auth1[['merchant_id', 'subsector_id']].drop_duplicates().set_index('merchant_id').to_dict()['subsector_id']"
   ]
  },
  {
   "cell_type": "code",
   "execution_count": 34,
   "metadata": {},
   "outputs": [],
   "source": [
    "#========================================================================\n",
    "# all merchantにおける最大連続月回数\n",
    "#========================================================================\n",
    "cont_max = df_month.groupby([key, 'merchant_id'])['continuous'].max().reset_index()\n",
    "cont_max['subsector_id'] =  cont_max['merchant_id'].map(mer_dict)\n",
    "df_agg = cont_max.groupby(key)['continuous'].max()\n",
    "\n",
    "base = utils.read_pkl_gzip('../input/base_no_out_clf.gz')[[key, target]].set_index(key)\n",
    "base['merchant_continuous_month_max'] = df_agg\n",
    "prefix = '257_one'\n",
    "utils.elo_save_feature(df_feat=base, prefix=prefix)"
   ]
  },
  {
   "cell_type": "code",
   "execution_count": 43,
   "metadata": {},
   "outputs": [],
   "source": [
    "#========================================================================\n",
    "# 各subsectorにおける最大連続月回数\n",
    "#========================================================================\n",
    "# subsec_cont_max = cont_max.groupby([key, 'subsector_id'])['continuous'].max()\n",
    "# subsec_cont_max = subsec_cont_max.unstack().fillna(-1)\n",
    "# subsec_cont_max.columns = [f\"continuous_month_max_subsector_id_{col}\" for col in subsec_cont_max.columns]\n",
    "base = utils.read_pkl_gzip('../input/base_no_out_clf.gz')[[key, target, 'hist_regist_term']].set_index(key)\n",
    "base[subsec_cont_max.columns] = subsec_cont_max\n",
    "utils.elo_save_feature(df_feat=base, prefix=prefix)"
   ]
  },
  {
   "cell_type": "code",
   "execution_count": 47,
   "metadata": {},
   "outputs": [],
   "source": [
    "# from joblib import Parallel, delayed\n",
    "# #========================================================================\n",
    "# # Lift FAM * hist_regist_term\n",
    "# term_name = 'hist_regist_term'\n",
    "# term_list = sorted(list(base[term_name].value_counts().index))\n",
    "# feat_cols = [col for col in base.columns if col.count('continuous')]\n",
    "\n",
    "# def make_df_term(term):\n",
    "#     tmp_list = []\n",
    "#     for col in feat_cols:\n",
    "#         tmp = base[base[term_name]==term].reset_index()\n",
    "#         tmp = tmp[[key, col]]\n",
    "#         tmp[col] = tmp[col] - tmp[col].min()\n",
    "#         base_avg = tmp[col].mean()\n",
    "#         tmp.set_index(key, inplace=True)\n",
    "#         tmp[col] /= base_avg\n",
    "#         tmp.rename(columns={col:f'lift_{term_name}_{col}'}, inplace=True)\n",
    "#         tmp_list.append(tmp)\n",
    "#     tmp_term = pd.concat(tmp_list, axis=1)\n",
    "#     return tmp_term\n",
    "\n",
    "# df_term_list = Parallel(n_jobs=-1)([delayed(make_df_term)(term) for term in term_list])\n",
    "# df_term_lift = pd.concat(df_term_list, axis=0)\n",
    "    \n",
    "# tmp_base = utils.read_pkl_gzip('../input/base_no_out_clf.gz').set_index(key)['target'].to_frame()\n",
    "# df_term_lift = tmp_base.join(df_term_lift)\n",
    "# print(df_term_lift.shape)\n",
    "# del tmp_base\n",
    "# gc.collect()\n",
    "# display(df_term_lift.head(10))\n",
    "prefix = '258_lif'\n",
    "utils.elo_save_feature(df_feat=df_term_lift, prefix=prefix)\n",
    "#========================================================================"
   ]
  },
  {
   "cell_type": "code",
   "execution_count": null,
   "metadata": {},
   "outputs": [],
   "source": []
  }
 ],
 "metadata": {
  "kernelspec": {
   "display_name": "NN",
   "language": "python",
   "name": "nn"
  },
  "language_info": {
   "codemirror_mode": {
    "name": "ipython",
    "version": 3
   },
   "file_extension": ".py",
   "mimetype": "text/x-python",
   "name": "python",
   "nbconvert_exporter": "python",
   "pygments_lexer": "ipython3",
   "version": "3.6.3"
  }
 },
 "nbformat": 4,
 "nbformat_minor": 2
}
