{
 "cells": [
  {
   "cell_type": "code",
   "execution_count": 3,
   "metadata": {},
   "outputs": [
    {
     "name": "stdout",
     "output_type": "stream",
     "text": [
      "The autoreload extension is already loaded. To reload it, use:\n",
      "  %reload_ext autoreload\n"
     ]
    }
   ],
   "source": [
    "%load_ext autoreload\n",
    "%autoreload 2\n",
    "import gc\n",
    "import re\n",
    "import pandas as pd\n",
    "from __future__ import print_function, division\n",
    "import numpy as np\n",
    "import matplotlib.pyplot as plt\n",
    "%matplotlib inline\n",
    "import seaborn as sns\n",
    "sns.set()\n",
    "pd.set_option('max_columns', 200)\n",
    "pd.set_option('max_rows', 200)\n",
    "import os\n",
    "import sys\n",
    "HOME = os.path.expanduser(\"~\")\n",
    "sys.path.append(f'{HOME}/kaggle/data_analysis/library')\n",
    "import utils\n",
    "from utils import get_categorical_features, get_numeric_features\n",
    "import datetime\n",
    "import time\n",
    "from tqdm import tqdm\n",
    "import sys\n",
    "import glob\n",
    "\n",
    "os.listdir('../input/')\n",
    "key = 'card_id'\n",
    "target = 'target'\n",
    "ignore_list = [key, target, 'merchant_id', 'first_avtive_month']"
   ]
  },
  {
   "cell_type": "code",
   "execution_count": 4,
   "metadata": {},
   "outputs": [
    {
     "name": "stderr",
     "output_type": "stream",
     "text": [
      "100%|██████████| 3/3 [00:00<00:00, 45.51it/s]\n",
      "100%|██████████| 3/3 [00:00<00:00, 66.88it/s]\n",
      "100%|██████████| 3/3 [00:00<00:00,  8.43it/s]\n",
      "100%|██████████| 3/3 [00:01<00:00,  2.08it/s]\n"
     ]
    },
    {
     "name": "stdout",
     "output_type": "stream",
     "text": [
      "Mem. usage decreased to  5.58 Mb (48.2% reduction)\n",
      "Mem. usage decreased to  3.18 Mb (43.8% reduction)\n",
      "Mem. usage decreased to 183.47 Mb (0.0% reduction)\n"
     ]
    }
   ],
   "source": [
    "# regist_termをもたせる\n",
    "df_train = utils.read_df_pkl('../input/train0*')\n",
    "df_test = utils.read_df_pkl('../input/test0*')\n",
    "train_test = pd.concat([df_train, df_test], axis=0)\n",
    "train_test.set_index(key, inplace=True)\n",
    "base = utils.read_df_pkl('../input/base_term*0*').set_index(key)[['hist_regist_term', 'new_regist_term']]\n",
    "train_test = train_test.join(base)\n",
    "\n",
    "# df_hist = utils.read_df_pkl('../input/hist_clean*')\n",
    "df_new = utils.read_df_pkl('../input/new_clean*')\n",
    "\n",
    "df_train = utils.reduce_mem_usage(df_train)\n",
    "df_test  = utils.reduce_mem_usage(df_test )\n",
    "# df_hist  = utils.reduce_mem_usage(df_hist )\n",
    "df_new   = utils.reduce_mem_usage(df_new  )"
   ]
  },
  {
   "cell_type": "code",
   "execution_count": 8,
   "metadata": {},
   "outputs": [
    {
     "data": {
      "text/plain": [
       "(35539, 7)"
      ]
     },
     "execution_count": 8,
     "metadata": {},
     "output_type": "execute_result"
    }
   ],
   "source": [
    "# new_id = np.unique(df_new[key].values)\n",
    "# new = train_test.loc[new_id, :]\n",
    "no_new = train_test.loc[~train_test.index.isin(new_id), :]\n",
    "no_new.shape"
   ]
  },
  {
   "cell_type": "code",
   "execution_count": 12,
   "metadata": {},
   "outputs": [
    {
     "data": {
      "text/plain": [
       " 0.0     1.000000\n",
       "-1.0     0.484007\n",
       " 1.0     0.445008\n",
       "-2.0     0.241049\n",
       " 2.0     0.195038\n",
       "-3.0     0.082391\n",
       " 3.0     0.060318\n",
       "-4.0     0.046411\n",
       " 4.0     0.029486\n",
       "-33.0    0.024160\n",
       "-5.0     0.018745\n",
       "-6.0     0.010726\n",
       " 5.0     0.010105\n",
       " 6.0     0.004719\n",
       "-7.0     0.003566\n",
       "-8.0     0.002086\n",
       " 7.0     0.001761\n",
       "-9.0     0.000695\n",
       " 8.0     0.000666\n",
       "-10.0    0.000473\n",
       " 9.0     0.000355\n",
       " 10.0    0.000222\n",
       "-11.0    0.000178\n",
       "-14.0    0.000118\n",
       " 12.0    0.000089\n",
       "-15.0    0.000089\n",
       " 11.0    0.000089\n",
       "-12.0    0.000059\n",
       "-13.0    0.000044\n",
       " 15.0    0.000044\n",
       "-16.0    0.000030\n",
       "-17.0    0.000030\n",
       "-18.0    0.000030\n",
       " 13.0    0.000015\n",
       " 18.0    0.000015\n",
       " 14.0    0.000015\n",
       "Name: target, dtype: float64"
      ]
     },
     "execution_count": 12,
     "metadata": {},
     "output_type": "execute_result"
    }
   ],
   "source": [
    "new[target] = new[target].map(lambda x: np.round(x, 0))\n",
    "max_cnt = new[target].value_counts().max()\n",
    "new[target].value_counts() / max_cnt"
   ]
  },
  {
   "cell_type": "code",
   "execution_count": 11,
   "metadata": {},
   "outputs": [
    {
     "data": {
      "text/plain": [
       " 0.0     1.000000\n",
       " 1.0     0.657813\n",
       " 2.0     0.458928\n",
       "-1.0     0.391868\n",
       " 3.0     0.300705\n",
       " 4.0     0.179866\n",
       "-2.0     0.155107\n",
       " 5.0     0.105591\n",
       "-33.0    0.094114\n",
       "-3.0     0.075586\n",
       " 6.0     0.059682\n",
       "-4.0     0.036727\n",
       " 7.0     0.029677\n",
       "-5.0     0.017380\n",
       " 8.0     0.009674\n",
       "-6.0     0.007870\n",
       " 9.0     0.003771\n",
       "-7.0     0.003115\n",
       " 10.0    0.001968\n",
       "-8.0     0.001640\n",
       " 11.0    0.000820\n",
       " 12.0    0.000656\n",
       "-9.0     0.000656\n",
       " 13.0    0.000492\n",
       "-10.0    0.000328\n",
       " 16.0    0.000328\n",
       " 14.0    0.000328\n",
       "-14.0    0.000328\n",
       "-12.0    0.000164\n",
       " 15.0    0.000164\n",
       "-11.0    0.000164\n",
       " 18.0    0.000164\n",
       "-13.0    0.000164\n",
       "Name: target, dtype: float64"
      ]
     },
     "execution_count": 11,
     "metadata": {},
     "output_type": "execute_result"
    }
   ],
   "source": [
    "no_new[target] = no_new[target].map(lambda x: np.round(x, 0))\n",
    "max_cnt = no_new[target].value_counts().max()\n",
    "no_new[target].value_counts() / max_cnt"
   ]
  }
 ],
 "metadata": {
  "hide_input": false,
  "kernelspec": {
   "display_name": "Python 3",
   "language": "python",
   "name": "python3"
  },
  "language_info": {
   "codemirror_mode": {
    "name": "ipython",
    "version": 3
   },
   "file_extension": ".py",
   "mimetype": "text/x-python",
   "name": "python",
   "nbconvert_exporter": "python",
   "pygments_lexer": "ipython3",
   "version": "3.6.3"
  }
 },
 "nbformat": 4,
 "nbformat_minor": 2
}
