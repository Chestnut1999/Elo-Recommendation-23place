{
 "cells": [
  {
   "cell_type": "code",
   "execution_count": 1,
   "metadata": {},
   "outputs": [],
   "source": [
    "%load_ext autoreload\n",
    "%autoreload 2\n",
    "import gc\n",
    "import re\n",
    "import pandas as pd\n",
    "from __future__ import print_function, division\n",
    "import numpy as np\n",
    "pd.set_option('max_columns', 200)\n",
    "pd.set_option('max_rows', 200)\n",
    "import os\n",
    "import sys\n",
    "HOME = os.path.expanduser(\"~\")\n",
    "sys.path.append(f'{HOME}/kaggle/data_analysis/library')\n",
    "import utils\n",
    "from utils import get_categorical_features, get_numeric_features, reduce_mem_usage, elo_save_feature\n",
    "from preprocessing import get_dummies\n",
    "import datetime\n",
    "\n",
    "from tqdm import tqdm\n",
    "import time\n",
    "import sys\n",
    "from joblib import Parallel, delayed\n",
    "\n",
    "key = 'card_id'\n",
    "target = 'target'\n",
    "ignore_list = [key, target, 'merchant_id', 'first_avtive_month']"
   ]
  },
  {
   "cell_type": "code",
   "execution_count": 41,
   "metadata": {},
   "outputs": [],
   "source": [
    "df_train = utils.read_df_pkl('../input/train0*')\n",
    "df_train.set_index(key, inplace=True)\n",
    "df_test = utils.read_df_pkl('../input/test0*')\n",
    "df_test.set_index(key, inplace=True)\n",
    "\n",
    "df_hist = pd.read_csv('../input/historical_transactions.csv')\n",
    "df_new = pd.read_csv('../input/new_merchant_transactions.csv')\n",
    "\n",
    "df_hist['purchase_amount_new'] = np.round(df_hist['purchase_amount'] / 0.00150265118 + 497.06, 2)\n",
    "df_new['purchase_amount_new'] = np.round(df_new['purchase_amount'] / 0.00150265118 + 497.06, 2)\n",
    "\n",
    "df_hist['installments'] = df_hist['installments'].map(lambda x:  \n",
    "                                                    1 if x<1 else\n",
    "                                                    1 if x>100 else\n",
    "                                                      x\n",
    "                                                     )\n",
    "df_new['installments'] = df_new['installments'].map(lambda x:  \n",
    "                                                    1 if x<1 else\n",
    "                                                    1 if x>100 else\n",
    "                                                      x\n",
    "                                                     )"
   ]
  },
  {
   "cell_type": "code",
   "execution_count": 56,
   "metadata": {},
   "outputs": [],
   "source": [
    "#========================================================================\n",
    "# Dataset Load \n",
    "use_cols = [key, 'authorized_flag', 'installments', 'merchant_category_id', 'merchant_id', 'subsector_id', 'month_lag', 'purchase_amount_new', 'purchase_date']\n",
    "df_hist = df_hist[use_cols]\n",
    "# df_new = df_new[use_cols]\n",
    "\n",
    "auth1 = df_hist[df_hist['authorized_flag']=='Y']\n",
    "# auth0 = df_hist[df_hist['authorized_flag']=='N']\n",
    "\n",
    "# df_trans = pd.concat([auth1, df_new], axis=0)\n",
    "\n",
    "def get_new_columns(name,aggs):\n",
    "    if len(name):\n",
    "        return [name + '_' + k + '_' + agg for k in aggs.keys() for agg in aggs[k]]\n",
    "    else:\n",
    "        return [k + '_' + agg for k in aggs.keys() for agg in aggs[k]]\n",
    "#========================================================================"
   ]
  },
  {
   "cell_type": "code",
   "execution_count": 165,
   "metadata": {},
   "outputs": [],
   "source": [
    "#========================================================================\n",
    "# Merchant id 別の集計\n",
    "# month_lagで集計する（purchase_dateは別にやる）\n",
    "\n",
    "def raddar_2level_agg(new_max, new_min, old_max, old_min):\n",
    "    #========================================================================\n",
    "    # Args Setting\n",
    "    level = [key, 'merchant_id', 'month_lag']\n",
    "    new_month_lag_max = new_max\n",
    "    new_month_lag_min = new_min\n",
    "    old_month_lag_max = old_max\n",
    "    old_month_lag_min = old_min\n",
    "    #========================================================================\n",
    "    \n",
    "    #========================================================================\n",
    "    # Aggregation\n",
    "    print(\"Aggregation Start!!\")\n",
    "    \n",
    "    aggs = {}\n",
    "    aggs['purchase_amount_new'] = ['sum']\n",
    "    aggs['installments'] = ['mean', 'max', 'sum']\n",
    "    \n",
    "    df = auth1\n",
    "    df_agg = df.groupby(level).agg(aggs)\n",
    "    \n",
    "    new_cols = get_new_columns(name='', aggs=aggs)\n",
    "    df_agg.columns = new_cols\n",
    "    df_agg[f'purchase_amount_new_sum_per_installments_sum'] = df_agg[f'purchase_amount_new_sum'] / df_agg[f'installments_sum']\n",
    "    \n",
    "    mer_cnt = df.groupby([key, 'merchant_id'])['month_lag'].nunique().reset_index().rename(columns={'month_lag':'month_lag_cnt'})\n",
    "    df_agg = df_agg.reset_index().merge(mer_cnt, how='inner', on=[key, 'merchant_id'])\n",
    "    #========================================================================\n",
    "    \n",
    "    #========================================================================\n",
    "    # month_lag別に切り出して集計を行う\n",
    "    print(\"Aggregate Term Setting\")\n",
    "    df_merchant = df_agg[df_agg['month_lag_cnt']>1]\n",
    "    del df_agg\n",
    "    gc.collect()\n",
    "    df_merchant.drop(['month_lag_cnt'], axis=1, inplace=True)\n",
    "    \n",
    "    # 期間を絞る\n",
    "    new_term = new_month_lag_max - new_month_lag_min\n",
    "    old_term = old_month_lag_max - old_month_lag_min\n",
    "    new = df_merchant[df_merchant['month_lag']<= new_month_lag_max][df_merchant['month_lag']>= new_month_lag_min]\n",
    "    old = df_merchant[df_merchant['month_lag']<= old_month_lag_max][df_merchant['month_lag']>= old_month_lag_min]\n",
    "    \n",
    "    feat_cols = [col for col in df_merchant.columns if col.count('amount') or col.count('install')]\n",
    "    aggs = {}\n",
    "    for col in feat_cols:\n",
    "        if col.count('install') and not(col.count('per')):\n",
    "            aggs[col] = ['mean']\n",
    "        else:\n",
    "            aggs[col] = ['sum']\n",
    "            \n",
    "    # 複数month_lagをもつデータの場合は、集計する\n",
    "    if new_term>0:\n",
    "        new.groupby([key, 'merchant_id'])[feat_cols]\n",
    "    else:\n",
    "        new.set_index([key, 'merchant_id'], inplace=True)\n",
    "    \n",
    "    if old_term>0:\n",
    "        old.groupby([key, 'merchant_id'])[feat_cols]\n",
    "    else:\n",
    "        old.set_index([key, 'merchant_id'], inplace=True)\n",
    "    #========================================================================\n",
    "        \n",
    "    #========================================================================\n",
    "    # oldに存在するがnewにいないcard_id, merchantをnewにもたせる。\n",
    "    print(\"Get Lost Merchant and Card ID\")\n",
    "    new.reset_index(inplace=True)\n",
    "    old.reset_index(inplace=True)\n",
    "    new['flg'] = 1\n",
    "    tmp_cols = [key, 'merchant_id']\n",
    "    old_lost = old[tmp_cols].merge(new[tmp_cols + ['flg']], how='left', on=[key, 'merchant_id'])\n",
    "    old_lost = old_lost[old_lost['flg'].isnull()]\n",
    "    old_lost = old_lost[tmp_cols]\n",
    "    new = pd.concat([new, old_lost], ignore_index=True)\n",
    "    new.drop('flg', axis=1, inplace=True)\n",
    "    #========================================================================\n",
    "        \n",
    "    #========================================================================\n",
    "    # Make Ratio Feature\n",
    "    print(\"Make Ratio Feature\")\n",
    "    fname = f'flag{new_month_lag_max}_{new_month_lag_min}-plag{old_month_lag_max}_{old_month_lag_min}'\n",
    "    new = new.merge(old, how='left', on=[key, 'merchant_id'])\n",
    "    for col in feat_cols:\n",
    "       new[f\"{fname}_{col}\"]  = new[col+'_x'] / new[col+'_y']\n",
    "       new[f\"{fname}_{col}\"].fillna(0, inplace=True)\n",
    "    #========================================================================\n",
    "    \n",
    "    #========================================================================\n",
    "    # card_id * merchant_id別のtop frequency ranking\n",
    "    # all term version\n",
    "    mer_cnt = df_hist.groupby([key, 'merchant_id'])['month_lag'].nunique().reset_index().rename(columns={'month_lag':'month_lag_cnt'})\n",
    "    mer_cnt.sort_values(by=[key, 'month_lag_cnt'], ascending=False, inplace=True)\n",
    "    mer_cnt = utils.row_number(df=mer_cnt, level=key)\n",
    "    mer_cnt.set_index([key, 'merchant_id'], inplace=True)\n",
    "    \n",
    "    df_merchant = new.set_index(tmp_cols).join(mer_cnt).reset_index()\n",
    "    del new, old, mer_cnt\n",
    "    gc.collect()\n",
    "    \n",
    "    use_cols = [key, 'merchant_id'] + [col for col in df_merchant.columns if col.count('flag')] + ['month_lag_cnt', 'row_no']\n",
    "    df_merchant = df_merchant[use_cols]\n",
    "    #========================================================================\n",
    "    \n",
    "    \n",
    "    #========================================================================\n",
    "    # merchant_id別に集計を行ったら、\n",
    "    # 1. それらを更に集計する. frequencyが高いmerchantのみで集計するパターンも作る\n",
    "    # 2. frequencyの高いmerchnatでまとめてtop1~10カラムを作る ------->>> frequencyについては、全体と直近半年の両パターンでカウントし、特徴を作る\n",
    "    #========================================================================\n",
    "    prefix = '241_rad'\n",
    "    print(f\"{prefix} Feature Saving...\")\n",
    "    \n",
    "    feat_cols = [col for col in df_merchant.columns if col.count('flag')]\n",
    "    aggs = {}\n",
    "    for col in feat_cols:\n",
    "        aggs[col] = ['mean', 'max']\n",
    "    \n",
    "    df_agg = df_merchant[[key] + feat_cols].fillna(0).groupby(key)[feat_cols].agg(aggs)\n",
    "    \n",
    "    # Rename\n",
    "    fname = 'auth1_all'\n",
    "    new_cols = get_new_columns(name=fname, aggs=aggs)\n",
    "    df_agg.columns = new_cols\n",
    "    #========================================================================\n",
    "    \n",
    "    #========================================================================\n",
    "    # Save Feature\n",
    "    base = utils.read_df_pkl('../input/base_no_out*')\n",
    "    base = base[[key, target]].set_index(key)\n",
    "    base = base.join(df_agg)\n",
    "    base.fillna(-1, inplace=True)\n",
    "    del df_agg\n",
    "    gc.collect()\n",
    "    \n",
    "    elo_save_feature(df_feat=base, prefix=prefix)\n",
    "    print('Complete!')\n",
    "    #========================================================================\n",
    "    \n",
    "    \n",
    "    #========================================================================\n",
    "    # frequencyで絞った場合\n",
    "    prefix = '242_rad_freq_2Mover'\n",
    "    print(f\"{prefix} Feature Saving...\")\n",
    "    \n",
    "    freq_high = df_merchant[df_merchant['month_lag_cnt']>2]\n",
    "    df_agg = freq_high[[key] + feat_cols].fillna(0).groupby(key)[feat_cols].agg(aggs)\n",
    "    \n",
    "    # Rename\n",
    "    fname = 'auth1_all'\n",
    "    new_cols = get_new_columns(name=fname, aggs=aggs)\n",
    "    df_agg.columns = new_cols\n",
    "    #========================================================================\n",
    "    \n",
    "    #========================================================================\n",
    "    # Save Feature\n",
    "    base = utils.read_df_pkl('../input/base_no_out*')\n",
    "    base = base[[key, target]].set_index(key)\n",
    "    base = base.join(df_agg)\n",
    "    base.fillna(-1, inplace=True)\n",
    "    del df_agg\n",
    "    gc.collect()\n",
    "    \n",
    "    elo_save_feature(df_feat=base, prefix=prefix)\n",
    "    print('Complete!')\n",
    "    #========================================================================"
   ]
  },
  {
   "cell_type": "code",
   "execution_count": 167,
   "metadata": {},
   "outputs": [
    {
     "name": "stdout",
     "output_type": "stream",
     "text": [
      "Aggregation Start!!\n",
      "Aggregate Term Setting\n",
      "Get Lost Merchant and Card ID\n",
      "Make Ratio Feature\n",
      "241_rad Feature Saving...\n"
     ]
    },
    {
     "name": "stderr",
     "output_type": "stream",
     "text": [
      "100%|██████████| 1/1 [00:00<00:00,  4.13it/s]\n"
     ]
    },
    {
     "name": "stdout",
     "output_type": "stream",
     "text": [
      "Complete!\n",
      "242_rad_freq_2Mover Feature Saving...\n"
     ]
    },
    {
     "name": "stderr",
     "output_type": "stream",
     "text": [
      "100%|██████████| 1/1 [00:00<00:00,  4.14it/s]\n"
     ]
    },
    {
     "name": "stdout",
     "output_type": "stream",
     "text": [
      "Complete!\n",
      "Aggregation Start!!\n",
      "Aggregate Term Setting\n",
      "Get Lost Merchant and Card ID\n",
      "Make Ratio Feature\n",
      "241_rad Feature Saving...\n"
     ]
    },
    {
     "name": "stderr",
     "output_type": "stream",
     "text": [
      "100%|██████████| 1/1 [00:00<00:00,  4.15it/s]\n"
     ]
    },
    {
     "name": "stdout",
     "output_type": "stream",
     "text": [
      "Complete!\n",
      "242_rad_freq_2Mover Feature Saving...\n"
     ]
    },
    {
     "name": "stderr",
     "output_type": "stream",
     "text": [
      "100%|██████████| 1/1 [00:00<00:00,  4.16it/s]\n"
     ]
    },
    {
     "name": "stdout",
     "output_type": "stream",
     "text": [
      "Complete!\n",
      "Aggregation Start!!\n",
      "Aggregate Term Setting\n",
      "Get Lost Merchant and Card ID\n",
      "Make Ratio Feature\n",
      "241_rad Feature Saving...\n"
     ]
    },
    {
     "name": "stderr",
     "output_type": "stream",
     "text": [
      "100%|██████████| 1/1 [00:00<00:00,  4.04it/s]\n"
     ]
    },
    {
     "name": "stdout",
     "output_type": "stream",
     "text": [
      "Complete!\n",
      "242_rad_freq_2Mover Feature Saving...\n"
     ]
    },
    {
     "name": "stderr",
     "output_type": "stream",
     "text": [
      "100%|██████████| 1/1 [00:00<00:00,  4.10it/s]\n"
     ]
    },
    {
     "name": "stdout",
     "output_type": "stream",
     "text": [
      "Complete!\n",
      "Aggregation Start!!\n",
      "Aggregate Term Setting\n",
      "Get Lost Merchant and Card ID\n",
      "Make Ratio Feature\n",
      "241_rad Feature Saving...\n"
     ]
    },
    {
     "name": "stderr",
     "output_type": "stream",
     "text": [
      "100%|██████████| 1/1 [00:00<00:00,  4.21it/s]\n"
     ]
    },
    {
     "name": "stdout",
     "output_type": "stream",
     "text": [
      "Complete!\n",
      "242_rad_freq_2Mover Feature Saving...\n"
     ]
    },
    {
     "name": "stderr",
     "output_type": "stream",
     "text": [
      "100%|██████████| 1/1 [00:00<00:00,  4.12it/s]\n"
     ]
    },
    {
     "name": "stdout",
     "output_type": "stream",
     "text": [
      "Complete!\n",
      "Aggregation Start!!\n",
      "Aggregate Term Setting\n",
      "Get Lost Merchant and Card ID\n",
      "Make Ratio Feature\n",
      "241_rad Feature Saving...\n"
     ]
    },
    {
     "name": "stderr",
     "output_type": "stream",
     "text": [
      "100%|██████████| 1/1 [00:00<00:00,  4.17it/s]\n"
     ]
    },
    {
     "name": "stdout",
     "output_type": "stream",
     "text": [
      "Complete!\n",
      "242_rad_freq_2Mover Feature Saving...\n"
     ]
    },
    {
     "name": "stderr",
     "output_type": "stream",
     "text": [
      "100%|██████████| 1/1 [00:00<00:00,  4.18it/s]\n"
     ]
    },
    {
     "name": "stdout",
     "output_type": "stream",
     "text": [
      "Complete!\n",
      "Aggregation Start!!\n",
      "Aggregate Term Setting\n",
      "Get Lost Merchant and Card ID\n",
      "Make Ratio Feature\n",
      "241_rad Feature Saving...\n"
     ]
    },
    {
     "name": "stderr",
     "output_type": "stream",
     "text": [
      "100%|██████████| 1/1 [00:00<00:00,  4.06it/s]\n"
     ]
    },
    {
     "name": "stdout",
     "output_type": "stream",
     "text": [
      "Complete!\n",
      "242_rad_freq_2Mover Feature Saving...\n"
     ]
    },
    {
     "name": "stderr",
     "output_type": "stream",
     "text": [
      "100%|██████████| 1/1 [00:00<00:00,  4.16it/s]\n"
     ]
    },
    {
     "name": "stdout",
     "output_type": "stream",
     "text": [
      "Complete!\n",
      "Aggregation Start!!\n",
      "Aggregate Term Setting\n",
      "Get Lost Merchant and Card ID\n",
      "Make Ratio Feature\n",
      "241_rad Feature Saving...\n"
     ]
    },
    {
     "name": "stderr",
     "output_type": "stream",
     "text": [
      "100%|██████████| 1/1 [00:00<00:00,  4.14it/s]\n"
     ]
    },
    {
     "name": "stdout",
     "output_type": "stream",
     "text": [
      "Complete!\n",
      "242_rad_freq_2Mover Feature Saving...\n"
     ]
    },
    {
     "name": "stderr",
     "output_type": "stream",
     "text": [
      "100%|██████████| 1/1 [00:00<00:00,  4.09it/s]\n"
     ]
    },
    {
     "name": "stdout",
     "output_type": "stream",
     "text": [
      "Complete!\n",
      "Aggregation Start!!\n",
      "Aggregate Term Setting\n",
      "Get Lost Merchant and Card ID\n",
      "Make Ratio Feature\n",
      "241_rad Feature Saving...\n"
     ]
    },
    {
     "name": "stderr",
     "output_type": "stream",
     "text": [
      "100%|██████████| 1/1 [00:00<00:00,  4.17it/s]\n"
     ]
    },
    {
     "name": "stdout",
     "output_type": "stream",
     "text": [
      "Complete!\n",
      "242_rad_freq_2Mover Feature Saving...\n"
     ]
    },
    {
     "name": "stderr",
     "output_type": "stream",
     "text": [
      "100%|██████████| 1/1 [00:00<00:00,  3.98it/s]\n"
     ]
    },
    {
     "name": "stdout",
     "output_type": "stream",
     "text": [
      "Complete!\n",
      "Aggregation Start!!\n",
      "Aggregate Term Setting\n",
      "Get Lost Merchant and Card ID\n",
      "Make Ratio Feature\n",
      "241_rad Feature Saving...\n"
     ]
    },
    {
     "name": "stderr",
     "output_type": "stream",
     "text": [
      "100%|██████████| 1/1 [00:00<00:00,  4.04it/s]\n"
     ]
    },
    {
     "name": "stdout",
     "output_type": "stream",
     "text": [
      "Complete!\n",
      "242_rad_freq_2Mover Feature Saving...\n"
     ]
    },
    {
     "name": "stderr",
     "output_type": "stream",
     "text": [
      "100%|██████████| 1/1 [00:00<00:00,  4.13it/s]\n"
     ]
    },
    {
     "name": "stdout",
     "output_type": "stream",
     "text": [
      "Complete!\n",
      "Aggregation Start!!\n",
      "Aggregate Term Setting\n",
      "Get Lost Merchant and Card ID\n",
      "Make Ratio Feature\n",
      "241_rad Feature Saving...\n"
     ]
    },
    {
     "name": "stderr",
     "output_type": "stream",
     "text": [
      "100%|██████████| 1/1 [00:00<00:00,  4.17it/s]\n"
     ]
    },
    {
     "name": "stdout",
     "output_type": "stream",
     "text": [
      "Complete!\n",
      "242_rad_freq_2Mover Feature Saving...\n"
     ]
    },
    {
     "name": "stderr",
     "output_type": "stream",
     "text": [
      "100%|██████████| 1/1 [00:00<00:00,  4.04it/s]\n"
     ]
    },
    {
     "name": "stdout",
     "output_type": "stream",
     "text": [
      "Complete!\n",
      "Aggregation Start!!\n",
      "Aggregate Term Setting\n",
      "Get Lost Merchant and Card ID\n",
      "Make Ratio Feature\n",
      "241_rad Feature Saving...\n"
     ]
    },
    {
     "name": "stderr",
     "output_type": "stream",
     "text": [
      "100%|██████████| 1/1 [00:00<00:00,  4.21it/s]\n"
     ]
    },
    {
     "name": "stdout",
     "output_type": "stream",
     "text": [
      "Complete!\n",
      "242_rad_freq_2Mover Feature Saving...\n"
     ]
    },
    {
     "name": "stderr",
     "output_type": "stream",
     "text": [
      "100%|██████████| 1/1 [00:00<00:00,  4.11it/s]\n"
     ]
    },
    {
     "name": "stdout",
     "output_type": "stream",
     "text": [
      "Complete!\n",
      "Aggregation Start!!\n",
      "Aggregate Term Setting\n",
      "Get Lost Merchant and Card ID\n",
      "Make Ratio Feature\n",
      "241_rad Feature Saving...\n"
     ]
    },
    {
     "name": "stderr",
     "output_type": "stream",
     "text": [
      "100%|██████████| 1/1 [00:00<00:00,  4.07it/s]\n"
     ]
    },
    {
     "name": "stdout",
     "output_type": "stream",
     "text": [
      "Complete!\n",
      "242_rad_freq_2Mover Feature Saving...\n"
     ]
    },
    {
     "name": "stderr",
     "output_type": "stream",
     "text": [
      "100%|██████████| 1/1 [00:00<00:00,  4.06it/s]\n"
     ]
    },
    {
     "name": "stdout",
     "output_type": "stream",
     "text": [
      "Complete!\n",
      "Aggregation Start!!\n",
      "Aggregate Term Setting\n",
      "Get Lost Merchant and Card ID\n",
      "Make Ratio Feature\n",
      "241_rad Feature Saving...\n"
     ]
    },
    {
     "name": "stderr",
     "output_type": "stream",
     "text": [
      "100%|██████████| 1/1 [00:00<00:00,  4.18it/s]\n"
     ]
    },
    {
     "name": "stdout",
     "output_type": "stream",
     "text": [
      "Complete!\n",
      "242_rad_freq_2Mover Feature Saving...\n"
     ]
    },
    {
     "name": "stderr",
     "output_type": "stream",
     "text": [
      "100%|██████████| 1/1 [00:00<00:00,  4.10it/s]\n"
     ]
    },
    {
     "name": "stdout",
     "output_type": "stream",
     "text": [
      "Complete!\n",
      "Aggregation Start!!\n",
      "Aggregate Term Setting\n",
      "Get Lost Merchant and Card ID\n",
      "Make Ratio Feature\n",
      "241_rad Feature Saving...\n"
     ]
    },
    {
     "name": "stderr",
     "output_type": "stream",
     "text": [
      "100%|██████████| 1/1 [00:00<00:00,  4.23it/s]\n"
     ]
    },
    {
     "name": "stdout",
     "output_type": "stream",
     "text": [
      "Complete!\n",
      "242_rad_freq_2Mover Feature Saving...\n"
     ]
    },
    {
     "name": "stderr",
     "output_type": "stream",
     "text": [
      "100%|██████████| 1/1 [00:00<00:00,  4.11it/s]\n"
     ]
    },
    {
     "name": "stdout",
     "output_type": "stream",
     "text": [
      "Complete!\n",
      "Aggregation Start!!\n",
      "Aggregate Term Setting\n",
      "Get Lost Merchant and Card ID\n",
      "Make Ratio Feature\n",
      "241_rad Feature Saving...\n"
     ]
    },
    {
     "name": "stderr",
     "output_type": "stream",
     "text": [
      "100%|██████████| 1/1 [00:00<00:00,  4.19it/s]\n"
     ]
    },
    {
     "name": "stdout",
     "output_type": "stream",
     "text": [
      "Complete!\n",
      "242_rad_freq_2Mover Feature Saving...\n"
     ]
    },
    {
     "name": "stderr",
     "output_type": "stream",
     "text": [
      "100%|██████████| 1/1 [00:00<00:00,  4.16it/s]\n"
     ]
    },
    {
     "name": "stdout",
     "output_type": "stream",
     "text": [
      "Complete!\n",
      "Aggregation Start!!\n",
      "Aggregate Term Setting\n",
      "Get Lost Merchant and Card ID\n",
      "Make Ratio Feature\n",
      "241_rad Feature Saving...\n"
     ]
    },
    {
     "name": "stderr",
     "output_type": "stream",
     "text": [
      "100%|██████████| 1/1 [00:00<00:00,  4.20it/s]\n"
     ]
    },
    {
     "name": "stdout",
     "output_type": "stream",
     "text": [
      "Complete!\n",
      "242_rad_freq_2Mover Feature Saving...\n"
     ]
    },
    {
     "name": "stderr",
     "output_type": "stream",
     "text": [
      "100%|██████████| 1/1 [00:00<00:00,  4.14it/s]\n"
     ]
    },
    {
     "name": "stdout",
     "output_type": "stream",
     "text": [
      "Complete!\n",
      "Aggregation Start!!\n",
      "Aggregate Term Setting\n",
      "Get Lost Merchant and Card ID\n",
      "Make Ratio Feature\n",
      "241_rad Feature Saving...\n"
     ]
    },
    {
     "name": "stderr",
     "output_type": "stream",
     "text": [
      "100%|██████████| 1/1 [00:00<00:00,  4.04it/s]\n"
     ]
    },
    {
     "name": "stdout",
     "output_type": "stream",
     "text": [
      "Complete!\n",
      "242_rad_freq_2Mover Feature Saving...\n"
     ]
    },
    {
     "name": "stderr",
     "output_type": "stream",
     "text": [
      "100%|██████████| 1/1 [00:00<00:00,  4.01it/s]\n"
     ]
    },
    {
     "name": "stdout",
     "output_type": "stream",
     "text": [
      "Complete!\n",
      "Aggregation Start!!\n"
     ]
    },
    {
     "ename": "KeyboardInterrupt",
     "evalue": "",
     "output_type": "error",
     "traceback": [
      "\u001b[0;31m---------------------------------------------------------------------------\u001b[0m",
      "\u001b[0;31mKeyboardInterrupt\u001b[0m                         Traceback (most recent call last)",
      "\u001b[0;32m<ipython-input-167-ee2cf47bd3d8>\u001b[0m in \u001b[0;36m<module>\u001b[0;34m()\u001b[0m\n\u001b[1;32m     47\u001b[0m ]\n\u001b[1;32m     48\u001b[0m \u001b[0;32mfor\u001b[0m \u001b[0mpattern\u001b[0m \u001b[0;32min\u001b[0m \u001b[0mpattern_list\u001b[0m\u001b[0;34m:\u001b[0m\u001b[0;34m\u001b[0m\u001b[0m\n\u001b[0;32m---> 49\u001b[0;31m     \u001b[0mraddar_2level_agg\u001b[0m\u001b[0;34m(\u001b[0m\u001b[0;34m*\u001b[0m\u001b[0mpattern\u001b[0m\u001b[0;34m)\u001b[0m\u001b[0;34m\u001b[0m\u001b[0m\n\u001b[0m",
      "\u001b[0;32m<ipython-input-165-5712f6cc7d88>\u001b[0m in \u001b[0;36mraddar_2level_agg\u001b[0;34m(new_max, new_min, old_max, old_min)\u001b[0m\n\u001b[1;32m     29\u001b[0m \u001b[0;34m\u001b[0m\u001b[0m\n\u001b[1;32m     30\u001b[0m     \u001b[0mmer_cnt\u001b[0m \u001b[0;34m=\u001b[0m \u001b[0mdf\u001b[0m\u001b[0;34m.\u001b[0m\u001b[0mgroupby\u001b[0m\u001b[0;34m(\u001b[0m\u001b[0;34m[\u001b[0m\u001b[0mkey\u001b[0m\u001b[0;34m,\u001b[0m \u001b[0;34m'merchant_id'\u001b[0m\u001b[0;34m]\u001b[0m\u001b[0;34m)\u001b[0m\u001b[0;34m[\u001b[0m\u001b[0;34m'month_lag'\u001b[0m\u001b[0;34m]\u001b[0m\u001b[0;34m.\u001b[0m\u001b[0mnunique\u001b[0m\u001b[0;34m(\u001b[0m\u001b[0;34m)\u001b[0m\u001b[0;34m.\u001b[0m\u001b[0mreset_index\u001b[0m\u001b[0;34m(\u001b[0m\u001b[0;34m)\u001b[0m\u001b[0;34m.\u001b[0m\u001b[0mrename\u001b[0m\u001b[0;34m(\u001b[0m\u001b[0mcolumns\u001b[0m\u001b[0;34m=\u001b[0m\u001b[0;34m{\u001b[0m\u001b[0;34m'month_lag'\u001b[0m\u001b[0;34m:\u001b[0m\u001b[0;34m'month_lag_cnt'\u001b[0m\u001b[0;34m}\u001b[0m\u001b[0;34m)\u001b[0m\u001b[0;34m\u001b[0m\u001b[0m\n\u001b[0;32m---> 31\u001b[0;31m     \u001b[0mdf_agg\u001b[0m \u001b[0;34m=\u001b[0m \u001b[0mdf_agg\u001b[0m\u001b[0;34m.\u001b[0m\u001b[0mreset_index\u001b[0m\u001b[0;34m(\u001b[0m\u001b[0;34m)\u001b[0m\u001b[0;34m.\u001b[0m\u001b[0mmerge\u001b[0m\u001b[0;34m(\u001b[0m\u001b[0mmer_cnt\u001b[0m\u001b[0;34m,\u001b[0m \u001b[0mhow\u001b[0m\u001b[0;34m=\u001b[0m\u001b[0;34m'inner'\u001b[0m\u001b[0;34m,\u001b[0m \u001b[0mon\u001b[0m\u001b[0;34m=\u001b[0m\u001b[0;34m[\u001b[0m\u001b[0mkey\u001b[0m\u001b[0;34m,\u001b[0m \u001b[0;34m'merchant_id'\u001b[0m\u001b[0;34m]\u001b[0m\u001b[0;34m)\u001b[0m\u001b[0;34m\u001b[0m\u001b[0m\n\u001b[0m\u001b[1;32m     32\u001b[0m     \u001b[0;31m#========================================================================\u001b[0m\u001b[0;34m\u001b[0m\u001b[0;34m\u001b[0m\u001b[0m\n\u001b[1;32m     33\u001b[0m \u001b[0;34m\u001b[0m\u001b[0m\n",
      "\u001b[0;32m~/anaconda3/lib/python3.6/site-packages/pandas/core/frame.py\u001b[0m in \u001b[0;36mmerge\u001b[0;34m(self, right, how, on, left_on, right_on, left_index, right_index, sort, suffixes, copy, indicator, validate)\u001b[0m\n\u001b[1;32m   6387\u001b[0m                      \u001b[0mright_on\u001b[0m\u001b[0;34m=\u001b[0m\u001b[0mright_on\u001b[0m\u001b[0;34m,\u001b[0m \u001b[0mleft_index\u001b[0m\u001b[0;34m=\u001b[0m\u001b[0mleft_index\u001b[0m\u001b[0;34m,\u001b[0m\u001b[0;34m\u001b[0m\u001b[0m\n\u001b[1;32m   6388\u001b[0m                      \u001b[0mright_index\u001b[0m\u001b[0;34m=\u001b[0m\u001b[0mright_index\u001b[0m\u001b[0;34m,\u001b[0m \u001b[0msort\u001b[0m\u001b[0;34m=\u001b[0m\u001b[0msort\u001b[0m\u001b[0;34m,\u001b[0m \u001b[0msuffixes\u001b[0m\u001b[0;34m=\u001b[0m\u001b[0msuffixes\u001b[0m\u001b[0;34m,\u001b[0m\u001b[0;34m\u001b[0m\u001b[0m\n\u001b[0;32m-> 6389\u001b[0;31m                      copy=copy, indicator=indicator, validate=validate)\n\u001b[0m\u001b[1;32m   6390\u001b[0m \u001b[0;34m\u001b[0m\u001b[0m\n\u001b[1;32m   6391\u001b[0m     \u001b[0;32mdef\u001b[0m \u001b[0mround\u001b[0m\u001b[0;34m(\u001b[0m\u001b[0mself\u001b[0m\u001b[0;34m,\u001b[0m \u001b[0mdecimals\u001b[0m\u001b[0;34m=\u001b[0m\u001b[0;36m0\u001b[0m\u001b[0;34m,\u001b[0m \u001b[0;34m*\u001b[0m\u001b[0margs\u001b[0m\u001b[0;34m,\u001b[0m \u001b[0;34m**\u001b[0m\u001b[0mkwargs\u001b[0m\u001b[0;34m)\u001b[0m\u001b[0;34m:\u001b[0m\u001b[0;34m\u001b[0m\u001b[0m\n",
      "\u001b[0;32m~/anaconda3/lib/python3.6/site-packages/pandas/core/reshape/merge.py\u001b[0m in \u001b[0;36mmerge\u001b[0;34m(left, right, how, on, left_on, right_on, left_index, right_index, sort, suffixes, copy, indicator, validate)\u001b[0m\n\u001b[1;32m     60\u001b[0m                          \u001b[0mcopy\u001b[0m\u001b[0;34m=\u001b[0m\u001b[0mcopy\u001b[0m\u001b[0;34m,\u001b[0m \u001b[0mindicator\u001b[0m\u001b[0;34m=\u001b[0m\u001b[0mindicator\u001b[0m\u001b[0;34m,\u001b[0m\u001b[0;34m\u001b[0m\u001b[0m\n\u001b[1;32m     61\u001b[0m                          validate=validate)\n\u001b[0;32m---> 62\u001b[0;31m     \u001b[0;32mreturn\u001b[0m \u001b[0mop\u001b[0m\u001b[0;34m.\u001b[0m\u001b[0mget_result\u001b[0m\u001b[0;34m(\u001b[0m\u001b[0;34m)\u001b[0m\u001b[0;34m\u001b[0m\u001b[0m\n\u001b[0m\u001b[1;32m     63\u001b[0m \u001b[0;34m\u001b[0m\u001b[0m\n\u001b[1;32m     64\u001b[0m \u001b[0;34m\u001b[0m\u001b[0m\n",
      "\u001b[0;32m~/anaconda3/lib/python3.6/site-packages/pandas/core/reshape/merge.py\u001b[0m in \u001b[0;36mget_result\u001b[0;34m(self)\u001b[0m\n\u001b[1;32m    580\u001b[0m             \u001b[0;34m[\u001b[0m\u001b[0;34m(\u001b[0m\u001b[0mldata\u001b[0m\u001b[0;34m,\u001b[0m \u001b[0mlindexers\u001b[0m\u001b[0;34m)\u001b[0m\u001b[0;34m,\u001b[0m \u001b[0;34m(\u001b[0m\u001b[0mrdata\u001b[0m\u001b[0;34m,\u001b[0m \u001b[0mrindexers\u001b[0m\u001b[0;34m)\u001b[0m\u001b[0;34m]\u001b[0m\u001b[0;34m,\u001b[0m\u001b[0;34m\u001b[0m\u001b[0m\n\u001b[1;32m    581\u001b[0m             \u001b[0maxes\u001b[0m\u001b[0;34m=\u001b[0m\u001b[0;34m[\u001b[0m\u001b[0mllabels\u001b[0m\u001b[0;34m.\u001b[0m\u001b[0mappend\u001b[0m\u001b[0;34m(\u001b[0m\u001b[0mrlabels\u001b[0m\u001b[0;34m)\u001b[0m\u001b[0;34m,\u001b[0m \u001b[0mjoin_index\u001b[0m\u001b[0;34m]\u001b[0m\u001b[0;34m,\u001b[0m\u001b[0;34m\u001b[0m\u001b[0m\n\u001b[0;32m--> 582\u001b[0;31m             concat_axis=0, copy=self.copy)\n\u001b[0m\u001b[1;32m    583\u001b[0m \u001b[0;34m\u001b[0m\u001b[0m\n\u001b[1;32m    584\u001b[0m         \u001b[0mtyp\u001b[0m \u001b[0;34m=\u001b[0m \u001b[0mself\u001b[0m\u001b[0;34m.\u001b[0m\u001b[0mleft\u001b[0m\u001b[0;34m.\u001b[0m\u001b[0m_constructor\u001b[0m\u001b[0;34m\u001b[0m\u001b[0m\n",
      "\u001b[0;32m~/anaconda3/lib/python3.6/site-packages/pandas/core/internals.py\u001b[0m in \u001b[0;36mconcatenate_block_managers\u001b[0;34m(mgrs_indexers, axes, concat_axis, copy)\u001b[0m\n\u001b[1;32m   5419\u001b[0m         \u001b[0;32melse\u001b[0m\u001b[0;34m:\u001b[0m\u001b[0;34m\u001b[0m\u001b[0m\n\u001b[1;32m   5420\u001b[0m             b = make_block(\n\u001b[0;32m-> 5421\u001b[0;31m                 \u001b[0mconcatenate_join_units\u001b[0m\u001b[0;34m(\u001b[0m\u001b[0mjoin_units\u001b[0m\u001b[0;34m,\u001b[0m \u001b[0mconcat_axis\u001b[0m\u001b[0;34m,\u001b[0m \u001b[0mcopy\u001b[0m\u001b[0;34m=\u001b[0m\u001b[0mcopy\u001b[0m\u001b[0;34m)\u001b[0m\u001b[0;34m,\u001b[0m\u001b[0;34m\u001b[0m\u001b[0m\n\u001b[0m\u001b[1;32m   5422\u001b[0m                 placement=placement)\n\u001b[1;32m   5423\u001b[0m         \u001b[0mblocks\u001b[0m\u001b[0;34m.\u001b[0m\u001b[0mappend\u001b[0m\u001b[0;34m(\u001b[0m\u001b[0mb\u001b[0m\u001b[0;34m)\u001b[0m\u001b[0;34m\u001b[0m\u001b[0m\n",
      "\u001b[0;32m~/anaconda3/lib/python3.6/site-packages/pandas/core/internals.py\u001b[0m in \u001b[0;36mconcatenate_join_units\u001b[0;34m(join_units, concat_axis, copy)\u001b[0m\n\u001b[1;32m   5563\u001b[0m     to_concat = [ju.get_reindexed_values(empty_dtype=empty_dtype,\n\u001b[1;32m   5564\u001b[0m                                          upcasted_na=upcasted_na)\n\u001b[0;32m-> 5565\u001b[0;31m                  for ju in join_units]\n\u001b[0m\u001b[1;32m   5566\u001b[0m \u001b[0;34m\u001b[0m\u001b[0m\n\u001b[1;32m   5567\u001b[0m     \u001b[0;32mif\u001b[0m \u001b[0mlen\u001b[0m\u001b[0;34m(\u001b[0m\u001b[0mto_concat\u001b[0m\u001b[0;34m)\u001b[0m \u001b[0;34m==\u001b[0m \u001b[0;36m1\u001b[0m\u001b[0;34m:\u001b[0m\u001b[0;34m\u001b[0m\u001b[0m\n",
      "\u001b[0;32m~/anaconda3/lib/python3.6/site-packages/pandas/core/internals.py\u001b[0m in \u001b[0;36m<listcomp>\u001b[0;34m(.0)\u001b[0m\n\u001b[1;32m   5563\u001b[0m     to_concat = [ju.get_reindexed_values(empty_dtype=empty_dtype,\n\u001b[1;32m   5564\u001b[0m                                          upcasted_na=upcasted_na)\n\u001b[0;32m-> 5565\u001b[0;31m                  for ju in join_units]\n\u001b[0m\u001b[1;32m   5566\u001b[0m \u001b[0;34m\u001b[0m\u001b[0m\n\u001b[1;32m   5567\u001b[0m     \u001b[0;32mif\u001b[0m \u001b[0mlen\u001b[0m\u001b[0;34m(\u001b[0m\u001b[0mto_concat\u001b[0m\u001b[0;34m)\u001b[0m \u001b[0;34m==\u001b[0m \u001b[0;36m1\u001b[0m\u001b[0;34m:\u001b[0m\u001b[0;34m\u001b[0m\u001b[0m\n",
      "\u001b[0;32m~/anaconda3/lib/python3.6/site-packages/pandas/core/internals.py\u001b[0m in \u001b[0;36mget_reindexed_values\u001b[0;34m(self, empty_dtype, upcasted_na)\u001b[0m\n\u001b[1;32m   5873\u001b[0m             \u001b[0;32mfor\u001b[0m \u001b[0max\u001b[0m\u001b[0;34m,\u001b[0m \u001b[0mindexer\u001b[0m \u001b[0;32min\u001b[0m \u001b[0mself\u001b[0m\u001b[0;34m.\u001b[0m\u001b[0mindexers\u001b[0m\u001b[0;34m.\u001b[0m\u001b[0mitems\u001b[0m\u001b[0;34m(\u001b[0m\u001b[0;34m)\u001b[0m\u001b[0;34m:\u001b[0m\u001b[0;34m\u001b[0m\u001b[0m\n\u001b[1;32m   5874\u001b[0m                 values = algos.take_nd(values, indexer, axis=ax,\n\u001b[0;32m-> 5875\u001b[0;31m                                        fill_value=fill_value)\n\u001b[0m\u001b[1;32m   5876\u001b[0m \u001b[0;34m\u001b[0m\u001b[0m\n\u001b[1;32m   5877\u001b[0m         \u001b[0;32mreturn\u001b[0m \u001b[0mvalues\u001b[0m\u001b[0;34m\u001b[0m\u001b[0m\n",
      "\u001b[0;32m~/anaconda3/lib/python3.6/site-packages/pandas/core/algorithms.py\u001b[0m in \u001b[0;36mtake_nd\u001b[0;34m(arr, indexer, axis, out, fill_value, mask_info, allow_fill)\u001b[0m\n\u001b[1;32m   1657\u001b[0m     func = _get_take_nd_function(arr.ndim, arr.dtype, out.dtype, axis=axis,\n\u001b[1;32m   1658\u001b[0m                                  mask_info=mask_info)\n\u001b[0;32m-> 1659\u001b[0;31m     \u001b[0mfunc\u001b[0m\u001b[0;34m(\u001b[0m\u001b[0marr\u001b[0m\u001b[0;34m,\u001b[0m \u001b[0mindexer\u001b[0m\u001b[0;34m,\u001b[0m \u001b[0mout\u001b[0m\u001b[0;34m,\u001b[0m \u001b[0mfill_value\u001b[0m\u001b[0;34m)\u001b[0m\u001b[0;34m\u001b[0m\u001b[0m\n\u001b[0m\u001b[1;32m   1660\u001b[0m \u001b[0;34m\u001b[0m\u001b[0m\n\u001b[1;32m   1661\u001b[0m     \u001b[0;32mif\u001b[0m \u001b[0mflip_order\u001b[0m\u001b[0;34m:\u001b[0m\u001b[0;34m\u001b[0m\u001b[0m\n",
      "\u001b[0;31mKeyboardInterrupt\u001b[0m: "
     ]
    }
   ],
   "source": [
    "pattern_list = [\n",
    "    # One Month Ver\n",
    "#     [0, 0, -1, -1]\n",
    "#     ,[-1, -1, -2, -2]\n",
    "#     ,[-2, -2, -3, -3]\n",
    "    \n",
    "    # Two Month Ver\n",
    "    [0, -1, -2, -3]\n",
    "    ,[-1, -2, -3, -4]\n",
    "    ,[-2, -3, -4, -5]\n",
    "    \n",
    "    # Three Month Ver\n",
    "    ,[0, -2, -3, -5]\n",
    "    ,[-1, -3, -4, -6]\n",
    "    ,[-2, -4, -5, -7]\n",
    "    \n",
    "    # One / Two Month Ver\n",
    "    ,[0, 0, -1, -2]\n",
    "    ,[-1, -1, -2, -3]\n",
    "    ,[-2, -2, -3, -4]\n",
    "    \n",
    "    # One / Three Month Ver\n",
    "    ,[0, 0, -1, -3]\n",
    "    ,[-1, -1, -2, -4]\n",
    "    ,[-2, -2, -3, -5]\n",
    "    \n",
    "    # One / Six Month Ver\n",
    "    ,[0, 0, -1, -6]\n",
    "    ,[-1, -1, -2, -7]\n",
    "    ,[-2, -2, -3, -8]\n",
    "    \n",
    "    # Two / Three Month Ver\n",
    "    ,[0, -1, -2, -4]\n",
    "    ,[-1, -2, -3, -5]\n",
    "    ,[-2, -3, -4, -6]\n",
    "    \n",
    "    # Two / Six Month Ver\n",
    "    ,[0, -1, -2, -7]\n",
    "    ,[-1, -2, -3, -8]\n",
    "    ,[-2, -3, -4, -9]\n",
    "    \n",
    "    # Three / Six Month Ver\n",
    "    ,[0, -2, -3, -8]\n",
    "    ,[-1, -3, -4, -9]\n",
    "    ,[-2, -4, -5, -10]\n",
    "    \n",
    "]\n",
    "for pattern in pattern_list:\n",
    "    raddar_2level_agg(*pattern)"
   ]
  }
 ],
 "metadata": {
  "kernelspec": {
   "display_name": "Python 3",
   "language": "python",
   "name": "python3"
  },
  "language_info": {
   "codemirror_mode": {
    "name": "ipython",
    "version": 3
   },
   "file_extension": ".py",
   "mimetype": "text/x-python",
   "name": "python",
   "nbconvert_exporter": "python",
   "pygments_lexer": "ipython3",
   "version": "3.6.3"
  }
 },
 "nbformat": 4,
 "nbformat_minor": 2
}
