{
 "cells": [
  {
   "cell_type": "markdown",
   "metadata": {},
   "source": [
    "## 177 Null Count"
   ]
  },
  {
   "cell_type": "code",
   "execution_count": 1,
   "metadata": {
    "ExecuteTime": {
     "end_time": "2018-10-28T07:40:08.183701Z",
     "start_time": "2018-10-28T07:40:07.309627Z"
    },
    "collapsed": true
   },
   "outputs": [],
   "source": [
    "%load_ext autoreload\n",
    "%autoreload 2\n",
    "import gc\n",
    "import re\n",
    "import pandas as pd\n",
    "from __future__ import print_function, division\n",
    "import numpy as np\n",
    "import matplotlib.pyplot as plt\n",
    "%matplotlib inline\n",
    "import seaborn as sns\n",
    "sns.set()\n",
    "pd.set_option('max_columns', 200)\n",
    "pd.set_option('max_rows', 200)\n",
    "import os\n",
    "import sys\n",
    "HOME = os.path.expanduser(\"~\")\n",
    "sys.path.append(f'{HOME}/kaggle/data_analysis/library')\n",
    "import utils\n",
    "from utils import get_categorical_features, get_numeric_features\n",
    "import datetime\n",
    "\n",
    "from tqdm import tqdm\n",
    "import numpy as np \n",
    "import matplotlib.pyplot as plt\n",
    "import seaborn as sns\n",
    "import lightgbm as lgb\n",
    "from sklearn.model_selection import KFold\n",
    "import warnings\n",
    "import time\n",
    "import sys\n",
    "import datetime\n",
    "from sklearn.metrics import mean_squared_error\n",
    "from mv_wg_avg import exp_weight_avg\n",
    "\n",
    "\n",
    "key = 'card_id'\n",
    "target = 'target'\n",
    "ignore_list = [key, target, 'merchant_id', 'first_avtive_month']"
   ]
  },
  {
   "cell_type": "markdown",
   "metadata": {},
   "source": [
    "### Data Load"
   ]
  },
  {
   "cell_type": "code",
   "execution_count": 3,
   "metadata": {},
   "outputs": [
    {
     "name": "stderr",
     "output_type": "stream",
     "text": [
      "100%|██████████| 3/3 [00:00<00:00, 93.10it/s]\n",
      "100%|██████████| 3/3 [00:00<00:00, 185.18it/s]\n",
      "100%|██████████| 3/3 [00:08<00:00,  2.85s/it]\n",
      "100%|██████████| 3/3 [00:00<00:00,  3.38it/s]\n"
     ]
    },
    {
     "name": "stdout",
     "output_type": "stream",
     "text": [
      "Mem. usage decreased to  4.04 Mb (56.2% reduction)\n",
      "Mem. usage decreased to  2.24 Mb (52.5% reduction)\n",
      "Mem. usage decreased to 1971.22 Mb (40.8% reduction)\n",
      "Mem. usage decreased to 72.58 Mb (21.9% reduction)\n",
      "(29112361, 15)\n",
      "(29112361, 16)\n"
     ]
    }
   ],
   "source": [
    "df_train = utils.read_df_pkl('../input/train0*')\n",
    "df_test = utils.read_df_pkl('../input/test0*')\n",
    "df_train.set_index(key, inplace=True)\n",
    "df_test.set_index(key, inplace=True)\n",
    "train_test = pd.concat([df_train, df_test], axis=0)\n",
    "\n",
    "df_hist = utils.read_df_pkl('../input/histori*0*')\n",
    "df_new = utils.read_df_pkl('../input/new_mer*0*')\n",
    "\n",
    "df_train = utils.reduce_mem_usage(df_train)\n",
    "df_test  = utils.reduce_mem_usage(df_test )\n",
    "df_hist  = utils.reduce_mem_usage(df_hist )\n",
    "# df_new   = utils.reduce_mem_usage(df_new  )\n",
    "\n",
    "df_org_lag = utils.read_pkl_gzip('../input/train_test_original_month_lag.gz')\n",
    "df_org_lag = utils.reduce_mem_usage(df_org_lag)\n",
    "df_org_lag.head()\n",
    "\n",
    "df_org_lag.rename(columns={'purchase_date':'yyyymm'}, inplace=True)\n",
    "\n",
    "\n",
    "df_hist['yyyymm'] =  df_hist['purchase_date'].map(lambda x: str(x)[:7])\n",
    "# df_new['yyyymm'] =  df_new['purchase_date'].map(lambda x: str(x)[:7])\n",
    "print(df_hist.shape)\n",
    "df_hist = df_hist.merge(df_org_lag.reset_index()[[key, 'yyyymm', 'org_month_lag']], how='inner', on=[key, 'yyyymm'])\n",
    "print(df_hist.shape)\n",
    "# df_new = df_new.merge(df_org_lag.reset_index()[[key, 'yyyymm', 'org_month_lag']], how='inner', on=[key, 'yyyymm'])\n",
    "# df_new = []"
   ]
  },
  {
   "cell_type": "code",
   "execution_count": 4,
   "metadata": {},
   "outputs": [
    {
     "data": {
      "text/html": [
       "<div>\n",
       "<style scoped>\n",
       "    .dataframe tbody tr th:only-of-type {\n",
       "        vertical-align: middle;\n",
       "    }\n",
       "\n",
       "    .dataframe tbody tr th {\n",
       "        vertical-align: top;\n",
       "    }\n",
       "\n",
       "    .dataframe thead th {\n",
       "        text-align: right;\n",
       "    }\n",
       "</style>\n",
       "<table border=\"1\" class=\"dataframe\">\n",
       "  <thead>\n",
       "    <tr style=\"text-align: right;\">\n",
       "      <th></th>\n",
       "      <th>authorized_flag</th>\n",
       "      <th>card_id</th>\n",
       "      <th>city_id</th>\n",
       "      <th>category_1</th>\n",
       "      <th>installments</th>\n",
       "      <th>category_3</th>\n",
       "      <th>merchant_category_id</th>\n",
       "      <th>merchant_id</th>\n",
       "      <th>month_lag</th>\n",
       "      <th>purchase_amount</th>\n",
       "      <th>purchase_date</th>\n",
       "      <th>category_2</th>\n",
       "      <th>state_id</th>\n",
       "      <th>subsector_id</th>\n",
       "      <th>yyyymm</th>\n",
       "      <th>org_month_lag</th>\n",
       "    </tr>\n",
       "  </thead>\n",
       "  <tbody>\n",
       "    <tr>\n",
       "      <th>0</th>\n",
       "      <td>1</td>\n",
       "      <td>C_ID_4e6213e9bc</td>\n",
       "      <td>88</td>\n",
       "      <td>0</td>\n",
       "      <td>0</td>\n",
       "      <td>A</td>\n",
       "      <td>80</td>\n",
       "      <td>M_ID_e020e9b302</td>\n",
       "      <td>-8</td>\n",
       "      <td>-0.703331</td>\n",
       "      <td>2017-06-25 15:33:07</td>\n",
       "      <td>1.0</td>\n",
       "      <td>16</td>\n",
       "      <td>37</td>\n",
       "      <td>2017-06</td>\n",
       "      <td>12</td>\n",
       "    </tr>\n",
       "    <tr>\n",
       "      <th>1</th>\n",
       "      <td>1</td>\n",
       "      <td>C_ID_4e6213e9bc</td>\n",
       "      <td>88</td>\n",
       "      <td>0</td>\n",
       "      <td>0</td>\n",
       "      <td>A</td>\n",
       "      <td>80</td>\n",
       "      <td>M_ID_979ed661fc</td>\n",
       "      <td>-8</td>\n",
       "      <td>-0.737967</td>\n",
       "      <td>2017-06-01 22:02:56</td>\n",
       "      <td>1.0</td>\n",
       "      <td>16</td>\n",
       "      <td>37</td>\n",
       "      <td>2017-06</td>\n",
       "      <td>12</td>\n",
       "    </tr>\n",
       "    <tr>\n",
       "      <th>2</th>\n",
       "      <td>1</td>\n",
       "      <td>C_ID_4e6213e9bc</td>\n",
       "      <td>88</td>\n",
       "      <td>0</td>\n",
       "      <td>0</td>\n",
       "      <td>A</td>\n",
       "      <td>80</td>\n",
       "      <td>M_ID_e020e9b302</td>\n",
       "      <td>-8</td>\n",
       "      <td>-0.741648</td>\n",
       "      <td>2017-06-08 18:02:29</td>\n",
       "      <td>1.0</td>\n",
       "      <td>16</td>\n",
       "      <td>37</td>\n",
       "      <td>2017-06</td>\n",
       "      <td>12</td>\n",
       "    </tr>\n",
       "    <tr>\n",
       "      <th>3</th>\n",
       "      <td>1</td>\n",
       "      <td>C_ID_4e6213e9bc</td>\n",
       "      <td>88</td>\n",
       "      <td>0</td>\n",
       "      <td>0</td>\n",
       "      <td>A</td>\n",
       "      <td>560</td>\n",
       "      <td>M_ID_e6d5ae8ea6</td>\n",
       "      <td>-8</td>\n",
       "      <td>-0.738192</td>\n",
       "      <td>2017-06-14 07:40:48</td>\n",
       "      <td>1.0</td>\n",
       "      <td>16</td>\n",
       "      <td>34</td>\n",
       "      <td>2017-06</td>\n",
       "      <td>12</td>\n",
       "    </tr>\n",
       "    <tr>\n",
       "      <th>4</th>\n",
       "      <td>1</td>\n",
       "      <td>C_ID_4e6213e9bc</td>\n",
       "      <td>88</td>\n",
       "      <td>0</td>\n",
       "      <td>0</td>\n",
       "      <td>A</td>\n",
       "      <td>80</td>\n",
       "      <td>M_ID_979ed661fc</td>\n",
       "      <td>-8</td>\n",
       "      <td>-0.726772</td>\n",
       "      <td>2017-06-23 21:43:17</td>\n",
       "      <td>1.0</td>\n",
       "      <td>16</td>\n",
       "      <td>37</td>\n",
       "      <td>2017-06</td>\n",
       "      <td>12</td>\n",
       "    </tr>\n",
       "  </tbody>\n",
       "</table>\n",
       "</div>"
      ],
      "text/plain": [
       "   authorized_flag          card_id  city_id  category_1  installments  \\\n",
       "0                1  C_ID_4e6213e9bc       88           0             0   \n",
       "1                1  C_ID_4e6213e9bc       88           0             0   \n",
       "2                1  C_ID_4e6213e9bc       88           0             0   \n",
       "3                1  C_ID_4e6213e9bc       88           0             0   \n",
       "4                1  C_ID_4e6213e9bc       88           0             0   \n",
       "\n",
       "  category_3  merchant_category_id      merchant_id  month_lag  \\\n",
       "0          A                    80  M_ID_e020e9b302         -8   \n",
       "1          A                    80  M_ID_979ed661fc         -8   \n",
       "2          A                    80  M_ID_e020e9b302         -8   \n",
       "3          A                   560  M_ID_e6d5ae8ea6         -8   \n",
       "4          A                    80  M_ID_979ed661fc         -8   \n",
       "\n",
       "   purchase_amount        purchase_date  category_2  state_id  subsector_id  \\\n",
       "0        -0.703331  2017-06-25 15:33:07         1.0        16            37   \n",
       "1        -0.737967  2017-06-01 22:02:56         1.0        16            37   \n",
       "2        -0.741648  2017-06-08 18:02:29         1.0        16            37   \n",
       "3        -0.738192  2017-06-14 07:40:48         1.0        16            34   \n",
       "4        -0.726772  2017-06-23 21:43:17         1.0        16            37   \n",
       "\n",
       "    yyyymm  org_month_lag  \n",
       "0  2017-06             12  \n",
       "1  2017-06             12  \n",
       "2  2017-06             12  \n",
       "3  2017-06             12  \n",
       "4  2017-06             12  "
      ]
     },
     "execution_count": 4,
     "metadata": {},
     "output_type": "execute_result"
    }
   ],
   "source": [
    "df = df_new\n",
    "df.sort_values(by=[key, 'purchase_date'], inplace=True)\n",
    "df['authorized_flag'] =  df['authorized_flag'].map(lambda x: 0 if x=='N' else 1)\n",
    "df_new = df.copy()\n",
    "del df\n",
    "gc.collect()\n",
    "\n",
    "df = df_hist\n",
    "df['authorized_flag'] =  df['authorized_flag'].map(lambda x: 0 if x=='N' else 1)\n",
    "df['category_1'] =  df['category_1'].map(lambda x: 0 if x=='N' else 1)\n",
    "df_hist = df.copy()\n",
    "del df\n",
    "gc.collect()\n",
    "df_hist.head()"
   ]
  },
  {
   "cell_type": "code",
   "execution_count": 7,
   "metadata": {},
   "outputs": [
    {
     "name": "stderr",
     "output_type": "stream",
     "text": [
      "  0%|          | 0/12 [00:00<?, ?it/s]"
     ]
    },
    {
     "name": "stdout",
     "output_type": "stream",
     "text": [
      "prefix: 177_l13\n"
     ]
    },
    {
     "name": "stderr",
     "output_type": "stream",
     "text": [
      "\n",
      "  0%|          | 0/2 [00:00<?, ?it/s]\u001b[A\n",
      "\n",
      "  0%|          | 0/3 [00:00<?, ?it/s]\u001b[A\u001b[A\n",
      "\n",
      "100%|██████████| 3/3 [00:00<00:00, 100.80it/s]\u001b[A\u001b[A\n",
      "\n",
      "  0%|          | 0/3 [00:00<?, ?it/s]\u001b[A\u001b[A\n",
      "\n",
      "100%|██████████| 3/3 [00:00<00:00, 168.12it/s]\u001b[A\u001b[A"
     ]
    },
    {
     "name": "stdout",
     "output_type": "stream",
     "text": [
      "fname: org_lag1_3_auth1\n",
      "org_lag1_3_auth1_category_3_null_cnt\n",
      "org_lag1_3_auth1_merchant_category_id_null_cnt\n",
      "org_lag1_3_auth1_installments_null_cnt\n"
     ]
    },
    {
     "name": "stderr",
     "output_type": "stream",
     "text": [
      "\n",
      " 50%|█████     | 1/2 [00:08<00:08,  8.22s/it]\u001b[A\n",
      "\n",
      "  0%|          | 0/3 [00:00<?, ?it/s]\u001b[A\u001b[A\n",
      "\n",
      "100%|██████████| 3/3 [00:00<00:00, 93.80it/s]\u001b[A\u001b[A\n",
      "\n",
      "  0%|          | 0/3 [00:00<?, ?it/s]\u001b[A\u001b[A\n",
      "\n",
      "100%|██████████| 3/3 [00:00<00:00, 166.98it/s]\u001b[A\u001b[A"
     ]
    },
    {
     "name": "stdout",
     "output_type": "stream",
     "text": [
      "fname: org_lag1_3_auth0\n",
      "org_lag1_3_auth0_category_3_null_cnt\n",
      "org_lag1_3_auth0_merchant_category_id_null_cnt\n",
      "org_lag1_3_auth0_installments_null_cnt\n"
     ]
    },
    {
     "name": "stderr",
     "output_type": "stream",
     "text": [
      "\n",
      "100%|██████████| 2/2 [00:10<00:00,  6.51s/it]\u001b[A\n",
      "  8%|▊         | 1/12 [00:14<02:36, 14.20s/it]"
     ]
    },
    {
     "name": "stdout",
     "output_type": "stream",
     "text": [
      "prefix: 177_l24\n"
     ]
    },
    {
     "name": "stderr",
     "output_type": "stream",
     "text": [
      "\n",
      "  0%|          | 0/2 [00:00<?, ?it/s]\u001b[A\n",
      "\n",
      "  0%|          | 0/3 [00:00<?, ?it/s]\u001b[A\u001b[A\n",
      "\n",
      "100%|██████████| 3/3 [00:00<00:00, 98.91it/s]\u001b[A\u001b[A\n",
      "\n",
      "  0%|          | 0/3 [00:00<?, ?it/s]\u001b[A\u001b[A\n",
      "\n",
      "100%|██████████| 3/3 [00:00<00:00, 165.85it/s]\u001b[A\u001b[A"
     ]
    },
    {
     "name": "stdout",
     "output_type": "stream",
     "text": [
      "fname: org_lag2_4_auth1\n",
      "org_lag2_4_auth1_category_3_null_cnt\n",
      "org_lag2_4_auth1_merchant_category_id_null_cnt\n",
      "org_lag2_4_auth1_installments_null_cnt\n"
     ]
    },
    {
     "name": "stderr",
     "output_type": "stream",
     "text": [
      "\n",
      " 50%|█████     | 1/2 [00:08<00:08,  8.06s/it]\u001b[A\n",
      "\n",
      "  0%|          | 0/3 [00:00<?, ?it/s]\u001b[A\u001b[A\n",
      "\n",
      "100%|██████████| 3/3 [00:00<00:00, 99.15it/s]\u001b[A\u001b[A\n",
      "\n",
      "  0%|          | 0/3 [00:00<?, ?it/s]\u001b[A\u001b[A\n",
      "\n",
      "100%|██████████| 3/3 [00:00<00:00, 170.31it/s]\u001b[A\u001b[A"
     ]
    },
    {
     "name": "stdout",
     "output_type": "stream",
     "text": [
      "fname: org_lag2_4_auth0\n",
      "org_lag2_4_auth0_category_3_null_cnt\n",
      "org_lag2_4_auth0_merchant_category_id_null_cnt\n",
      "org_lag2_4_auth0_installments_null_cnt\n"
     ]
    },
    {
     "name": "stderr",
     "output_type": "stream",
     "text": [
      "\n",
      "100%|██████████| 2/2 [00:10<00:00,  6.39s/it]\u001b[A\n",
      " 17%|█▋        | 2/12 [00:28<02:21, 14.15s/it]"
     ]
    },
    {
     "name": "stdout",
     "output_type": "stream",
     "text": [
      "prefix: 177_l35\n"
     ]
    },
    {
     "name": "stderr",
     "output_type": "stream",
     "text": [
      "\n",
      "  0%|          | 0/2 [00:00<?, ?it/s]\u001b[A\n",
      "\n",
      "  0%|          | 0/3 [00:00<?, ?it/s]\u001b[A\u001b[A\n",
      "\n",
      "100%|██████████| 3/3 [00:00<00:00, 97.14it/s]\u001b[A\u001b[A\n",
      "\n",
      "  0%|          | 0/3 [00:00<?, ?it/s]\u001b[A\u001b[A\n",
      "\n",
      "100%|██████████| 3/3 [00:00<00:00, 163.76it/s]\u001b[A\u001b[A"
     ]
    },
    {
     "name": "stdout",
     "output_type": "stream",
     "text": [
      "fname: org_lag3_5_auth1\n",
      "org_lag3_5_auth1_category_3_null_cnt\n",
      "org_lag3_5_auth1_merchant_category_id_null_cnt\n",
      "org_lag3_5_auth1_installments_null_cnt\n"
     ]
    },
    {
     "name": "stderr",
     "output_type": "stream",
     "text": [
      "\n",
      " 50%|█████     | 1/2 [00:07<00:07,  7.16s/it]\u001b[A\n",
      "\n",
      "  0%|          | 0/3 [00:00<?, ?it/s]\u001b[A\u001b[A\n",
      "\n",
      "100%|██████████| 3/3 [00:00<00:00, 96.69it/s]\u001b[A\u001b[A\n",
      "\n",
      "  0%|          | 0/3 [00:00<?, ?it/s]\u001b[A\u001b[A\n",
      "\n",
      "100%|██████████| 3/3 [00:00<00:00, 167.01it/s]\u001b[A\u001b[A"
     ]
    },
    {
     "name": "stdout",
     "output_type": "stream",
     "text": [
      "fname: org_lag3_5_auth0\n",
      "org_lag3_5_auth0_category_3_null_cnt\n",
      "org_lag3_5_auth0_merchant_category_id_null_cnt\n",
      "org_lag3_5_auth0_installments_null_cnt\n"
     ]
    },
    {
     "name": "stderr",
     "output_type": "stream",
     "text": [
      "\n",
      "100%|██████████| 2/2 [00:09<00:00,  5.74s/it]\u001b[A\n",
      " 25%|██▌       | 3/12 [00:41<02:04, 13.88s/it]"
     ]
    },
    {
     "name": "stdout",
     "output_type": "stream",
     "text": [
      "prefix: 177_l46\n"
     ]
    },
    {
     "name": "stderr",
     "output_type": "stream",
     "text": [
      "\n",
      "  0%|          | 0/2 [00:00<?, ?it/s]\u001b[A\n",
      "\n",
      "  0%|          | 0/3 [00:00<?, ?it/s]\u001b[A\u001b[A\n",
      "\n",
      "100%|██████████| 3/3 [00:00<00:00, 104.28it/s]\u001b[A\u001b[A\n",
      "\n",
      "  0%|          | 0/3 [00:00<?, ?it/s]\u001b[A\u001b[A\n",
      "\n",
      "100%|██████████| 3/3 [00:00<00:00, 173.54it/s]\u001b[A\u001b[A"
     ]
    },
    {
     "name": "stdout",
     "output_type": "stream",
     "text": [
      "fname: org_lag4_6_auth1\n",
      "org_lag4_6_auth1_category_3_null_cnt\n",
      "org_lag4_6_auth1_merchant_category_id_null_cnt\n",
      "org_lag4_6_auth1_installments_null_cnt\n"
     ]
    },
    {
     "name": "stderr",
     "output_type": "stream",
     "text": [
      "\n",
      " 50%|█████     | 1/2 [00:06<00:06,  6.81s/it]\u001b[A\n",
      "\n",
      "  0%|          | 0/3 [00:00<?, ?it/s]\u001b[A\u001b[A\n",
      "\n",
      "100%|██████████| 3/3 [00:00<00:00, 94.49it/s]\u001b[A\u001b[A\n",
      "\n",
      "  0%|          | 0/3 [00:00<?, ?it/s]\u001b[A\u001b[A\n",
      "\n",
      "100%|██████████| 3/3 [00:00<00:00, 175.63it/s]\u001b[A\u001b[A"
     ]
    },
    {
     "name": "stdout",
     "output_type": "stream",
     "text": [
      "fname: org_lag4_6_auth0\n",
      "org_lag4_6_auth0_category_2_null_cnt\n",
      "org_lag4_6_auth0_category_3_null_cnt\n",
      "org_lag4_6_auth0_merchant_category_id_null_cnt\n",
      "org_lag4_6_auth0_city_id_null_cnt\n",
      "org_lag4_6_auth0_installments_null_cnt\n"
     ]
    },
    {
     "name": "stderr",
     "output_type": "stream",
     "text": [
      "\n",
      "100%|██████████| 2/2 [00:08<00:00,  5.34s/it]\u001b[A\n",
      " 33%|███▎      | 4/12 [00:53<01:47, 13.41s/it]"
     ]
    },
    {
     "name": "stdout",
     "output_type": "stream",
     "text": [
      "prefix: 177_l57\n"
     ]
    },
    {
     "name": "stderr",
     "output_type": "stream",
     "text": [
      "\n",
      "  0%|          | 0/2 [00:00<?, ?it/s]\u001b[A\n",
      "\n",
      "  0%|          | 0/3 [00:00<?, ?it/s]\u001b[A\u001b[A\n",
      "\n",
      "100%|██████████| 3/3 [00:00<00:00, 101.80it/s]\u001b[A\u001b[A\n",
      "\n",
      "  0%|          | 0/3 [00:00<?, ?it/s]\u001b[A\u001b[A\n",
      "\n",
      "100%|██████████| 3/3 [00:00<00:00, 166.29it/s]\u001b[A\u001b[A"
     ]
    },
    {
     "name": "stdout",
     "output_type": "stream",
     "text": [
      "fname: org_lag5_7_auth1\n",
      "org_lag5_7_auth1_category_3_null_cnt\n",
      "org_lag5_7_auth1_merchant_category_id_null_cnt\n",
      "org_lag5_7_auth1_installments_null_cnt\n"
     ]
    },
    {
     "name": "stderr",
     "output_type": "stream",
     "text": [
      "\n",
      " 50%|█████     | 1/2 [00:06<00:06,  6.08s/it]\u001b[A\n",
      "\n",
      "  0%|          | 0/3 [00:00<?, ?it/s]\u001b[A\u001b[A\n",
      "\n",
      "100%|██████████| 3/3 [00:00<00:00, 94.68it/s]\u001b[A\u001b[A\n",
      "\n",
      "  0%|          | 0/3 [00:00<?, ?it/s]\u001b[A\u001b[A\n",
      "\n",
      "100%|██████████| 3/3 [00:00<00:00, 170.16it/s]\u001b[A\u001b[A"
     ]
    },
    {
     "name": "stdout",
     "output_type": "stream",
     "text": [
      "fname: org_lag5_7_auth0\n",
      "org_lag5_7_auth0_category_2_null_cnt\n",
      "org_lag5_7_auth0_category_3_null_cnt\n",
      "org_lag5_7_auth0_merchant_category_id_null_cnt\n",
      "org_lag5_7_auth0_city_id_null_cnt\n",
      "org_lag5_7_auth0_installments_null_cnt\n"
     ]
    },
    {
     "name": "stderr",
     "output_type": "stream",
     "text": [
      "\n",
      "100%|██████████| 2/2 [00:07<00:00,  4.80s/it]\u001b[A\n",
      " 42%|████▏     | 5/12 [01:05<01:29, 12.82s/it]"
     ]
    },
    {
     "name": "stdout",
     "output_type": "stream",
     "text": [
      "prefix: 177_l68\n"
     ]
    },
    {
     "name": "stderr",
     "output_type": "stream",
     "text": [
      "\n",
      "  0%|          | 0/2 [00:00<?, ?it/s]\u001b[A\n",
      "\n",
      "  0%|          | 0/3 [00:00<?, ?it/s]\u001b[A\u001b[A\n",
      "\n",
      "100%|██████████| 3/3 [00:00<00:00, 103.17it/s]\u001b[A\u001b[A\n",
      "\n",
      "  0%|          | 0/3 [00:00<?, ?it/s]\u001b[A\u001b[A\n",
      "\n",
      "100%|██████████| 3/3 [00:00<00:00, 165.48it/s]\u001b[A\u001b[A"
     ]
    },
    {
     "name": "stdout",
     "output_type": "stream",
     "text": [
      "fname: org_lag6_8_auth1\n",
      "org_lag6_8_auth1_category_3_null_cnt\n",
      "org_lag6_8_auth1_merchant_category_id_null_cnt\n",
      "org_lag6_8_auth1_installments_null_cnt\n"
     ]
    },
    {
     "name": "stderr",
     "output_type": "stream",
     "text": [
      "\n",
      " 50%|█████     | 1/2 [00:05<00:05,  5.60s/it]\u001b[A\n",
      "\n",
      "  0%|          | 0/3 [00:00<?, ?it/s]\u001b[A\u001b[A\n",
      "\n",
      "100%|██████████| 3/3 [00:00<00:00, 100.34it/s]\u001b[A\u001b[A\n",
      "\n",
      "  0%|          | 0/3 [00:00<?, ?it/s]\u001b[A\u001b[A\n",
      "\n",
      "100%|██████████| 3/3 [00:00<00:00, 170.88it/s]\u001b[A\u001b[A"
     ]
    },
    {
     "name": "stdout",
     "output_type": "stream",
     "text": [
      "fname: org_lag6_8_auth0\n",
      "org_lag6_8_auth0_category_2_null_cnt\n",
      "org_lag6_8_auth0_category_3_null_cnt\n",
      "org_lag6_8_auth0_merchant_category_id_null_cnt\n",
      "org_lag6_8_auth0_city_id_null_cnt\n",
      "org_lag6_8_auth0_installments_null_cnt\n"
     ]
    },
    {
     "name": "stderr",
     "output_type": "stream",
     "text": [
      "\n",
      "100%|██████████| 2/2 [00:07<00:00,  4.46s/it]\u001b[A\n",
      " 50%|█████     | 6/12 [01:16<01:13, 12.29s/it]"
     ]
    },
    {
     "name": "stdout",
     "output_type": "stream",
     "text": [
      "prefix: 177_l79\n"
     ]
    },
    {
     "name": "stderr",
     "output_type": "stream",
     "text": [
      "\n",
      "  0%|          | 0/2 [00:00<?, ?it/s]\u001b[A\n",
      "\n",
      "  0%|          | 0/3 [00:00<?, ?it/s]\u001b[A\u001b[A\n",
      "\n",
      "100%|██████████| 3/3 [00:00<00:00, 98.84it/s]\u001b[A\u001b[A\n",
      "\n",
      "  0%|          | 0/3 [00:00<?, ?it/s]\u001b[A\u001b[A\n",
      "\n",
      "100%|██████████| 3/3 [00:00<00:00, 168.26it/s]\u001b[A\u001b[A"
     ]
    },
    {
     "name": "stdout",
     "output_type": "stream",
     "text": [
      "fname: org_lag7_9_auth1\n",
      "org_lag7_9_auth1_category_3_null_cnt\n",
      "org_lag7_9_auth1_merchant_category_id_null_cnt\n",
      "org_lag7_9_auth1_installments_null_cnt\n"
     ]
    },
    {
     "name": "stderr",
     "output_type": "stream",
     "text": [
      "\n",
      " 50%|█████     | 1/2 [00:05<00:05,  5.25s/it]\u001b[A\n",
      "\n",
      "  0%|          | 0/3 [00:00<?, ?it/s]\u001b[A\u001b[A\n",
      "\n",
      "100%|██████████| 3/3 [00:00<00:00, 97.49it/s]\u001b[A\u001b[A\n",
      "\n",
      "  0%|          | 0/3 [00:00<?, ?it/s]\u001b[A\u001b[A\n",
      "\n",
      "100%|██████████| 3/3 [00:00<00:00, 170.76it/s]\u001b[A\u001b[A"
     ]
    },
    {
     "name": "stdout",
     "output_type": "stream",
     "text": [
      "fname: org_lag7_9_auth0\n",
      "org_lag7_9_auth0_category_2_null_cnt\n",
      "org_lag7_9_auth0_category_3_null_cnt\n",
      "org_lag7_9_auth0_merchant_category_id_null_cnt\n",
      "org_lag7_9_auth0_city_id_null_cnt\n",
      "org_lag7_9_auth0_installments_null_cnt\n"
     ]
    },
    {
     "name": "stderr",
     "output_type": "stream",
     "text": [
      "\n",
      "100%|██████████| 2/2 [00:06<00:00,  4.19s/it]\u001b[A\n",
      " 58%|█████▊    | 7/12 [01:26<00:58, 11.79s/it]"
     ]
    },
    {
     "name": "stdout",
     "output_type": "stream",
     "text": [
      "prefix: 177_l810\n"
     ]
    },
    {
     "name": "stderr",
     "output_type": "stream",
     "text": [
      "\n",
      "  0%|          | 0/2 [00:00<?, ?it/s]\u001b[A\n",
      "\n",
      "  0%|          | 0/3 [00:00<?, ?it/s]\u001b[A\u001b[A\n",
      "\n",
      "100%|██████████| 3/3 [00:00<00:00, 111.26it/s]\u001b[A\u001b[A\n",
      "\n",
      "  0%|          | 0/3 [00:00<?, ?it/s]\u001b[A\u001b[A\n",
      "\n",
      "100%|██████████| 3/3 [00:00<00:00, 169.02it/s]\u001b[A\u001b[A"
     ]
    },
    {
     "name": "stdout",
     "output_type": "stream",
     "text": [
      "fname: org_lag8_10_auth1\n",
      "org_lag8_10_auth1_category_3_null_cnt\n",
      "org_lag8_10_auth1_merchant_category_id_null_cnt\n",
      "org_lag8_10_auth1_installments_null_cnt\n"
     ]
    },
    {
     "name": "stderr",
     "output_type": "stream",
     "text": [
      "\n",
      " 50%|█████     | 1/2 [00:04<00:04,  4.82s/it]\u001b[A\n",
      "\n",
      "  0%|          | 0/3 [00:00<?, ?it/s]\u001b[A\u001b[A\n",
      "\n",
      "100%|██████████| 3/3 [00:00<00:00, 97.99it/s]\u001b[A\u001b[A\n",
      "\n",
      "  0%|          | 0/3 [00:00<?, ?it/s]\u001b[A\u001b[A\n",
      "\n",
      "100%|██████████| 3/3 [00:00<00:00, 172.74it/s]\u001b[A\u001b[A"
     ]
    },
    {
     "name": "stdout",
     "output_type": "stream",
     "text": [
      "fname: org_lag8_10_auth0\n",
      "org_lag8_10_auth0_category_2_null_cnt\n",
      "org_lag8_10_auth0_category_3_null_cnt\n",
      "org_lag8_10_auth0_merchant_category_id_null_cnt\n",
      "org_lag8_10_auth0_city_id_null_cnt\n",
      "org_lag8_10_auth0_installments_null_cnt\n"
     ]
    },
    {
     "name": "stderr",
     "output_type": "stream",
     "text": [
      "\n",
      "100%|██████████| 2/2 [00:06<00:00,  3.87s/it]\u001b[A\n",
      " 67%|██████▋   | 8/12 [01:37<00:45, 11.30s/it]"
     ]
    },
    {
     "name": "stdout",
     "output_type": "stream",
     "text": [
      "prefix: 177_l911\n"
     ]
    },
    {
     "name": "stderr",
     "output_type": "stream",
     "text": [
      "\n",
      "  0%|          | 0/2 [00:00<?, ?it/s]\u001b[A\n",
      "\n",
      "  0%|          | 0/3 [00:00<?, ?it/s]\u001b[A\u001b[A\n",
      "\n",
      "100%|██████████| 3/3 [00:00<00:00, 107.03it/s]\u001b[A\u001b[A\n",
      "\n",
      "  0%|          | 0/3 [00:00<?, ?it/s]\u001b[A\u001b[A\n",
      "\n",
      "100%|██████████| 3/3 [00:00<00:00, 171.00it/s]\u001b[A\u001b[A"
     ]
    },
    {
     "name": "stdout",
     "output_type": "stream",
     "text": [
      "fname: org_lag9_11_auth1\n",
      "org_lag9_11_auth1_category_3_null_cnt\n",
      "org_lag9_11_auth1_merchant_category_id_null_cnt\n",
      "org_lag9_11_auth1_installments_null_cnt\n"
     ]
    },
    {
     "name": "stderr",
     "output_type": "stream",
     "text": [
      "\n",
      " 50%|█████     | 1/2 [00:04<00:04,  4.45s/it]\u001b[A\n",
      "\n",
      "  0%|          | 0/3 [00:00<?, ?it/s]\u001b[A\u001b[A\n",
      "\n",
      "100%|██████████| 3/3 [00:00<00:00, 98.28it/s]\u001b[A\u001b[A\n",
      "\n",
      "  0%|          | 0/3 [00:00<?, ?it/s]\u001b[A\u001b[A\n",
      "\n",
      "100%|██████████| 3/3 [00:00<00:00, 171.30it/s]\u001b[A\u001b[A"
     ]
    },
    {
     "name": "stdout",
     "output_type": "stream",
     "text": [
      "fname: org_lag9_11_auth0\n",
      "org_lag9_11_auth0_category_2_null_cnt\n",
      "org_lag9_11_auth0_category_3_null_cnt\n",
      "org_lag9_11_auth0_merchant_category_id_null_cnt\n",
      "org_lag9_11_auth0_city_id_null_cnt\n",
      "org_lag9_11_auth0_installments_null_cnt\n"
     ]
    },
    {
     "name": "stderr",
     "output_type": "stream",
     "text": [
      "\n",
      "100%|██████████| 2/2 [00:06<00:00,  3.60s/it]\u001b[A\n",
      " 75%|███████▌  | 9/12 [01:46<00:32, 10.84s/it]"
     ]
    },
    {
     "name": "stdout",
     "output_type": "stream",
     "text": [
      "prefix: 177_l1012\n"
     ]
    },
    {
     "name": "stderr",
     "output_type": "stream",
     "text": [
      "\n",
      "  0%|          | 0/2 [00:00<?, ?it/s]\u001b[A\n",
      "\n",
      "  0%|          | 0/3 [00:00<?, ?it/s]\u001b[A\u001b[A\n",
      "\n",
      "100%|██████████| 3/3 [00:00<00:00, 103.87it/s]\u001b[A\u001b[A\n",
      "\n",
      "  0%|          | 0/3 [00:00<?, ?it/s]\u001b[A\u001b[A\n",
      "\n",
      "100%|██████████| 3/3 [00:00<00:00, 174.69it/s]\u001b[A\u001b[A"
     ]
    },
    {
     "name": "stdout",
     "output_type": "stream",
     "text": [
      "fname: org_lag10_12_auth1\n",
      "org_lag10_12_auth1_category_2_null_cnt\n",
      "org_lag10_12_auth1_category_3_null_cnt\n",
      "org_lag10_12_auth1_merchant_category_id_null_cnt\n",
      "org_lag10_12_auth1_city_id_null_cnt\n",
      "org_lag10_12_auth1_installments_null_cnt\n"
     ]
    },
    {
     "name": "stderr",
     "output_type": "stream",
     "text": [
      "\n",
      " 50%|█████     | 1/2 [00:03<00:03,  3.82s/it]\u001b[A\n",
      "\n",
      "  0%|          | 0/3 [00:00<?, ?it/s]\u001b[A\u001b[A\n",
      "\n",
      "100%|██████████| 3/3 [00:00<00:00, 95.98it/s]\u001b[A\u001b[A\n",
      "\n",
      "  0%|          | 0/3 [00:00<?, ?it/s]\u001b[A\u001b[A\n",
      "\n",
      "100%|██████████| 3/3 [00:00<00:00, 170.17it/s]\u001b[A\u001b[A"
     ]
    },
    {
     "name": "stdout",
     "output_type": "stream",
     "text": [
      "fname: org_lag10_12_auth0\n",
      "org_lag10_12_auth0_category_2_null_cnt\n",
      "org_lag10_12_auth0_category_3_null_cnt\n",
      "org_lag10_12_auth0_merchant_category_id_null_cnt\n",
      "org_lag10_12_auth0_city_id_null_cnt\n",
      "org_lag10_12_auth0_installments_null_cnt\n"
     ]
    },
    {
     "name": "stderr",
     "output_type": "stream",
     "text": [
      "\n",
      "100%|██████████| 2/2 [00:05<00:00,  3.14s/it]\u001b[A\n",
      " 83%|████████▎ | 10/12 [01:55<00:20, 10.32s/it]"
     ]
    }
   ],
   "source": [
    "# 期間を絞る\n",
    "# term\n",
    "term_num = 13\n",
    "base_list = np.zeros(term_num)\n",
    "base_list = np.arange(1, term_num, 1)\n",
    "last_list = np.arange(3, term_num, 1)\n",
    "col_month = 'org_month_lag'\n",
    "\n",
    "def get_new_columns(name,aggs):\n",
    "    return [name + '_' + k + '_' + agg for k in aggs.keys() for agg in aggs[k]]\n",
    "\n",
    "for base_month, last_month in zip(tqdm(base_list), last_list):\n",
    "    prefix = f'177_l{base_month}{last_month}'\n",
    "    print(f\"prefix: {prefix}\")\n",
    "\n",
    "    df = df_hist[df_hist[col_month]<=last_month]\n",
    "    df = df[df[col_month]>=base_month]\n",
    "    \n",
    "    auth1 = df[df.authorized_flag==1]\n",
    "    auth0 = df[df.authorized_flag==0]\n",
    "    \n",
    "    cat1_0 = False\n",
    "    # cat1_0 = True\n",
    "    if cat1_0:\n",
    "        auth1_cat1 = auth1[auth1.category_1==1]\n",
    "        auth1_cat0 = auth1[auth1.category_1==0]\n",
    "        auth0_cat1 = auth0[auth0.category_1==1]\n",
    "        auth0_cat0 = auth0[auth0.category_1==0]\n",
    "        df_list = [ auth1_cat1 ,auth1_cat0 ,auth0_cat1 ,auth0_cat0 ]\n",
    "        fname_list = ['auth1_cat1', 'auth1_cat0', 'auth0_cat1', 'auth0_cat0',]\n",
    "    else:\n",
    "        df_list = [auth1, auth0]\n",
    "        fname_list = ['auth1', 'auth0']\n",
    "\n",
    "    for df, base_fname in zip(tqdm(df_list), fname_list):\n",
    "        fname = f'org_lag{base_month}_{last_month}_' + base_fname\n",
    "        print(f\"fname: {fname}\")\n",
    "        \n",
    "        df_train = utils.read_df_pkl('../input/train0*')\n",
    "        df_test = utils.read_df_pkl('../input/test0*')\n",
    "        train_test = pd.concat([df_train, df_test], axis=0)\n",
    "        train_test.set_index(key, inplace=True)\n",
    "        \n",
    "#         cnt_cols = ['city_id', 'state_id', 'subsector_id', 'installments']\n",
    "#         cnt_cols = ['merchant_category_id']\n",
    "\n",
    "#         # Null Count\n",
    "#         tmp = df[df.isnull().any(axis=1)]\n",
    "#         df_nan = pd.concat([tmp[key], (~(tmp==tmp)).sum(axis=1)], axis=1).rename(columns={0:f'{fname}_null_cnt'})\n",
    "#         df_nan = df_nan.groupby(key)[f'{fname}_null_cnt'].sum()\n",
    "#         train_test = train_test.join(df_nan)\n",
    "#         null_cols = [col for col in train_test.columns if col.count('null_')]\n",
    "#         train_test[null_cols].fillna(0, inplace=True)\n",
    "        \n",
    "        # 個別featureのNULLカウント\n",
    "        cnt_cols = ['category_2', 'category_3', 'merchant_category_id', 'city_id', 'state_id', 'subsector_id', 'installments']\n",
    "        for col in cnt_cols:\n",
    "            df[col] =  df[col].replace(-1, np.nan)\n",
    "            tmp = df[[key, col]]\n",
    "            tmp = tmp[tmp.isnull().any(axis=1)]\n",
    "            df_nan = pd.concat([tmp[key], (~(tmp==tmp)).sum(axis=1)], axis=1).rename(columns={0:f'{fname}_{col}_null_cnt'})\n",
    "            df_nan = df_nan.groupby(key)[f'{fname}_{col}_null_cnt'].sum()\n",
    "            train_test = train_test.join(df_nan)\n",
    "            \n",
    "        null_cols = [col for col in train_test.columns if col.count('null_')]\n",
    "        train_test[null_cols].fillna(0, inplace=True)\n",
    "\n",
    "        # Null_cnt Feature\n",
    "        null_cols = [col for col in train_test.columns if col.count('null_') and ( col.count('city') or col.count('category_3') or col.count('merchant') or col.count('install') )]\n",
    "        train_test['all_null_cnt'] = train_test[null_cols].sum(axis=1)\n",
    "        \n",
    "        null_cols = [col for col in train_test.columns if col.count('auth1_') and ( col.count('city') or col.count('category_3') or col.count('merchant') or col.count('install') )]\n",
    "        train_test['auth1_null_cnt'] = train_test[null_cols].sum(axis=1)\n",
    "        \n",
    "        null_cols = [col for col in train_test.columns if col.count('auth0_') and ( col.count('city') or col.count('category_3') or col.count('merchant') or col.count('install') )]\n",
    "        train_test['auth0_null_cnt'] = train_test[null_cols].sum(axis=1)\n",
    "        \n",
    "        null_cols = [col for col in train_test.columns if col.count('new_') and ( col.count('city') or col.count('category_3') or col.count('merchant') or col.count('install') )]\n",
    "        train_test['new_null_cnt'] = train_test[null_cols].sum(axis=1)\n",
    "        \n",
    "        # Saving\n",
    "        ignore_features = ['first_active_month', 'card_id', target]\n",
    "        \n",
    "        for col in train_test.columns:\n",
    "            if (col.count('state')):continue\n",
    "            if (col.count('subsec')):continue\n",
    "            if not(col.count('null_')):continue\n",
    "            length = len(train_test[col].dropna())\n",
    "            if length/len(train_test)<0.1:\n",
    "                print(col)\n",
    "                continue\n",
    "        \n",
    "            train_test[col].fillna(0, inplace=True)\n",
    "            feature = train_test[col].values.astype('float32')\n",
    "            if feature.shape[0]!=325540:\n",
    "                print(feature.shape)\n",
    "            utils.to_pkl_gzip(path = f'../features/1_first_valid/{prefix}_{col}@', obj=feature)\n",
    "#             utils.to_pkl_gzip(path = f'../features/2_second_valid/{prefix}_{col}@', obj=feature)"
   ]
  }
 ],
 "metadata": {
  "hide_input": false,
  "kernelspec": {
   "display_name": "Python 3",
   "language": "python",
   "name": "python3"
  },
  "language_info": {
   "codemirror_mode": {
    "name": "ipython",
    "version": 3
   },
   "file_extension": ".py",
   "mimetype": "text/x-python",
   "name": "python",
   "nbconvert_exporter": "python",
   "pygments_lexer": "ipython3",
   "version": "3.6.3"
  }
 },
 "nbformat": 4,
 "nbformat_minor": 2
}
