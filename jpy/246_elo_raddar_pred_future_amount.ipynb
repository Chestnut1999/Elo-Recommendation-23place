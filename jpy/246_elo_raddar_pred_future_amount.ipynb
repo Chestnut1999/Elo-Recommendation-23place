{
 "cells": [
  {
   "cell_type": "code",
   "execution_count": 4,
   "metadata": {},
   "outputs": [],
   "source": [
    "%load_ext autoreload\n",
    "%autoreload 2\n",
    "import gc\n",
    "import re\n",
    "import pandas as pd\n",
    "from __future__ import print_function, division\n",
    "import numpy as np\n",
    "pd.set_option('max_columns', 200)\n",
    "pd.set_option('max_rows', 200)\n",
    "import os\n",
    "import sys\n",
    "HOME = os.path.expanduser(\"~\")\n",
    "sys.path.append(f'{HOME}/kaggle/data_analysis/library')\n",
    "import utils\n",
    "from utils import get_categorical_features, get_numeric_features, reduce_mem_usage, elo_save_feature\n",
    "from preprocessing import get_dummies\n",
    "import datetime\n",
    "\n",
    "from tqdm import tqdm\n",
    "import time\n",
    "import sys\n",
    "from joblib import Parallel, delayed\n",
    "\n",
    "key = 'card_id'\n",
    "target = 'target'\n",
    "ignore_list = [key, target, 'merchant_id', 'first_avtive_month']"
   ]
  },
  {
   "cell_type": "code",
   "execution_count": 5,
   "metadata": {},
   "outputs": [],
   "source": [
    "df_hist = pd.read_csv('../input/historical_transactions.csv')\n",
    "df_hist['purchase_amount_new'] = np.round(df_hist['purchase_amount'] / 0.00150265118 + 497.06, 2)\n",
    "df_hist['installments'] = df_hist['installments'].map(lambda x:  \n",
    "                                                    1 if x<1 else\n",
    "                                                    1 if x>100 else\n",
    "                                                      x\n",
    "                                                     )"
   ]
  },
  {
   "cell_type": "code",
   "execution_count": 6,
   "metadata": {},
   "outputs": [],
   "source": [
    "#========================================================================\n",
    "# Dataset Load \n",
    "use_cols = [key, 'authorized_flag', 'installments', 'merchant_category_id', 'merchant_id', 'subsector_id', 'month_lag', 'purchase_amount_new', 'purchase_date']\n",
    "df_hist = df_hist[use_cols]\n",
    "\n",
    "auth1 = df_hist[df_hist['authorized_flag']=='Y']\n",
    "\n",
    "def get_new_columns(name,aggs):\n",
    "    if len(name):\n",
    "        return [name + '_' + k + '_' + agg for k in aggs.keys() for agg in aggs[k]]\n",
    "    else:\n",
    "        return [k + '_' + agg for k in aggs.keys() for agg in aggs[k]]\n",
    "#========================================================================"
   ]
  },
  {
   "cell_type": "code",
   "execution_count": null,
   "metadata": {},
   "outputs": [],
   "source": [
    "df_hist['old']"
   ]
  },
  {
   "cell_type": "code",
   "execution_count": null,
   "metadata": {},
   "outputs": [],
   "source": [
    "debug = [True, False]\n",
    "#========================================================================\n",
    "# Merchant id 別の集計\n",
    "# month_lagで集計する（purchase_dateは別にやる）\n",
    "df = auth1\n",
    "if debug:\n",
    "    df = df.head(100000)\n",
    "    \n",
    "# Args Setting\n",
    "level = [key, 'merchant_id', 'month_lag']\n",
    "#========================================================================\n",
    "\n",
    "#========================================================================\n",
    "# Aggregation\n",
    "print(\"Aggregation Start!!\")\n",
    "\n",
    "aggs = {}\n",
    "aggs['purchase_amount_new'] = ['sum']\n",
    "aggs['installments'] = ['mean', 'max', 'sum']\n",
    "df_agg = df.groupby(level).agg(aggs)\n",
    "\n",
    "new_cols = get_new_columns(name='', aggs=aggs)\n",
    "df_agg.columns = new_cols\n",
    "df_agg[f'purchase_amount_new_sum_per_installments_sum'] = df_agg[f'purchase_amount_new_sum'] / df_agg[f'installments_sum']\n",
    "\n",
    "mer_lag_cnt = df.groupby([key, 'merchant_id'])['month_lag'].nunique().reset_index().rename(columns={'month_lag':'month_lag_cnt'})\n",
    "df_agg = df_agg.reset_index().merge(mer_lag_cnt, how='inner', on=[key, 'merchant_id'])\n",
    "#========================================================================\n",
    "\n",
    "#========================================================================\n",
    "# multi month_lagをもつmerchantに絞る\n",
    "print(\"Aggregate Term Setting\")\n",
    "df_merchant = df_agg[df_agg['month_lag_cnt']>1]\n",
    "del df_agg\n",
    "gc.collect()\n",
    "df_merchant.drop(['month_lag_cnt'], axis=1, inplace=True)\n",
    "#========================================================================\n",
    "    \n",
    "#========================================================================\n",
    "# oldに存在するがnewにいないcard_id, merchantをnewにもたせる。\n",
    "feat_cols = [col for col in df_merchant.columns if col.count('amount') or col.count('install')]\n",
    "df_merchant.sort_values(by=[key, 'merchant_id', 'month_lag'], inplace=True)\n",
    "df_merchant['month_lag_-1'] = df_merchant['month_lag']+1\n",
    "df_merchant = df_merchant.merge(df_merchant, how='inner', left_on=[key, 'merchant_id', 'month_lag'], right_on=[key, 'merchant_id', 'month_lag_-1'])\n",
    "\n",
    "df_merchant.rename(columns={'month_lag_x':'month_lag'}, inplace=True)\n",
    "for col in feat_cols:\n",
    "    df_merchant[f\"ratio_lag1_{col}\"] = df_merchant[col+'_x'] /  df_merchant[col+'_y']\n",
    "xy_cols = [col for col in df_merchant.columns if col.count('_x') or col.count('_y')]\n",
    "\n",
    "df_merchant.drop(xy_cols, axis=1, inplace=True)\n",
    "#========================================================================\n",
    "\n",
    "display(df_merchant)\n",
    "sys.exit()"
   ]
  },
  {
   "cell_type": "code",
   "execution_count": null,
   "metadata": {},
   "outputs": [
    {
     "name": "stdout",
     "output_type": "stream",
     "text": [
      "Aggregation Start!!\n",
      "Aggregate Term Setting\n",
      "Get Lost Merchant and Card ID\n",
      "Make Ratio Feature\n"
     ]
    },
    {
     "name": "stderr",
     "output_type": "stream",
     "text": [
      "  0%|          | 0/1 [00:00<?, ?it/s]"
     ]
    },
    {
     "name": "stdout",
     "output_type": "stream",
     "text": [
      "244_rad Feature Saving...\n"
     ]
    },
    {
     "name": "stderr",
     "output_type": "stream",
     "text": [
      "100%|██████████| 1/1 [00:00<00:00,  4.11it/s]\n"
     ]
    },
    {
     "name": "stdout",
     "output_type": "stream",
     "text": [
      "Complete!\n",
      "Aggregation Start!!\n",
      "Aggregate Term Setting\n",
      "Get Lost Merchant and Card ID\n",
      "Make Ratio Feature\n"
     ]
    },
    {
     "name": "stderr",
     "output_type": "stream",
     "text": [
      "  0%|          | 0/1 [00:00<?, ?it/s]"
     ]
    },
    {
     "name": "stdout",
     "output_type": "stream",
     "text": [
      "244_rad Feature Saving...\n"
     ]
    },
    {
     "name": "stderr",
     "output_type": "stream",
     "text": [
      "100%|██████████| 1/1 [00:00<00:00,  4.06it/s]\n"
     ]
    },
    {
     "name": "stdout",
     "output_type": "stream",
     "text": [
      "Complete!\n",
      "Aggregation Start!!\n",
      "Aggregate Term Setting\n",
      "Get Lost Merchant and Card ID\n",
      "Make Ratio Feature\n"
     ]
    },
    {
     "name": "stderr",
     "output_type": "stream",
     "text": [
      "  0%|          | 0/1 [00:00<?, ?it/s]"
     ]
    },
    {
     "name": "stdout",
     "output_type": "stream",
     "text": [
      "244_rad Feature Saving...\n"
     ]
    },
    {
     "name": "stderr",
     "output_type": "stream",
     "text": [
      "100%|██████████| 1/1 [00:00<00:00,  4.10it/s]\n"
     ]
    },
    {
     "name": "stdout",
     "output_type": "stream",
     "text": [
      "Complete!\n",
      "Aggregation Start!!\n",
      "Aggregate Term Setting\n",
      "Get Lost Merchant and Card ID\n",
      "Make Ratio Feature\n"
     ]
    },
    {
     "name": "stderr",
     "output_type": "stream",
     "text": [
      "  0%|          | 0/1 [00:00<?, ?it/s]"
     ]
    },
    {
     "name": "stdout",
     "output_type": "stream",
     "text": [
      "244_rad Feature Saving...\n"
     ]
    },
    {
     "name": "stderr",
     "output_type": "stream",
     "text": [
      "100%|██████████| 1/1 [00:00<00:00,  3.98it/s]\n"
     ]
    },
    {
     "name": "stdout",
     "output_type": "stream",
     "text": [
      "Complete!\n"
     ]
    }
   ],
   "source": []
  }
 ],
 "metadata": {
  "kernelspec": {
   "display_name": "Python 3",
   "language": "python",
   "name": "python3"
  },
  "language_info": {
   "codemirror_mode": {
    "name": "ipython",
    "version": 3
   },
   "file_extension": ".py",
   "mimetype": "text/x-python",
   "name": "python",
   "nbconvert_exporter": "python",
   "pygments_lexer": "ipython3",
   "version": "3.6.3"
  }
 },
 "nbformat": 4,
 "nbformat_minor": 2
}
