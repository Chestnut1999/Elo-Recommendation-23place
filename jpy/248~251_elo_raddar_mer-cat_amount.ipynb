{
 "cells": [
  {
   "cell_type": "code",
   "execution_count": 1,
   "metadata": {},
   "outputs": [],
   "source": [
    "%load_ext autoreload\n",
    "%autoreload 2\n",
    "import gc\n",
    "import re\n",
    "import pandas as pd\n",
    "from __future__ import print_function, division\n",
    "import numpy as np\n",
    "pd.set_option('max_columns', 200)\n",
    "pd.set_option('max_rows', 200)\n",
    "import os\n",
    "import sys\n",
    "HOME = os.path.expanduser(\"~\")\n",
    "sys.path.append(f'{HOME}/kaggle/data_analysis/library')\n",
    "import utils\n",
    "from utils import get_categorical_features, get_numeric_features, reduce_mem_usage, elo_save_feature\n",
    "from preprocessing import get_dummies\n",
    "import datetime\n",
    "\n",
    "from tqdm import tqdm\n",
    "import time\n",
    "import sys\n",
    "from joblib import Parallel, delayed\n",
    "\n",
    "key = 'card_id'\n",
    "target = 'target'\n",
    "ignore_list = [key, target, 'merchant_id', 'first_avtive_month']"
   ]
  },
  {
   "cell_type": "code",
   "execution_count": 2,
   "metadata": {},
   "outputs": [],
   "source": [
    "# df_train = utils.read_df_pkl('../input/train0*')\n",
    "# df_train.set_index(key, inplace=True)\n",
    "# df_test = utils.read_df_pkl('../input/test0*')\n",
    "# df_test.set_index(key, inplace=True)\n",
    "\n",
    "df_hist = pd.read_csv('../input/historical_transactions.csv')\n",
    "# df_new = pd.read_csv('../input/new_merchant_transactions.csv')\n",
    "\n",
    "df_hist['purchase_amount_new'] = np.round(df_hist['purchase_amount'] / 0.00150265118 + 497.06, 2)\n",
    "# df_new['purchase_amount_new'] = np.round(df_new['purchase_amount'] / 0.00150265118 + 497.06, 2)\n",
    "\n",
    "df_hist['installments'] = df_hist['installments'].map(lambda x:  \n",
    "                                                    1 if x<1 else\n",
    "                                                    1 if x>100 else\n",
    "                                                      x\n",
    "                                                     )\n",
    "# df_new['installments'] = df_new['installments'].map(lambda x:  \n",
    "#                                                     1 if x<1 else\n",
    "#                                                     1 if x>100 else\n",
    "#                                                       x\n",
    "#                                                      )"
   ]
  },
  {
   "cell_type": "code",
   "execution_count": 3,
   "metadata": {},
   "outputs": [],
   "source": [
    "#========================================================================\n",
    "# Dataset Load \n",
    "use_cols = [key, 'authorized_flag', 'installments', 'merchant_category_id', 'merchant_id', 'subsector_id', 'month_lag', 'purchase_amount_new', 'purchase_date']\n",
    "df_hist = df_hist[use_cols]\n",
    "# df_new = df_new[use_cols]\n",
    "\n",
    "auth1 = df_hist[df_hist['authorized_flag']=='Y']\n",
    "# auth0 = df_hist[df_hist['authorized_flag']=='N']\n",
    "\n",
    "# df_trans = pd.concat([auth1, df_new], axis=0)\n",
    "\n",
    "def get_new_columns(name,aggs):\n",
    "    if len(name):\n",
    "        return [name + '_' + k + '_' + agg for k in aggs.keys() for agg in aggs[k]]\n",
    "    else:\n",
    "        return [k + '_' + agg for k in aggs.keys() for agg in aggs[k]]\n",
    "#========================================================================"
   ]
  },
  {
   "cell_type": "code",
   "execution_count": 16,
   "metadata": {},
   "outputs": [],
   "source": [
    "#========================================================================\n",
    "# Merchant id 別の集計\n",
    "# month_lagで集計する（purchase_dateは別にやる）\n",
    "\n",
    "merchant_col = 'merchant_category_id'\n",
    "merchant_col = 'subsector_id'\n",
    "def raddar_2level_agg(df, mer_cnt, new_max, new_min, old_max, old_min):\n",
    "    #========================================================================\n",
    "    # Args Setting\n",
    "    if merchant_col.count('category_id'):\n",
    "        prefix = '248_rad'\n",
    "        prefix_2 = '249_rad_freq_2Mover'\n",
    "    elif merchant_col.count('subsector'):\n",
    "        prefix = '250_rad'\n",
    "        prefix_2 = '251_rad_freq_2Mover'\n",
    "        \n",
    "    level = [key, merchant_col, 'month_lag']\n",
    "    new_month_lag_max = new_max\n",
    "    new_month_lag_min = new_min\n",
    "    old_month_lag_max = old_max\n",
    "    old_month_lag_min = old_min\n",
    "    #========================================================================\n",
    "    \n",
    "    #========================================================================\n",
    "    # Aggregation\n",
    "    print(\"Aggregation Start!!\")\n",
    "    \n",
    "    aggs = {}\n",
    "    aggs['purchase_amount_new'] = ['sum']\n",
    "    aggs['installments'] = ['mean', 'max', 'sum']\n",
    "    \n",
    "    df_agg = df.groupby(level).agg(aggs)\n",
    "    \n",
    "    new_cols = get_new_columns(name='', aggs=aggs)\n",
    "    df_agg.columns = new_cols\n",
    "    df_agg[f'purchase_amount_new_sum_per_installments_sum'] = df_agg[f'purchase_amount_new_sum'] / df_agg[f'installments_sum']\n",
    "    \n",
    "    mer_lag_cnt = df.groupby([key, merchant_col])['month_lag'].nunique().reset_index().rename(columns={'month_lag':'month_lag_cnt'})\n",
    "    df_agg = df_agg.reset_index().merge(mer_lag_cnt, how='inner', on=[key, merchant_col])\n",
    "    #========================================================================\n",
    "    \n",
    "    #========================================================================\n",
    "    # month_lag別に切り出して集計を行う\n",
    "    print(\"Aggregate Term Setting\")\n",
    "    df_merchant = df_agg[df_agg['month_lag_cnt']>1]\n",
    "    del df_agg\n",
    "    gc.collect()\n",
    "    df_merchant.drop(['month_lag_cnt'], axis=1, inplace=True)\n",
    "    \n",
    "    # 期間を絞る\n",
    "    new_term = new_month_lag_max - new_month_lag_min\n",
    "    old_term = old_month_lag_max - old_month_lag_min\n",
    "    new = df_merchant[df_merchant['month_lag']<= new_month_lag_max][df_merchant['month_lag']>= new_month_lag_min]\n",
    "    old = df_merchant[df_merchant['month_lag']<= old_month_lag_max][df_merchant['month_lag']>= old_month_lag_min]\n",
    "    \n",
    "    feat_cols = [col for col in df_merchant.columns if col.count('amount') or col.count('install')]\n",
    "    aggs = {}\n",
    "    for col in feat_cols:\n",
    "        if col.count('install') and not(col.count('per')):\n",
    "            aggs[col] = ['mean']\n",
    "        else:\n",
    "            aggs[col] = ['sum']\n",
    "            \n",
    "    #========================================================================\n",
    "    # 複数month_lagをもつデータの場合は、集計する\n",
    "    if new_month_lag_max != new_month_lag_min>0:\n",
    "        new = new.groupby([key, merchant_col])[feat_cols].agg(aggs)\n",
    "        new_cols = get_new_columns(name='', aggs=aggs)\n",
    "        new.columns = new_cols\n",
    "    else:\n",
    "        new.set_index([key, merchant_col], inplace=True)\n",
    "    \n",
    "    if old_month_lag_max != old_month_lag_min>0:\n",
    "        old = old.groupby([key, merchant_col])[feat_cols].agg(aggs)\n",
    "        new_cols = get_new_columns(name='', aggs=aggs)\n",
    "        old.columns = new_cols\n",
    "    else:\n",
    "        old.set_index([key, merchant_col], inplace=True)\n",
    "    #========================================================================\n",
    "        \n",
    "    #========================================================================\n",
    "    # oldに存在するがnewにいないcard_id, merchantをnewにもたせる。\n",
    "    print(\"Get Lost Merchant and Card ID\")\n",
    "    new.reset_index(inplace=True)\n",
    "    old.reset_index(inplace=True)\n",
    "    new['flg'] = 1\n",
    "    tmp_cols = [key, merchant_col]\n",
    "    old_lost = old[tmp_cols].merge(new[tmp_cols + ['flg']], how='left', on=[key, merchant_col])\n",
    "    old_lost = old_lost[old_lost['flg'].isnull()]\n",
    "    old_lost = old_lost[tmp_cols]\n",
    "    new = pd.concat([new, old_lost], ignore_index=True)\n",
    "    new.drop('flg', axis=1, inplace=True)\n",
    "    #========================================================================\n",
    "        \n",
    "    #========================================================================\n",
    "    # Make Ratio Feature\n",
    "    print(\"Make Ratio Feature\")\n",
    "    fname = f'flag{new_month_lag_max}_{new_month_lag_min}-plag{old_month_lag_max}_{old_month_lag_min}'\n",
    "    feat_cols = [col for col in df_merchant.columns if col.count('amount') or col.count('install')]\n",
    "    new = new.merge(old, how='left', on=[key, merchant_col])\n",
    "    for col in feat_cols:\n",
    "        new[f\"{fname}_{col}\"]  = new[col+'_x'] / new[col+'_y']\n",
    "        new[f\"{fname}_{col}\"].fillna(0, inplace=True)\n",
    "    #========================================================================\n",
    "    \n",
    "    #========================================================================\n",
    "    # card_id * merchant_id別のtop frequency ranking \n",
    "    df_merchant = new.set_index(tmp_cols).join(mer_cnt).reset_index()\n",
    "    del new, old\n",
    "    gc.collect()\n",
    "    \n",
    "    use_cols = [key, merchant_col] + [col for col in df_merchant.columns if col.count('flag')] + ['month_lag_cnt', 'row_no']\n",
    "    df_merchant = df_merchant[use_cols]\n",
    "    #========================================================================\n",
    "    \n",
    "    \n",
    "    #========================================================================\n",
    "    # merchant_id別に集計を行ったら、\n",
    "    # 1. それらを更に集計する. frequencyが高いmerchantのみで集計するパターンも作る\n",
    "    # 2. frequencyの高いmerchnatでまとめてtop1~10カラムを作る ------->>> frequencyについては、全体と直近半年の両パターンでカウントし、特徴を作る\n",
    "    #========================================================================\n",
    "    print(f\"{prefix} Feature Saving...\")\n",
    "    \n",
    "    feat_cols = [col for col in df_merchant.columns if col.count('flag')]\n",
    "    aggs = {}\n",
    "    for col in feat_cols:\n",
    "        aggs[col] = ['mean', 'max']\n",
    "    \n",
    "    df_agg = df_merchant[[key] + feat_cols].fillna(0).groupby(key)[feat_cols].agg(aggs)\n",
    "    \n",
    "    # Rename\n",
    "    fname = 'auth1_all'\n",
    "    new_cols = get_new_columns(name=fname, aggs=aggs)\n",
    "    df_agg.columns = new_cols\n",
    "    #========================================================================\n",
    "    \n",
    "    #========================================================================\n",
    "    # Save Feature\n",
    "    base = utils.read_df_pkl('../input/base_no_out*')\n",
    "    base = base[[key, target]].set_index(key)\n",
    "    base = base.join(df_agg)\n",
    "    base.fillna(-1, inplace=True)\n",
    "    del df_agg\n",
    "    gc.collect()\n",
    "    \n",
    "    elo_save_feature(df_feat=base, prefix=prefix)\n",
    "    print('Complete!')\n",
    "    #========================================================================\n",
    "    \n",
    "    \n",
    "    #========================================================================\n",
    "    # frequencyで絞った場合\n",
    "    prefix = prefix_2\n",
    "    print(f\"{prefix} Feature Saving...\")\n",
    "    \n",
    "    freq_high = df_merchant[df_merchant['month_lag_cnt']>2]\n",
    "    df_agg = freq_high[[key] + feat_cols].fillna(0).groupby(key)[feat_cols].agg(aggs)\n",
    "    \n",
    "    # Rename\n",
    "    fname = 'auth1_all'\n",
    "    new_cols = get_new_columns(name=fname, aggs=aggs)\n",
    "    df_agg.columns = new_cols\n",
    "    #========================================================================\n",
    "    \n",
    "    #========================================================================\n",
    "    # Save Feature\n",
    "    base = utils.read_df_pkl('../input/base_no_out*')\n",
    "    base = base[[key, target]].set_index(key)\n",
    "    base = base.join(df_agg)\n",
    "    base.fillna(-1, inplace=True)\n",
    "    del df_agg\n",
    "    gc.collect()\n",
    "    \n",
    "    elo_save_feature(df_feat=base, prefix=prefix)\n",
    "    print('Complete!')\n",
    "    #========================================================================"
   ]
  },
  {
   "cell_type": "code",
   "execution_count": 17,
   "metadata": {},
   "outputs": [
    {
     "name": "stdout",
     "output_type": "stream",
     "text": [
      "Aggregation Start!!\n",
      "Aggregate Term Setting\n",
      "Get Lost Merchant and Card ID\n",
      "Make Ratio Feature\n",
      "248_rad Feature Saving...\n"
     ]
    },
    {
     "name": "stderr",
     "output_type": "stream",
     "text": [
      "100%|██████████| 1/1 [00:00<00:00,  3.02it/s]\n"
     ]
    },
    {
     "name": "stdout",
     "output_type": "stream",
     "text": [
      "Complete!\n",
      "249_rad_freq_2Mover Feature Saving...\n"
     ]
    },
    {
     "name": "stderr",
     "output_type": "stream",
     "text": [
      "100%|██████████| 1/1 [00:00<00:00,  3.25it/s]\n"
     ]
    },
    {
     "name": "stdout",
     "output_type": "stream",
     "text": [
      "Complete!\n",
      "Aggregation Start!!\n",
      "Aggregate Term Setting\n",
      "Get Lost Merchant and Card ID\n",
      "Make Ratio Feature\n",
      "248_rad Feature Saving...\n"
     ]
    },
    {
     "name": "stderr",
     "output_type": "stream",
     "text": [
      "100%|██████████| 1/1 [00:00<00:00,  3.26it/s]\n"
     ]
    },
    {
     "name": "stdout",
     "output_type": "stream",
     "text": [
      "Complete!\n",
      "249_rad_freq_2Mover Feature Saving...\n"
     ]
    },
    {
     "name": "stderr",
     "output_type": "stream",
     "text": [
      "100%|██████████| 1/1 [00:00<00:00,  3.98it/s]\n"
     ]
    },
    {
     "name": "stdout",
     "output_type": "stream",
     "text": [
      "Complete!\n",
      "Aggregation Start!!\n",
      "Aggregate Term Setting\n",
      "Get Lost Merchant and Card ID\n",
      "Make Ratio Feature\n",
      "248_rad Feature Saving...\n"
     ]
    },
    {
     "name": "stderr",
     "output_type": "stream",
     "text": [
      "100%|██████████| 1/1 [00:00<00:00,  4.20it/s]\n"
     ]
    },
    {
     "name": "stdout",
     "output_type": "stream",
     "text": [
      "Complete!\n",
      "249_rad_freq_2Mover Feature Saving...\n"
     ]
    },
    {
     "name": "stderr",
     "output_type": "stream",
     "text": [
      "100%|██████████| 1/1 [00:00<00:00,  4.13it/s]\n"
     ]
    },
    {
     "name": "stdout",
     "output_type": "stream",
     "text": [
      "Complete!\n",
      "Aggregation Start!!\n",
      "Aggregate Term Setting\n",
      "Get Lost Merchant and Card ID\n",
      "Make Ratio Feature\n",
      "248_rad Feature Saving...\n"
     ]
    },
    {
     "name": "stderr",
     "output_type": "stream",
     "text": [
      "100%|██████████| 1/1 [00:00<00:00,  4.22it/s]\n"
     ]
    },
    {
     "name": "stdout",
     "output_type": "stream",
     "text": [
      "Complete!\n",
      "249_rad_freq_2Mover Feature Saving...\n"
     ]
    },
    {
     "name": "stderr",
     "output_type": "stream",
     "text": [
      "100%|██████████| 1/1 [00:00<00:00,  4.15it/s]\n"
     ]
    },
    {
     "name": "stdout",
     "output_type": "stream",
     "text": [
      "Complete!\n",
      "Aggregation Start!!\n",
      "Aggregate Term Setting\n",
      "Get Lost Merchant and Card ID\n",
      "Make Ratio Feature\n",
      "248_rad Feature Saving...\n"
     ]
    },
    {
     "name": "stderr",
     "output_type": "stream",
     "text": [
      "100%|██████████| 1/1 [00:00<00:00,  4.12it/s]\n"
     ]
    },
    {
     "name": "stdout",
     "output_type": "stream",
     "text": [
      "Complete!\n",
      "249_rad_freq_2Mover Feature Saving...\n"
     ]
    },
    {
     "name": "stderr",
     "output_type": "stream",
     "text": [
      "100%|██████████| 1/1 [00:00<00:00,  3.37it/s]\n"
     ]
    },
    {
     "name": "stdout",
     "output_type": "stream",
     "text": [
      "Complete!\n",
      "Aggregation Start!!\n",
      "Aggregate Term Setting\n",
      "Get Lost Merchant and Card ID\n",
      "Make Ratio Feature\n",
      "248_rad Feature Saving...\n"
     ]
    },
    {
     "name": "stderr",
     "output_type": "stream",
     "text": [
      "100%|██████████| 1/1 [00:00<00:00,  4.24it/s]\n"
     ]
    },
    {
     "name": "stdout",
     "output_type": "stream",
     "text": [
      "Complete!\n",
      "249_rad_freq_2Mover Feature Saving...\n"
     ]
    },
    {
     "name": "stderr",
     "output_type": "stream",
     "text": [
      "100%|██████████| 1/1 [00:00<00:00,  4.15it/s]\n"
     ]
    },
    {
     "name": "stdout",
     "output_type": "stream",
     "text": [
      "Complete!\n",
      "Aggregation Start!!\n",
      "Aggregate Term Setting\n",
      "Get Lost Merchant and Card ID\n",
      "Make Ratio Feature\n",
      "248_rad Feature Saving...\n"
     ]
    },
    {
     "name": "stderr",
     "output_type": "stream",
     "text": [
      "100%|██████████| 1/1 [00:00<00:00,  3.28it/s]\n"
     ]
    },
    {
     "name": "stdout",
     "output_type": "stream",
     "text": [
      "Complete!\n",
      "249_rad_freq_2Mover Feature Saving...\n"
     ]
    },
    {
     "name": "stderr",
     "output_type": "stream",
     "text": [
      "100%|██████████| 1/1 [00:00<00:00,  3.92it/s]\n"
     ]
    },
    {
     "name": "stdout",
     "output_type": "stream",
     "text": [
      "Complete!\n",
      "Aggregation Start!!\n",
      "Aggregate Term Setting\n",
      "Get Lost Merchant and Card ID\n",
      "Make Ratio Feature\n",
      "248_rad Feature Saving...\n"
     ]
    },
    {
     "name": "stderr",
     "output_type": "stream",
     "text": [
      "100%|██████████| 1/1 [00:00<00:00,  4.25it/s]\n"
     ]
    },
    {
     "name": "stdout",
     "output_type": "stream",
     "text": [
      "Complete!\n",
      "249_rad_freq_2Mover Feature Saving...\n"
     ]
    },
    {
     "name": "stderr",
     "output_type": "stream",
     "text": [
      "100%|██████████| 1/1 [00:00<00:00,  4.18it/s]\n"
     ]
    },
    {
     "name": "stdout",
     "output_type": "stream",
     "text": [
      "Complete!\n",
      "Aggregation Start!!\n",
      "Aggregate Term Setting\n",
      "Get Lost Merchant and Card ID\n",
      "Make Ratio Feature\n",
      "248_rad Feature Saving...\n"
     ]
    },
    {
     "name": "stderr",
     "output_type": "stream",
     "text": [
      "100%|██████████| 1/1 [00:00<00:00,  4.30it/s]\n"
     ]
    },
    {
     "name": "stdout",
     "output_type": "stream",
     "text": [
      "Complete!\n",
      "249_rad_freq_2Mover Feature Saving...\n"
     ]
    },
    {
     "name": "stderr",
     "output_type": "stream",
     "text": [
      "100%|██████████| 1/1 [00:00<00:00,  4.19it/s]\n"
     ]
    },
    {
     "name": "stdout",
     "output_type": "stream",
     "text": [
      "Complete!\n",
      "Aggregation Start!!\n",
      "Aggregate Term Setting\n",
      "Get Lost Merchant and Card ID\n",
      "Make Ratio Feature\n",
      "248_rad Feature Saving...\n"
     ]
    },
    {
     "name": "stderr",
     "output_type": "stream",
     "text": [
      "100%|██████████| 1/1 [00:00<00:00,  4.10it/s]\n"
     ]
    },
    {
     "name": "stdout",
     "output_type": "stream",
     "text": [
      "Complete!\n",
      "249_rad_freq_2Mover Feature Saving...\n"
     ]
    },
    {
     "name": "stderr",
     "output_type": "stream",
     "text": [
      "100%|██████████| 1/1 [00:00<00:00,  3.39it/s]\n"
     ]
    },
    {
     "name": "stdout",
     "output_type": "stream",
     "text": [
      "Complete!\n",
      "Aggregation Start!!\n",
      "Aggregate Term Setting\n",
      "Get Lost Merchant and Card ID\n",
      "Make Ratio Feature\n",
      "248_rad Feature Saving...\n"
     ]
    },
    {
     "name": "stderr",
     "output_type": "stream",
     "text": [
      "100%|██████████| 1/1 [00:00<00:00,  4.12it/s]\n"
     ]
    },
    {
     "name": "stdout",
     "output_type": "stream",
     "text": [
      "Complete!\n",
      "249_rad_freq_2Mover Feature Saving...\n"
     ]
    },
    {
     "name": "stderr",
     "output_type": "stream",
     "text": [
      "100%|██████████| 1/1 [00:00<00:00,  3.92it/s]\n"
     ]
    },
    {
     "name": "stdout",
     "output_type": "stream",
     "text": [
      "Complete!\n",
      "Aggregation Start!!\n",
      "Aggregate Term Setting\n",
      "Get Lost Merchant and Card ID\n",
      "Make Ratio Feature\n",
      "248_rad Feature Saving...\n"
     ]
    },
    {
     "name": "stderr",
     "output_type": "stream",
     "text": [
      "100%|██████████| 1/1 [00:00<00:00,  3.34it/s]\n"
     ]
    },
    {
     "name": "stdout",
     "output_type": "stream",
     "text": [
      "Complete!\n",
      "249_rad_freq_2Mover Feature Saving...\n"
     ]
    },
    {
     "name": "stderr",
     "output_type": "stream",
     "text": [
      "100%|██████████| 1/1 [00:00<00:00,  4.19it/s]\n"
     ]
    },
    {
     "name": "stdout",
     "output_type": "stream",
     "text": [
      "Complete!\n",
      "Aggregation Start!!\n",
      "Aggregate Term Setting\n",
      "Get Lost Merchant and Card ID\n",
      "Make Ratio Feature\n",
      "248_rad Feature Saving...\n"
     ]
    },
    {
     "name": "stderr",
     "output_type": "stream",
     "text": [
      "100%|██████████| 1/1 [00:00<00:00,  2.75it/s]\n"
     ]
    },
    {
     "name": "stdout",
     "output_type": "stream",
     "text": [
      "Complete!\n",
      "249_rad_freq_2Mover Feature Saving...\n"
     ]
    },
    {
     "name": "stderr",
     "output_type": "stream",
     "text": [
      "100%|██████████| 1/1 [00:00<00:00,  4.01it/s]\n"
     ]
    },
    {
     "name": "stdout",
     "output_type": "stream",
     "text": [
      "Complete!\n",
      "Aggregation Start!!\n",
      "Aggregate Term Setting\n",
      "Get Lost Merchant and Card ID\n",
      "Make Ratio Feature\n",
      "248_rad Feature Saving...\n"
     ]
    },
    {
     "name": "stderr",
     "output_type": "stream",
     "text": [
      "100%|██████████| 1/1 [00:00<00:00,  4.22it/s]\n"
     ]
    },
    {
     "name": "stdout",
     "output_type": "stream",
     "text": [
      "Complete!\n",
      "249_rad_freq_2Mover Feature Saving...\n"
     ]
    },
    {
     "name": "stderr",
     "output_type": "stream",
     "text": [
      "100%|██████████| 1/1 [00:00<00:00,  4.12it/s]\n"
     ]
    },
    {
     "name": "stdout",
     "output_type": "stream",
     "text": [
      "Complete!\n",
      "Aggregation Start!!\n",
      "Aggregate Term Setting\n",
      "Get Lost Merchant and Card ID\n",
      "Make Ratio Feature\n",
      "248_rad Feature Saving...\n"
     ]
    },
    {
     "name": "stderr",
     "output_type": "stream",
     "text": [
      "100%|██████████| 1/1 [00:00<00:00,  3.33it/s]\n"
     ]
    },
    {
     "name": "stdout",
     "output_type": "stream",
     "text": [
      "Complete!\n",
      "249_rad_freq_2Mover Feature Saving...\n"
     ]
    },
    {
     "name": "stderr",
     "output_type": "stream",
     "text": [
      "100%|██████████| 1/1 [00:00<00:00,  3.27it/s]\n"
     ]
    },
    {
     "name": "stdout",
     "output_type": "stream",
     "text": [
      "Complete!\n",
      "Aggregation Start!!\n",
      "Aggregate Term Setting\n",
      "Get Lost Merchant and Card ID\n",
      "Make Ratio Feature\n",
      "248_rad Feature Saving...\n"
     ]
    },
    {
     "name": "stderr",
     "output_type": "stream",
     "text": [
      "100%|██████████| 1/1 [00:00<00:00,  4.15it/s]\n"
     ]
    },
    {
     "name": "stdout",
     "output_type": "stream",
     "text": [
      "Complete!\n",
      "249_rad_freq_2Mover Feature Saving...\n"
     ]
    },
    {
     "name": "stderr",
     "output_type": "stream",
     "text": [
      "100%|██████████| 1/1 [00:00<00:00,  4.04it/s]\n"
     ]
    },
    {
     "name": "stdout",
     "output_type": "stream",
     "text": [
      "Complete!\n",
      "Aggregation Start!!\n",
      "Aggregate Term Setting\n",
      "Get Lost Merchant and Card ID\n",
      "Make Ratio Feature\n",
      "248_rad Feature Saving...\n"
     ]
    },
    {
     "name": "stderr",
     "output_type": "stream",
     "text": [
      "100%|██████████| 1/1 [00:00<00:00,  3.24it/s]\n"
     ]
    },
    {
     "name": "stdout",
     "output_type": "stream",
     "text": [
      "Complete!\n",
      "249_rad_freq_2Mover Feature Saving...\n"
     ]
    },
    {
     "name": "stderr",
     "output_type": "stream",
     "text": [
      "100%|██████████| 1/1 [00:00<00:00,  3.83it/s]\n"
     ]
    },
    {
     "name": "stdout",
     "output_type": "stream",
     "text": [
      "Complete!\n",
      "Aggregation Start!!\n",
      "Aggregate Term Setting\n",
      "Get Lost Merchant and Card ID\n",
      "Make Ratio Feature\n",
      "248_rad Feature Saving...\n"
     ]
    },
    {
     "name": "stderr",
     "output_type": "stream",
     "text": [
      "100%|██████████| 1/1 [00:00<00:00,  4.21it/s]\n"
     ]
    },
    {
     "name": "stdout",
     "output_type": "stream",
     "text": [
      "Complete!\n",
      "249_rad_freq_2Mover Feature Saving...\n"
     ]
    },
    {
     "name": "stderr",
     "output_type": "stream",
     "text": [
      "100%|██████████| 1/1 [00:00<00:00,  4.06it/s]\n"
     ]
    },
    {
     "name": "stdout",
     "output_type": "stream",
     "text": [
      "Complete!\n",
      "Aggregation Start!!\n",
      "Aggregate Term Setting\n",
      "Get Lost Merchant and Card ID\n",
      "Make Ratio Feature\n",
      "248_rad Feature Saving...\n"
     ]
    },
    {
     "name": "stderr",
     "output_type": "stream",
     "text": [
      "100%|██████████| 1/1 [00:00<00:00,  4.10it/s]\n"
     ]
    },
    {
     "name": "stdout",
     "output_type": "stream",
     "text": [
      "Complete!\n",
      "249_rad_freq_2Mover Feature Saving...\n"
     ]
    },
    {
     "name": "stderr",
     "output_type": "stream",
     "text": [
      "100%|██████████| 1/1 [00:00<00:00,  4.05it/s]\n"
     ]
    },
    {
     "name": "stdout",
     "output_type": "stream",
     "text": [
      "Complete!\n",
      "Aggregation Start!!\n",
      "Aggregate Term Setting\n",
      "Get Lost Merchant and Card ID\n",
      "Make Ratio Feature\n",
      "248_rad Feature Saving...\n"
     ]
    },
    {
     "name": "stderr",
     "output_type": "stream",
     "text": [
      "100%|██████████| 1/1 [00:00<00:00,  4.20it/s]\n"
     ]
    },
    {
     "name": "stdout",
     "output_type": "stream",
     "text": [
      "Complete!\n",
      "249_rad_freq_2Mover Feature Saving...\n"
     ]
    },
    {
     "name": "stderr",
     "output_type": "stream",
     "text": [
      "100%|██████████| 1/1 [00:00<00:00,  4.11it/s]\n"
     ]
    },
    {
     "name": "stdout",
     "output_type": "stream",
     "text": [
      "Complete!\n",
      "Aggregation Start!!\n",
      "Aggregate Term Setting\n",
      "Get Lost Merchant and Card ID\n",
      "Make Ratio Feature\n",
      "248_rad Feature Saving...\n"
     ]
    },
    {
     "name": "stderr",
     "output_type": "stream",
     "text": [
      "100%|██████████| 1/1 [00:00<00:00,  4.25it/s]\n"
     ]
    },
    {
     "name": "stdout",
     "output_type": "stream",
     "text": [
      "Complete!\n",
      "249_rad_freq_2Mover Feature Saving...\n"
     ]
    },
    {
     "name": "stderr",
     "output_type": "stream",
     "text": [
      "100%|██████████| 1/1 [00:00<00:00,  4.11it/s]\n"
     ]
    },
    {
     "name": "stdout",
     "output_type": "stream",
     "text": [
      "Complete!\n",
      "Aggregation Start!!\n",
      "Aggregate Term Setting\n",
      "Get Lost Merchant and Card ID\n",
      "Make Ratio Feature\n",
      "248_rad Feature Saving...\n"
     ]
    },
    {
     "name": "stderr",
     "output_type": "stream",
     "text": [
      "100%|██████████| 1/1 [00:00<00:00,  4.30it/s]\n"
     ]
    },
    {
     "name": "stdout",
     "output_type": "stream",
     "text": [
      "Complete!\n",
      "249_rad_freq_2Mover Feature Saving...\n"
     ]
    },
    {
     "name": "stderr",
     "output_type": "stream",
     "text": [
      "100%|██████████| 1/1 [00:00<00:00,  4.11it/s]\n"
     ]
    },
    {
     "name": "stdout",
     "output_type": "stream",
     "text": [
      "Complete!\n",
      "Aggregation Start!!\n",
      "Aggregate Term Setting\n",
      "Get Lost Merchant and Card ID\n",
      "Make Ratio Feature\n",
      "248_rad Feature Saving...\n"
     ]
    },
    {
     "name": "stderr",
     "output_type": "stream",
     "text": [
      "100%|██████████| 1/1 [00:00<00:00,  4.29it/s]\n"
     ]
    },
    {
     "name": "stdout",
     "output_type": "stream",
     "text": [
      "Complete!\n",
      "249_rad_freq_2Mover Feature Saving...\n"
     ]
    },
    {
     "name": "stderr",
     "output_type": "stream",
     "text": [
      "100%|██████████| 1/1 [00:00<00:00,  4.04it/s]\n"
     ]
    },
    {
     "name": "stdout",
     "output_type": "stream",
     "text": [
      "Complete!\n",
      "Aggregation Start!!\n",
      "Aggregate Term Setting\n",
      "Get Lost Merchant and Card ID\n",
      "Make Ratio Feature\n",
      "248_rad Feature Saving...\n"
     ]
    },
    {
     "name": "stderr",
     "output_type": "stream",
     "text": [
      "100%|██████████| 1/1 [00:00<00:00,  4.30it/s]\n"
     ]
    },
    {
     "name": "stdout",
     "output_type": "stream",
     "text": [
      "Complete!\n",
      "249_rad_freq_2Mover Feature Saving...\n"
     ]
    },
    {
     "name": "stderr",
     "output_type": "stream",
     "text": [
      "100%|██████████| 1/1 [00:00<00:00,  4.15it/s]\n"
     ]
    },
    {
     "name": "stdout",
     "output_type": "stream",
     "text": [
      "Complete!\n",
      "Aggregation Start!!\n",
      "Aggregate Term Setting\n",
      "Get Lost Merchant and Card ID\n",
      "Make Ratio Feature\n",
      "248_rad Feature Saving...\n"
     ]
    },
    {
     "name": "stderr",
     "output_type": "stream",
     "text": [
      "100%|██████████| 1/1 [00:00<00:00,  4.25it/s]\n"
     ]
    },
    {
     "name": "stdout",
     "output_type": "stream",
     "text": [
      "Complete!\n",
      "249_rad_freq_2Mover Feature Saving...\n"
     ]
    },
    {
     "name": "stderr",
     "output_type": "stream",
     "text": [
      "100%|██████████| 1/1 [00:00<00:00,  4.14it/s]\n"
     ]
    },
    {
     "name": "stdout",
     "output_type": "stream",
     "text": [
      "Complete!\n",
      "Aggregation Start!!\n",
      "Aggregate Term Setting\n",
      "Get Lost Merchant and Card ID\n",
      "Make Ratio Feature\n",
      "248_rad Feature Saving...\n"
     ]
    },
    {
     "name": "stderr",
     "output_type": "stream",
     "text": [
      "100%|██████████| 1/1 [00:00<00:00,  4.33it/s]\n"
     ]
    },
    {
     "name": "stdout",
     "output_type": "stream",
     "text": [
      "Complete!\n",
      "249_rad_freq_2Mover Feature Saving...\n"
     ]
    },
    {
     "name": "stderr",
     "output_type": "stream",
     "text": [
      "100%|██████████| 1/1 [00:00<00:00,  4.20it/s]\n"
     ]
    },
    {
     "name": "stdout",
     "output_type": "stream",
     "text": [
      "Complete!\n",
      "Aggregation Start!!\n",
      "Aggregate Term Setting\n",
      "Get Lost Merchant and Card ID\n",
      "Make Ratio Feature\n",
      "248_rad Feature Saving...\n"
     ]
    },
    {
     "name": "stderr",
     "output_type": "stream",
     "text": [
      "100%|██████████| 1/1 [00:00<00:00,  4.31it/s]\n"
     ]
    },
    {
     "name": "stdout",
     "output_type": "stream",
     "text": [
      "Complete!\n",
      "249_rad_freq_2Mover Feature Saving...\n"
     ]
    },
    {
     "name": "stderr",
     "output_type": "stream",
     "text": [
      "100%|██████████| 1/1 [00:00<00:00,  4.21it/s]\n"
     ]
    },
    {
     "name": "stdout",
     "output_type": "stream",
     "text": [
      "Complete!\n"
     ]
    }
   ],
   "source": [
    "pattern_list = [\n",
    "    # One Month Ver\n",
    "    [0, 0, -1, -1]\n",
    "    ,[-1, -1, -2, -2]\n",
    "    ,[-2, -2, -3, -3]\n",
    "    \n",
    "    # Two Month Ver\n",
    "    ,[0, -1, -2, -3]\n",
    "    ,[-1, -2, -3, -4]\n",
    "    ,[-2, -3, -4, -5]\n",
    "    \n",
    "    # Three Month Ver\n",
    "    ,[0, -2, -3, -5]\n",
    "    ,[-1, -3, -4, -6]\n",
    "    ,[-2, -4, -5, -7]\n",
    "    \n",
    "    # One / Two Month Ver\n",
    "    ,[0, 0, -1, -2]\n",
    "    ,[-1, -1, -2, -3]\n",
    "    ,[-2, -2, -3, -4]\n",
    "    \n",
    "    # One / Three Month Ver\n",
    "    ,[0, 0, -1, -3]\n",
    "    ,[-1, -1, -2, -4]\n",
    "    ,[-2, -2, -3, -5]\n",
    "    \n",
    "    # One / Six Month Ver\n",
    "    ,[0, 0, -1, -6]\n",
    "    ,[-1, -1, -2, -7]\n",
    "    ,[-2, -2, -3, -8]\n",
    "    \n",
    "    # Two / Three Month Ver\n",
    "    ,[0, -1, -2, -4]\n",
    "    ,[-1, -2, -3, -5]\n",
    "    ,[-2, -3, -4, -6]\n",
    "    \n",
    "    # Two / Six Month Ver\n",
    "    ,[0, -1, -2, -7]\n",
    "    ,[-1, -2, -3, -8]\n",
    "    ,[-2, -3, -4, -9]\n",
    "    \n",
    "    # Three / Six Month Ver\n",
    "    ,[0, -2, -3, -8]\n",
    "    ,[-1, -3, -4, -9]\n",
    "    ,[-2, -4, -5, -10]\n",
    "    \n",
    "]\n",
    "mer_cnt = auth1.groupby([key, merchant_col])['month_lag'].nunique().reset_index().rename(columns={'month_lag':'month_lag_cnt'})\n",
    "mer_cnt.sort_values(by=[key, 'month_lag_cnt'], ascending=False, inplace=True)\n",
    "mer_cnt = utils.row_number(df=mer_cnt, level=key)\n",
    "mer_cnt.set_index([key, merchant_col], inplace=True)\n",
    "for pattern in pattern_list:\n",
    "    raddar_2level_agg(auth1, mer_cnt, *pattern)"
   ]
  }
 ],
 "metadata": {
  "kernelspec": {
   "display_name": "Python 3",
   "language": "python",
   "name": "python3"
  },
  "language_info": {
   "codemirror_mode": {
    "name": "ipython",
    "version": 3
   },
   "file_extension": ".py",
   "mimetype": "text/x-python",
   "name": "python",
   "nbconvert_exporter": "python",
   "pygments_lexer": "ipython3",
   "version": "3.6.3"
  }
 },
 "nbformat": 4,
 "nbformat_minor": 2
}
