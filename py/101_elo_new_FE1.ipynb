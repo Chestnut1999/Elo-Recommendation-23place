{
 "cells": [
  {
   "cell_type": "code",
   "execution_count": 1,
   "metadata": {
    "ExecuteTime": {
     "end_time": "2018-10-28T07:40:08.183701Z",
     "start_time": "2018-10-28T07:40:07.309627Z"
    },
    "collapsed": true
   },
   "outputs": [],
   "source": [
    "%load_ext autoreload\n",
    "%autoreload 2\n",
    "import gc\n",
    "import re\n",
    "import pandas as pd\n",
    "from __future__ import print_function, division\n",
    "import numpy as np\n",
    "import matplotlib.pyplot as plt\n",
    "%matplotlib inline\n",
    "import seaborn as sns\n",
    "sns.set()\n",
    "pd.set_option('max_columns', 200)\n",
    "pd.set_option('max_rows', 200)\n",
    "import os\n",
    "import sys\n",
    "HOME = os.path.expanduser(\"~\")\n",
    "sys.path.append(f'{HOME}/kaggle/data_analysis/library')\n",
    "import utils\n",
    "from utils import get_categorical_features, get_numeric_features\n",
    "import eda\n",
    "\n",
    "from tqdm import tqdm\n",
    "\n",
    "# os.listdir('../input/')\n",
    "key = 'card_id'\n",
    "target = 'target'\n",
    "ignore_list = [key, target, 'merchant_id']\n",
    "\n",
    "feat_no = '101_new_'"
   ]
  },
  {
   "cell_type": "markdown",
   "metadata": {},
   "source": [
    "### csvをpickleにする"
   ]
  },
  {
   "cell_type": "code",
   "execution_count": 2,
   "metadata": {
    "ExecuteTime": {
     "end_time": "2018-10-28T08:05:13.761066Z",
     "start_time": "2018-10-28T08:05:12.035341Z"
    }
   },
   "outputs": [],
   "source": [
    "is_pickle = True\n",
    "is_pickle = False\n",
    "\n",
    "def elo_load_data(filename=''):\n",
    "    \n",
    "    if len(filename):\n",
    "        df = utils.read_df_pkl(path=f'../input/{filename}*.p')\n",
    "        return df\n",
    "    # read pickle\n",
    "    path_list = glob.glob(\"../input/*.p\")\n",
    "    for path in path_list:\n",
    "        filename = re.search(r'/([^/.]*).gz', path).group(1)\n",
    "        df = utils.read_df_pkl(path=f'../input/{filename}*.p')\n",
    "\n",
    "if is_pickle:\n",
    "    new.sort_values(by=[key, 'purchase_date'], inplace=True)\n",
    "    utils.to_df_pkl(path='../input', fname=f\"new_merchant_transactions\", df=new)"
   ]
  },
  {
   "cell_type": "markdown",
   "metadata": {},
   "source": [
    "### Data Load"
   ]
  },
  {
   "cell_type": "code",
   "execution_count": 3,
   "metadata": {},
   "outputs": [
    {
     "name": "stderr",
     "output_type": "stream",
     "text": [
      "100%|██████████| 3/3 [00:00<00:00, 95.53it/s]\n",
      "100%|██████████| 3/3 [00:00<00:00, 185.67it/s]\n",
      "100%|██████████| 3/3 [00:00<00:00,  3.48it/s]\n"
     ]
    }
   ],
   "source": [
    "train = elo_load_data('train')\n",
    "test = elo_load_data('test')\n",
    "train_id = train[key].values\n",
    "test_id = test[key].values\n",
    "train_test = pd.concat([train, test], axis=0).reset_index(drop=True)\n",
    "new = elo_load_data('new_')\n",
    "# historical = elo_load_data('historical')"
   ]
  },
  {
   "cell_type": "code",
   "execution_count": 85,
   "metadata": {},
   "outputs": [
    {
     "data": {
      "text/html": [
       "<div>\n",
       "<style scoped>\n",
       "    .dataframe tbody tr th:only-of-type {\n",
       "        vertical-align: middle;\n",
       "    }\n",
       "\n",
       "    .dataframe tbody tr th {\n",
       "        vertical-align: top;\n",
       "    }\n",
       "\n",
       "    .dataframe thead th {\n",
       "        text-align: right;\n",
       "    }\n",
       "</style>\n",
       "<table border=\"1\" class=\"dataframe\">\n",
       "  <thead>\n",
       "    <tr style=\"text-align: right;\">\n",
       "      <th></th>\n",
       "      <th>first_active_month</th>\n",
       "      <th>card_id</th>\n",
       "      <th>feature_1</th>\n",
       "      <th>feature_2</th>\n",
       "      <th>feature_3</th>\n",
       "      <th>target</th>\n",
       "    </tr>\n",
       "  </thead>\n",
       "  <tbody>\n",
       "    <tr>\n",
       "      <th>0</th>\n",
       "      <td>2017-06</td>\n",
       "      <td>C_ID_92a2005557</td>\n",
       "      <td>5</td>\n",
       "      <td>2</td>\n",
       "      <td>1</td>\n",
       "      <td>-0.820283</td>\n",
       "    </tr>\n",
       "    <tr>\n",
       "      <th>1</th>\n",
       "      <td>2017-01</td>\n",
       "      <td>C_ID_3d0044924f</td>\n",
       "      <td>4</td>\n",
       "      <td>1</td>\n",
       "      <td>0</td>\n",
       "      <td>0.392913</td>\n",
       "    </tr>\n",
       "    <tr>\n",
       "      <th>2</th>\n",
       "      <td>2016-08</td>\n",
       "      <td>C_ID_d639edf6cd</td>\n",
       "      <td>2</td>\n",
       "      <td>2</td>\n",
       "      <td>0</td>\n",
       "      <td>0.688056</td>\n",
       "    </tr>\n",
       "    <tr>\n",
       "      <th>3</th>\n",
       "      <td>2017-09</td>\n",
       "      <td>C_ID_186d6a6901</td>\n",
       "      <td>4</td>\n",
       "      <td>3</td>\n",
       "      <td>0</td>\n",
       "      <td>0.142495</td>\n",
       "    </tr>\n",
       "    <tr>\n",
       "      <th>4</th>\n",
       "      <td>2017-11</td>\n",
       "      <td>C_ID_cdbd2c0db2</td>\n",
       "      <td>1</td>\n",
       "      <td>3</td>\n",
       "      <td>0</td>\n",
       "      <td>-0.159749</td>\n",
       "    </tr>\n",
       "  </tbody>\n",
       "</table>\n",
       "</div>"
      ],
      "text/plain": [
       "  first_active_month          card_id  feature_1  feature_2  feature_3  \\\n",
       "0            2017-06  C_ID_92a2005557          5          2          1   \n",
       "1            2017-01  C_ID_3d0044924f          4          1          0   \n",
       "2            2016-08  C_ID_d639edf6cd          2          2          0   \n",
       "3            2017-09  C_ID_186d6a6901          4          3          0   \n",
       "4            2017-11  C_ID_cdbd2c0db2          1          3          0   \n",
       "\n",
       "     target  \n",
       "0 -0.820283  \n",
       "1  0.392913  \n",
       "2  0.688056  \n",
       "3  0.142495  \n",
       "4 -0.159749  "
      ]
     },
     "metadata": {},
     "output_type": "display_data"
    },
    {
     "name": "stdout",
     "output_type": "stream",
     "text": [
      "(201917,)\n",
      "(201917, 6)\n"
     ]
    },
    {
     "data": {
      "text/html": [
       "<div>\n",
       "<style scoped>\n",
       "    .dataframe tbody tr th:only-of-type {\n",
       "        vertical-align: middle;\n",
       "    }\n",
       "\n",
       "    .dataframe tbody tr th {\n",
       "        vertical-align: top;\n",
       "    }\n",
       "\n",
       "    .dataframe thead th {\n",
       "        text-align: right;\n",
       "    }\n",
       "</style>\n",
       "<table border=\"1\" class=\"dataframe\">\n",
       "  <thead>\n",
       "    <tr style=\"text-align: right;\">\n",
       "      <th></th>\n",
       "      <th>authorized_flag</th>\n",
       "      <th>card_id</th>\n",
       "      <th>city_id</th>\n",
       "      <th>category_1</th>\n",
       "      <th>installments</th>\n",
       "      <th>category_3</th>\n",
       "      <th>merchant_category_id</th>\n",
       "      <th>merchant_id</th>\n",
       "      <th>month_lag</th>\n",
       "      <th>purchase_amount</th>\n",
       "      <th>purchase_date</th>\n",
       "      <th>category_2</th>\n",
       "      <th>state_id</th>\n",
       "      <th>subsector_id</th>\n",
       "    </tr>\n",
       "  </thead>\n",
       "  <tbody>\n",
       "    <tr>\n",
       "      <th>1793298</th>\n",
       "      <td>Y</td>\n",
       "      <td>C_ID_00007093c1</td>\n",
       "      <td>76</td>\n",
       "      <td>N</td>\n",
       "      <td>1.0</td>\n",
       "      <td>B</td>\n",
       "      <td>222</td>\n",
       "      <td>M_ID_08f01305af</td>\n",
       "      <td>2</td>\n",
       "      <td>-0.671775</td>\n",
       "      <td>2018-04-03 11:13:35</td>\n",
       "      <td>3</td>\n",
       "      <td>2</td>\n",
       "      <td>21</td>\n",
       "    </tr>\n",
       "    <tr>\n",
       "      <th>1793299</th>\n",
       "      <td>Y</td>\n",
       "      <td>C_ID_00007093c1</td>\n",
       "      <td>69</td>\n",
       "      <td>N</td>\n",
       "      <td>1.0</td>\n",
       "      <td>B</td>\n",
       "      <td>879</td>\n",
       "      <td>M_ID_00a6ca8a8a</td>\n",
       "      <td>2</td>\n",
       "      <td>-0.656749</td>\n",
       "      <td>2018-04-09 16:23:59</td>\n",
       "      <td>1</td>\n",
       "      <td>9</td>\n",
       "      <td>29</td>\n",
       "    </tr>\n",
       "    <tr>\n",
       "      <th>38630</th>\n",
       "      <td>Y</td>\n",
       "      <td>C_ID_0001238066</td>\n",
       "      <td>314</td>\n",
       "      <td>N</td>\n",
       "      <td>1.0</td>\n",
       "      <td>B</td>\n",
       "      <td>307</td>\n",
       "      <td>M_ID_7d8102bb34</td>\n",
       "      <td>1</td>\n",
       "      <td>-0.732783</td>\n",
       "      <td>2018-03-01 16:48:27</td>\n",
       "      <td>1</td>\n",
       "      <td>9</td>\n",
       "      <td>19</td>\n",
       "    </tr>\n",
       "    <tr>\n",
       "      <th>38618</th>\n",
       "      <td>Y</td>\n",
       "      <td>C_ID_0001238066</td>\n",
       "      <td>314</td>\n",
       "      <td>N</td>\n",
       "      <td>1.0</td>\n",
       "      <td>B</td>\n",
       "      <td>367</td>\n",
       "      <td>M_ID_235e546dcc</td>\n",
       "      <td>1</td>\n",
       "      <td>-0.672136</td>\n",
       "      <td>2018-03-03 22:44:57</td>\n",
       "      <td>1</td>\n",
       "      <td>9</td>\n",
       "      <td>16</td>\n",
       "    </tr>\n",
       "    <tr>\n",
       "      <th>38633</th>\n",
       "      <td>Y</td>\n",
       "      <td>C_ID_0001238066</td>\n",
       "      <td>333</td>\n",
       "      <td>N</td>\n",
       "      <td>1.0</td>\n",
       "      <td>B</td>\n",
       "      <td>783</td>\n",
       "      <td>M_ID_a88790a464</td>\n",
       "      <td>1</td>\n",
       "      <td>-0.641722</td>\n",
       "      <td>2018-03-04 13:05:16</td>\n",
       "      <td>1</td>\n",
       "      <td>9</td>\n",
       "      <td>19</td>\n",
       "    </tr>\n",
       "  </tbody>\n",
       "</table>\n",
       "</div>"
      ],
      "text/plain": [
       "        authorized_flag          card_id  city_id category_1  installments  \\\n",
       "1793298               Y  C_ID_00007093c1       76          N           1.0   \n",
       "1793299               Y  C_ID_00007093c1       69          N           1.0   \n",
       "38630                 Y  C_ID_0001238066      314          N           1.0   \n",
       "38618                 Y  C_ID_0001238066      314          N           1.0   \n",
       "38633                 Y  C_ID_0001238066      333          N           1.0   \n",
       "\n",
       "        category_3  merchant_category_id      merchant_id  month_lag  \\\n",
       "1793298          B                   222  M_ID_08f01305af          2   \n",
       "1793299          B                   879  M_ID_00a6ca8a8a          2   \n",
       "38630            B                   307  M_ID_7d8102bb34          1   \n",
       "38618            B                   367  M_ID_235e546dcc          1   \n",
       "38633            B                   783  M_ID_a88790a464          1   \n",
       "\n",
       "         purchase_amount        purchase_date category_2  state_id  \\\n",
       "1793298        -0.671775  2018-04-03 11:13:35          3         2   \n",
       "1793299        -0.656749  2018-04-09 16:23:59          1         9   \n",
       "38630          -0.732783  2018-03-01 16:48:27          1         9   \n",
       "38618          -0.672136  2018-03-03 22:44:57          1         9   \n",
       "38633          -0.641722  2018-03-04 13:05:16          1         9   \n",
       "\n",
       "         subsector_id  \n",
       "1793298            21  \n",
       "1793299            29  \n",
       "38630              19  \n",
       "38618              16  \n",
       "38633              19  "
      ]
     },
     "metadata": {},
     "output_type": "display_data"
    },
    {
     "name": "stdout",
     "output_type": "stream",
     "text": [
      "(1963031, 14)\n",
      "(290001,)\n"
     ]
    }
   ],
   "source": [
    "display(train.head())\n",
    "print(train[key].drop_duplicates().shape)\n",
    "print(train.shape)\n",
    "display(new.head())\n",
    "print(new.shape)\n",
    "print(new[key].drop_duplicates().shape)"
   ]
  },
  {
   "cell_type": "markdown",
   "metadata": {},
   "source": [
    "#### New Transactionsの最少粒度は下記"
   ]
  },
  {
   "cell_type": "code",
   "execution_count": 118,
   "metadata": {},
   "outputs": [
    {
     "name": "stdout",
     "output_type": "stream",
     "text": [
      "(1963031, 14)\n",
      "(1963031, 6)\n"
     ]
    },
    {
     "ename": "SystemExit",
     "evalue": "",
     "output_type": "error",
     "traceback": [
      "An exception has occurred, use %tb to see the full traceback.\n",
      "\u001b[0;31mSystemExit\u001b[0m\n"
     ]
    }
   ],
   "source": [
    "print(new.shape)\n",
    "cols = [key, 'purchase_date', 'purchase_amount', 'merchant_id', 'merchant_category_id', 'installments']\n",
    "print(new[cols].drop_duplicates().shape)"
   ]
  },
  {
   "cell_type": "markdown",
   "metadata": {},
   "source": [
    "### Cleansing"
   ]
  },
  {
   "cell_type": "code",
   "execution_count": 4,
   "metadata": {},
   "outputs": [],
   "source": [
    "# 999という値が1つだけあるので欠損値扱いで-1にする\n",
    "new['installments'] = new['installments'].where(new['installments']<20, -1)\n",
    "new['installments'] = new['installments'].replace(-1, np.nan)\n",
    "new['authorized_flag'] = new['authorized_flag'].replace(-1, 'NA')\n",
    "new['merchant_id'] =  new['merchant_id'].fillna('NA')\n",
    "new['category_2'] =  new['category_2'].fillna('NA')\n",
    "new['category_3'] =  new['category_3'].fillna('NA')"
   ]
  },
  {
   "cell_type": "markdown",
   "metadata": {},
   "source": [
    "### card_idの粒度で色々集計する\n",
    "有効かわからないからとりあえず書いてやってみる"
   ]
  },
  {
   "cell_type": "markdown",
   "metadata": {},
   "source": [
    "### nunique"
   ]
  },
  {
   "cell_type": "code",
   "execution_count": 5,
   "metadata": {},
   "outputs": [],
   "source": [
    "feat_nunique = []\n",
    "nuq_city_id = new.groupby(key)['city_id'].nunique().rename('city_id_nuq@card_id')\n",
    "feat_nunique.append(nuq_city_id)\n",
    "\n",
    "nuq_merchant_category_id = new.groupby(key)['merchant_category_id'].nunique().rename('merchant_category_id_nuq@card_id')\n",
    "feat_nunique.append(nuq_merchant_category_id)\n",
    "\n",
    "nuq_merchant_id = new.groupby(key)['merchant_id'].nunique().rename('merchant_id_nuq@card_id')\n",
    "feat_nunique.append(nuq_merchant_id)\n",
    "\n",
    "nuq_state_id = new.groupby(key)['state_id'].nunique().rename('state_id_nuq@card_id')\n",
    "feat_nunique.append(nuq_state_id)\n",
    "\n",
    "nuq_subsector_id = new.groupby(key)['subsector_id'].nunique().rename('subsector_id_nuq@card_id')\n",
    "feat_nunique.append(nuq_subsector_id)\n",
    "\n",
    "nuq_category_1 = new.groupby(key)['category_1'].nunique().rename('category_1_nuq@card_id')\n",
    "feat_nunique.append(nuq_category_1)\n",
    "\n",
    "nuq_category_2 = new.groupby(key)['category_2'].nunique().rename('category_2_nuq@card_id')\n",
    "feat_nunique.append(nuq_category_2)\n",
    "\n",
    "nuq_category_3 = new.groupby(key)['category_3'].nunique().rename('category_3_nuq@card_id')\n",
    "feat_nunique.append(nuq_category_3)\n",
    "\n",
    "nuq_installments = new.groupby(key)['installments'].nunique().rename('installments_nuq@card_id')\n",
    "feat_nunique.append(nuq_installments)\n",
    "\n",
    "nuq_purchase_date = new.groupby(key)['purchase_date'].nunique().rename('purchase_date_nuq@card_id')\n",
    "feat_nunique.append(nuq_purchase_date)\n",
    "\n",
    "nuq_month_lag = new.groupby(key)['month_lag'].nunique().rename('month_lag_nuq@card_id')\n",
    "feat_nunique.append(nuq_month_lag)"
   ]
  },
  {
   "cell_type": "markdown",
   "metadata": {},
   "source": [
    "### month_lag別のnunique"
   ]
  },
  {
   "cell_type": "code",
   "execution_count": 6,
   "metadata": {},
   "outputs": [],
   "source": [
    "lag_1 = new.query(\"month_lag==1\")\n",
    "lag_2 = new.query(\"month_lag==2\")\n",
    "feat_month_lag = []\n",
    "\n",
    "# lag_1\n",
    "cnt_city_id = lag_1.groupby(key)['city_id'].nunique().rename('city_id_nuq@card_id-month_lag1')\n",
    "feat_month_lag.append(cnt_city_id)\n",
    "\n",
    "cnt_merchant_category_id = lag_1.groupby(key)['merchant_category_id'].nunique().rename('merchant_category_id_nuq@card_id-month_lag1')\n",
    "feat_month_lag.append(cnt_merchant_category_id)\n",
    "\n",
    "cnt_merchant_id = lag_1.groupby(key)['merchant_id'].nunique().rename('merchant_id_nuq@card_id-month_lag1')\n",
    "feat_month_lag.append(cnt_merchant_id)\n",
    "\n",
    "cnt_state_id = lag_1.groupby(key)['state_id'].nunique().rename('state_id_nuq@card_id-month_lag1')\n",
    "feat_month_lag.append(cnt_state_id)\n",
    "\n",
    "cnt_subsector_id = lag_1.groupby(key)['subsector_id'].nunique().rename('subsector_id_nuq@card_id-month_lag1')\n",
    "feat_month_lag.append(cnt_subsector_id)\n",
    "\n",
    "cnt_category_1 = lag_1.groupby(key)['category_1'].nunique().rename('category_1_nuq@card_id-month_lag1')\n",
    "feat_month_lag.append(cnt_category_1)\n",
    "\n",
    "cnt_category_2 = lag_1.groupby(key)['category_2'].nunique().rename('category_2_nuq@card_id-month_lag1')\n",
    "feat_month_lag.append(cnt_category_2)\n",
    "\n",
    "cnt_category_3 = lag_1.groupby(key)['category_3'].nunique().rename('category_3_nuq@card_id-month_lag1')\n",
    "feat_month_lag.append(cnt_category_3)\n",
    "\n",
    "cnt_installments = lag_1.groupby(key)['installments'].nunique().rename('installments_nuq@card_id-month_lag1')\n",
    "feat_month_lag.append(cnt_installments)\n",
    "\n",
    "cnt_purchase_date = lag_1.groupby(key)['purchase_date'].nunique().rename('purchase_date_nuq@card_id-month_lag1')\n",
    "feat_month_lag.append(cnt_purchase_date)\n",
    "\n",
    "cnt_month_lag = lag_1.groupby(key)['month_lag'].nunique().rename('month_lag_nuq@card_id-month_lag1')\n",
    "feat_month_lag.append(cnt_month_lag)\n",
    "\n",
    "# lag_2\n",
    "cnt_city_id = lag_2.groupby(key)['city_id'].nunique().rename('city_id_nuq@card_id-month_lag2')\n",
    "feat_month_lag.append(cnt_city_id)\n",
    "\n",
    "cnt_merchant_category_id = lag_2.groupby(key)['merchant_category_id'].nunique().rename('merchant_category_id_nuq@card_id-month_lag2')\n",
    "feat_month_lag.append(cnt_merchant_category_id)\n",
    "\n",
    "cnt_merchant_id = lag_2.groupby(key)['merchant_id'].nunique().rename('merchant_id_nuq@card_id-month_lag2')\n",
    "feat_month_lag.append(cnt_merchant_id)\n",
    "\n",
    "cnt_state_id = lag_2.groupby(key)['state_id'].nunique().rename('state_id_nuq@card_id-month_lag2')\n",
    "feat_month_lag.append(cnt_state_id)\n",
    "\n",
    "cnt_subsector_id = lag_2.groupby(key)['subsector_id'].nunique().rename('subsector_id_nuq@card_id-month_lag2')\n",
    "feat_month_lag.append(cnt_subsector_id)\n",
    "\n",
    "cnt_category_1 = lag_2.groupby(key)['category_1'].nunique().rename('category_1_nuq@card_id-month_lag2')\n",
    "feat_month_lag.append(cnt_category_1)\n",
    "\n",
    "cnt_category_2 = lag_2.groupby(key)['category_2'].nunique().rename('category_2_nuq@card_id-month_lag2')\n",
    "feat_month_lag.append(cnt_category_2)\n",
    "\n",
    "cnt_category_3 = lag_2.groupby(key)['category_3'].nunique().rename('category_3_nuq@card_id-month_lag2')\n",
    "feat_month_lag.append(cnt_category_3)\n",
    "\n",
    "cnt_installments = lag_2.groupby(key)['installments'].nunique().rename('installments_nuq@card_id-month_lag2')\n",
    "feat_month_lag.append(cnt_installments)\n",
    "\n",
    "cnt_purchase_date = lag_2.groupby(key)['purchase_date'].nunique().rename('purchase_date_nuq@card_id-month_lag2')\n",
    "feat_month_lag.append(cnt_purchase_date)\n",
    "\n",
    "cnt_month_lag = lag_2.groupby(key)['month_lag'].nunique().rename('month_lag_nuq@card_id-month_lag2')\n",
    "feat_month_lag.append(cnt_month_lag)"
   ]
  },
  {
   "cell_type": "markdown",
   "metadata": {},
   "source": [
    "### 作成したnunique featureをjoin"
   ]
  },
  {
   "cell_type": "code",
   "execution_count": 7,
   "metadata": {},
   "outputs": [],
   "source": [
    "train_test.set_index(key, inplace=True)\n",
    "for feat in feat_nunique:\n",
    "    train_test = train_test.join(feat, how='left')\n",
    "    \n",
    "for feat in feat_month_lag:\n",
    "    train_test = train_test.join(feat, how='left')"
   ]
  },
  {
   "cell_type": "markdown",
   "metadata": {},
   "source": [
    "### month_lag別の集計"
   ]
  },
  {
   "cell_type": "code",
   "execution_count": 8,
   "metadata": {},
   "outputs": [],
   "source": [
    "feat_ins = new.groupby(key)['installments'].agg({\n",
    "    'installments_max@card_id':'max'\n",
    "    ,'installments_min@card_id':'min'\n",
    "    ,'installments_mean@card_id':'mean'\n",
    "    ,'installments_std@card_id':'std'\n",
    "    ,'installments_skew@card_id':'skew'\n",
    "})\n",
    "\n",
    "feat_amt = new.groupby(key)['purchase_amount'].agg({\n",
    "    'purchase_amount_max@card_id':'max'\n",
    "    ,'purchase_amount_min@card_id':'min'\n",
    "    ,'purchase_amount_mean@card_id':'mean'\n",
    "    ,'purchase_amount_std@card_id':'std'\n",
    "    ,'purchase_amount_skew@card_id':'skew'\n",
    "})\n",
    "\n",
    "# lag_1\n",
    "feat_lag1_ins = lag_1.groupby(key)['installments'].agg({\n",
    "    'installments_max@card_id-lag1':'max'\n",
    "    ,'installments_min@card_id-lag1':'min'\n",
    "    ,'installments_mean@card_id-lag1':'mean'\n",
    "    ,'installments_std@card_id-lag1':'std'\n",
    "    ,'installments_skew@card_id-lag1':'skew'\n",
    "})\n",
    "\n",
    "feat_lag1_amt = lag_1.groupby(key)['purchase_amount'].agg({\n",
    "    'purchase_amount_max@card_id-lag1':'max'\n",
    "    ,'purchase_amount_min@card_id-lag1':'min'\n",
    "    ,'purchase_amount_mean@card_id-lag1':'mean'\n",
    "    ,'purchase_amount_std@card_id-lag1':'std'\n",
    "    ,'purchase_amount_skew@card_id-lag1':'skew'\n",
    "})\n",
    "\n",
    "# lag_2\n",
    "feat_lag2_ins = lag_2.groupby(key)['installments'].agg({\n",
    "    'installments_max@card_id-lag2':'max'\n",
    "    ,'installments_min@card_id-lag2':'min'\n",
    "    ,'installments_mean@card_id-lag2':'mean'\n",
    "    ,'installments_std@card_id-lag2':'std'\n",
    "    ,'installments_skew@card_id-lag2':'skew'\n",
    "})\n",
    "\n",
    "feat_lag2_amt = lag_2.groupby(key)['purchase_amount'].agg({\n",
    "    'purchase_amount_max@card_id-lag2':'max'\n",
    "    ,'purchase_amount_min@card_id-lag2':'min'\n",
    "    ,'purchase_amount_mean@card_id-lag2':'mean'\n",
    "    ,'purchase_amount_std@card_id-lag2':'std'\n",
    "    ,'purchase_amount_skew@card_id-lag2':'skew'\n",
    "})"
   ]
  },
  {
   "cell_type": "markdown",
   "metadata": {},
   "source": [
    "### aggregate feature setをjoin"
   ]
  },
  {
   "cell_type": "code",
   "execution_count": 9,
   "metadata": {},
   "outputs": [],
   "source": [
    "for feat in [feat_ins, feat_amt, feat_lag1_ins, feat_lag1_amt, feat_lag2_ins, feat_lag2_amt]:\n",
    "    train_test = train_test.join(feat, how='left')"
   ]
  },
  {
   "cell_type": "markdown",
   "metadata": {},
   "source": [
    "### New Transactionsで作成した, nunique feature/lag1, lag2 nunique fewture/date_diff, date_ratio featureをjoin"
   ]
  },
  {
   "cell_type": "code",
   "execution_count": 10,
   "metadata": {},
   "outputs": [],
   "source": [
    "train = train_test.loc[train_id, :]\n",
    "test = train_test.loc[test_id, :]\n",
    "for col in train.columns:\n",
    "    if col.count('@'):\n",
    "        utils.to_pkl_gzip(obj = train[col].values, path=f'../features/1_first_valid/{feat_no}train_{col}')\n",
    "        utils.to_pkl_gzip(obj = test[col].values, path=f'../features/1_first_valid/{feat_no}test_{col}')"
   ]
  }
 ],
 "metadata": {
  "hide_input": false,
  "kernelspec": {
   "display_name": "Python 3",
   "language": "python",
   "name": "python3"
  },
  "language_info": {
   "codemirror_mode": {
    "name": "ipython",
    "version": 3
   },
   "file_extension": ".py",
   "mimetype": "text/x-python",
   "name": "python",
   "nbconvert_exporter": "python",
   "pygments_lexer": "ipython3",
   "version": "3.6.3"
  }
 },
 "nbformat": 4,
 "nbformat_minor": 2
}
