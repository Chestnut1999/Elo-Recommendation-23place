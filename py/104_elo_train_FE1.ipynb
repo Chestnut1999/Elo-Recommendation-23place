{
 "cells": [
  {
   "cell_type": "code",
   "execution_count": 1,
   "metadata": {
    "ExecuteTime": {
     "end_time": "2018-10-28T07:40:08.183701Z",
     "start_time": "2018-10-28T07:40:07.309627Z"
    },
    "collapsed": true
   },
   "outputs": [],
   "source": [
    "%load_ext autoreload\n",
    "%autoreload 2\n",
    "import gc\n",
    "import re\n",
    "import pandas as pd\n",
    "from __future__ import print_function, division\n",
    "import numpy as np\n",
    "import matplotlib.pyplot as plt\n",
    "%matplotlib inline\n",
    "import seaborn as sns\n",
    "sns.set()\n",
    "pd.set_option('max_columns', 200)\n",
    "pd.set_option('max_rows', 200)\n",
    "import os\n",
    "import sys\n",
    "HOME = os.path.expanduser(\"~\")\n",
    "sys.path.append(f'{HOME}/kaggle/data_analysis/library')\n",
    "import utils\n",
    "from utils import get_categorical_features, get_numeric_features\n",
    "import eda\n",
    "\n",
    "from tqdm import tqdm\n",
    "\n",
    "# os.listdir('../input/')\n",
    "key = 'card_id'\n",
    "target = 'target'\n",
    "ignore_list = [key, target, 'merchant_id']"
   ]
  },
  {
   "cell_type": "code",
   "execution_count": 2,
   "metadata": {
    "ExecuteTime": {
     "end_time": "2018-10-28T08:05:13.761066Z",
     "start_time": "2018-10-28T08:05:12.035341Z"
    }
   },
   "outputs": [
    {
     "name": "stderr",
     "output_type": "stream",
     "text": [
      "100%|██████████| 3/3 [00:00<00:00, 93.84it/s]\n",
      "100%|██████████| 3/3 [00:00<00:00, 183.80it/s]\n"
     ]
    }
   ],
   "source": [
    "def elo_load_data(filename=''):\n",
    "    \n",
    "    if len(filename):\n",
    "        df = utils.read_df_pkl(path=f'../input/{filename}*.p')\n",
    "        return df\n",
    "    # read pickle\n",
    "    path_list = glob.glob(\"../input/*.p\")\n",
    "    for path in path_list:\n",
    "        filename = re.search(r'/([^/.]*).gz', path).group(1)\n",
    "        df = utils.read_df_pkl(path=f'../input/{filename}*.p')\n",
    "train = elo_load_data('train')\n",
    "test = elo_load_data('test')"
   ]
  },
  {
   "cell_type": "code",
   "execution_count": 3,
   "metadata": {},
   "outputs": [],
   "source": [
    "from dateutil.parser import parse\n",
    "def diff_of_days(day1, day2):\n",
    "    try:\n",
    "        days = (parse(day1) - parse(day2)).days\n",
    "    except TypeError:\n",
    "        return np.nan\n",
    "    return days\n",
    "train['term_days_from_first@'] = train['first_active_month'].map(lambda x: diff_of_days('2018-02-01', x))\n",
    "test['term_days_from_first@'] = test['first_active_month'].map(lambda x: diff_of_days('2018-02-01', x))"
   ]
  },
  {
   "cell_type": "code",
   "execution_count": 4,
   "metadata": {},
   "outputs": [
    {
     "name": "stderr",
     "output_type": "stream",
     "text": [
      "100%|██████████| 3/3 [00:00<00:00,  3.40it/s]\n"
     ]
    }
   ],
   "source": [
    "from joblib import Parallel, delayed\n",
    "new = elo_load_data('new')[[key, 'purchase_date']]\n",
    "new = new.groupby(key)['purchase_date'].max().reset_index()\n",
    "df = pd.concat([train, test], axis=0)\n",
    "df = df.merge(new, how='left', on=key)\n",
    "\n",
    "def diff_of_days(args):\n",
    "    uid = args[0]\n",
    "    day1 = args[1]\n",
    "    day2 = args[2]\n",
    "    try:\n",
    "        days = (parse(day1) - parse(day2)).days\n",
    "        return [uid, days]\n",
    "    except TypeError:\n",
    "        return [uid, np.nan]\n",
    "id_list = df[key].values\n",
    "first = df['first_active_month'].values\n",
    "last = df['purchase_date'].values\n",
    "p_list = Parallel(n_jobs=-1)([delayed(diff_of_days)(args) for args in zip(id_list, last, first)])\n",
    "df_diff = pd.DataFrame(np.array(p_list), columns=[key, 'term_days_range_first_last@'])"
   ]
  },
  {
   "cell_type": "code",
   "execution_count": 6,
   "metadata": {},
   "outputs": [],
   "source": [
    "feat_no = '104_tra_'\n",
    "train_idx = train[key].values\n",
    "test_idx = test[key].values\n",
    "# np.nanと整数のみだとobjectになってしまう\n",
    "df_diff['term_days_range_first_last@'] = df_diff['term_days_range_first_last@'].astype('float32')\n",
    "result = df.merge(df_diff, how='inner', on=key)\n",
    "for col in result.columns:\n",
    "    if col.count('feature') or col.count('@'):\n",
    "        tmp_train = result.set_index(key).loc[train_idx, col].values\n",
    "        tmp_test = result.set_index(key).loc[test_idx, col].values \n",
    "#         utils.to_pkl_gzip(obj=train[col].values, path=f'../features/4_winner/{feat_no}train_{col}@')\n",
    "#         utils.to_pkl_gzip(obj=test[col].values, path=f'../features/4_winner/{feat_no}test_{col}@')\n",
    "        utils.to_pkl_gzip(obj=tmp_train,  path=f'../features/4_winner/{feat_no}train_{col}@')\n",
    "        utils.to_pkl_gzip(obj=tmp_test, path=f'../features/4_winner/{feat_no}test_{col}@')"
   ]
  }
 ],
 "metadata": {
  "hide_input": false,
  "kernelspec": {
   "display_name": "Python 3",
   "language": "python",
   "name": "python3"
  },
  "language_info": {
   "codemirror_mode": {
    "name": "ipython",
    "version": 3
   },
   "file_extension": ".py",
   "mimetype": "text/x-python",
   "name": "python",
   "nbconvert_exporter": "python",
   "pygments_lexer": "ipython3",
   "version": "3.6.3"
  }
 },
 "nbformat": 4,
 "nbformat_minor": 2
}
