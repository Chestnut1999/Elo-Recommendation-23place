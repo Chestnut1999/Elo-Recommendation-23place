{
 "cells": [
  {
   "cell_type": "code",
   "execution_count": 2,
   "metadata": {
    "ExecuteTime": {
     "end_time": "2018-10-28T07:40:08.183701Z",
     "start_time": "2018-10-28T07:40:07.309627Z"
    },
    "collapsed": true
   },
   "outputs": [],
   "source": [
    "%load_ext autoreload\n",
    "%autoreload 2\n",
    "import gc\n",
    "import re\n",
    "import pandas as pd\n",
    "from __future__ import print_function, division\n",
    "import numpy as np\n",
    "import matplotlib.pyplot as plt\n",
    "%matplotlib inline\n",
    "import seaborn as sns\n",
    "sns.set()\n",
    "pd.set_option('max_columns', 200)\n",
    "pd.set_option('max_rows', 200)\n",
    "import os\n",
    "import sys\n",
    "HOME = os.path.expanduser(\"~\")\n",
    "sys.path.append(f'{HOME}/kaggle/data_analysis/library')\n",
    "import utils\n",
    "from utils import get_categorical_features, get_numeric_features\n",
    "import eda\n",
    "\n",
    "from tqdm import tqdm\n",
    "\n",
    "# os.listdir('../input/')\n",
    "key = 'card_id'\n",
    "target = 'target'\n",
    "ignore_list = [key, target, 'merchant_id']"
   ]
  },
  {
   "cell_type": "code",
   "execution_count": 10,
   "metadata": {
    "ExecuteTime": {
     "end_time": "2018-10-28T08:05:13.761066Z",
     "start_time": "2018-10-28T08:05:12.035341Z"
    }
   },
   "outputs": [
    {
     "name": "stderr",
     "output_type": "stream",
     "text": [
      "100%|██████████| 3/3 [00:00<00:00, 104.01it/s]\n",
      "100%|██████████| 3/3 [00:00<00:00, 181.89it/s]\n"
     ]
    }
   ],
   "source": [
    "def elo_load_data(filename=''):\n",
    "    \n",
    "    if len(filename):\n",
    "        df = utils.read_df_pkl(path=f'../input/{filename}*.p')\n",
    "        return df\n",
    "    # read pickle\n",
    "    path_list = glob.glob(\"../input/*.p\")\n",
    "    for path in path_list:\n",
    "        filename = re.search(r'/([^/.]*).gz', path).group(1)\n",
    "        df = utils.read_df_pkl(path=f'../input/{filename}*.p')\n",
    "train = elo_load_data('train')\n",
    "test = elo_load_data('test')"
   ]
  },
  {
   "cell_type": "code",
   "execution_count": 4,
   "metadata": {},
   "outputs": [],
   "source": [
    "from dateutil.parser import parse\n",
    "def diff_of_days(day1, day2):\n",
    "    try:\n",
    "        days = (parse(day1) - parse(day2)).days\n",
    "    except TypeError:\n",
    "        return np.nan\n",
    "    return days\n",
    "train['term_days_from_first@'] = train['first_active_month'].map(lambda x: diff_of_days('2018-05-01', x))\n",
    "test['term_days_from_first@'] = test['first_active_month'].map(lambda x: diff_of_days('2018-05-01', x))"
   ]
  },
  {
   "cell_type": "code",
   "execution_count": 11,
   "metadata": {},
   "outputs": [
    {
     "data": {
      "text/html": [
       "<div>\n",
       "<style scoped>\n",
       "    .dataframe tbody tr th:only-of-type {\n",
       "        vertical-align: middle;\n",
       "    }\n",
       "\n",
       "    .dataframe tbody tr th {\n",
       "        vertical-align: top;\n",
       "    }\n",
       "\n",
       "    .dataframe thead th {\n",
       "        text-align: right;\n",
       "    }\n",
       "</style>\n",
       "<table border=\"1\" class=\"dataframe\">\n",
       "  <thead>\n",
       "    <tr style=\"text-align: right;\">\n",
       "      <th></th>\n",
       "      <th>card_id</th>\n",
       "      <th>term_days_range_first_last@</th>\n",
       "    </tr>\n",
       "  </thead>\n",
       "  <tbody>\n",
       "    <tr>\n",
       "      <th>0</th>\n",
       "      <td>C_ID_92a2005557</td>\n",
       "      <td>331</td>\n",
       "    </tr>\n",
       "    <tr>\n",
       "      <th>1</th>\n",
       "      <td>C_ID_3d0044924f</td>\n",
       "      <td>452</td>\n",
       "    </tr>\n",
       "    <tr>\n",
       "      <th>2</th>\n",
       "      <td>C_ID_d639edf6cd</td>\n",
       "      <td>634</td>\n",
       "    </tr>\n",
       "    <tr>\n",
       "      <th>3</th>\n",
       "      <td>C_ID_186d6a6901</td>\n",
       "      <td>228</td>\n",
       "    </tr>\n",
       "    <tr>\n",
       "      <th>4</th>\n",
       "      <td>C_ID_cdbd2c0db2</td>\n",
       "      <td>177</td>\n",
       "    </tr>\n",
       "  </tbody>\n",
       "</table>\n",
       "</div>"
      ],
      "text/plain": [
       "           card_id term_days_range_first_last@\n",
       "0  C_ID_92a2005557                         331\n",
       "1  C_ID_3d0044924f                         452\n",
       "2  C_ID_d639edf6cd                         634\n",
       "3  C_ID_186d6a6901                         228\n",
       "4  C_ID_cdbd2c0db2                         177"
      ]
     },
     "execution_count": 11,
     "metadata": {},
     "output_type": "execute_result"
    }
   ],
   "source": [
    "from joblib import Parallel, delayed\n",
    "# new = elo_load_data('new')[[key, 'purchase_date']]\n",
    "# new = new.groupby(key)['purchase_date'].max().reset_index()\n",
    "tmp_train = train.merge(new, how='left', on=key)\n",
    "tmp_test = test.merge(new, how='left', on=key)\n",
    "df = pd.concat([tmp_train, tmp_test], axis=0)\n",
    "\n",
    "def diff_of_days(args):\n",
    "    uid = args[0]\n",
    "    day1 = args[1]\n",
    "    day2 = args[2]\n",
    "    try:\n",
    "        days = (parse(day1) - parse(day2)).days\n",
    "        return [uid, days]\n",
    "    except TypeError:\n",
    "        return [uid, np.nan]\n",
    "id_list = df[key].values\n",
    "first = df['first_active_month'].values\n",
    "last = df['purchase_date'].values\n",
    "p_list = Parallel(n_jobs=-1)([delayed(diff_of_days)(args) for args in zip(id_list, last, first)])\n",
    "df_diff = pd.DataFrame(np.array(p_list), columns=[key, 'term_days_range_first_last@'])"
   ]
  },
  {
   "cell_type": "code",
   "execution_count": 18,
   "metadata": {},
   "outputs": [],
   "source": [
    "feat_no = '104_tra_'\n",
    "train_idx = train[key].values\n",
    "test_idx = test[key].values\n",
    "train_test = pd.concat([train, test], axis=0)\n",
    "# np.nanと整数のみだとobjectになってしまう\n",
    "df_diff['term_days_range_first_last@'] = df_diff['term_days_range_first_last@'].astype('float32')\n",
    "df = train_test.merge(df_diff, how='inner', on=key)\n",
    "\n",
    "for col in df.columns:\n",
    "    if col.count('feature') or col.count('@'):\n",
    "#         utils.to_pkl_gzip(obj=train[col].values, path=f'../features/4_winner/{feat_no}train_{col}@')\n",
    "#         utils.to_pkl_gzip(obj=test[col].values, path=f'../features/4_winner/{feat_no}test_{col}@')\n",
    "        utils.to_pkl_gzip(obj=df.set_index(key).loc[train_idx, col].values, path=f'../features/4_winner/{feat_no}train_{col}@')\n",
    "        utils.to_pkl_gzip(obj=df.set_index(key).loc[test_idx, col].values, path=f'../features/4_winner/{feat_no}test_{col}@')"
   ]
  }
 ],
 "metadata": {
  "hide_input": false,
  "kernelspec": {
   "display_name": "Python 3",
   "language": "python",
   "name": "python3"
  },
  "language_info": {
   "codemirror_mode": {
    "name": "ipython",
    "version": 3
   },
   "file_extension": ".py",
   "mimetype": "text/x-python",
   "name": "python",
   "nbconvert_exporter": "python",
   "pygments_lexer": "ipython3",
   "version": "3.6.3"
  }
 },
 "nbformat": 4,
 "nbformat_minor": 2
}
