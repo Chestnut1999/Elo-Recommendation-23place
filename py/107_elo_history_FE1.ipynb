{
 "cells": [
  {
   "cell_type": "code",
   "execution_count": 1,
   "metadata": {
    "ExecuteTime": {
     "end_time": "2018-10-28T07:40:08.183701Z",
     "start_time": "2018-10-28T07:40:07.309627Z"
    },
    "collapsed": true
   },
   "outputs": [],
   "source": [
    "%load_ext autoreload\n",
    "%autoreload 2\n",
    "import gc\n",
    "import re\n",
    "import pandas as pd\n",
    "from __future__ import print_function, division\n",
    "import numpy as np\n",
    "import matplotlib.pyplot as plt\n",
    "%matplotlib inline\n",
    "import seaborn as sns\n",
    "sns.set()\n",
    "pd.set_option('max_columns', 200)\n",
    "pd.set_option('max_rows', 200)\n",
    "import os\n",
    "import sys\n",
    "HOME = os.path.expanduser(\"~\")\n",
    "sys.path.append(f'{HOME}/kaggle/data_analysis/library')\n",
    "import utils\n",
    "from utils import get_categorical_features, get_numeric_features\n",
    "import eda\n",
    "\n",
    "from tqdm import tqdm\n",
    "\n",
    "# os.listdir('../input/')\n",
    "key = 'card_id'\n",
    "target = 'target'\n",
    "ignore_list = [key, target, 'merchant_id']\n",
    "\n",
    "feat_no = '107_his_'"
   ]
  },
  {
   "cell_type": "markdown",
   "metadata": {},
   "source": [
    "### Data Load"
   ]
  },
  {
   "cell_type": "code",
   "execution_count": 2,
   "metadata": {
    "ExecuteTime": {
     "end_time": "2018-10-28T08:05:13.761066Z",
     "start_time": "2018-10-28T08:05:12.035341Z"
    }
   },
   "outputs": [
    {
     "name": "stderr",
     "output_type": "stream",
     "text": [
      "100%|██████████| 3/3 [00:00<00:00, 35.36it/s]\n",
      "100%|██████████| 3/3 [00:00<00:00, 71.58it/s]\n",
      "100%|██████████| 3/3 [00:26<00:00,  8.82s/it]\n"
     ]
    }
   ],
   "source": [
    "def elo_load_data(filename=''):\n",
    "    \n",
    "    if len(filename):\n",
    "        df = utils.read_df_pkl(path=f'../input/{filename}*.p')\n",
    "        return df\n",
    "    # read pickle\n",
    "    path_list = glob.glob(\"../input/*.p\")\n",
    "    for path in path_list:\n",
    "        filename = re.search(r'/([^/.]*).gz', path).group(1)\n",
    "        df = utils.read_df_pkl(path=f'../input/{filename}*.p')\n",
    "train = elo_load_data('train')\n",
    "test = elo_load_data('test')\n",
    "train_id = train[key].values\n",
    "test_id = test[key].values\n",
    "train_test = pd.concat([train, test], axis=0).reset_index(drop=True)\n",
    "history = elo_load_data('historical')"
   ]
  },
  {
   "cell_type": "markdown",
   "metadata": {},
   "source": [
    "#### New Transactionsの最少粒度は下記"
   ]
  },
  {
   "cell_type": "code",
   "execution_count": 118,
   "metadata": {},
   "outputs": [
    {
     "name": "stdout",
     "output_type": "stream",
     "text": [
      "(1963031, 14)\n",
      "(1963031, 6)\n"
     ]
    },
    {
     "ename": "SystemExit",
     "evalue": "",
     "output_type": "error",
     "traceback": [
      "An exception has occurred, use %tb to see the full traceback.\n",
      "\u001b[0;31mSystemExit\u001b[0m\n"
     ]
    }
   ],
   "source": [
    "print(new.shape)\n",
    "cols = [key, 'purchase_date', 'purchase_amount', 'merchant_id', 'merchant_category_id', 'installments']\n",
    "print(new[cols].drop_duplicates().shape)"
   ]
  },
  {
   "cell_type": "markdown",
   "metadata": {},
   "source": [
    "### Cleansing"
   ]
  },
  {
   "cell_type": "code",
   "execution_count": 14,
   "metadata": {},
   "outputs": [],
   "source": [
    "df = history\n",
    "# 999という値が1つだけあるので欠損値扱いで-1にする\n",
    "df['installments'] = df['installments'].where(df['installments']<20, -1)\n",
    "df['installments'] = df['installments'].replace(-1, np.nan)\n",
    "df['authorized_flag'] = df['authorized_flag'].replace(-1, 'NA')\n",
    "df['merchant_id'] =  df['merchant_id'].fillna('NA')\n",
    "df['category_1'] =  df['category_1'].fillna('NA')\n",
    "df['category_2'] =  df['category_2'].fillna('NA')\n",
    "df['category_3'] =  df['category_3'].fillna('NA')"
   ]
  },
  {
   "cell_type": "markdown",
   "metadata": {},
   "source": [
    "### card_idの粒度で色々集計する\n",
    "有効かわからないからとりあえず書いてやってみる"
   ]
  },
  {
   "cell_type": "markdown",
   "metadata": {},
   "source": [
    "### nunique"
   ]
  },
  {
   "cell_type": "code",
   "execution_count": 15,
   "metadata": {},
   "outputs": [],
   "source": [
    "df = history\n",
    "feat_nunique = []\n",
    "nuq_city_id = df.groupby(key)['city_id'].nunique().rename('city_id_nuq@card_id')\n",
    "feat_nunique.append(nuq_city_id)\n",
    "\n",
    "nuq_merchant_category_id = df.groupby(key)['merchant_category_id'].nunique().rename('merchant_category_id_nuq@card_id')\n",
    "feat_nunique.append(nuq_merchant_category_id)\n",
    "\n",
    "nuq_merchant_id = df.groupby(key)['merchant_id'].nunique().rename('merchant_id_nuq@card_id')\n",
    "feat_nunique.append(nuq_merchant_id)\n",
    "\n",
    "nuq_state_id = df.groupby(key)['state_id'].nunique().rename('state_id_nuq@card_id')\n",
    "feat_nunique.append(nuq_state_id)\n",
    "\n",
    "nuq_subsector_id = df.groupby(key)['subsector_id'].nunique().rename('subsector_id_nuq@card_id')\n",
    "feat_nunique.append(nuq_subsector_id)\n",
    "\n",
    "nuq_category_1 = df.groupby(key)['category_1'].nunique().rename('category_1_nuq@card_id')\n",
    "feat_nunique.append(nuq_category_1)\n",
    "\n",
    "nuq_category_2 = df.groupby(key)['category_2'].nunique().rename('category_2_nuq@card_id')\n",
    "feat_nunique.append(nuq_category_2)\n",
    "\n",
    "nuq_category_3 = df.groupby(key)['category_3'].nunique().rename('category_3_nuq@card_id')\n",
    "feat_nunique.append(nuq_category_3)\n",
    "\n",
    "nuq_installments = df.groupby(key)['installments'].nunique().rename('installments_nuq@card_id')\n",
    "feat_nunique.append(nuq_installments)\n",
    "\n",
    "nuq_purchase_date = df.groupby(key)['purchase_date'].nunique().rename('purchase_date_nuq@card_id')\n",
    "feat_nunique.append(nuq_purchase_date)\n",
    "\n",
    "nuq_month_lag = df.groupby(key)['month_lag'].nunique().rename('month_lag_nuq@card_id')\n",
    "feat_nunique.append(nuq_month_lag)"
   ]
  },
  {
   "cell_type": "markdown",
   "metadata": {},
   "source": [
    "### month_lag別のnunique"
   ]
  },
  {
   "cell_type": "code",
   "execution_count": 20,
   "metadata": {},
   "outputs": [],
   "source": [
    "df = history\n",
    "lag_1 = df.query(\"month_lag==1\")\n",
    "lag_2 = df.query(\"month_lag==2\")\n",
    "feat_month_lag = []\n",
    "\n",
    "# lag_1\n",
    "cnt_city_id = lag_1.groupby(key)['city_id'].nunique().rename('city_id_nuq@card_id-month_lag1')\n",
    "feat_month_lag.append(cnt_city_id)\n",
    "\n",
    "cnt_merchant_category_id = lag_1.groupby(key)['merchant_category_id'].nunique().rename('merchant_category_id_nuq@card_id-month_lag1')\n",
    "feat_month_lag.append(cnt_merchant_category_id)\n",
    "\n",
    "cnt_merchant_id = lag_1.groupby(key)['merchant_id'].nunique().rename('merchant_id_nuq@card_id-month_lag1')\n",
    "feat_month_lag.append(cnt_merchant_id)\n",
    "\n",
    "cnt_state_id = lag_1.groupby(key)['state_id'].nunique().rename('state_id_nuq@card_id-month_lag1')\n",
    "feat_month_lag.append(cnt_state_id)\n",
    "\n",
    "cnt_subsector_id = lag_1.groupby(key)['subsector_id'].nunique().rename('subsector_id_nuq@card_id-month_lag1')\n",
    "feat_month_lag.append(cnt_subsector_id)\n",
    "\n",
    "cnt_category_1 = lag_1.groupby(key)['category_1'].nunique().rename('category_1_nuq@card_id-month_lag1')\n",
    "feat_month_lag.append(cnt_category_1)\n",
    "\n",
    "cnt_category_2 = lag_1.groupby(key)['category_2'].nunique().rename('category_2_nuq@card_id-month_lag1')\n",
    "feat_month_lag.append(cnt_category_2)\n",
    "\n",
    "cnt_category_3 = lag_1.groupby(key)['category_3'].nunique().rename('category_3_nuq@card_id-month_lag1')\n",
    "feat_month_lag.append(cnt_category_3)\n",
    "\n",
    "cnt_installments = lag_1.groupby(key)['installments'].nunique().rename('installments_nuq@card_id-month_lag1')\n",
    "feat_month_lag.append(cnt_installments)\n",
    "\n",
    "cnt_purchase_date = lag_1.groupby(key)['purchase_date'].nunique().rename('purchase_date_nuq@card_id-month_lag1')\n",
    "feat_month_lag.append(cnt_purchase_date)\n",
    "\n",
    "cnt_month_lag = lag_1.groupby(key)['month_lag'].nunique().rename('month_lag_nuq@card_id-month_lag1')\n",
    "feat_month_lag.append(cnt_month_lag)\n",
    "\n",
    "# lag_2\n",
    "cnt_city_id = lag_2.groupby(key)['city_id'].nunique().rename('city_id_nuq@card_id-month_lag2')\n",
    "feat_month_lag.append(cnt_city_id)\n",
    "\n",
    "cnt_merchant_category_id = lag_2.groupby(key)['merchant_category_id'].nunique().rename('merchant_category_id_nuq@card_id-month_lag2')\n",
    "feat_month_lag.append(cnt_merchant_category_id)\n",
    "\n",
    "cnt_merchant_id = lag_2.groupby(key)['merchant_id'].nunique().rename('merchant_id_nuq@card_id-month_lag2')\n",
    "feat_month_lag.append(cnt_merchant_id)\n",
    "\n",
    "cnt_state_id = lag_2.groupby(key)['state_id'].nunique().rename('state_id_nuq@card_id-month_lag2')\n",
    "feat_month_lag.append(cnt_state_id)\n",
    "\n",
    "cnt_subsector_id = lag_2.groupby(key)['subsector_id'].nunique().rename('subsector_id_nuq@card_id-month_lag2')\n",
    "feat_month_lag.append(cnt_subsector_id)\n",
    "\n",
    "cnt_category_1 = lag_2.groupby(key)['category_1'].nunique().rename('category_1_nuq@card_id-month_lag2')\n",
    "feat_month_lag.append(cnt_category_1)\n",
    "\n",
    "cnt_category_2 = lag_2.groupby(key)['category_2'].nunique().rename('category_2_nuq@card_id-month_lag2')\n",
    "feat_month_lag.append(cnt_category_2)\n",
    "\n",
    "cnt_category_3 = lag_2.groupby(key)['category_3'].nunique().rename('category_3_nuq@card_id-month_lag2')\n",
    "feat_month_lag.append(cnt_category_3)\n",
    "\n",
    "cnt_installments = lag_2.groupby(key)['installments'].nunique().rename('installments_nuq@card_id-month_lag2')\n",
    "feat_month_lag.append(cnt_installments)\n",
    "\n",
    "cnt_purchase_date = lag_2.groupby(key)['purchase_date'].nunique().rename('purchase_date_nuq@card_id-month_lag2')\n",
    "feat_month_lag.append(cnt_purchase_date)\n",
    "\n",
    "cnt_month_lag = lag_2.groupby(key)['month_lag'].nunique().rename('month_lag_nuq@card_id-month_lag2')\n",
    "feat_month_lag.append(cnt_month_lag)"
   ]
  },
  {
   "cell_type": "markdown",
   "metadata": {},
   "source": [
    "### 作成したnunique featureをjoin"
   ]
  },
  {
   "cell_type": "code",
   "execution_count": 23,
   "metadata": {},
   "outputs": [],
   "source": [
    "train_test.set_index(key, inplace=True)\n",
    "for feat in feat_nunique:\n",
    "    train_test = train_test.join(feat, how='left')\n",
    "    \n",
    "for feat in feat_month_lag:\n",
    "    train_test = train_test.join(feat, how='left')"
   ]
  },
  {
   "cell_type": "markdown",
   "metadata": {},
   "source": [
    "### month_lag別の集計"
   ]
  },
  {
   "cell_type": "code",
   "execution_count": 24,
   "metadata": {},
   "outputs": [],
   "source": [
    "feat_ins = history.groupby(key)['installments'].agg({\n",
    "    'installments_max@card_id':'max'\n",
    "    ,'installments_min@card_id':'min'\n",
    "    ,'installments_mean@card_id':'mean'\n",
    "    ,'installments_std@card_id':'std'\n",
    "    ,'installments_skew@card_id':'skew'\n",
    "})\n",
    "\n",
    "feat_amt = history.groupby(key)['purchase_amount'].agg({\n",
    "    'purchase_amount_max@card_id':'max'\n",
    "    ,'purchase_amount_min@card_id':'min'\n",
    "    ,'purchase_amount_mean@card_id':'mean'\n",
    "    ,'purchase_amount_std@card_id':'std'\n",
    "    ,'purchase_amount_skew@card_id':'skew'\n",
    "})\n",
    "\n",
    "# lag_1\n",
    "feat_lag1_ins = lag_1.groupby(key)['installments'].agg({\n",
    "    'installments_max@card_id-lag1':'max'\n",
    "    ,'installments_min@card_id-lag1':'min'\n",
    "    ,'installments_mean@card_id-lag1':'mean'\n",
    "    ,'installments_std@card_id-lag1':'std'\n",
    "    ,'installments_skew@card_id-lag1':'skew'\n",
    "})\n",
    "\n",
    "feat_lag1_amt = lag_1.groupby(key)['purchase_amount'].agg({\n",
    "    'purchase_amount_max@card_id-lag1':'max'\n",
    "    ,'purchase_amount_min@card_id-lag1':'min'\n",
    "    ,'purchase_amount_mean@card_id-lag1':'mean'\n",
    "    ,'purchase_amount_std@card_id-lag1':'std'\n",
    "    ,'purchase_amount_skew@card_id-lag1':'skew'\n",
    "})\n",
    "\n",
    "# lag_2\n",
    "feat_lag2_ins = lag_2.groupby(key)['installments'].agg({\n",
    "    'installments_max@card_id-lag2':'max'\n",
    "    ,'installments_min@card_id-lag2':'min'\n",
    "    ,'installments_mean@card_id-lag2':'mean'\n",
    "    ,'installments_std@card_id-lag2':'std'\n",
    "    ,'installments_skew@card_id-lag2':'skew'\n",
    "})\n",
    "\n",
    "feat_lag2_amt = lag_2.groupby(key)['purchase_amount'].agg({\n",
    "    'purchase_amount_max@card_id-lag2':'max'\n",
    "    ,'purchase_amount_min@card_id-lag2':'min'\n",
    "    ,'purchase_amount_mean@card_id-lag2':'mean'\n",
    "    ,'purchase_amount_std@card_id-lag2':'std'\n",
    "    ,'purchase_amount_skew@card_id-lag2':'skew'\n",
    "})"
   ]
  },
  {
   "cell_type": "markdown",
   "metadata": {},
   "source": [
    "### aggregate feature setをjoin"
   ]
  },
  {
   "cell_type": "code",
   "execution_count": 25,
   "metadata": {},
   "outputs": [],
   "source": [
    "for feat in [feat_ins, feat_amt, feat_lag1_ins, feat_lag1_amt, feat_lag2_ins, feat_lag2_amt]:\n",
    "    train_test = train_test.join(feat, how='left')"
   ]
  },
  {
   "cell_type": "markdown",
   "metadata": {},
   "source": [
    "### Save"
   ]
  },
  {
   "cell_type": "code",
   "execution_count": 26,
   "metadata": {},
   "outputs": [],
   "source": [
    "train = train_test.loc[train_id, :]\n",
    "test = train_test.loc[test_id, :]\n",
    "for col in train.columns:\n",
    "    if col.count('@'):\n",
    "        utils.to_pkl_gzip(obj = train[col].values, path=f'../features/1_first_valid/{feat_no}train_his_{col}')\n",
    "        utils.to_pkl_gzip(obj = test[col].values, path=f'../features/1_first_valid/{feat_no}test_his_{col}')"
   ]
  }
 ],
 "metadata": {
  "hide_input": false,
  "kernelspec": {
   "display_name": "Python 3",
   "language": "python",
   "name": "python3"
  },
  "language_info": {
   "codemirror_mode": {
    "name": "ipython",
    "version": 3
   },
   "file_extension": ".py",
   "mimetype": "text/x-python",
   "name": "python",
   "nbconvert_exporter": "python",
   "pygments_lexer": "ipython3",
   "version": "3.6.3"
  }
 },
 "nbformat": 4,
 "nbformat_minor": 2
}
